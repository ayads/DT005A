{
 "metadata": {
  "language_info": {
   "codemirror_mode": {
    "name": "ipython",
    "version": 3
   },
   "file_extension": ".py",
   "mimetype": "text/x-python",
   "name": "python",
   "nbconvert_exporter": "python",
   "pygments_lexer": "ipython3",
   "version": "3.7.9-final"
  },
  "orig_nbformat": 2,
  "kernelspec": {
   "name": "python3",
   "display_name": "Python 3",
   "language": "python"
  }
 },
 "nbformat": 4,
 "nbformat_minor": 2,
 "cells": [
  {
   "cell_type": "code",
   "execution_count": 1,
   "metadata": {},
   "outputs": [],
   "source": [
    "# univariate multi-step lstm\n",
    "import os\n",
    "import boto3\n",
    "import json\n",
    "import re\n",
    "import pandas as pd\n",
    "import numpy as np\n",
    "from datetime import datetime\n",
    "from math import sqrt\n",
    "from numpy import (split, array)\n",
    "from pandas import read_csv\n",
    "from sklearn.metrics import (mean_squared_error, mean_absolute_error)\n",
    "from sklearn.preprocessing import MinMaxScaler\n",
    "from sklearn.model_selection import train_test_split\n",
    "from matplotlib import pyplot\n",
    "from keras.models import Sequential\n",
    "from keras.layers import (LSTM, Dense, Flatten)"
   ]
  },
  {
   "cell_type": "code",
   "execution_count": 2,
   "metadata": {},
   "outputs": [],
   "source": [
    "# define client, folder and files for AWS.\n",
    "s3_client = boto3.client(\"s3\")\n",
    "s3_bucket_name = 'thesis-hydroponic-project'\n",
    "s3_bucket_prefix = 'TemperatureAndHumidity2021/'"
   ]
  },
  {
   "cell_type": "code",
   "execution_count": 3,
   "metadata": {
    "tags": [
     "outputPrepend"
    ]
   },
   "outputs": [
    {
     "output_type": "stream",
     "name": "stdout",
     "text": [
      "549cf-c5ae-449b-8876-ea33f1369d9f\n",
      "Load from cache: TemperatureAndHumidity2021/03/07/10/ThesisHydroponicSensorDeliveryStream-1-2021-03-07-10-35-12-c5f541a0-3ff9-47f4-91b2-8f1aded1cae4\n",
      "Load from cache: TemperatureAndHumidity2021/03/07/10/ThesisHydroponicSensorDeliveryStream-1-2021-03-07-10-50-15-942453d3-bfbd-424c-b535-b66b10f1cd3f\n",
      "Load from cache: TemperatureAndHumidity2021/03/07/11/ThesisHydroponicSensorDeliveryStream-1-2021-03-07-11-05-22-f4432023-5fe6-4f93-9f13-3647bcd6a2f1\n",
      "Load from cache: TemperatureAndHumidity2021/03/07/11/ThesisHydroponicSensorDeliveryStream-1-2021-03-07-11-20-30-622e0f3b-2f37-4297-80fa-d8054859b1b0\n",
      "Load from cache: TemperatureAndHumidity2021/03/07/11/ThesisHydroponicSensorDeliveryStream-1-2021-03-07-11-35-38-b7d672e6-05bf-4460-ac67-5a10c6398b83\n",
      "Load from cache: TemperatureAndHumidity2021/03/07/11/ThesisHydroponicSensorDeliveryStream-1-2021-03-07-11-50-40-a73158b4-e380-45bb-a389-7679688225a2\n",
      "Load from cache: TemperatureAndHumidity2021/03/07/12/ThesisHydroponicSensorDeliveryStream-1-2021-03-07-12-05-42-b28d909d-c2bc-4206-b7ce-0d8bd98f82a4\n",
      "Load from cache: TemperatureAndHumidity2021/03/07/12/ThesisHydroponicSensorDeliveryStream-1-2021-03-07-12-20-48-ab837e96-bfb4-4345-9594-cba48fe136b4\n",
      "Load from cache: TemperatureAndHumidity2021/03/07/12/ThesisHydroponicSensorDeliveryStream-1-2021-03-07-12-35-56-c601cdd2-c753-44dc-b7af-24bf360337be\n",
      "Load from cache: TemperatureAndHumidity2021/03/07/12/ThesisHydroponicSensorDeliveryStream-1-2021-03-07-12-51-01-56c6fb18-9e1a-43be-b757-be56c2653c5b\n",
      "Load from cache: TemperatureAndHumidity2021/03/07/13/ThesisHydroponicSensorDeliveryStream-1-2021-03-07-13-06-04-7942ff14-8955-4210-993c-016919bc4541\n",
      "Load from cache: TemperatureAndHumidity2021/03/07/13/ThesisHydroponicSensorDeliveryStream-1-2021-03-07-13-21-07-26a8a1a1-b350-4148-9d09-8f26c12faba1\n",
      "Load from cache: TemperatureAndHumidity2021/03/07/13/ThesisHydroponicSensorDeliveryStream-1-2021-03-07-13-36-15-e37c0c3b-8b66-4cfa-a153-9ca613ad1620\n",
      "Load from cache: TemperatureAndHumidity2021/03/07/13/ThesisHydroponicSensorDeliveryStream-1-2021-03-07-13-51-22-8770a1b4-fd95-4a6a-b356-74e8969cdff7\n",
      "Load from cache: TemperatureAndHumidity2021/03/07/14/ThesisHydroponicSensorDeliveryStream-1-2021-03-07-14-06-24-f5e6c64f-916f-4f72-952d-cfe0e1a4cdaa\n",
      "Load from cache: TemperatureAndHumidity2021/03/07/14/ThesisHydroponicSensorDeliveryStream-1-2021-03-07-14-21-28-3fb19ddb-75ce-4f0a-a5cd-ffb46b33d1cd\n",
      "Load from cache: TemperatureAndHumidity2021/03/07/14/ThesisHydroponicSensorDeliveryStream-1-2021-03-07-14-36-35-b1c6235b-c345-4784-b1d0-f25b44576124\n",
      "Load from cache: TemperatureAndHumidity2021/03/07/14/ThesisHydroponicSensorDeliveryStream-1-2021-03-07-14-51-42-15d8db2d-a976-4f6c-90f1-bee229e51ece\n",
      "Load from cache: TemperatureAndHumidity2021/03/07/15/ThesisHydroponicSensorDeliveryStream-1-2021-03-07-15-06-50-4a96d76b-7896-4919-ad14-0425d206bc94\n",
      "Load from cache: TemperatureAndHumidity2021/03/07/15/ThesisHydroponicSensorDeliveryStream-1-2021-03-07-15-21-54-81784a60-9672-4c90-9660-2a8c901aa6ac\n",
      "Load from cache: TemperatureAndHumidity2021/03/07/15/ThesisHydroponicSensorDeliveryStream-1-2021-03-07-15-36-59-9937138a-16cf-457c-99c3-717295ab2ca0\n",
      "Load from cache: TemperatureAndHumidity2021/03/07/15/ThesisHydroponicSensorDeliveryStream-1-2021-03-07-15-52-07-b48fb587-acb8-4f15-be44-329f2fec0c26\n",
      "Load from cache: TemperatureAndHumidity2021/03/07/16/ThesisHydroponicSensorDeliveryStream-1-2021-03-07-16-07-10-42092d62-d085-4da3-bff2-7743e6db97ae\n",
      "Load from cache: TemperatureAndHumidity2021/03/07/16/ThesisHydroponicSensorDeliveryStream-1-2021-03-07-16-22-17-2fa17bb7-7d07-4849-b410-001209f18e34\n",
      "Load from cache: TemperatureAndHumidity2021/03/07/16/ThesisHydroponicSensorDeliveryStream-1-2021-03-07-16-37-21-c5c4fb03-f073-46bd-b399-599a63d033aa\n",
      "Load from cache: TemperatureAndHumidity2021/03/07/16/ThesisHydroponicSensorDeliveryStream-1-2021-03-07-16-52-26-83e42b01-5b4a-4211-8a38-38531c94aaf6\n",
      "Load from cache: TemperatureAndHumidity2021/03/07/17/ThesisHydroponicSensorDeliveryStream-1-2021-03-07-17-07-30-49aa4a0a-f027-4469-aa2c-91d0fb75234b\n",
      "Load from cache: TemperatureAndHumidity2021/03/07/17/ThesisHydroponicSensorDeliveryStream-1-2021-03-07-17-22-35-d124fd95-96c7-4c38-b20c-a8b9ebdd4613\n",
      "Load from cache: TemperatureAndHumidity2021/03/07/17/ThesisHydroponicSensorDeliveryStream-1-2021-03-07-17-37-36-ffcc5678-70cd-4dc9-8a36-f5a2c43c6628\n",
      "Load from cache: TemperatureAndHumidity2021/03/07/17/ThesisHydroponicSensorDeliveryStream-1-2021-03-07-17-52-42-f32ee223-bae7-4a36-8f8b-b7f3e9f9ab05\n",
      "Load from cache: TemperatureAndHumidity2021/03/07/18/ThesisHydroponicSensorDeliveryStream-1-2021-03-07-18-07-47-2bccb599-8ead-4adc-bbea-70438c087f47\n",
      "Load from cache: TemperatureAndHumidity2021/03/07/18/ThesisHydroponicSensorDeliveryStream-1-2021-03-07-18-22-48-74cad28a-d5b6-4735-af37-5c0d551ad646\n",
      "Load from cache: TemperatureAndHumidity2021/03/07/18/ThesisHydroponicSensorDeliveryStream-1-2021-03-07-18-37-54-e2b79e5d-1ece-45fd-b917-328c9857be9c\n",
      "Load from cache: TemperatureAndHumidity2021/03/07/18/ThesisHydroponicSensorDeliveryStream-1-2021-03-07-18-52-57-d129ea8c-0575-4d18-ad92-01f80ae6adc4\n",
      "Load from cache: TemperatureAndHumidity2021/03/07/19/ThesisHydroponicSensorDeliveryStream-1-2021-03-07-19-08-00-5a5a08b6-7603-4db8-ba22-5423cb079313\n",
      "Load from cache: TemperatureAndHumidity2021/03/07/19/ThesisHydroponicSensorDeliveryStream-1-2021-03-07-19-23-03-2781f028-49a5-4219-a6e7-097a80207ef6\n",
      "Load from cache: TemperatureAndHumidity2021/03/07/19/ThesisHydroponicSensorDeliveryStream-1-2021-03-07-19-38-09-04497822-2785-4523-9198-01236181e752\n",
      "Load from cache: TemperatureAndHumidity2021/03/07/19/ThesisHydroponicSensorDeliveryStream-1-2021-03-07-19-53-12-e0317df8-7402-48d4-b7f8-7c33a3107c11\n",
      "Load from cache: TemperatureAndHumidity2021/03/07/20/ThesisHydroponicSensorDeliveryStream-1-2021-03-07-20-08-18-8ed042f8-0951-430f-b2e5-9c9d874385de\n",
      "Load from cache: TemperatureAndHumidity2021/03/07/20/ThesisHydroponicSensorDeliveryStream-1-2021-03-07-20-23-21-2569da5f-6935-4f9a-99a3-812e78f68682\n",
      "Load from cache: TemperatureAndHumidity2021/03/07/20/ThesisHydroponicSensorDeliveryStream-1-2021-03-07-20-38-22-63cdf513-9a96-4920-8b41-a658de577735\n",
      "Load from cache: TemperatureAndHumidity2021/03/07/20/ThesisHydroponicSensorDeliveryStream-1-2021-03-07-20-53-27-9c70e071-2d17-4f71-b1df-a429d8336255\n",
      "Load from cache: TemperatureAndHumidity2021/03/07/21/ThesisHydroponicSensorDeliveryStream-1-2021-03-07-21-08-30-62101cc4-9185-4281-aed8-77d8398bfd29\n",
      "Load from cache: TemperatureAndHumidity2021/03/07/21/ThesisHydroponicSensorDeliveryStream-1-2021-03-07-21-23-34-ec28b287-da22-404a-a56a-147187b53ac3\n",
      "Load from cache: TemperatureAndHumidity2021/03/07/21/ThesisHydroponicSensorDeliveryStream-1-2021-03-07-21-38-39-58369673-80c2-4ea2-85b2-ae7710c1ad00\n",
      "Load from cache: TemperatureAndHumidity2021/03/07/21/ThesisHydroponicSensorDeliveryStream-1-2021-03-07-21-53-42-25a95453-55ff-4ce4-9341-1b4bb71fe239\n",
      "Load from cache: TemperatureAndHumidity2021/03/07/22/ThesisHydroponicSensorDeliveryStream-1-2021-03-07-22-08-45-b4144132-2d36-4db9-813a-363cc3a640f8\n",
      "Load from cache: TemperatureAndHumidity2021/03/07/22/ThesisHydroponicSensorDeliveryStream-1-2021-03-07-22-23-48-06cc6f35-e3c3-430e-a166-de6d332b6b72\n",
      "Load from cache: TemperatureAndHumidity2021/03/07/22/ThesisHydroponicSensorDeliveryStream-1-2021-03-07-22-38-54-0850a420-c4c9-4f6d-9f92-64b0af382ba4\n",
      "Load from cache: TemperatureAndHumidity2021/03/07/22/ThesisHydroponicSensorDeliveryStream-1-2021-03-07-22-54-09-eca2b2b2-91ae-42cf-a1cf-431815e8d2cc\n",
      "Load from cache: TemperatureAndHumidity2021/03/07/23/ThesisHydroponicSensorDeliveryStream-1-2021-03-07-23-09-16-e98fe085-4a26-4356-bf7d-bf0ac274d77f\n",
      "Load from cache: TemperatureAndHumidity2021/03/07/23/ThesisHydroponicSensorDeliveryStream-1-2021-03-07-23-24-24-6716617f-54e6-42ea-b2a4-ab625e1ecb47\n",
      "Load from cache: TemperatureAndHumidity2021/03/07/23/ThesisHydroponicSensorDeliveryStream-1-2021-03-07-23-39-30-2cfce13c-b29e-40e9-b85b-cf48260f1f86\n",
      "Load from cache: TemperatureAndHumidity2021/03/07/23/ThesisHydroponicSensorDeliveryStream-1-2021-03-07-23-54-35-0e506843-421b-434f-a096-261616ad44c4\n",
      "Load from cache: TemperatureAndHumidity2021/03/08/00/ThesisHydroponicSensorDeliveryStream-1-2021-03-08-00-09-38-1e27e0ab-2bb7-4776-bb49-0bb228b3cc96\n",
      "Load from cache: TemperatureAndHumidity2021/03/08/00/ThesisHydroponicSensorDeliveryStream-1-2021-03-08-00-24-44-3337ff07-8333-48d2-b9e8-888a054973ab\n",
      "Load from cache: TemperatureAndHumidity2021/03/08/00/ThesisHydroponicSensorDeliveryStream-1-2021-03-08-00-39-46-ccc31bfb-de8e-4414-aec9-234683d1a260\n",
      "Load from cache: TemperatureAndHumidity2021/03/08/00/ThesisHydroponicSensorDeliveryStream-1-2021-03-08-00-54-49-bca0dd0d-5184-4917-9e17-1e129616b8b3\n",
      "Load from cache: TemperatureAndHumidity2021/03/08/01/ThesisHydroponicSensorDeliveryStream-1-2021-03-08-01-09-58-f522bc5d-2ee9-4a35-8186-42f1ad48d430\n",
      "Load from cache: TemperatureAndHumidity2021/03/08/01/ThesisHydroponicSensorDeliveryStream-1-2021-03-08-01-25-01-d56fdd6f-a250-492a-b9d2-4cca43b67464\n",
      "Load from cache: TemperatureAndHumidity2021/03/08/01/ThesisHydroponicSensorDeliveryStream-1-2021-03-08-01-40-04-6df4c144-c5b4-4120-89ff-1107f6bab72f\n",
      "Load from cache: TemperatureAndHumidity2021/03/08/01/ThesisHydroponicSensorDeliveryStream-1-2021-03-08-01-55-11-6626b9ec-1d86-4c59-8f1f-32d0fd80bcd5\n",
      "Load from cache: TemperatureAndHumidity2021/03/08/02/ThesisHydroponicSensorDeliveryStream-1-2021-03-08-02-10-17-9f628276-5530-4005-94da-c3fd52c561dc\n",
      "Load from cache: TemperatureAndHumidity2021/03/08/02/ThesisHydroponicSensorDeliveryStream-1-2021-03-08-02-25-23-7e00065e-21fb-4cd6-9df3-b6a0383dce46\n",
      "Load from cache: TemperatureAndHumidity2021/03/08/02/ThesisHydroponicSensorDeliveryStream-1-2021-03-08-02-40-24-392b99f6-953b-49c1-a581-91672b8b0237\n",
      "Load from cache: TemperatureAndHumidity2021/03/08/02/ThesisHydroponicSensorDeliveryStream-1-2021-03-08-02-55-31-2ffce601-37b3-48e9-b103-1166439be405\n",
      "Load from cache: TemperatureAndHumidity2021/03/08/03/ThesisHydroponicSensorDeliveryStream-1-2021-03-08-03-10-39-8808075e-8264-4cd5-a886-40c50978c209\n",
      "Load from cache: TemperatureAndHumidity2021/03/08/03/ThesisHydroponicSensorDeliveryStream-1-2021-03-08-03-25-42-8c79c828-5a23-482e-adf9-89acb65619a2\n",
      "Load from cache: TemperatureAndHumidity2021/03/08/03/ThesisHydroponicSensorDeliveryStream-1-2021-03-08-03-40-48-0f9ba7e4-ffdf-46bf-a28b-12048750b5bd\n",
      "Load from cache: TemperatureAndHumidity2021/03/08/03/ThesisHydroponicSensorDeliveryStream-1-2021-03-08-03-55-53-593d6487-0bcd-45ab-873d-6b398e6e377b\n",
      "Load from cache: TemperatureAndHumidity2021/03/08/04/ThesisHydroponicSensorDeliveryStream-1-2021-03-08-04-10-59-357c8526-8948-4c81-96bc-9ad05f7873eb\n",
      "Load from cache: TemperatureAndHumidity2021/03/08/04/ThesisHydroponicSensorDeliveryStream-1-2021-03-08-04-26-02-98c67a38-a619-4e99-9f56-06b2997650c0\n",
      "Load from cache: TemperatureAndHumidity2021/03/08/04/ThesisHydroponicSensorDeliveryStream-1-2021-03-08-04-41-07-ea592645-021d-4f27-aede-aa967db7665c\n",
      "Load from cache: TemperatureAndHumidity2021/03/08/04/ThesisHydroponicSensorDeliveryStream-1-2021-03-08-04-56-08-4355000d-2287-46d8-9248-04e3ce85930a\n",
      "Load from cache: TemperatureAndHumidity2021/03/08/05/ThesisHydroponicSensorDeliveryStream-1-2021-03-08-05-11-13-6a786b87-4fe3-425e-9c9c-a21758f6e790\n",
      "Load from cache: TemperatureAndHumidity2021/03/08/05/ThesisHydroponicSensorDeliveryStream-1-2021-03-08-05-26-20-39ab62d9-21be-4bc7-bfe9-db2e1adb10c1\n",
      "Load from cache: TemperatureAndHumidity2021/03/08/05/ThesisHydroponicSensorDeliveryStream-1-2021-03-08-05-41-24-eaa9fda6-a467-4433-94ab-fcb1239bec18\n",
      "Load from cache: TemperatureAndHumidity2021/03/08/05/ThesisHydroponicSensorDeliveryStream-1-2021-03-08-05-56-34-72ebee42-84f6-4a4d-978d-f687d043d4b5\n",
      "Load from cache: TemperatureAndHumidity2021/03/08/06/ThesisHydroponicSensorDeliveryStream-1-2021-03-08-06-11-39-59a95fc5-77d4-49ea-8e14-a67008c8cded\n",
      "Load from cache: TemperatureAndHumidity2021/03/08/06/ThesisHydroponicSensorDeliveryStream-1-2021-03-08-06-26-42-5afeabd5-4f5e-41f3-88b2-12649a6cb8a5\n",
      "Load from cache: TemperatureAndHumidity2021/03/08/06/ThesisHydroponicSensorDeliveryStream-1-2021-03-08-06-41-46-de108310-ae69-4300-8885-318402d67bd6\n",
      "Load from cache: TemperatureAndHumidity2021/03/08/06/ThesisHydroponicSensorDeliveryStream-1-2021-03-08-06-56-55-adf440dc-bdbc-4be8-acdd-67bd71d38b8b\n",
      "Load from cache: TemperatureAndHumidity2021/03/08/07/ThesisHydroponicSensorDeliveryStream-1-2021-03-08-07-11-59-52f4a9eb-6a98-4fac-a837-6b371e0d0591\n",
      "Load from cache: TemperatureAndHumidity2021/03/08/07/ThesisHydroponicSensorDeliveryStream-1-2021-03-08-07-27-02-041ae79e-1e66-46b2-aa90-e256309171fd\n",
      "Load from cache: TemperatureAndHumidity2021/03/08/07/ThesisHydroponicSensorDeliveryStream-1-2021-03-08-07-42-04-05ac4584-3ec3-4e65-8899-0affe0429c85\n",
      "Load from cache: TemperatureAndHumidity2021/03/08/07/ThesisHydroponicSensorDeliveryStream-1-2021-03-08-07-57-06-ceb31cb2-47fc-44cc-b00f-46121db681eb\n",
      "Load from cache: TemperatureAndHumidity2021/03/08/08/ThesisHydroponicSensorDeliveryStream-1-2021-03-08-08-12-09-df5e855e-49df-4aa3-b415-28120edd8fc8\n",
      "Load from cache: TemperatureAndHumidity2021/03/08/08/ThesisHydroponicSensorDeliveryStream-1-2021-03-08-08-27-15-059c1a33-13aa-43bd-a904-73e273f7ea79\n",
      "Load from cache: TemperatureAndHumidity2021/03/08/08/ThesisHydroponicSensorDeliveryStream-1-2021-03-08-08-42-18-329a8f14-b27d-49f6-9e7a-30edede72490\n",
      "Load from cache: TemperatureAndHumidity2021/03/08/08/ThesisHydroponicSensorDeliveryStream-1-2021-03-08-08-57-19-d58bbc02-50a3-4057-bdff-c6f39cf948f7\n",
      "Load from cache: TemperatureAndHumidity2021/03/08/09/ThesisHydroponicSensorDeliveryStream-1-2021-03-08-09-12-24-f04b99d2-af72-429a-8099-b525ec77afad\n",
      "Load from cache: TemperatureAndHumidity2021/03/08/09/ThesisHydroponicSensorDeliveryStream-1-2021-03-08-09-27-25-4abdcbe6-07ce-4068-87e5-fef9052546e3\n",
      "Load from cache: TemperatureAndHumidity2021/03/08/09/ThesisHydroponicSensorDeliveryStream-1-2021-03-08-09-42-30-768356f1-8ded-44cd-a839-ad4dadb126b3\n",
      "Load from cache: TemperatureAndHumidity2021/03/08/09/ThesisHydroponicSensorDeliveryStream-1-2021-03-08-09-57-34-9bf0c333-4610-4ded-b5ca-29bc59facd7d\n",
      "Load from cache: TemperatureAndHumidity2021/03/08/10/ThesisHydroponicSensorDeliveryStream-1-2021-03-08-10-12-37-c5d80e62-e341-42c1-bfb9-656c89969a22\n",
      "Load from cache: TemperatureAndHumidity2021/03/08/10/ThesisHydroponicSensorDeliveryStream-1-2021-03-08-10-27-40-c8e10068-3e54-482c-9c87-838171dc2546\n",
      "Load from cache: TemperatureAndHumidity2021/03/08/10/ThesisHydroponicSensorDeliveryStream-1-2021-03-08-10-42-45-99db4080-cde9-4c2d-9cbd-0953eff6e044\n",
      "Load from cache: TemperatureAndHumidity2021/03/08/10/ThesisHydroponicSensorDeliveryStream-1-2021-03-08-10-57-50-e817e2ea-8eb7-4ea4-80bc-26acc483db23\n",
      "Load from cache: TemperatureAndHumidity2021/03/08/11/ThesisHydroponicSensorDeliveryStream-1-2021-03-08-11-12-59-c313273c-edd8-4b5d-ad8d-ca8560de67a1\n",
      "Load from cache: TemperatureAndHumidity2021/03/08/11/ThesisHydroponicSensorDeliveryStream-1-2021-03-08-11-28-04-dd728a71-453d-4269-a527-6b20bf7b88a6\n",
      "Load from cache: TemperatureAndHumidity2021/03/08/11/ThesisHydroponicSensorDeliveryStream-1-2021-03-08-11-43-09-3635e961-e3f3-4f4c-b65d-70c1cabbd7d4\n",
      "Load from cache: TemperatureAndHumidity2021/03/08/11/ThesisHydroponicSensorDeliveryStream-1-2021-03-08-11-58-14-dc89d339-e731-4bc9-94de-db3b35169956\n",
      "Load from cache: TemperatureAndHumidity2021/03/08/12/ThesisHydroponicSensorDeliveryStream-1-2021-03-08-12-13-15-429840fe-b14f-4331-b0cd-4f2abf931dac\n",
      "Load from cache: TemperatureAndHumidity2021/03/08/12/ThesisHydroponicSensorDeliveryStream-1-2021-03-08-12-28-18-e051f677-4b41-4e41-b7aa-bca136f4587c\n",
      "Load from cache: TemperatureAndHumidity2021/03/08/12/ThesisHydroponicSensorDeliveryStream-1-2021-03-08-12-43-23-70c8e3a9-3255-4fd5-a768-464f4808b62b\n",
      "Load from cache: TemperatureAndHumidity2021/03/08/12/ThesisHydroponicSensorDeliveryStream-1-2021-03-08-12-58-24-0fa94db3-a585-4f03-b109-c93e14bc07ba\n",
      "Load from cache: TemperatureAndHumidity2021/03/08/13/ThesisHydroponicSensorDeliveryStream-1-2021-03-08-13-13-29-f3ffe69a-1719-482f-b103-b8d67df90996\n",
      "Load from cache: TemperatureAndHumidity2021/03/08/13/ThesisHydroponicSensorDeliveryStream-1-2021-03-08-13-28-30-e2d05871-bed9-4d80-a2c4-026467675213\n",
      "Load from cache: TemperatureAndHumidity2021/03/08/13/ThesisHydroponicSensorDeliveryStream-1-2021-03-08-13-43-35-2f86a361-4d81-4caa-8336-ce16d8d28445\n",
      "Load from cache: TemperatureAndHumidity2021/03/08/13/ThesisHydroponicSensorDeliveryStream-1-2021-03-08-13-58-39-f4594a3b-e02f-4e2b-a08f-0207987ec075\n",
      "Load from cache: TemperatureAndHumidity2021/03/08/14/ThesisHydroponicSensorDeliveryStream-1-2021-03-08-14-13-42-914dbce0-cf04-456e-a45c-26e140fd0b12\n",
      "Load from cache: TemperatureAndHumidity2021/03/08/14/ThesisHydroponicSensorDeliveryStream-1-2021-03-08-14-28-49-0dac1e4f-b8f3-48a4-adb8-59da02bc6369\n",
      "Load from cache: TemperatureAndHumidity2021/03/08/14/ThesisHydroponicSensorDeliveryStream-1-2021-03-08-14-43-51-c924f7b6-eadd-4b41-af92-51299b8e4d85\n",
      "Load from cache: TemperatureAndHumidity2021/03/08/14/ThesisHydroponicSensorDeliveryStream-1-2021-03-08-14-58-54-0659a073-1a73-42f2-b157-62745c6f63d3\n",
      "Load from cache: TemperatureAndHumidity2021/03/08/15/ThesisHydroponicSensorDeliveryStream-1-2021-03-08-15-13-57-574d69a3-75cc-46ad-abd0-aacc8ee69999\n",
      "Load from cache: TemperatureAndHumidity2021/03/08/15/ThesisHydroponicSensorDeliveryStream-1-2021-03-08-15-29-04-188bf66b-e3ac-4c3b-a4a5-a9fcd761beab\n",
      "Load from cache: TemperatureAndHumidity2021/03/08/15/ThesisHydroponicSensorDeliveryStream-1-2021-03-08-15-44-07-70dc0409-c384-44b0-b76a-b8399beaf230\n",
      "Load from cache: TemperatureAndHumidity2021/03/08/15/ThesisHydroponicSensorDeliveryStream-1-2021-03-08-15-59-15-b562e088-3128-426a-a1ec-bd94a82846a7\n",
      "Load from cache: TemperatureAndHumidity2021/03/08/16/ThesisHydroponicSensorDeliveryStream-1-2021-03-08-16-14-22-43263e5e-7e33-4399-87c6-1479a4a5480a\n",
      "Load from cache: TemperatureAndHumidity2021/03/08/16/ThesisHydroponicSensorDeliveryStream-1-2021-03-08-16-29-27-777530a8-be94-4710-af7e-a13406e248bd\n",
      "Load from cache: TemperatureAndHumidity2021/03/08/16/ThesisHydroponicSensorDeliveryStream-1-2021-03-08-16-44-36-505575bd-0362-482d-9230-909437c69f4c\n",
      "Load from cache: TemperatureAndHumidity2021/03/08/17/ThesisHydroponicSensorDeliveryStream-1-2021-03-08-17-04-43-7d267b45-2c87-4979-a5c3-7bf0f5b991d7\n",
      "Load from cache: TemperatureAndHumidity2021/03/08/17/ThesisHydroponicSensorDeliveryStream-1-2021-03-08-17-19-49-462e4cf2-1e88-46d6-b6c4-207f76b0f4eb\n",
      "Load from cache: TemperatureAndHumidity2021/03/08/17/ThesisHydroponicSensorDeliveryStream-1-2021-03-08-17-34-55-ef419e55-3ba1-4a2d-b515-279d77ba872a\n",
      "Load from cache: TemperatureAndHumidity2021/03/08/17/ThesisHydroponicSensorDeliveryStream-1-2021-03-08-17-49-58-c1830811-943c-4b44-84c7-509c32ff7a16\n",
      "Load from cache: TemperatureAndHumidity2021/03/08/18/ThesisHydroponicSensorDeliveryStream-1-2021-03-08-18-04-59-02e46788-8285-48dc-9adf-d40a1d9a9f79\n",
      "Load from cache: TemperatureAndHumidity2021/03/08/18/ThesisHydroponicSensorDeliveryStream-1-2021-03-08-18-20-07-4391a9bd-301b-45ae-a61f-83576b642574\n",
      "Load from cache: TemperatureAndHumidity2021/03/08/18/ThesisHydroponicSensorDeliveryStream-1-2021-03-08-18-35-12-d393af30-6b86-4215-a452-5a23327fe0cd\n",
      "Load from cache: TemperatureAndHumidity2021/03/08/18/ThesisHydroponicSensorDeliveryStream-1-2021-03-08-18-50-17-8e687fae-db06-49ef-97a8-84441cc31c3a\n",
      "Load from cache: TemperatureAndHumidity2021/03/08/19/ThesisHydroponicSensorDeliveryStream-1-2021-03-08-19-05-22-7ae21827-a5ee-4686-902e-aef8d799dacf\n",
      "Load from cache: TemperatureAndHumidity2021/03/08/19/ThesisHydroponicSensorDeliveryStream-1-2021-03-08-19-20-24-9b6ba143-bb98-4d46-928d-c5a710d8f019\n",
      "Load from cache: TemperatureAndHumidity2021/03/08/19/ThesisHydroponicSensorDeliveryStream-1-2021-03-08-19-35-28-a9b8bcfd-0cf6-4ff0-ac6e-2de18bfd8018\n",
      "Load from cache: TemperatureAndHumidity2021/03/08/19/ThesisHydroponicSensorDeliveryStream-1-2021-03-08-19-50-35-0f0bd155-d631-4ff7-a8a9-65d0ac504171\n",
      "Load from cache: TemperatureAndHumidity2021/03/08/20/ThesisHydroponicSensorDeliveryStream-1-2021-03-08-20-05-41-cd22d05c-5ff6-40b7-975e-e0c6c4ab5b95\n"
     ]
    }
   ],
   "source": [
    "# Fetch existing data or load fresh data.\n",
    "# Remove redundancy and null.\n",
    "files = s3_client.list_objects(Bucket=s3_bucket_name, Prefix=s3_bucket_prefix)['Contents']\n",
    "parsed_sensor_values = []\n",
    "for file in files:\n",
    "    if not os.path.isfile('.cache/' + file['Key']) or (datetime.now() - datetime.fromtimestamp(os.path.getctime('.cache/' + file['Key']))).days > 31:\n",
    "        print(\"Fetching fresh file from S3:\", file['Key'])\n",
    "        s3_object = s3_client.get_object(Bucket=s3_bucket_name, Key= file['Key'])\n",
    "        raw_sensor_values = s3_object['Body'].read().decode()\n",
    "        clean_sensor_values = re.sub(\",+\", \",\", raw_sensor_values)\n",
    "        sensor_values = json.loads(\"[\" + clean_sensor_values.strip(',') + \"]\")\n",
    "    else:\n",
    "        print(\"Load from cache:\", file['Key'])\n",
    "        with open('.cache/' + file['Key']) as f:\n",
    "            sensor_values = json.load(f)\n",
    "    parsed_sensor_values += sensor_values\n",
    "    os.makedirs('.cache/' + os.path.dirname(file['Key']), exist_ok=True)\n",
    "    with open('.cache/' + file['Key'], 'w') as f:\n",
    "        json.dump(sensor_values, f)"
   ]
  },
  {
   "source": [
    "## Data preparation"
   ],
   "cell_type": "markdown",
   "metadata": {}
  },
  {
   "cell_type": "code",
   "execution_count": 4,
   "metadata": {},
   "outputs": [],
   "source": [
    "df = pd.DataFrame(parsed_sensor_values)\n",
    "df['temperature'] = df['temperature'].astype(float)\n",
    "df['humidity'] = df['humidity'].astype(float)\n",
    "df['datetime'] = pd.to_datetime(df['datetime'])\n",
    "df.sort_values('datetime', ascending=True, inplace=True)"
   ]
  },
  {
   "cell_type": "code",
   "execution_count": 5,
   "metadata": {},
   "outputs": [
    {
     "output_type": "stream",
     "name": "stdout",
     "text": [
      "Number of rows and columns: (16059, 4)\n"
     ]
    },
    {
     "output_type": "execute_result",
     "data": {
      "text/plain": [
       "         sensor_type  temperature  humidity            datetime\n",
       "0  hydroponic sensor         14.0      38.0 2021-02-26 08:51:37\n",
       "1  hydroponic sensor         15.0      36.0 2021-02-26 08:51:43\n",
       "2  hydroponic sensor         15.0      36.0 2021-02-26 08:51:48\n",
       "3  hydroponic sensor         15.0      36.0 2021-02-26 08:51:53\n",
       "4  hydroponic sensor         15.0      35.0 2021-02-26 08:51:58"
      ],
      "text/html": "<div>\n<style scoped>\n    .dataframe tbody tr th:only-of-type {\n        vertical-align: middle;\n    }\n\n    .dataframe tbody tr th {\n        vertical-align: top;\n    }\n\n    .dataframe thead th {\n        text-align: right;\n    }\n</style>\n<table border=\"1\" class=\"dataframe\">\n  <thead>\n    <tr style=\"text-align: right;\">\n      <th></th>\n      <th>sensor_type</th>\n      <th>temperature</th>\n      <th>humidity</th>\n      <th>datetime</th>\n    </tr>\n  </thead>\n  <tbody>\n    <tr>\n      <th>0</th>\n      <td>hydroponic sensor</td>\n      <td>14.0</td>\n      <td>38.0</td>\n      <td>2021-02-26 08:51:37</td>\n    </tr>\n    <tr>\n      <th>1</th>\n      <td>hydroponic sensor</td>\n      <td>15.0</td>\n      <td>36.0</td>\n      <td>2021-02-26 08:51:43</td>\n    </tr>\n    <tr>\n      <th>2</th>\n      <td>hydroponic sensor</td>\n      <td>15.0</td>\n      <td>36.0</td>\n      <td>2021-02-26 08:51:48</td>\n    </tr>\n    <tr>\n      <th>3</th>\n      <td>hydroponic sensor</td>\n      <td>15.0</td>\n      <td>36.0</td>\n      <td>2021-02-26 08:51:53</td>\n    </tr>\n    <tr>\n      <th>4</th>\n      <td>hydroponic sensor</td>\n      <td>15.0</td>\n      <td>35.0</td>\n      <td>2021-02-26 08:51:58</td>\n    </tr>\n  </tbody>\n</table>\n</div>"
     },
     "metadata": {},
     "execution_count": 5
    }
   ],
   "source": [
    "print('Number of rows and columns:', df.shape)\n",
    "df.head(5)"
   ]
  },
  {
   "cell_type": "code",
   "execution_count": 6,
   "metadata": {},
   "outputs": [
    {
     "output_type": "stream",
     "name": "stdout",
     "text": [
      "(254, 2)\n                     temperature   humidity\ndatetime                                   \n2021-02-26 08:00:00    20.978495  27.376344\n2021-02-26 09:00:00    23.768421  24.040602\n2021-02-26 10:00:00    25.008850  30.794690\n2021-02-26 11:00:00    22.839286  31.142857\n2021-02-26 12:00:00    23.854545  29.054545\n...                          ...        ...\n2021-03-08 17:00:00    24.000000  16.000000\n2021-03-08 18:00:00    24.000000  15.525424\n2021-03-08 19:00:00    24.000000  16.000000\n2021-03-08 20:00:00    24.000000  15.644068\n2021-03-08 21:00:00    24.000000  15.000000\n\n[254 rows x 2 columns]\n"
     ]
    }
   ],
   "source": [
    "# resample data to hourly\n",
    "hourly_groups = df.set_index('datetime').resample('1H')\n",
    "# Calulating the mean will simply eliminate the data outliers\n",
    "hourly_data = hourly_groups.mean()\n",
    "# summarize\n",
    "print(hourly_data.shape)\n",
    "print(hourly_data)\n",
    "# save\n",
    "hourly_data.to_csv('temperature_humidity_hourly.csv')"
   ]
  },
  {
   "cell_type": "code",
   "execution_count": 7,
   "metadata": {},
   "outputs": [],
   "source": [
    "# split a univariate dataset into train/test sets\n",
    "def split_dataset(data):\n",
    "    temp_a = int((len(data)*0.8)/7)\n",
    "    split_index = temp_a*7\n",
    "    temp_b = int(len(data)/7)\n",
    "    end_index = temp_b*7\n",
    "    # split into standard weeks(i.e. divisible by 7)\n",
    "    train, test = data[:split_index], data[split_index:end_index]\n",
    "    # restructure into windows of weekly data\n",
    "    train = array(split(train, len(train)/7))\n",
    "    test = array(split(test, len(test)/7))\n",
    "    return train, test"
   ]
  },
  {
   "cell_type": "code",
   "execution_count": 8,
   "metadata": {},
   "outputs": [],
   "source": [
    "# evaluate one or more weekly forecasts against expected values\n",
    "def evaluate_forecasts(actual, predicted):\n",
    "    scores = list()\n",
    "    # calculate an RMSE score for each day\n",
    "    for i in range(actual.shape[1]):\n",
    "        # calculate mse\n",
    "        mse = mean_squared_error(actual[:, i], predicted[:, i])\n",
    "        # calculate rmse\n",
    "        rmse = sqrt(mse)\n",
    "        # store\n",
    "        scores.append(rmse)\n",
    "        # calculate overall RMSE\n",
    "        s = 0\n",
    "    for row in range(actual.shape[0]):\n",
    "        for col in range(actual.shape[1]):\n",
    "            s += (actual[row, col] - predicted[row, col])**2\n",
    "        score = sqrt(s / (actual.shape[0] * actual.shape[1]))\n",
    "    return score, scores"
   ]
  },
  {
   "cell_type": "code",
   "execution_count": 9,
   "metadata": {},
   "outputs": [],
   "source": [
    "# summarize scores\n",
    "def summarize_scores(name, score, scores):\n",
    "    s_scores = ', '.join(['%.1f' % s for s in scores])\n",
    "    print('%s: [%.3f] %s' % (name, score, s_scores))"
   ]
  },
  {
   "cell_type": "code",
   "execution_count": 10,
   "metadata": {},
   "outputs": [],
   "source": [
    "# convert history into inputs and outputs\n",
    "def to_supervised(train, n_input, n_out=7):\n",
    "\t# flatten data\n",
    "\tdata = train.reshape((train.shape[0]*train.shape[1], train.shape[2]))\n",
    "\tX, y = list(), list()\n",
    "\tin_start = 0\n",
    "\t# step over the entire history one time step at a time\n",
    "\tfor _ in range(len(data)):\n",
    "\t\t# define the end of the input sequence\n",
    "\t\tin_end = in_start + n_input\n",
    "\t\tout_end = in_end + n_out\n",
    "\t\t# ensure we have enough data for this instance\n",
    "\t\tif out_end <= len(data):\n",
    "\t\t\tx_input = data[in_start:in_end, 0]\n",
    "\t\t\tx_input = x_input.reshape((len(x_input), 1))\n",
    "\t\t\tX.append(x_input)\n",
    "\t\t\ty.append(data[in_end:out_end, 0])\n",
    "\t\t# move along one time step\n",
    "\t\tin_start += 1\n",
    "\treturn array(X), array(y)"
   ]
  },
  {
   "cell_type": "code",
   "execution_count": 24,
   "metadata": {},
   "outputs": [],
   "source": [
    "# train the model\n",
    "def build_model(train, n_input):\n",
    "\t# prepare data\n",
    "\ttrain_x, train_y = to_supervised(train, n_input)\n",
    "\tprint('train_x', train_x.shape)\n",
    "\n",
    "\tprint('train_y', train_y.shape)\n",
    "\n",
    "\t# define parameters\n",
    "\tverbose, epochs, batch_size = 0, 70, 16\n",
    "\tn_timesteps, n_features, n_outputs = train_x.shape[1], train_x.shape[2], train_y.shape[1]\n",
    "\t# define model\n",
    "\tmodel = Sequential()\n",
    "\tmodel.add(LSTM(200, activation='relu', input_shape=(n_timesteps, n_features)))\n",
    "\tmodel.add(Dense(100, activation='relu'))\n",
    "\tmodel.add(Dense(n_outputs))\n",
    "\tmodel.compile(loss='mse', optimizer='adam')\n",
    "\t# fit network\n",
    "\tmodel.fit(train_x, train_y, epochs=epochs, batch_size=batch_size, verbose=verbose)\n",
    "\treturn model"
   ]
  },
  {
   "cell_type": "code",
   "execution_count": 25,
   "metadata": {},
   "outputs": [],
   "source": [
    "# make a forecast\n",
    "def forecast(model, history, n_input):\n",
    "\t# flatten data\n",
    "\tdata = array(history)\n",
    "\tdata = data.reshape((data.shape[0]*data.shape[1], data.shape[2]))\n",
    "\t# retrieve last observations for input data\n",
    "\tinput_x = data[-n_input:, 0]\n",
    "\t# reshape into [1, n_input, 1]\n",
    "\tinput_x = input_x.reshape((1, len(input_x), 1))\n",
    "\t# forecast the next week\n",
    "\tyhat = model.predict(input_x, verbose=0)\n",
    "\t# we only want the vector forecast\n",
    "\tyhat = yhat[0]\n",
    "\treturn yhat"
   ]
  },
  {
   "cell_type": "code",
   "execution_count": 56,
   "metadata": {},
   "outputs": [],
   "source": [
    "# evaluate a single model\n",
    "def evaluate_model(train, test, n_input):\n",
    "\t# fit model\n",
    "\tmodel = build_model(train, n_input)\n",
    "\t# history is a list of weekly data\n",
    "\thistory = [x for x in train]\n",
    "\t# walk-forward validation over each week\n",
    "\tpredictions = list()\n",
    "\tfor i in range(len(test)):\n",
    "\t\t# predict the week\n",
    "\t\tyhat_sequence = forecast(model, history, n_input)\n",
    "\t\t# store the predictions\n",
    "\t\tpredictions.append(yhat_sequence)\n",
    "\t\t# get real observation and add to history for predicting the next week\n",
    "\t\thistory.append(test[i, :])\n",
    "\t# evaluate predictions days for each week\n",
    "\tpredictions = array(predictions)\n",
    "\tscore, scores = evaluate_forecasts(test[:, :, 0], predictions)\n",
    "\treturn score, scores, predictions"
   ]
  },
  {
   "cell_type": "code",
   "execution_count": 57,
   "metadata": {},
   "outputs": [
    {
     "output_type": "stream",
     "name": "stdout",
     "text": [
      "train_x (190, 7, 1)\n",
      "train_y (190, 7)\n",
      "lstm: [0.999] 1.0, 1.1, 1.1, 1.0, 1.1, 0.8, 0.8\n"
     ]
    }
   ],
   "source": [
    "# load the new file\n",
    "dataset = read_csv('temperature_humidity_hourly.csv', header=0, infer_datetime_format=True, parse_dates=['datetime'], index_col=['datetime'])\n",
    "# split into train and test\n",
    "train, test = split_dataset(dataset.values)\n",
    "# evaluate model and get scores\n",
    "n_input = 7\n",
    "score, scores, predictions = evaluate_model(train, test, n_input)\n",
    "# summarize scores\n",
    "summarize_scores('lstm', score, scores)"
   ]
  },
  {
   "cell_type": "code",
   "execution_count": 58,
   "metadata": {},
   "outputs": [
    {
     "output_type": "display_data",
     "data": {
      "text/plain": "<Figure size 432x288 with 1 Axes>",
      "image/svg+xml": "<?xml version=\"1.0\" encoding=\"utf-8\" standalone=\"no\"?>\r\n<!DOCTYPE svg PUBLIC \"-//W3C//DTD SVG 1.1//EN\"\r\n  \"http://www.w3.org/Graphics/SVG/1.1/DTD/svg11.dtd\">\r\n<!-- Created with matplotlib (https://matplotlib.org/) -->\r\n<svg height=\"248.518125pt\" version=\"1.1\" viewBox=\"0 0 378.465625 248.518125\" width=\"378.465625pt\" xmlns=\"http://www.w3.org/2000/svg\" xmlns:xlink=\"http://www.w3.org/1999/xlink\">\r\n <metadata>\r\n  <rdf:RDF xmlns:cc=\"http://creativecommons.org/ns#\" xmlns:dc=\"http://purl.org/dc/elements/1.1/\" xmlns:rdf=\"http://www.w3.org/1999/02/22-rdf-syntax-ns#\">\r\n   <cc:Work>\r\n    <dc:type rdf:resource=\"http://purl.org/dc/dcmitype/StillImage\"/>\r\n    <dc:date>2021-03-23T18:55:07.353815</dc:date>\r\n    <dc:format>image/svg+xml</dc:format>\r\n    <dc:creator>\r\n     <cc:Agent>\r\n      <dc:title>Matplotlib v3.3.4, https://matplotlib.org/</dc:title>\r\n     </cc:Agent>\r\n    </dc:creator>\r\n   </cc:Work>\r\n  </rdf:RDF>\r\n </metadata>\r\n <defs>\r\n  <style type=\"text/css\">*{stroke-linecap:butt;stroke-linejoin:round;}</style>\r\n </defs>\r\n <g id=\"figure_1\">\r\n  <g id=\"patch_1\">\r\n   <path d=\"M 0 248.518125 \r\nL 378.465625 248.518125 \r\nL 378.465625 0 \r\nL 0 0 \r\nz\r\n\" style=\"fill:none;\"/>\r\n  </g>\r\n  <g id=\"axes_1\">\r\n   <g id=\"patch_2\">\r\n    <path d=\"M 36.465625 224.64 \r\nL 371.265625 224.64 \r\nL 371.265625 7.2 \r\nL 36.465625 7.2 \r\nz\r\n\" style=\"fill:#ffffff;\"/>\r\n   </g>\r\n   <g id=\"matplotlib.axis_1\">\r\n    <g id=\"xtick_1\">\r\n     <g id=\"line2d_1\">\r\n      <defs>\r\n       <path d=\"M 0 0 \r\nL 0 3.5 \r\n\" id=\"ma55b49db36\" style=\"stroke:#000000;stroke-width:0.8;\"/>\r\n      </defs>\r\n      <g>\r\n       <use style=\"stroke:#000000;stroke-width:0.8;\" x=\"51.683807\" xlink:href=\"#ma55b49db36\" y=\"224.64\"/>\r\n      </g>\r\n     </g>\r\n     <g id=\"text_1\">\r\n      <!-- 1 -->\r\n      <g transform=\"translate(48.502557 239.238437)scale(0.1 -0.1)\">\r\n       <defs>\r\n        <path d=\"M 12.40625 8.296875 \r\nL 28.515625 8.296875 \r\nL 28.515625 63.921875 \r\nL 10.984375 60.40625 \r\nL 10.984375 69.390625 \r\nL 28.421875 72.90625 \r\nL 38.28125 72.90625 \r\nL 38.28125 8.296875 \r\nL 54.390625 8.296875 \r\nL 54.390625 0 \r\nL 12.40625 0 \r\nz\r\n\" id=\"DejaVuSans-49\"/>\r\n       </defs>\r\n       <use xlink:href=\"#DejaVuSans-49\"/>\r\n      </g>\r\n     </g>\r\n    </g>\r\n    <g id=\"xtick_2\">\r\n     <g id=\"line2d_2\">\r\n      <g>\r\n       <use style=\"stroke:#000000;stroke-width:0.8;\" x=\"102.41108\" xlink:href=\"#ma55b49db36\" y=\"224.64\"/>\r\n      </g>\r\n     </g>\r\n     <g id=\"text_2\">\r\n      <!-- 2 -->\r\n      <g transform=\"translate(99.22983 239.238437)scale(0.1 -0.1)\">\r\n       <defs>\r\n        <path d=\"M 19.1875 8.296875 \r\nL 53.609375 8.296875 \r\nL 53.609375 0 \r\nL 7.328125 0 \r\nL 7.328125 8.296875 \r\nQ 12.9375 14.109375 22.625 23.890625 \r\nQ 32.328125 33.6875 34.8125 36.53125 \r\nQ 39.546875 41.84375 41.421875 45.53125 \r\nQ 43.3125 49.21875 43.3125 52.78125 \r\nQ 43.3125 58.59375 39.234375 62.25 \r\nQ 35.15625 65.921875 28.609375 65.921875 \r\nQ 23.96875 65.921875 18.8125 64.3125 \r\nQ 13.671875 62.703125 7.8125 59.421875 \r\nL 7.8125 69.390625 \r\nQ 13.765625 71.78125 18.9375 73 \r\nQ 24.125 74.21875 28.421875 74.21875 \r\nQ 39.75 74.21875 46.484375 68.546875 \r\nQ 53.21875 62.890625 53.21875 53.421875 \r\nQ 53.21875 48.921875 51.53125 44.890625 \r\nQ 49.859375 40.875 45.40625 35.40625 \r\nQ 44.1875 33.984375 37.640625 27.21875 \r\nQ 31.109375 20.453125 19.1875 8.296875 \r\nz\r\n\" id=\"DejaVuSans-50\"/>\r\n       </defs>\r\n       <use xlink:href=\"#DejaVuSans-50\"/>\r\n      </g>\r\n     </g>\r\n    </g>\r\n    <g id=\"xtick_3\">\r\n     <g id=\"line2d_3\">\r\n      <g>\r\n       <use style=\"stroke:#000000;stroke-width:0.8;\" x=\"153.138352\" xlink:href=\"#ma55b49db36\" y=\"224.64\"/>\r\n      </g>\r\n     </g>\r\n     <g id=\"text_3\">\r\n      <!-- 3 -->\r\n      <g transform=\"translate(149.957102 239.238437)scale(0.1 -0.1)\">\r\n       <defs>\r\n        <path d=\"M 40.578125 39.3125 \r\nQ 47.65625 37.796875 51.625 33 \r\nQ 55.609375 28.21875 55.609375 21.1875 \r\nQ 55.609375 10.40625 48.1875 4.484375 \r\nQ 40.765625 -1.421875 27.09375 -1.421875 \r\nQ 22.515625 -1.421875 17.65625 -0.515625 \r\nQ 12.796875 0.390625 7.625 2.203125 \r\nL 7.625 11.71875 \r\nQ 11.71875 9.328125 16.59375 8.109375 \r\nQ 21.484375 6.890625 26.8125 6.890625 \r\nQ 36.078125 6.890625 40.9375 10.546875 \r\nQ 45.796875 14.203125 45.796875 21.1875 \r\nQ 45.796875 27.640625 41.28125 31.265625 \r\nQ 36.765625 34.90625 28.71875 34.90625 \r\nL 20.21875 34.90625 \r\nL 20.21875 43.015625 \r\nL 29.109375 43.015625 \r\nQ 36.375 43.015625 40.234375 45.921875 \r\nQ 44.09375 48.828125 44.09375 54.296875 \r\nQ 44.09375 59.90625 40.109375 62.90625 \r\nQ 36.140625 65.921875 28.71875 65.921875 \r\nQ 24.65625 65.921875 20.015625 65.03125 \r\nQ 15.375 64.15625 9.8125 62.3125 \r\nL 9.8125 71.09375 \r\nQ 15.4375 72.65625 20.34375 73.4375 \r\nQ 25.25 74.21875 29.59375 74.21875 \r\nQ 40.828125 74.21875 47.359375 69.109375 \r\nQ 53.90625 64.015625 53.90625 55.328125 \r\nQ 53.90625 49.265625 50.4375 45.09375 \r\nQ 46.96875 40.921875 40.578125 39.3125 \r\nz\r\n\" id=\"DejaVuSans-51\"/>\r\n       </defs>\r\n       <use xlink:href=\"#DejaVuSans-51\"/>\r\n      </g>\r\n     </g>\r\n    </g>\r\n    <g id=\"xtick_4\">\r\n     <g id=\"line2d_4\">\r\n      <g>\r\n       <use style=\"stroke:#000000;stroke-width:0.8;\" x=\"203.865625\" xlink:href=\"#ma55b49db36\" y=\"224.64\"/>\r\n      </g>\r\n     </g>\r\n     <g id=\"text_4\">\r\n      <!-- 4 -->\r\n      <g transform=\"translate(200.684375 239.238437)scale(0.1 -0.1)\">\r\n       <defs>\r\n        <path d=\"M 37.796875 64.3125 \r\nL 12.890625 25.390625 \r\nL 37.796875 25.390625 \r\nz\r\nM 35.203125 72.90625 \r\nL 47.609375 72.90625 \r\nL 47.609375 25.390625 \r\nL 58.015625 25.390625 \r\nL 58.015625 17.1875 \r\nL 47.609375 17.1875 \r\nL 47.609375 0 \r\nL 37.796875 0 \r\nL 37.796875 17.1875 \r\nL 4.890625 17.1875 \r\nL 4.890625 26.703125 \r\nz\r\n\" id=\"DejaVuSans-52\"/>\r\n       </defs>\r\n       <use xlink:href=\"#DejaVuSans-52\"/>\r\n      </g>\r\n     </g>\r\n    </g>\r\n    <g id=\"xtick_5\">\r\n     <g id=\"line2d_5\">\r\n      <g>\r\n       <use style=\"stroke:#000000;stroke-width:0.8;\" x=\"254.592898\" xlink:href=\"#ma55b49db36\" y=\"224.64\"/>\r\n      </g>\r\n     </g>\r\n     <g id=\"text_5\">\r\n      <!-- 5 -->\r\n      <g transform=\"translate(251.411648 239.238437)scale(0.1 -0.1)\">\r\n       <defs>\r\n        <path d=\"M 10.796875 72.90625 \r\nL 49.515625 72.90625 \r\nL 49.515625 64.59375 \r\nL 19.828125 64.59375 \r\nL 19.828125 46.734375 \r\nQ 21.96875 47.46875 24.109375 47.828125 \r\nQ 26.265625 48.1875 28.421875 48.1875 \r\nQ 40.625 48.1875 47.75 41.5 \r\nQ 54.890625 34.8125 54.890625 23.390625 \r\nQ 54.890625 11.625 47.5625 5.09375 \r\nQ 40.234375 -1.421875 26.90625 -1.421875 \r\nQ 22.3125 -1.421875 17.546875 -0.640625 \r\nQ 12.796875 0.140625 7.71875 1.703125 \r\nL 7.71875 11.625 \r\nQ 12.109375 9.234375 16.796875 8.0625 \r\nQ 21.484375 6.890625 26.703125 6.890625 \r\nQ 35.15625 6.890625 40.078125 11.328125 \r\nQ 45.015625 15.765625 45.015625 23.390625 \r\nQ 45.015625 31 40.078125 35.4375 \r\nQ 35.15625 39.890625 26.703125 39.890625 \r\nQ 22.75 39.890625 18.8125 39.015625 \r\nQ 14.890625 38.140625 10.796875 36.28125 \r\nz\r\n\" id=\"DejaVuSans-53\"/>\r\n       </defs>\r\n       <use xlink:href=\"#DejaVuSans-53\"/>\r\n      </g>\r\n     </g>\r\n    </g>\r\n    <g id=\"xtick_6\">\r\n     <g id=\"line2d_6\">\r\n      <g>\r\n       <use style=\"stroke:#000000;stroke-width:0.8;\" x=\"305.32017\" xlink:href=\"#ma55b49db36\" y=\"224.64\"/>\r\n      </g>\r\n     </g>\r\n     <g id=\"text_6\">\r\n      <!-- 6 -->\r\n      <g transform=\"translate(302.13892 239.238437)scale(0.1 -0.1)\">\r\n       <defs>\r\n        <path d=\"M 33.015625 40.375 \r\nQ 26.375 40.375 22.484375 35.828125 \r\nQ 18.609375 31.296875 18.609375 23.390625 \r\nQ 18.609375 15.53125 22.484375 10.953125 \r\nQ 26.375 6.390625 33.015625 6.390625 \r\nQ 39.65625 6.390625 43.53125 10.953125 \r\nQ 47.40625 15.53125 47.40625 23.390625 \r\nQ 47.40625 31.296875 43.53125 35.828125 \r\nQ 39.65625 40.375 33.015625 40.375 \r\nz\r\nM 52.59375 71.296875 \r\nL 52.59375 62.3125 \r\nQ 48.875 64.0625 45.09375 64.984375 \r\nQ 41.3125 65.921875 37.59375 65.921875 \r\nQ 27.828125 65.921875 22.671875 59.328125 \r\nQ 17.53125 52.734375 16.796875 39.40625 \r\nQ 19.671875 43.65625 24.015625 45.921875 \r\nQ 28.375 48.1875 33.59375 48.1875 \r\nQ 44.578125 48.1875 50.953125 41.515625 \r\nQ 57.328125 34.859375 57.328125 23.390625 \r\nQ 57.328125 12.15625 50.6875 5.359375 \r\nQ 44.046875 -1.421875 33.015625 -1.421875 \r\nQ 20.359375 -1.421875 13.671875 8.265625 \r\nQ 6.984375 17.96875 6.984375 36.375 \r\nQ 6.984375 53.65625 15.1875 63.9375 \r\nQ 23.390625 74.21875 37.203125 74.21875 \r\nQ 40.921875 74.21875 44.703125 73.484375 \r\nQ 48.484375 72.75 52.59375 71.296875 \r\nz\r\n\" id=\"DejaVuSans-54\"/>\r\n       </defs>\r\n       <use xlink:href=\"#DejaVuSans-54\"/>\r\n      </g>\r\n     </g>\r\n    </g>\r\n    <g id=\"xtick_7\">\r\n     <g id=\"line2d_7\">\r\n      <g>\r\n       <use style=\"stroke:#000000;stroke-width:0.8;\" x=\"356.047443\" xlink:href=\"#ma55b49db36\" y=\"224.64\"/>\r\n      </g>\r\n     </g>\r\n     <g id=\"text_7\">\r\n      <!-- 7 -->\r\n      <g transform=\"translate(352.866193 239.238437)scale(0.1 -0.1)\">\r\n       <defs>\r\n        <path d=\"M 8.203125 72.90625 \r\nL 55.078125 72.90625 \r\nL 55.078125 68.703125 \r\nL 28.609375 0 \r\nL 18.3125 0 \r\nL 43.21875 64.59375 \r\nL 8.203125 64.59375 \r\nz\r\n\" id=\"DejaVuSans-55\"/>\r\n       </defs>\r\n       <use xlink:href=\"#DejaVuSans-55\"/>\r\n      </g>\r\n     </g>\r\n    </g>\r\n   </g>\r\n   <g id=\"matplotlib.axis_2\">\r\n    <g id=\"ytick_1\">\r\n     <g id=\"line2d_8\">\r\n      <defs>\r\n       <path d=\"M 0 0 \r\nL -3.5 0 \r\n\" id=\"mf995b51125\" style=\"stroke:#000000;stroke-width:0.8;\"/>\r\n      </defs>\r\n      <g>\r\n       <use style=\"stroke:#000000;stroke-width:0.8;\" x=\"36.465625\" xlink:href=\"#mf995b51125\" y=\"204.354514\"/>\r\n      </g>\r\n     </g>\r\n     <g id=\"text_8\">\r\n      <!-- 0.80 -->\r\n      <g transform=\"translate(7.2 208.153732)scale(0.1 -0.1)\">\r\n       <defs>\r\n        <path d=\"M 31.78125 66.40625 \r\nQ 24.171875 66.40625 20.328125 58.90625 \r\nQ 16.5 51.421875 16.5 36.375 \r\nQ 16.5 21.390625 20.328125 13.890625 \r\nQ 24.171875 6.390625 31.78125 6.390625 \r\nQ 39.453125 6.390625 43.28125 13.890625 \r\nQ 47.125 21.390625 47.125 36.375 \r\nQ 47.125 51.421875 43.28125 58.90625 \r\nQ 39.453125 66.40625 31.78125 66.40625 \r\nz\r\nM 31.78125 74.21875 \r\nQ 44.046875 74.21875 50.515625 64.515625 \r\nQ 56.984375 54.828125 56.984375 36.375 \r\nQ 56.984375 17.96875 50.515625 8.265625 \r\nQ 44.046875 -1.421875 31.78125 -1.421875 \r\nQ 19.53125 -1.421875 13.0625 8.265625 \r\nQ 6.59375 17.96875 6.59375 36.375 \r\nQ 6.59375 54.828125 13.0625 64.515625 \r\nQ 19.53125 74.21875 31.78125 74.21875 \r\nz\r\n\" id=\"DejaVuSans-48\"/>\r\n        <path d=\"M 10.6875 12.40625 \r\nL 21 12.40625 \r\nL 21 0 \r\nL 10.6875 0 \r\nz\r\n\" id=\"DejaVuSans-46\"/>\r\n        <path d=\"M 31.78125 34.625 \r\nQ 24.75 34.625 20.71875 30.859375 \r\nQ 16.703125 27.09375 16.703125 20.515625 \r\nQ 16.703125 13.921875 20.71875 10.15625 \r\nQ 24.75 6.390625 31.78125 6.390625 \r\nQ 38.8125 6.390625 42.859375 10.171875 \r\nQ 46.921875 13.96875 46.921875 20.515625 \r\nQ 46.921875 27.09375 42.890625 30.859375 \r\nQ 38.875 34.625 31.78125 34.625 \r\nz\r\nM 21.921875 38.8125 \r\nQ 15.578125 40.375 12.03125 44.71875 \r\nQ 8.5 49.078125 8.5 55.328125 \r\nQ 8.5 64.0625 14.71875 69.140625 \r\nQ 20.953125 74.21875 31.78125 74.21875 \r\nQ 42.671875 74.21875 48.875 69.140625 \r\nQ 55.078125 64.0625 55.078125 55.328125 \r\nQ 55.078125 49.078125 51.53125 44.71875 \r\nQ 48 40.375 41.703125 38.8125 \r\nQ 48.828125 37.15625 52.796875 32.3125 \r\nQ 56.78125 27.484375 56.78125 20.515625 \r\nQ 56.78125 9.90625 50.3125 4.234375 \r\nQ 43.84375 -1.421875 31.78125 -1.421875 \r\nQ 19.734375 -1.421875 13.25 4.234375 \r\nQ 6.78125 9.90625 6.78125 20.515625 \r\nQ 6.78125 27.484375 10.78125 32.3125 \r\nQ 14.796875 37.15625 21.921875 38.8125 \r\nz\r\nM 18.3125 54.390625 \r\nQ 18.3125 48.734375 21.84375 45.5625 \r\nQ 25.390625 42.390625 31.78125 42.390625 \r\nQ 38.140625 42.390625 41.71875 45.5625 \r\nQ 45.3125 48.734375 45.3125 54.390625 \r\nQ 45.3125 60.0625 41.71875 63.234375 \r\nQ 38.140625 66.40625 31.78125 66.40625 \r\nQ 25.390625 66.40625 21.84375 63.234375 \r\nQ 18.3125 60.0625 18.3125 54.390625 \r\nz\r\n\" id=\"DejaVuSans-56\"/>\r\n       </defs>\r\n       <use xlink:href=\"#DejaVuSans-48\"/>\r\n       <use x=\"63.623047\" xlink:href=\"#DejaVuSans-46\"/>\r\n       <use x=\"95.410156\" xlink:href=\"#DejaVuSans-56\"/>\r\n       <use x=\"159.033203\" xlink:href=\"#DejaVuSans-48\"/>\r\n      </g>\r\n     </g>\r\n    </g>\r\n    <g id=\"ytick_2\">\r\n     <g id=\"line2d_9\">\r\n      <g>\r\n       <use style=\"stroke:#000000;stroke-width:0.8;\" x=\"36.465625\" xlink:href=\"#mf995b51125\" y=\"175.944512\"/>\r\n      </g>\r\n     </g>\r\n     <g id=\"text_9\">\r\n      <!-- 0.85 -->\r\n      <g transform=\"translate(7.2 179.743731)scale(0.1 -0.1)\">\r\n       <use xlink:href=\"#DejaVuSans-48\"/>\r\n       <use x=\"63.623047\" xlink:href=\"#DejaVuSans-46\"/>\r\n       <use x=\"95.410156\" xlink:href=\"#DejaVuSans-56\"/>\r\n       <use x=\"159.033203\" xlink:href=\"#DejaVuSans-53\"/>\r\n      </g>\r\n     </g>\r\n    </g>\r\n    <g id=\"ytick_3\">\r\n     <g id=\"line2d_10\">\r\n      <g>\r\n       <use style=\"stroke:#000000;stroke-width:0.8;\" x=\"36.465625\" xlink:href=\"#mf995b51125\" y=\"147.534511\"/>\r\n      </g>\r\n     </g>\r\n     <g id=\"text_10\">\r\n      <!-- 0.90 -->\r\n      <g transform=\"translate(7.2 151.333729)scale(0.1 -0.1)\">\r\n       <defs>\r\n        <path d=\"M 10.984375 1.515625 \r\nL 10.984375 10.5 \r\nQ 14.703125 8.734375 18.5 7.8125 \r\nQ 22.3125 6.890625 25.984375 6.890625 \r\nQ 35.75 6.890625 40.890625 13.453125 \r\nQ 46.046875 20.015625 46.78125 33.40625 \r\nQ 43.953125 29.203125 39.59375 26.953125 \r\nQ 35.25 24.703125 29.984375 24.703125 \r\nQ 19.046875 24.703125 12.671875 31.3125 \r\nQ 6.296875 37.9375 6.296875 49.421875 \r\nQ 6.296875 60.640625 12.9375 67.421875 \r\nQ 19.578125 74.21875 30.609375 74.21875 \r\nQ 43.265625 74.21875 49.921875 64.515625 \r\nQ 56.59375 54.828125 56.59375 36.375 \r\nQ 56.59375 19.140625 48.40625 8.859375 \r\nQ 40.234375 -1.421875 26.421875 -1.421875 \r\nQ 22.703125 -1.421875 18.890625 -0.6875 \r\nQ 15.09375 0.046875 10.984375 1.515625 \r\nz\r\nM 30.609375 32.421875 \r\nQ 37.25 32.421875 41.125 36.953125 \r\nQ 45.015625 41.5 45.015625 49.421875 \r\nQ 45.015625 57.28125 41.125 61.84375 \r\nQ 37.25 66.40625 30.609375 66.40625 \r\nQ 23.96875 66.40625 20.09375 61.84375 \r\nQ 16.21875 57.28125 16.21875 49.421875 \r\nQ 16.21875 41.5 20.09375 36.953125 \r\nQ 23.96875 32.421875 30.609375 32.421875 \r\nz\r\n\" id=\"DejaVuSans-57\"/>\r\n       </defs>\r\n       <use xlink:href=\"#DejaVuSans-48\"/>\r\n       <use x=\"63.623047\" xlink:href=\"#DejaVuSans-46\"/>\r\n       <use x=\"95.410156\" xlink:href=\"#DejaVuSans-57\"/>\r\n       <use x=\"159.033203\" xlink:href=\"#DejaVuSans-48\"/>\r\n      </g>\r\n     </g>\r\n    </g>\r\n    <g id=\"ytick_4\">\r\n     <g id=\"line2d_11\">\r\n      <g>\r\n       <use style=\"stroke:#000000;stroke-width:0.8;\" x=\"36.465625\" xlink:href=\"#mf995b51125\" y=\"119.124509\"/>\r\n      </g>\r\n     </g>\r\n     <g id=\"text_11\">\r\n      <!-- 0.95 -->\r\n      <g transform=\"translate(7.2 122.923728)scale(0.1 -0.1)\">\r\n       <use xlink:href=\"#DejaVuSans-48\"/>\r\n       <use x=\"63.623047\" xlink:href=\"#DejaVuSans-46\"/>\r\n       <use x=\"95.410156\" xlink:href=\"#DejaVuSans-57\"/>\r\n       <use x=\"159.033203\" xlink:href=\"#DejaVuSans-53\"/>\r\n      </g>\r\n     </g>\r\n    </g>\r\n    <g id=\"ytick_5\">\r\n     <g id=\"line2d_12\">\r\n      <g>\r\n       <use style=\"stroke:#000000;stroke-width:0.8;\" x=\"36.465625\" xlink:href=\"#mf995b51125\" y=\"90.714508\"/>\r\n      </g>\r\n     </g>\r\n     <g id=\"text_12\">\r\n      <!-- 1.00 -->\r\n      <g transform=\"translate(7.2 94.513727)scale(0.1 -0.1)\">\r\n       <use xlink:href=\"#DejaVuSans-49\"/>\r\n       <use x=\"63.623047\" xlink:href=\"#DejaVuSans-46\"/>\r\n       <use x=\"95.410156\" xlink:href=\"#DejaVuSans-48\"/>\r\n       <use x=\"159.033203\" xlink:href=\"#DejaVuSans-48\"/>\r\n      </g>\r\n     </g>\r\n    </g>\r\n    <g id=\"ytick_6\">\r\n     <g id=\"line2d_13\">\r\n      <g>\r\n       <use style=\"stroke:#000000;stroke-width:0.8;\" x=\"36.465625\" xlink:href=\"#mf995b51125\" y=\"62.304506\"/>\r\n      </g>\r\n     </g>\r\n     <g id=\"text_13\">\r\n      <!-- 1.05 -->\r\n      <g transform=\"translate(7.2 66.103725)scale(0.1 -0.1)\">\r\n       <use xlink:href=\"#DejaVuSans-49\"/>\r\n       <use x=\"63.623047\" xlink:href=\"#DejaVuSans-46\"/>\r\n       <use x=\"95.410156\" xlink:href=\"#DejaVuSans-48\"/>\r\n       <use x=\"159.033203\" xlink:href=\"#DejaVuSans-53\"/>\r\n      </g>\r\n     </g>\r\n    </g>\r\n    <g id=\"ytick_7\">\r\n     <g id=\"line2d_14\">\r\n      <g>\r\n       <use style=\"stroke:#000000;stroke-width:0.8;\" x=\"36.465625\" xlink:href=\"#mf995b51125\" y=\"33.894505\"/>\r\n      </g>\r\n     </g>\r\n     <g id=\"text_14\">\r\n      <!-- 1.10 -->\r\n      <g transform=\"translate(7.2 37.693724)scale(0.1 -0.1)\">\r\n       <use xlink:href=\"#DejaVuSans-49\"/>\r\n       <use x=\"63.623047\" xlink:href=\"#DejaVuSans-46\"/>\r\n       <use x=\"95.410156\" xlink:href=\"#DejaVuSans-49\"/>\r\n       <use x=\"159.033203\" xlink:href=\"#DejaVuSans-48\"/>\r\n      </g>\r\n     </g>\r\n    </g>\r\n   </g>\r\n   <g id=\"line2d_15\">\r\n    <path clip-path=\"url(#pb7c5b00602)\" d=\"M 51.683807 115.027567 \r\nL 102.41108 19.910285 \r\nL 153.138352 17.083636 \r\nL 203.865625 62.733926 \r\nL 254.592898 37.466961 \r\nL 305.32017 214.756364 \r\nL 356.047443 210.557058 \r\n\" style=\"fill:none;stroke:#1f77b4;stroke-linecap:square;stroke-width:1.5;\"/>\r\n    <defs>\r\n     <path d=\"M 0 3 \r\nC 0.795609 3 1.55874 2.683901 2.12132 2.12132 \r\nC 2.683901 1.55874 3 0.795609 3 0 \r\nC 3 -0.795609 2.683901 -1.55874 2.12132 -2.12132 \r\nC 1.55874 -2.683901 0.795609 -3 0 -3 \r\nC -0.795609 -3 -1.55874 -2.683901 -2.12132 -2.12132 \r\nC -2.683901 -1.55874 -3 -0.795609 -3 0 \r\nC -3 0.795609 -2.683901 1.55874 -2.12132 2.12132 \r\nC -1.55874 2.683901 -0.795609 3 0 3 \r\nz\r\n\" id=\"m212f90bcc0\" style=\"stroke:#1f77b4;\"/>\r\n    </defs>\r\n    <g clip-path=\"url(#pb7c5b00602)\">\r\n     <use style=\"fill:#1f77b4;stroke:#1f77b4;\" x=\"51.683807\" xlink:href=\"#m212f90bcc0\" y=\"115.027567\"/>\r\n     <use style=\"fill:#1f77b4;stroke:#1f77b4;\" x=\"102.41108\" xlink:href=\"#m212f90bcc0\" y=\"19.910285\"/>\r\n     <use style=\"fill:#1f77b4;stroke:#1f77b4;\" x=\"153.138352\" xlink:href=\"#m212f90bcc0\" y=\"17.083636\"/>\r\n     <use style=\"fill:#1f77b4;stroke:#1f77b4;\" x=\"203.865625\" xlink:href=\"#m212f90bcc0\" y=\"62.733926\"/>\r\n     <use style=\"fill:#1f77b4;stroke:#1f77b4;\" x=\"254.592898\" xlink:href=\"#m212f90bcc0\" y=\"37.466961\"/>\r\n     <use style=\"fill:#1f77b4;stroke:#1f77b4;\" x=\"305.32017\" xlink:href=\"#m212f90bcc0\" y=\"214.756364\"/>\r\n     <use style=\"fill:#1f77b4;stroke:#1f77b4;\" x=\"356.047443\" xlink:href=\"#m212f90bcc0\" y=\"210.557058\"/>\r\n    </g>\r\n   </g>\r\n   <g id=\"patch_3\">\r\n    <path d=\"M 36.465625 224.64 \r\nL 36.465625 7.2 \r\n\" style=\"fill:none;stroke:#000000;stroke-linecap:square;stroke-linejoin:miter;stroke-width:0.8;\"/>\r\n   </g>\r\n   <g id=\"patch_4\">\r\n    <path d=\"M 371.265625 224.64 \r\nL 371.265625 7.2 \r\n\" style=\"fill:none;stroke:#000000;stroke-linecap:square;stroke-linejoin:miter;stroke-width:0.8;\"/>\r\n   </g>\r\n   <g id=\"patch_5\">\r\n    <path d=\"M 36.465625 224.64 \r\nL 371.265625 224.64 \r\n\" style=\"fill:none;stroke:#000000;stroke-linecap:square;stroke-linejoin:miter;stroke-width:0.8;\"/>\r\n   </g>\r\n   <g id=\"patch_6\">\r\n    <path d=\"M 36.465625 7.2 \r\nL 371.265625 7.2 \r\n\" style=\"fill:none;stroke:#000000;stroke-linecap:square;stroke-linejoin:miter;stroke-width:0.8;\"/>\r\n   </g>\r\n  </g>\r\n </g>\r\n <defs>\r\n  <clipPath id=\"pb7c5b00602\">\r\n   <rect height=\"217.44\" width=\"334.8\" x=\"36.465625\" y=\"7.2\"/>\r\n  </clipPath>\r\n </defs>\r\n</svg>\r\n",
      "image/png": "[encoded data removed]"
     },
     "metadata": {
      "needs_background": "light"
     }
    }
   ],
   "source": [
    "# plot scores\n",
    "hrs = ['1', '2', '3', '4', '5', '6', '7']\n",
    "pyplot.plot(hrs, scores, marker='o', label='lstm')\n",
    "pyplot.show()"
   ]
  },
  {
   "cell_type": "code",
   "execution_count": 70,
   "metadata": {},
   "outputs": [],
   "source": [
    "df_test = pd.DataFrame(test.reshape(test.shape[0]* test.shape[1], 2), columns=[\"temperature\",\"humidity\"])\n",
    "df_pred = pd.DataFrame(predictions.reshape(predictions.shape[0]* predictions.shape[1],),columns=[\"pred_temperature\"])\n",
    "predicted_and_test = df_pred.join(df_test)\n",
    "predicted_and_test.to_csv('predicted_temperature_and_test_values.csv',index=False)"
   ]
  }
 ]
}