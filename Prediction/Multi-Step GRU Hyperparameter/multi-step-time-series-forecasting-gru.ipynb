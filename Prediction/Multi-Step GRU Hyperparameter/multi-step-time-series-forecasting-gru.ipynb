{
 "metadata": {
  "language_info": {
   "codemirror_mode": {
    "name": "ipython",
    "version": 3
   },
   "file_extension": ".py",
   "mimetype": "text/x-python",
   "name": "python",
   "nbconvert_exporter": "python",
   "pygments_lexer": "ipython3",
   "version": "3.7.9"
  },
  "orig_nbformat": 2,
  "kernelspec": {
   "name": "python379jvsc74a57bd0c3218535dd4fc05aa3e9f9bc0ba552a9acaa71ce56ba5438b99e7cdc1c0a0be6",
   "display_name": "Python 3.7.9 64-bit ('DT005A Final Project': conda)"
  }
 },
 "nbformat": 4,
 "nbformat_minor": 2,
 "cells": [
  {
   "cell_type": "code",
   "execution_count": 1,
   "metadata": {},
   "outputs": [],
   "source": [
    "# univariate multi-step gru\n",
    "import os\n",
    "import boto3\n",
    "import json\n",
    "import re\n",
    "import kerastuner as kt\n",
    "import pandas as pd\n",
    "import numpy as np\n",
    "import glob\n",
    "import tensorflow as tf\n",
    "from collections import defaultdict\n",
    "from kerastuner import Objective\n",
    "from datetime import datetime\n",
    "from math import sqrt\n",
    "from numpy import (split, array)\n",
    "from pandas import read_csv\n",
    "from sklearn.metrics import (mean_squared_error, mean_absolute_error)\n",
    "from sklearn.preprocessing import MinMaxScaler\n",
    "from sklearn.model_selection import train_test_split\n",
    "from matplotlib import pyplot\n",
    "from keras.models import Sequential\n",
    "from keras.layers import (GRU, Dense, Flatten)"
   ]
  },
  {
   "cell_type": "code",
   "execution_count": 2,
   "metadata": {},
   "outputs": [],
   "source": [
    "# define client, folder and files for AWS.\n",
    "s3_client = boto3.client(\"s3\")\n",
    "s3_bucket_name = 'thesis-hydroponic-project'\n",
    "s3_bucket_prefix = 'TemperatureAndHumidity2021/03'"
   ]
  },
  {
   "cell_type": "code",
   "execution_count": 3,
   "metadata": {
    "tags": [
     "outputPrepend"
    ]
   },
   "outputs": [
    {
     "output_type": "stream",
     "name": "stdout",
     "text": [
      "2d33c-944e-46de-8d37-28a6bf992123\n",
      "Load from cache: TemperatureAndHumidity2021/03/29/02/ThesisHydroponicSensorDeliveryStream-1-2021-03-29-02-55-47-7016dacb-4449-46ce-b8e7-1cbab7995d41\n",
      "Load from cache: TemperatureAndHumidity2021/03/29/03/ThesisHydroponicSensorDeliveryStream-1-2021-03-29-03-10-52-bb30d9e6-e9c3-4303-879e-362feecd838c\n",
      "Load from cache: TemperatureAndHumidity2021/03/29/03/ThesisHydroponicSensorDeliveryStream-1-2021-03-29-03-25-58-2209f8f2-fcb6-4653-bd0c-6856ad0429c0\n",
      "Load from cache: TemperatureAndHumidity2021/03/29/03/ThesisHydroponicSensorDeliveryStream-1-2021-03-29-03-41-06-1bb94952-fbe2-4851-a004-e3a4b2fef1ac\n",
      "Load from cache: TemperatureAndHumidity2021/03/29/03/ThesisHydroponicSensorDeliveryStream-1-2021-03-29-03-56-08-55391883-814a-44ed-899f-945b41f7138c\n",
      "Load from cache: TemperatureAndHumidity2021/03/29/04/ThesisHydroponicSensorDeliveryStream-1-2021-03-29-04-11-14-d6528ed4-e4af-4d9f-9ec4-30cb3deda1c5\n",
      "Load from cache: TemperatureAndHumidity2021/03/30/00/ThesisHydroponicSensorDeliveryStream-1-2021-03-30-00-02-41-d174a858-5c78-4e61-b853-e4398ce7ad7d\n",
      "Load from cache: TemperatureAndHumidity2021/03/30/00/ThesisHydroponicSensorDeliveryStream-1-2021-03-30-00-17-51-aa5e60fd-7d26-4c60-a4d7-fa69514fc698\n",
      "Load from cache: TemperatureAndHumidity2021/03/30/00/ThesisHydroponicSensorDeliveryStream-1-2021-03-30-00-32-53-089e6f33-a40a-4c0a-a1e3-00af4d683010\n",
      "Load from cache: TemperatureAndHumidity2021/03/30/00/ThesisHydroponicSensorDeliveryStream-1-2021-03-30-00-47-58-8bc95fc0-91d5-47f8-b9b6-8141cb011112\n",
      "Load from cache: TemperatureAndHumidity2021/03/30/01/ThesisHydroponicSensorDeliveryStream-1-2021-03-30-01-03-02-3da15aba-9df9-47bb-911b-1012bd19f861\n",
      "Load from cache: TemperatureAndHumidity2021/03/30/01/ThesisHydroponicSensorDeliveryStream-1-2021-03-30-01-18-09-09b320c8-f37b-4375-b204-3f2eecac6e14\n",
      "Load from cache: TemperatureAndHumidity2021/03/30/01/ThesisHydroponicSensorDeliveryStream-1-2021-03-30-01-33-12-557e614a-45ac-428a-84a9-e157ca954a67\n",
      "Load from cache: TemperatureAndHumidity2021/03/30/01/ThesisHydroponicSensorDeliveryStream-1-2021-03-30-01-48-18-7de54d41-4f44-47b3-8095-b09b3ad6bc8c\n",
      "Load from cache: TemperatureAndHumidity2021/03/30/02/ThesisHydroponicSensorDeliveryStream-1-2021-03-30-02-03-24-ac3e058c-0f94-4e07-aed1-35ba880d78d1\n",
      "Load from cache: TemperatureAndHumidity2021/03/30/02/ThesisHydroponicSensorDeliveryStream-1-2021-03-30-02-18-31-49be1b3c-68cc-4310-8902-db70fdac09d0\n",
      "Load from cache: TemperatureAndHumidity2021/03/30/02/ThesisHydroponicSensorDeliveryStream-1-2021-03-30-02-33-32-6e90a915-4344-449a-ab65-a067294bcb00\n",
      "Load from cache: TemperatureAndHumidity2021/03/30/02/ThesisHydroponicSensorDeliveryStream-1-2021-03-30-02-48-37-40b40434-2098-4cd2-9c5c-341d83f97014\n",
      "Load from cache: TemperatureAndHumidity2021/03/30/03/ThesisHydroponicSensorDeliveryStream-1-2021-03-30-03-03-45-f91aca57-51df-4222-a4d7-003b29aab9fe\n",
      "Load from cache: TemperatureAndHumidity2021/03/30/03/ThesisHydroponicSensorDeliveryStream-1-2021-03-30-03-18-46-e3bd1223-ae2b-426c-ae09-dfc670ccd0b0\n",
      "Load from cache: TemperatureAndHumidity2021/03/30/03/ThesisHydroponicSensorDeliveryStream-1-2021-03-30-03-33-56-70991600-bc59-4731-a055-fcb5ca523f61\n",
      "Load from cache: TemperatureAndHumidity2021/03/30/03/ThesisHydroponicSensorDeliveryStream-1-2021-03-30-03-49-02-04a7d82c-8014-4d5e-ac94-fa47b8a6a8ae\n",
      "Load from cache: TemperatureAndHumidity2021/03/30/04/ThesisHydroponicSensorDeliveryStream-1-2021-03-30-04-04-11-9dd2452f-f8aa-4fa6-ad16-fd524ba8fd22\n",
      "Load from cache: TemperatureAndHumidity2021/03/30/04/ThesisHydroponicSensorDeliveryStream-1-2021-03-30-04-19-14-f44a9364-3c42-454e-b9f6-b38117d73bf7\n",
      "Load from cache: TemperatureAndHumidity2021/03/30/04/ThesisHydroponicSensorDeliveryStream-1-2021-03-30-04-34-19-9963217d-4a35-4d6d-82fc-24ec196c9d28\n",
      "Load from cache: TemperatureAndHumidity2021/03/30/04/ThesisHydroponicSensorDeliveryStream-1-2021-03-30-04-49-23-fd56fcf9-5120-4562-be60-6673993b4be0\n",
      "Load from cache: TemperatureAndHumidity2021/03/30/05/ThesisHydroponicSensorDeliveryStream-1-2021-03-30-05-04-27-eaa85a55-b5e3-4366-92e3-ad971f030e44\n",
      "Load from cache: TemperatureAndHumidity2021/03/30/05/ThesisHydroponicSensorDeliveryStream-1-2021-03-30-05-19-30-ba01dea3-b851-46fa-870f-2d06bf9015c5\n",
      "Load from cache: TemperatureAndHumidity2021/03/30/05/ThesisHydroponicSensorDeliveryStream-1-2021-03-30-05-34-33-d1ec33b2-90df-49a6-88ad-a8ec58352d32\n",
      "Load from cache: TemperatureAndHumidity2021/03/30/05/ThesisHydroponicSensorDeliveryStream-1-2021-03-30-05-49-37-e98464a1-4a80-4c77-a686-28b111cdcc10\n",
      "Load from cache: TemperatureAndHumidity2021/03/30/06/ThesisHydroponicSensorDeliveryStream-1-2021-03-30-06-04-43-552e3e02-2954-4660-abc9-487fc59200d4\n",
      "Load from cache: TemperatureAndHumidity2021/03/30/06/ThesisHydroponicSensorDeliveryStream-1-2021-03-30-06-19-46-88943a8e-498c-43ea-b6a5-8cea5f9c53a8\n",
      "Load from cache: TemperatureAndHumidity2021/03/30/06/ThesisHydroponicSensorDeliveryStream-1-2021-03-30-06-34-51-3a171955-77a1-42fc-aa6d-833007e84c2d\n",
      "Load from cache: TemperatureAndHumidity2021/03/30/06/ThesisHydroponicSensorDeliveryStream-1-2021-03-30-06-49-58-8ea4e4a8-7073-4618-9814-9f7226255bb0\n",
      "Load from cache: TemperatureAndHumidity2021/03/30/07/ThesisHydroponicSensorDeliveryStream-1-2021-03-30-07-05-00-b8a2db70-cdf1-4547-999a-a30fe2317791\n",
      "Load from cache: TemperatureAndHumidity2021/03/30/07/ThesisHydroponicSensorDeliveryStream-1-2021-03-30-07-20-04-13d9ed63-2bf5-43b2-b9c0-a8a2fe3f412a\n",
      "Load from cache: TemperatureAndHumidity2021/03/30/07/ThesisHydroponicSensorDeliveryStream-1-2021-03-30-07-35-12-e3a9eb3a-bb2a-419d-977b-b8723f965f10\n",
      "Load from cache: TemperatureAndHumidity2021/03/30/07/ThesisHydroponicSensorDeliveryStream-1-2021-03-30-07-50-20-10cb3179-bce2-4bfa-8fec-8742ccdf4a23\n",
      "Load from cache: TemperatureAndHumidity2021/03/30/08/ThesisHydroponicSensorDeliveryStream-1-2021-03-30-08-05-25-50a2edc4-3cb9-4c9c-9499-877876954ecc\n",
      "Load from cache: TemperatureAndHumidity2021/03/30/08/ThesisHydroponicSensorDeliveryStream-1-2021-03-30-08-20-30-42bde546-f701-4de7-bc30-8cb8d3d3a838\n",
      "Load from cache: TemperatureAndHumidity2021/03/30/08/ThesisHydroponicSensorDeliveryStream-1-2021-03-30-08-35-34-71762449-700a-4ce0-a59c-b3ea30580135\n",
      "Load from cache: TemperatureAndHumidity2021/03/30/08/ThesisHydroponicSensorDeliveryStream-1-2021-03-30-08-50-38-47f86cff-156c-4740-a2b9-d440156fe067\n",
      "Load from cache: TemperatureAndHumidity2021/03/30/09/ThesisHydroponicSensorDeliveryStream-1-2021-03-30-09-05-43-61a47a1c-bd70-40fb-8dc0-416232d4f45c\n",
      "Load from cache: TemperatureAndHumidity2021/03/30/09/ThesisHydroponicSensorDeliveryStream-1-2021-03-30-09-20-48-9e470860-785d-489c-a15c-744720a337cc\n",
      "Load from cache: TemperatureAndHumidity2021/03/30/09/ThesisHydroponicSensorDeliveryStream-1-2021-03-30-09-35-56-f720f664-0992-462c-87ed-40b96293726b\n",
      "Load from cache: TemperatureAndHumidity2021/03/30/09/ThesisHydroponicSensorDeliveryStream-1-2021-03-30-09-51-01-3ce89a9d-5890-4fae-b9a9-1ae23ec0ec23\n",
      "Load from cache: TemperatureAndHumidity2021/03/30/10/ThesisHydroponicSensorDeliveryStream-1-2021-03-30-10-06-07-f3abeaba-6466-4849-bb60-797b47825569\n",
      "Load from cache: TemperatureAndHumidity2021/03/30/10/ThesisHydroponicSensorDeliveryStream-1-2021-03-30-10-21-12-68927a8c-f80f-4981-adf9-0cc0e330721f\n",
      "Load from cache: TemperatureAndHumidity2021/03/30/10/ThesisHydroponicSensorDeliveryStream-1-2021-03-30-10-36-13-f471ca98-23a8-47f3-80a9-c2bac19bda47\n",
      "Load from cache: TemperatureAndHumidity2021/03/30/10/ThesisHydroponicSensorDeliveryStream-1-2021-03-30-10-51-20-a6ead53e-ee50-498e-831d-b08233fe71c4\n",
      "Load from cache: TemperatureAndHumidity2021/03/30/11/ThesisHydroponicSensorDeliveryStream-1-2021-03-30-11-06-23-12b02c8a-77d5-4f3a-8ffe-be5b161a38d7\n",
      "Load from cache: TemperatureAndHumidity2021/03/30/11/ThesisHydroponicSensorDeliveryStream-1-2021-03-30-11-21-27-eb562d17-c5dc-4138-bb85-aca1bc7ee2f2\n",
      "Load from cache: TemperatureAndHumidity2021/03/30/11/ThesisHydroponicSensorDeliveryStream-1-2021-03-30-11-36-31-69da5190-3d97-411e-ba47-26c893f7422c\n",
      "Load from cache: TemperatureAndHumidity2021/03/30/11/ThesisHydroponicSensorDeliveryStream-1-2021-03-30-11-51-37-b3108b5e-95ff-4936-9470-5fa44c8c533f\n",
      "Load from cache: TemperatureAndHumidity2021/03/30/12/ThesisHydroponicSensorDeliveryStream-1-2021-03-30-12-06-40-e5633fac-f3c3-4155-b506-1ddaf0640cc9\n",
      "Load from cache: TemperatureAndHumidity2021/03/30/12/ThesisHydroponicSensorDeliveryStream-1-2021-03-30-12-21-43-9c88b5b3-da58-4a15-9198-01e9e552ea4a\n",
      "Load from cache: TemperatureAndHumidity2021/03/30/12/ThesisHydroponicSensorDeliveryStream-1-2021-03-30-12-36-46-628f5abc-637f-4663-a705-c9b99ed0b12d\n",
      "Load from cache: TemperatureAndHumidity2021/03/30/12/ThesisHydroponicSensorDeliveryStream-1-2021-03-30-12-51-50-a97dbd0a-f9c7-471a-b7c8-4ce1e9e62f51\n",
      "Load from cache: TemperatureAndHumidity2021/03/30/13/ThesisHydroponicSensorDeliveryStream-1-2021-03-30-13-06-53-252c0a20-4f51-47cb-bf9e-06e2059fbed1\n",
      "Load from cache: TemperatureAndHumidity2021/03/30/13/ThesisHydroponicSensorDeliveryStream-1-2021-03-30-13-21-54-351ec5ba-f70f-45cf-8e00-7da0c1b0aec9\n",
      "Load from cache: TemperatureAndHumidity2021/03/30/13/ThesisHydroponicSensorDeliveryStream-1-2021-03-30-13-37-01-0193d8a4-a05e-43cd-8295-7e3cc7676917\n",
      "Load from cache: TemperatureAndHumidity2021/03/30/13/ThesisHydroponicSensorDeliveryStream-1-2021-03-30-13-52-03-c2fa0b5c-8651-4701-9b6e-bf6e670279cc\n",
      "Load from cache: TemperatureAndHumidity2021/03/30/14/ThesisHydroponicSensorDeliveryStream-1-2021-03-30-14-07-08-9e3eeabc-02f7-4172-ba5a-11872c2016f8\n",
      "Load from cache: TemperatureAndHumidity2021/03/30/14/ThesisHydroponicSensorDeliveryStream-1-2021-03-30-14-22-15-3151cc99-0402-486b-892c-578f77d506ee\n",
      "Load from cache: TemperatureAndHumidity2021/03/30/14/ThesisHydroponicSensorDeliveryStream-1-2021-03-30-14-37-19-71ecd75f-132d-40af-8ee0-28d8857935d7\n",
      "Load from cache: TemperatureAndHumidity2021/03/30/14/ThesisHydroponicSensorDeliveryStream-1-2021-03-30-14-52-23-e5582631-cab5-404d-9dcf-81e9e96b6bdf\n",
      "Load from cache: TemperatureAndHumidity2021/03/30/15/ThesisHydroponicSensorDeliveryStream-1-2021-03-30-15-07-28-61eb21f0-feeb-428a-bc64-683095dac947\n",
      "Load from cache: TemperatureAndHumidity2021/03/30/15/ThesisHydroponicSensorDeliveryStream-1-2021-03-30-15-22-33-ed20cbe4-6a49-43b5-abb8-5f6dbe389d62\n",
      "Load from cache: TemperatureAndHumidity2021/03/30/15/ThesisHydroponicSensorDeliveryStream-1-2021-03-30-15-37-37-9ad37e6e-d93e-4437-b8c2-116e0bd2a4d3\n",
      "Load from cache: TemperatureAndHumidity2021/03/30/15/ThesisHydroponicSensorDeliveryStream-1-2021-03-30-15-52-52-20ef7af3-4c50-4d50-a7ed-c2a5f4207087\n",
      "Load from cache: TemperatureAndHumidity2021/03/30/16/ThesisHydroponicSensorDeliveryStream-1-2021-03-30-16-07-54-90064ce0-fc2a-4aab-922f-a352e22e1c63\n",
      "Load from cache: TemperatureAndHumidity2021/03/30/16/ThesisHydroponicSensorDeliveryStream-1-2021-03-30-16-23-03-70df5030-0769-4d68-b127-f1561ce5af1b\n",
      "Load from cache: TemperatureAndHumidity2021/03/30/16/ThesisHydroponicSensorDeliveryStream-1-2021-03-30-16-38-14-76881d18-d354-404d-9cd5-3b83bb51aef6\n",
      "Load from cache: TemperatureAndHumidity2021/03/30/16/ThesisHydroponicSensorDeliveryStream-1-2021-03-30-16-53-18-90509a34-4c23-40a1-a354-d92e8aa562fa\n",
      "Load from cache: TemperatureAndHumidity2021/03/30/17/ThesisHydroponicSensorDeliveryStream-1-2021-03-30-17-08-20-21d3832f-6838-4daf-ab5c-a829e2749b45\n",
      "Load from cache: TemperatureAndHumidity2021/03/30/17/ThesisHydroponicSensorDeliveryStream-1-2021-03-30-17-23-23-395339e1-3fdb-4a6a-8ee5-c423a60caa0e\n",
      "Load from cache: TemperatureAndHumidity2021/03/30/17/ThesisHydroponicSensorDeliveryStream-1-2021-03-30-17-38-27-9cbb6727-9c3f-47c8-9301-c7bda9c8ce48\n",
      "Load from cache: TemperatureAndHumidity2021/03/30/17/ThesisHydroponicSensorDeliveryStream-1-2021-03-30-17-53-30-066b1079-8e35-4a61-9732-ac13505b468e\n",
      "Load from cache: TemperatureAndHumidity2021/03/30/18/ThesisHydroponicSensorDeliveryStream-1-2021-03-30-18-08-34-335385af-a9b0-4a9e-ae0a-0fbae7763b38\n",
      "Load from cache: TemperatureAndHumidity2021/03/30/18/ThesisHydroponicSensorDeliveryStream-1-2021-03-30-18-23-42-88d8ab24-4307-4855-bc2a-e68d0a468d1c\n",
      "Load from cache: TemperatureAndHumidity2021/03/30/18/ThesisHydroponicSensorDeliveryStream-1-2021-03-30-18-38-45-e54a335b-464c-44e3-9d3f-c41cc6691f4c\n",
      "Load from cache: TemperatureAndHumidity2021/03/30/18/ThesisHydroponicSensorDeliveryStream-1-2021-03-30-18-53-47-0fd662f1-643c-4985-a510-b1865fd46450\n",
      "Load from cache: TemperatureAndHumidity2021/03/30/19/ThesisHydroponicSensorDeliveryStream-1-2021-03-30-19-08-54-4fe4dba7-0537-4b71-90dd-b7b4d5012cfe\n",
      "Load from cache: TemperatureAndHumidity2021/03/30/19/ThesisHydroponicSensorDeliveryStream-1-2021-03-30-19-24-03-cd239b38-120b-4e99-83ec-a90fb2f69dbc\n",
      "Load from cache: TemperatureAndHumidity2021/03/30/19/ThesisHydroponicSensorDeliveryStream-1-2021-03-30-19-39-09-c44b9ae4-a964-4d64-9f73-6086b9c0e561\n",
      "Load from cache: TemperatureAndHumidity2021/03/30/19/ThesisHydroponicSensorDeliveryStream-1-2021-03-30-19-54-19-4128d653-b905-4db3-8bed-7ef52509af46\n",
      "Load from cache: TemperatureAndHumidity2021/03/30/20/ThesisHydroponicSensorDeliveryStream-1-2021-03-30-20-09-21-e1e56f42-ae0f-4ee2-a760-1019b86ec83c\n",
      "Load from cache: TemperatureAndHumidity2021/03/30/20/ThesisHydroponicSensorDeliveryStream-1-2021-03-30-20-24-22-2d6554d5-3cbf-4381-b1ff-aa858aa7e740\n",
      "Load from cache: TemperatureAndHumidity2021/03/30/20/ThesisHydroponicSensorDeliveryStream-1-2021-03-30-20-39-33-fd03ccf5-2899-4b7a-b41e-672e77f3888c\n",
      "Load from cache: TemperatureAndHumidity2021/03/30/20/ThesisHydroponicSensorDeliveryStream-1-2021-03-30-20-54-42-6793f40b-8440-4a1e-bea6-31da5888410e\n",
      "Load from cache: TemperatureAndHumidity2021/03/30/21/ThesisHydroponicSensorDeliveryStream-1-2021-03-30-21-09-47-27826ace-79d2-49d5-b2ce-5ed8703910d5\n",
      "Load from cache: TemperatureAndHumidity2021/03/30/21/ThesisHydroponicSensorDeliveryStream-1-2021-03-30-21-24-55-1aa5afdf-a494-4204-a8f1-a274ba475731\n",
      "Load from cache: TemperatureAndHumidity2021/03/30/21/ThesisHydroponicSensorDeliveryStream-1-2021-03-30-21-40-03-c525ddf8-dce0-4f13-9e76-47fc9372a874\n",
      "Load from cache: TemperatureAndHumidity2021/03/30/21/ThesisHydroponicSensorDeliveryStream-1-2021-03-30-21-55-14-aaf03887-7686-4f51-b756-41f332926c75\n",
      "Load from cache: TemperatureAndHumidity2021/03/30/22/ThesisHydroponicSensorDeliveryStream-1-2021-03-30-22-10-21-a46b72a6-ff3d-4299-b9a0-733beda3cba4\n",
      "Load from cache: TemperatureAndHumidity2021/03/30/22/ThesisHydroponicSensorDeliveryStream-1-2021-03-30-22-25-25-8f158a2b-d6a2-499a-839c-277928c6a35a\n",
      "Load from cache: TemperatureAndHumidity2021/03/30/22/ThesisHydroponicSensorDeliveryStream-1-2021-03-30-22-40-34-a72491e2-1d61-4d4e-ad30-2609fe1337c6\n",
      "Load from cache: TemperatureAndHumidity2021/03/30/22/ThesisHydroponicSensorDeliveryStream-1-2021-03-30-22-55-40-daf37338-c13d-4bde-b638-b96535ea230e\n",
      "Load from cache: TemperatureAndHumidity2021/03/30/23/ThesisHydroponicSensorDeliveryStream-1-2021-03-30-23-10-44-8c54ba69-97df-4834-b987-b7ac3bb8b847\n",
      "Load from cache: TemperatureAndHumidity2021/03/30/23/ThesisHydroponicSensorDeliveryStream-1-2021-03-30-23-25-49-2bb60d9e-941e-4024-b732-b8242a36045f\n",
      "Load from cache: TemperatureAndHumidity2021/03/30/23/ThesisHydroponicSensorDeliveryStream-1-2021-03-30-23-40-55-00277c6f-5426-467c-9e83-46231d0b6ce0\n",
      "Load from cache: TemperatureAndHumidity2021/03/30/23/ThesisHydroponicSensorDeliveryStream-1-2021-03-30-23-56-00-b7330a68-4294-4dc0-b372-6c4d1c695d89\n",
      "Load from cache: TemperatureAndHumidity2021/03/31/00/ThesisHydroponicSensorDeliveryStream-1-2021-03-31-00-11-05-a8901ff2-f9ba-4a90-9d70-d04c4c850c6d\n",
      "Load from cache: TemperatureAndHumidity2021/03/31/00/ThesisHydroponicSensorDeliveryStream-1-2021-03-31-00-26-10-37fa6f96-463e-489e-8f10-94e5a0fdcabc\n",
      "Load from cache: TemperatureAndHumidity2021/03/31/00/ThesisHydroponicSensorDeliveryStream-1-2021-03-31-00-41-20-0af49be6-ae68-4518-b71e-2481f345008f\n",
      "Load from cache: TemperatureAndHumidity2021/03/31/00/ThesisHydroponicSensorDeliveryStream-1-2021-03-31-00-56-23-05669627-9b8e-4ae0-9f76-c5efd0364599\n",
      "Load from cache: TemperatureAndHumidity2021/03/31/01/ThesisHydroponicSensorDeliveryStream-1-2021-03-31-01-11-29-bd56ecaf-0577-4d12-b0a8-43d92dca7f00\n",
      "Load from cache: TemperatureAndHumidity2021/03/31/01/ThesisHydroponicSensorDeliveryStream-1-2021-03-31-01-26-34-001d6886-4215-44a9-9fde-907c43e06d47\n",
      "Load from cache: TemperatureAndHumidity2021/03/31/01/ThesisHydroponicSensorDeliveryStream-1-2021-03-31-01-41-42-7b8eb675-86a7-4df8-a6b8-1da3dda14409\n",
      "Load from cache: TemperatureAndHumidity2021/03/31/01/ThesisHydroponicSensorDeliveryStream-1-2021-03-31-01-56-49-d0b9f800-de6b-4c43-9a86-2e1cd5d256c9\n",
      "Load from cache: TemperatureAndHumidity2021/03/31/02/ThesisHydroponicSensorDeliveryStream-1-2021-03-31-02-11-52-c5a819b2-1b97-429a-ad15-cde189cdc7e1\n",
      "Load from cache: TemperatureAndHumidity2021/03/31/02/ThesisHydroponicSensorDeliveryStream-1-2021-03-31-02-26-57-a9cba129-5176-430b-9f87-ae9743d2744f\n",
      "Load from cache: TemperatureAndHumidity2021/03/31/02/ThesisHydroponicSensorDeliveryStream-1-2021-03-31-02-42-02-cddf073f-44ad-41ff-9154-836c028f8f5a\n",
      "Load from cache: TemperatureAndHumidity2021/03/31/02/ThesisHydroponicSensorDeliveryStream-1-2021-03-31-02-57-05-2970a293-7eb6-433c-8ce7-b26da5c20562\n",
      "Load from cache: TemperatureAndHumidity2021/03/31/03/ThesisHydroponicSensorDeliveryStream-1-2021-03-31-03-12-08-48a60387-e2f1-46a7-952c-f7d92ec566b8\n",
      "Load from cache: TemperatureAndHumidity2021/03/31/03/ThesisHydroponicSensorDeliveryStream-1-2021-03-31-03-27-16-f2fb3d29-52cb-400f-bef8-3615e35dc2b8\n",
      "Load from cache: TemperatureAndHumidity2021/03/31/03/ThesisHydroponicSensorDeliveryStream-1-2021-03-31-03-42-20-3364af83-36e7-4d7a-9366-796a78a80b0d\n",
      "Load from cache: TemperatureAndHumidity2021/03/31/03/ThesisHydroponicSensorDeliveryStream-1-2021-03-31-03-57-26-2351dfc9-9d61-4bef-8bbe-d67fa4dd6369\n",
      "Load from cache: TemperatureAndHumidity2021/03/31/04/ThesisHydroponicSensorDeliveryStream-1-2021-03-31-04-12-28-f782e1e0-f4f5-4e4a-8d22-71352038a520\n",
      "Load from cache: TemperatureAndHumidity2021/03/31/04/ThesisHydroponicSensorDeliveryStream-1-2021-03-31-04-27-31-c1fcb998-b3d4-4234-bc35-19587aa4e899\n",
      "Load from cache: TemperatureAndHumidity2021/03/31/04/ThesisHydroponicSensorDeliveryStream-1-2021-03-31-04-42-41-a5456828-2690-4139-bfbe-984a12971748\n",
      "Load from cache: TemperatureAndHumidity2021/03/31/04/ThesisHydroponicSensorDeliveryStream-1-2021-03-31-04-57-44-68cac744-4722-4699-ac53-2a0978c175ff\n",
      "Load from cache: TemperatureAndHumidity2021/03/31/05/ThesisHydroponicSensorDeliveryStream-1-2021-03-31-05-12-50-334286d9-1eaa-44be-8f2a-b5567ac30587\n",
      "Load from cache: TemperatureAndHumidity2021/03/31/05/ThesisHydroponicSensorDeliveryStream-1-2021-03-31-05-27-57-84874d13-d156-4300-98fb-68bc7157862f\n",
      "Load from cache: TemperatureAndHumidity2021/03/31/05/ThesisHydroponicSensorDeliveryStream-1-2021-03-31-05-43-03-66fed756-3106-4b9c-b5bf-e62dc48ebfe3\n",
      "Load from cache: TemperatureAndHumidity2021/03/31/05/ThesisHydroponicSensorDeliveryStream-1-2021-03-31-05-58-10-1b5de0ef-9121-431b-aab4-f63c82db9fe0\n",
      "Load from cache: TemperatureAndHumidity2021/03/31/06/ThesisHydroponicSensorDeliveryStream-1-2021-03-31-06-13-15-69345d92-77ba-4fc6-a77a-cfd2ae04b67c\n",
      "Load from cache: TemperatureAndHumidity2021/03/31/06/ThesisHydroponicSensorDeliveryStream-1-2021-03-31-06-28-19-c688ed30-4714-4379-8b26-e1af91a63287\n",
      "Load from cache: TemperatureAndHumidity2021/03/31/06/ThesisHydroponicSensorDeliveryStream-1-2021-03-31-06-43-27-5a54e017-9c16-47be-8cd9-e4c9eb8a910a\n",
      "Load from cache: TemperatureAndHumidity2021/03/31/06/ThesisHydroponicSensorDeliveryStream-1-2021-03-31-06-58-34-63443efd-66fd-4cf8-88a4-38934754c191\n",
      "Load from cache: TemperatureAndHumidity2021/03/31/07/ThesisHydroponicSensorDeliveryStream-1-2021-03-31-07-13-42-857d164c-af35-41f2-bb1f-fcba52d70b64\n",
      "Load from cache: TemperatureAndHumidity2021/03/31/07/ThesisHydroponicSensorDeliveryStream-1-2021-03-31-07-28-53-78c721f1-d3ed-4a9e-aaaf-4b2479c9cffd\n",
      "Load from cache: TemperatureAndHumidity2021/03/31/07/ThesisHydroponicSensorDeliveryStream-1-2021-03-31-07-44-05-56b5ef9b-8f1a-4c10-8ba5-94ed64459cd5\n",
      "Load from cache: TemperatureAndHumidity2021/03/31/07/ThesisHydroponicSensorDeliveryStream-1-2021-03-31-07-59-10-6863ffb0-5a6f-4aaf-a245-37a8a3c6998e\n"
     ]
    }
   ],
   "source": [
    "# Fetch existing data or load fresh data.\n",
    "# Remove redundancy and null.\n",
    "#files = s3_client.list_objects(Bucket=s3_bucket_name, Prefix=s3_bucket_prefix)['Contents']\n",
    "files = [{'Key': '/'.join(f.split('\\\\')[1:])} for f in glob.glob('.cache/**/**/**/***/*')]\n",
    "parsed_sensor_values = []\n",
    "for file in files:\n",
    "    if False: #not os.path.isfile('.cache/' + file['Key']) or (datetime.now() - datetime.fromtimestamp(os.path.getctime('.cache/' + file['Key']))).days > 31:\n",
    "        print(\"Fetching fresh file from S3:\", file['Key'])\n",
    "        if os.path.isfile('.cache/' + file['Key']):\n",
    "            os.unlink('.cache/' + file['Key'])\n",
    "        s3_object = s3_client.get_object(Bucket=s3_bucket_name, Key= file['Key'])\n",
    "        raw_sensor_values = s3_object['Body'].read().decode()\n",
    "        clean_sensor_values = re.sub(\",+\", \",\", raw_sensor_values)\n",
    "        sensor_values = json.loads(\"[\" + clean_sensor_values.strip(',') + \"]\")\n",
    "    else:\n",
    "        print(\"Load from cache:\", file['Key'])\n",
    "        with open('.cache/' + file['Key']) as f:\n",
    "            sensor_values = json.load(f)\n",
    "    parsed_sensor_values += sensor_values\n",
    "    os.makedirs('.cache/' + os.path.dirname(file['Key']), exist_ok=True)\n",
    "    with open('.cache/' + file['Key'], 'w') as f:\n",
    "        json.dump(sensor_values, f)"
   ]
  },
  {
   "source": [
    "## Data preparation"
   ],
   "cell_type": "markdown",
   "metadata": {}
  },
  {
   "cell_type": "code",
   "execution_count": 4,
   "metadata": {},
   "outputs": [],
   "source": [
    "df = pd.DataFrame(parsed_sensor_values)\n",
    "df['temperature'] = df['temperature'].astype(float)\n",
    "df['humidity'] = df['humidity'].astype(float)\n",
    "df['datetime'] = pd.to_datetime(df['datetime'])\n",
    "df.sort_values('datetime', ascending=True, inplace=True)"
   ]
  },
  {
   "cell_type": "code",
   "execution_count": 5,
   "metadata": {},
   "outputs": [
    {
     "output_type": "stream",
     "name": "stdout",
     "text": [
      "Number of rows and columns: (91774, 4)\n"
     ]
    },
    {
     "output_type": "execute_result",
     "data": {
      "text/plain": [
       "         sensor_type  temperature  humidity            datetime\n",
       "0  hydroponic sensor         14.0      38.0 2021-02-26 08:51:37\n",
       "1  hydroponic sensor         15.0      36.0 2021-02-26 08:51:43\n",
       "2  hydroponic sensor         15.0      36.0 2021-02-26 08:51:48\n",
       "3  hydroponic sensor         15.0      36.0 2021-02-26 08:51:53\n",
       "4  hydroponic sensor         15.0      35.0 2021-02-26 08:51:58"
      ],
      "text/html": "<div>\n<style scoped>\n    .dataframe tbody tr th:only-of-type {\n        vertical-align: middle;\n    }\n\n    .dataframe tbody tr th {\n        vertical-align: top;\n    }\n\n    .dataframe thead th {\n        text-align: right;\n    }\n</style>\n<table border=\"1\" class=\"dataframe\">\n  <thead>\n    <tr style=\"text-align: right;\">\n      <th></th>\n      <th>sensor_type</th>\n      <th>temperature</th>\n      <th>humidity</th>\n      <th>datetime</th>\n    </tr>\n  </thead>\n  <tbody>\n    <tr>\n      <th>0</th>\n      <td>hydroponic sensor</td>\n      <td>14.0</td>\n      <td>38.0</td>\n      <td>2021-02-26 08:51:37</td>\n    </tr>\n    <tr>\n      <th>1</th>\n      <td>hydroponic sensor</td>\n      <td>15.0</td>\n      <td>36.0</td>\n      <td>2021-02-26 08:51:43</td>\n    </tr>\n    <tr>\n      <th>2</th>\n      <td>hydroponic sensor</td>\n      <td>15.0</td>\n      <td>36.0</td>\n      <td>2021-02-26 08:51:48</td>\n    </tr>\n    <tr>\n      <th>3</th>\n      <td>hydroponic sensor</td>\n      <td>15.0</td>\n      <td>36.0</td>\n      <td>2021-02-26 08:51:53</td>\n    </tr>\n    <tr>\n      <th>4</th>\n      <td>hydroponic sensor</td>\n      <td>15.0</td>\n      <td>35.0</td>\n      <td>2021-02-26 08:51:58</td>\n    </tr>\n  </tbody>\n</table>\n</div>"
     },
     "metadata": {},
     "execution_count": 5
    }
   ],
   "source": [
    "print('Number of rows and columns:', df.shape)\n",
    "df.head(5)"
   ]
  },
  {
   "cell_type": "code",
   "execution_count": 6,
   "metadata": {},
   "outputs": [
    {
     "output_type": "stream",
     "name": "stdout",
     "text": [
      "(775, 2)\n                     temperature   humidity\ndatetime                                   \n2021-02-26 08:00:00    20.978495  27.376344\n2021-02-26 09:00:00    23.768421  24.040602\n2021-02-26 10:00:00    25.008850  30.794690\n2021-02-26 11:00:00    22.839286  31.142857\n2021-02-26 12:00:00    23.854545  29.054545\n...                          ...        ...\n2021-03-31 06:00:00    24.000000  20.067039\n2021-03-31 07:00:00    24.000000  20.352273\n2021-03-31 08:00:00    24.331461  20.067416\n2021-03-31 09:00:00    25.084746  20.084746\n2021-03-31 10:00:00    25.666667  20.666667\n\n[775 rows x 2 columns]\n"
     ]
    }
   ],
   "source": [
    "# resample data to hourly\n",
    "hourly_groups = df.set_index('datetime').resample('1H')\n",
    "# Calulating the mean will simply eliminate the data outliers\n",
    "hourly_data = hourly_groups.mean()\n",
    "hourly_data.dropna(inplace=True)\n",
    "# summarize\n",
    "print(hourly_data.shape)\n",
    "print(hourly_data)\n",
    "# save\n",
    "hourly_data.to_csv('temperature_humidity_hourly.csv')"
   ]
  },
  {
   "cell_type": "code",
   "execution_count": 7,
   "metadata": {},
   "outputs": [],
   "source": [
    "# split a univariate dataset into train/test sets\n",
    "def split_dataset(data, interval_size):\n",
    "    temp_a = int((len(data)*0.8)/interval_size)\n",
    "    split_index = temp_a*interval_size\n",
    "    temp_b = int(len(data)/interval_size)\n",
    "    end_index = temp_b*interval_size\n",
    "    # split into standard weeks(i.e. divisible by interval_size)\n",
    "    train, test = data[:split_index], data[split_index:end_index]\n",
    "    # restructure into windows of weekly data\n",
    "    train = array(split(train, len(train)/interval_size))\n",
    "    test = array(split(test, len(test)/interval_size))\n",
    "    return train, test"
   ]
  },
  {
   "cell_type": "code",
   "execution_count": 8,
   "metadata": {},
   "outputs": [],
   "source": [
    "# evaluate one or more weekly forecasts against expected values\n",
    "def evaluate_forecasts(actual, predicted):\n",
    "    scores = list()\n",
    "    # calculate an RMSE score for each day\n",
    "    for i in range(actual.shape[1]):\n",
    "        # calculate mse\n",
    "        mse = mean_squared_error(actual[:, i], predicted[:, i])\n",
    "        # calculate rmse\n",
    "        rmse = sqrt(mse)\n",
    "        # store\n",
    "        scores.append(rmse)\n",
    "    # calculate overall RMSE\n",
    "    s = 0\n",
    "    for row in range(actual.shape[0]):\n",
    "        for col in range(actual.shape[1]):\n",
    "            s += (actual[row, col] - predicted[row, col])**2\n",
    "    score = sqrt(s / (actual.shape[0] * actual.shape[1]))\n",
    "    return score, scores"
   ]
  },
  {
   "cell_type": "code",
   "execution_count": 9,
   "metadata": {},
   "outputs": [],
   "source": [
    "# summarize scores\n",
    "def summarize_scores(name, score, scores):\n",
    "    s_scores = ', '.join(['%.1f' % s for s in scores])\n",
    "    print('%s: [%.3f] %s' % (name, score, s_scores))"
   ]
  },
  {
   "cell_type": "code",
   "execution_count": 10,
   "metadata": {},
   "outputs": [],
   "source": [
    "# convert history into inputs and outputs\n",
    "def to_supervised(train, n_input, n_out):\n",
    "\t# flatten data\n",
    "\tdata = train.reshape((train.shape[0]*train.shape[1], train.shape[2]))\n",
    "\tX, y = list(), list()\n",
    "\tin_start = 0\n",
    "\t# step over the entire history one time step at a time\n",
    "\tfor _ in range(len(data)):\n",
    "\t\t# define the end of the input sequence\n",
    "\t\tin_end = in_start + n_input\n",
    "\t\tout_end = in_end + n_out\n",
    "\t\t# ensure we have enough data for this instance\n",
    "\t\tif out_end <= len(data):\n",
    "\t\t\tx_input = data[in_start:in_end, 0]\n",
    "\t\t\tx_input = x_input.reshape((len(x_input), 1))\n",
    "\t\t\tX.append(x_input)\n",
    "\t\t\ty.append(data[in_end:out_end, 0])\n",
    "\t\t# move along one time step\n",
    "\t\tin_start += 1\n",
    "\treturn array(X), array(y)"
   ]
  },
  {
   "cell_type": "code",
   "execution_count": 11,
   "metadata": {},
   "outputs": [],
   "source": [
    "# train the model\n",
    "def build_model(hp):\n",
    "\t# define hyperparameters parameters\n",
    "\tinterval_size = hp.Int('interval_size', min_value=3, max_value=12, step=2)\n",
    "\tnum_layers = hp.Int('num_layers', 1, 7, step=2, default=3)\n",
    "\tactivation = hp.Choice(\"activation\", [\"sigmoid\", \"relu\", \"tanh\"], default=\"relu\")\n",
    "\thiddent_units = hp.Choice('hiddent_units', [50, 100, 150, 200], default=150)\n",
    "\t\n",
    "\t# define model\n",
    "\tmodel = Sequential()\n",
    "\t# we want sigmoid in the first layer so that we convert the data between 0 and 1\n",
    "\tmodel.add(GRU(hiddent_units, activation='sigmoid', input_shape=(interval_size, 1), return_sequences=num_layers > 1))\n",
    "\tfor i in range(num_layers - 2):\n",
    "\t\tmodel.add(GRU(hiddent_units, activation=activation, return_sequences=True, dropout=hp.Float(\"dropout\", 0.0 , 0.8 , 0.2, default=0.2)))\n",
    "\tif num_layers > 1:\n",
    "\t\tmodel.add(GRU(hiddent_units, activation=activation))\n",
    "\tmodel.add(Dense(interval_size))\n",
    "\tmodel.compile(loss='mse', optimizer='adam')\n",
    "\treturn model"
   ]
  },
  {
   "cell_type": "code",
   "execution_count": 12,
   "metadata": {},
   "outputs": [],
   "source": [
    "# make a forecast\n",
    "def forecast(model, history, n_input):\n",
    "\t# flatten data\n",
    "\tdata = array(history)\n",
    "\tdata = data.reshape((data.shape[0]*data.shape[1], data.shape[2]))\n",
    "\t# retrieve last observations for input data\n",
    "\tinput_x = data[-n_input:, 0]\n",
    "\t# reshape into [1, n_input, 1]\n",
    "\tinput_x = input_x.reshape((1, len(input_x), 1))\n",
    "\t# forecast the next week\n",
    "\tyhat = model.predict(input_x, verbose=0)\n",
    "\t# we only want the vector forecast\n",
    "\tyhat = yhat[0]\n",
    "\treturn yhat"
   ]
  },
  {
   "cell_type": "code",
   "execution_count": 13,
   "metadata": {},
   "outputs": [],
   "source": [
    "# evaluate a single model\n",
    "def evaluate_model(train, test, n_input, model):\n",
    "\t# history is a list of weekly data\n",
    "\thistory = [x for x in train]\n",
    "\t# walk-forward validation over each week\n",
    "\tpredictions = list()\n",
    "\tfor i in range(len(test)):\n",
    "\t\t# predict the week\n",
    "\t\tyhat_sequence = forecast(model, history, n_input)\n",
    "\t\t# store the predictions\n",
    "\t\tpredictions.append(yhat_sequence)\n",
    "\t\t# get real observation and add to history for predicting the next week\n",
    "\t\thistory.append(test[i, :])\n",
    "\t# evaluate predictions days for each week\n",
    "\tpredictions = array(predictions)\n",
    "\tscore, scores = evaluate_forecasts(test[:, :, 0], predictions)\n",
    "\treturn score, scores, predictions"
   ]
  },
  {
   "source": [
    "# load the new file\n",
    "dataset = read_csv('temperature_humidity_hourly.csv', header=0, infer_datetime_format=True, parse_dates=['datetime'], index_col=['datetime'])\n",
    "\n",
    "def tuning_build_model(hp):\n",
    "    interval_size = hp.Int('interval_size', min_value=3, max_value=12, step=2)\n",
    "    return build_model(hp)\n",
    "\n",
    "# We create our own tuning class to tune batch size, epochs, interval size, \n",
    "class MyTuner(kt.Tuner):\n",
    "    def __init__(self, **kwargs):\n",
    "        super().__init__(**kwargs)\n",
    "\n",
    "    def run_trial(self, trial, train_ds, **kwargs):\n",
    "        hp = trial.hyperparameters\n",
    "        batch_size = hp.Choice(\"batch_size\", [0, 32, 64, 128, 256, 512], default=32)\n",
    "        # When training with hyperparameters change the epoch size to 50 <------------------\n",
    "        epochs = hp.Choice(\"epochs\", [10])\n",
    "        interval_size = hp.Int('interval_size', min_value=3, max_value=12, step=2)\n",
    "        train, test = split_dataset(train_ds, interval_size)\n",
    "        x,y=to_supervised(train, interval_size, interval_size)\n",
    "        callback = tf.keras.callbacks.EarlyStopping(monitor='loss', patience=3)\n",
    "        rmse_scores =  []\n",
    "        for i in range(5):\n",
    "            model = self.hypermodel.build(trial.hyperparameters)\n",
    "            model.fit(x, y, epochs=epochs, batch_size=batch_size, verbose=False, callbacks=[callback])\n",
    "            score, scores, predictions = evaluate_model(train, test, interval_size, model)\n",
    "            rmse_scores.append(score)\n",
    "        mean_rmse_score = sum(rmse_scores) / len(rmse_scores)\n",
    "        variance_rmse_score = (sum([(mean_rmse_score-current_score)**2 for current_score in rmse_scores]))/len(rmse_scores)\n",
    "        std_dev_rmse_score = sqrt(variance_rmse_score)\n",
    "        self.oracle.update_trial(trial.trial_id, { 'score': mean_rmse_score, 'std': std_dev_rmse_score })"
   ],
   "cell_type": "code",
   "metadata": {},
   "execution_count": 14,
   "outputs": []
  },
  {
   "source": [
    "# When training with hyperparameters change the max_trails to min 72000 <------------------\n",
    "tuner = MyTuner(\n",
    "    oracle=kt.oracles.Hyperband(\n",
    "          objective=kt.Objective('score', 'min'),\n",
    "          max_epochs=50\n",
    "    ),\n",
    "    hypermodel=tuning_build_model,\n",
    "    directory='forecasting_evaluation',\n",
    "    project_name='gru', overwrite=True\n",
    ")\n",
    "tuner.search_space_summary()\n",
    "tuner.search(train_ds=dataset.values)\n",
    "tuner.results_summary()"
   ],
   "cell_type": "code",
   "metadata": {},
   "execution_count": 15,
   "outputs": [
    {
     "output_type": "stream",
     "name": "stdout",
     "text": [
      "Trial 1 Complete [00h 00m 19s]\nscore: 0.9487481089842162\n\nBest score So Far: 0.9487481089842162\nTotal elapsed time: 00h 00m 19s\n\nSearch: Running Trial #2\n\nHyperparameter    |Value             |Best Value So Far \ninterval_size     |7                 |3                 \nnum_layers        |1                 |1                 \nactivation        |relu              |relu              \nhiddent_units     |200               |200               \ndropout           |0.4               |0.2               \nbatch_size        |512               |32                \nepochs            |10                |10                \ntuner/epochs      |2                 |2                 \ntuner/initial_e...|0                 |0                 \ntuner/bracket     |3                 |3                 \ntuner/round       |0                 |0                 \n\n"
     ]
    },
    {
     "output_type": "error",
     "ename": "KeyboardInterrupt",
     "evalue": "",
     "traceback": [
      "\u001b[1;31m---------------------------------------------------------------------------\u001b[0m",
      "\u001b[1;31mKeyboardInterrupt\u001b[0m                         Traceback (most recent call last)",
      "\u001b[1;32m<ipython-input-15-1299161d652a>\u001b[0m in \u001b[0;36m<module>\u001b[1;34m\u001b[0m\n\u001b[0;32m     10\u001b[0m )\n\u001b[0;32m     11\u001b[0m \u001b[0mtuner\u001b[0m\u001b[1;33m.\u001b[0m\u001b[0msearch_space_summary\u001b[0m\u001b[1;33m(\u001b[0m\u001b[1;33m)\u001b[0m\u001b[1;33m\u001b[0m\u001b[1;33m\u001b[0m\u001b[0m\n\u001b[1;32m---> 12\u001b[1;33m \u001b[0mtuner\u001b[0m\u001b[1;33m.\u001b[0m\u001b[0msearch\u001b[0m\u001b[1;33m(\u001b[0m\u001b[0mtrain_ds\u001b[0m\u001b[1;33m=\u001b[0m\u001b[0mdataset\u001b[0m\u001b[1;33m.\u001b[0m\u001b[0mvalues\u001b[0m\u001b[1;33m)\u001b[0m\u001b[1;33m\u001b[0m\u001b[1;33m\u001b[0m\u001b[0m\n\u001b[0m\u001b[0;32m     13\u001b[0m \u001b[0mtuner\u001b[0m\u001b[1;33m.\u001b[0m\u001b[0mresults_summary\u001b[0m\u001b[1;33m(\u001b[0m\u001b[1;33m)\u001b[0m\u001b[1;33m\u001b[0m\u001b[1;33m\u001b[0m\u001b[0m\n",
      "\u001b[1;32m~\\Anaconda3\\envs\\DT005A Final Project\\lib\\site-packages\\kerastuner\\engine\\base_tuner.py\u001b[0m in \u001b[0;36msearch\u001b[1;34m(self, *fit_args, **fit_kwargs)\u001b[0m\n\u001b[0;32m    129\u001b[0m \u001b[1;33m\u001b[0m\u001b[0m\n\u001b[0;32m    130\u001b[0m             \u001b[0mself\u001b[0m\u001b[1;33m.\u001b[0m\u001b[0mon_trial_begin\u001b[0m\u001b[1;33m(\u001b[0m\u001b[0mtrial\u001b[0m\u001b[1;33m)\u001b[0m\u001b[1;33m\u001b[0m\u001b[1;33m\u001b[0m\u001b[0m\n\u001b[1;32m--> 131\u001b[1;33m             \u001b[0mself\u001b[0m\u001b[1;33m.\u001b[0m\u001b[0mrun_trial\u001b[0m\u001b[1;33m(\u001b[0m\u001b[0mtrial\u001b[0m\u001b[1;33m,\u001b[0m \u001b[1;33m*\u001b[0m\u001b[0mfit_args\u001b[0m\u001b[1;33m,\u001b[0m \u001b[1;33m**\u001b[0m\u001b[0mfit_kwargs\u001b[0m\u001b[1;33m)\u001b[0m\u001b[1;33m\u001b[0m\u001b[1;33m\u001b[0m\u001b[0m\n\u001b[0m\u001b[0;32m    132\u001b[0m             \u001b[0mself\u001b[0m\u001b[1;33m.\u001b[0m\u001b[0mon_trial_end\u001b[0m\u001b[1;33m(\u001b[0m\u001b[0mtrial\u001b[0m\u001b[1;33m)\u001b[0m\u001b[1;33m\u001b[0m\u001b[1;33m\u001b[0m\u001b[0m\n\u001b[0;32m    133\u001b[0m         \u001b[0mself\u001b[0m\u001b[1;33m.\u001b[0m\u001b[0mon_search_end\u001b[0m\u001b[1;33m(\u001b[0m\u001b[1;33m)\u001b[0m\u001b[1;33m\u001b[0m\u001b[1;33m\u001b[0m\u001b[0m\n",
      "\u001b[1;32m<ipython-input-14-12892588c78f>\u001b[0m in \u001b[0;36mrun_trial\u001b[1;34m(self, trial, train_ds, **kwargs)\u001b[0m\n\u001b[0;32m     23\u001b[0m         \u001b[1;32mfor\u001b[0m \u001b[0mi\u001b[0m \u001b[1;32min\u001b[0m \u001b[0mrange\u001b[0m\u001b[1;33m(\u001b[0m\u001b[1;36m5\u001b[0m\u001b[1;33m)\u001b[0m\u001b[1;33m:\u001b[0m\u001b[1;33m\u001b[0m\u001b[1;33m\u001b[0m\u001b[0m\n\u001b[0;32m     24\u001b[0m             \u001b[0mmodel\u001b[0m \u001b[1;33m=\u001b[0m \u001b[0mself\u001b[0m\u001b[1;33m.\u001b[0m\u001b[0mhypermodel\u001b[0m\u001b[1;33m.\u001b[0m\u001b[0mbuild\u001b[0m\u001b[1;33m(\u001b[0m\u001b[0mtrial\u001b[0m\u001b[1;33m.\u001b[0m\u001b[0mhyperparameters\u001b[0m\u001b[1;33m)\u001b[0m\u001b[1;33m\u001b[0m\u001b[1;33m\u001b[0m\u001b[0m\n\u001b[1;32m---> 25\u001b[1;33m             \u001b[0mmodel\u001b[0m\u001b[1;33m.\u001b[0m\u001b[0mfit\u001b[0m\u001b[1;33m(\u001b[0m\u001b[0mx\u001b[0m\u001b[1;33m,\u001b[0m \u001b[0my\u001b[0m\u001b[1;33m,\u001b[0m \u001b[0mepochs\u001b[0m\u001b[1;33m=\u001b[0m\u001b[0mepochs\u001b[0m\u001b[1;33m,\u001b[0m \u001b[0mbatch_size\u001b[0m\u001b[1;33m=\u001b[0m\u001b[0mbatch_size\u001b[0m\u001b[1;33m,\u001b[0m \u001b[0mverbose\u001b[0m\u001b[1;33m=\u001b[0m\u001b[1;32mFalse\u001b[0m\u001b[1;33m,\u001b[0m \u001b[0mcallbacks\u001b[0m\u001b[1;33m=\u001b[0m\u001b[1;33m[\u001b[0m\u001b[0mcallback\u001b[0m\u001b[1;33m]\u001b[0m\u001b[1;33m)\u001b[0m\u001b[1;33m\u001b[0m\u001b[1;33m\u001b[0m\u001b[0m\n\u001b[0m\u001b[0;32m     26\u001b[0m             \u001b[0mscore\u001b[0m\u001b[1;33m,\u001b[0m \u001b[0mscores\u001b[0m\u001b[1;33m,\u001b[0m \u001b[0mpredictions\u001b[0m \u001b[1;33m=\u001b[0m \u001b[0mevaluate_model\u001b[0m\u001b[1;33m(\u001b[0m\u001b[0mtrain\u001b[0m\u001b[1;33m,\u001b[0m \u001b[0mtest\u001b[0m\u001b[1;33m,\u001b[0m \u001b[0minterval_size\u001b[0m\u001b[1;33m,\u001b[0m \u001b[0mmodel\u001b[0m\u001b[1;33m)\u001b[0m\u001b[1;33m\u001b[0m\u001b[1;33m\u001b[0m\u001b[0m\n\u001b[0;32m     27\u001b[0m             \u001b[0mrmse_scores\u001b[0m\u001b[1;33m.\u001b[0m\u001b[0mappend\u001b[0m\u001b[1;33m(\u001b[0m\u001b[0mscore\u001b[0m\u001b[1;33m)\u001b[0m\u001b[1;33m\u001b[0m\u001b[1;33m\u001b[0m\u001b[0m\n",
      "\u001b[1;32m~\\Anaconda3\\envs\\DT005A Final Project\\lib\\site-packages\\tensorflow\\python\\keras\\engine\\training.py\u001b[0m in \u001b[0;36m_method_wrapper\u001b[1;34m(self, *args, **kwargs)\u001b[0m\n\u001b[0;32m    106\u001b[0m   \u001b[1;32mdef\u001b[0m \u001b[0m_method_wrapper\u001b[0m\u001b[1;33m(\u001b[0m\u001b[0mself\u001b[0m\u001b[1;33m,\u001b[0m \u001b[1;33m*\u001b[0m\u001b[0margs\u001b[0m\u001b[1;33m,\u001b[0m \u001b[1;33m**\u001b[0m\u001b[0mkwargs\u001b[0m\u001b[1;33m)\u001b[0m\u001b[1;33m:\u001b[0m\u001b[1;33m\u001b[0m\u001b[1;33m\u001b[0m\u001b[0m\n\u001b[0;32m    107\u001b[0m     \u001b[1;32mif\u001b[0m \u001b[1;32mnot\u001b[0m \u001b[0mself\u001b[0m\u001b[1;33m.\u001b[0m\u001b[0m_in_multi_worker_mode\u001b[0m\u001b[1;33m(\u001b[0m\u001b[1;33m)\u001b[0m\u001b[1;33m:\u001b[0m  \u001b[1;31m# pylint: disable=protected-access\u001b[0m\u001b[1;33m\u001b[0m\u001b[1;33m\u001b[0m\u001b[0m\n\u001b[1;32m--> 108\u001b[1;33m       \u001b[1;32mreturn\u001b[0m \u001b[0mmethod\u001b[0m\u001b[1;33m(\u001b[0m\u001b[0mself\u001b[0m\u001b[1;33m,\u001b[0m \u001b[1;33m*\u001b[0m\u001b[0margs\u001b[0m\u001b[1;33m,\u001b[0m \u001b[1;33m**\u001b[0m\u001b[0mkwargs\u001b[0m\u001b[1;33m)\u001b[0m\u001b[1;33m\u001b[0m\u001b[1;33m\u001b[0m\u001b[0m\n\u001b[0m\u001b[0;32m    109\u001b[0m \u001b[1;33m\u001b[0m\u001b[0m\n\u001b[0;32m    110\u001b[0m     \u001b[1;31m# Running inside `run_distribute_coordinator` already.\u001b[0m\u001b[1;33m\u001b[0m\u001b[1;33m\u001b[0m\u001b[1;33m\u001b[0m\u001b[0m\n",
      "\u001b[1;32m~\\Anaconda3\\envs\\DT005A Final Project\\lib\\site-packages\\tensorflow\\python\\keras\\engine\\training.py\u001b[0m in \u001b[0;36mfit\u001b[1;34m(self, x, y, batch_size, epochs, verbose, callbacks, validation_split, validation_data, shuffle, class_weight, sample_weight, initial_epoch, steps_per_epoch, validation_steps, validation_batch_size, validation_freq, max_queue_size, workers, use_multiprocessing)\u001b[0m\n\u001b[0;32m   1096\u001b[0m                 batch_size=batch_size):\n\u001b[0;32m   1097\u001b[0m               \u001b[0mcallbacks\u001b[0m\u001b[1;33m.\u001b[0m\u001b[0mon_train_batch_begin\u001b[0m\u001b[1;33m(\u001b[0m\u001b[0mstep\u001b[0m\u001b[1;33m)\u001b[0m\u001b[1;33m\u001b[0m\u001b[1;33m\u001b[0m\u001b[0m\n\u001b[1;32m-> 1098\u001b[1;33m               \u001b[0mtmp_logs\u001b[0m \u001b[1;33m=\u001b[0m \u001b[0mtrain_function\u001b[0m\u001b[1;33m(\u001b[0m\u001b[0miterator\u001b[0m\u001b[1;33m)\u001b[0m\u001b[1;33m\u001b[0m\u001b[1;33m\u001b[0m\u001b[0m\n\u001b[0m\u001b[0;32m   1099\u001b[0m               \u001b[1;32mif\u001b[0m \u001b[0mdata_handler\u001b[0m\u001b[1;33m.\u001b[0m\u001b[0mshould_sync\u001b[0m\u001b[1;33m:\u001b[0m\u001b[1;33m\u001b[0m\u001b[1;33m\u001b[0m\u001b[0m\n\u001b[0;32m   1100\u001b[0m                 \u001b[0mcontext\u001b[0m\u001b[1;33m.\u001b[0m\u001b[0masync_wait\u001b[0m\u001b[1;33m(\u001b[0m\u001b[1;33m)\u001b[0m\u001b[1;33m\u001b[0m\u001b[1;33m\u001b[0m\u001b[0m\n",
      "\u001b[1;32m~\\Anaconda3\\envs\\DT005A Final Project\\lib\\site-packages\\tensorflow\\python\\eager\\def_function.py\u001b[0m in \u001b[0;36m__call__\u001b[1;34m(self, *args, **kwds)\u001b[0m\n\u001b[0;32m    778\u001b[0m       \u001b[1;32melse\u001b[0m\u001b[1;33m:\u001b[0m\u001b[1;33m\u001b[0m\u001b[1;33m\u001b[0m\u001b[0m\n\u001b[0;32m    779\u001b[0m         \u001b[0mcompiler\u001b[0m \u001b[1;33m=\u001b[0m \u001b[1;34m\"nonXla\"\u001b[0m\u001b[1;33m\u001b[0m\u001b[1;33m\u001b[0m\u001b[0m\n\u001b[1;32m--> 780\u001b[1;33m         \u001b[0mresult\u001b[0m \u001b[1;33m=\u001b[0m \u001b[0mself\u001b[0m\u001b[1;33m.\u001b[0m\u001b[0m_call\u001b[0m\u001b[1;33m(\u001b[0m\u001b[1;33m*\u001b[0m\u001b[0margs\u001b[0m\u001b[1;33m,\u001b[0m \u001b[1;33m**\u001b[0m\u001b[0mkwds\u001b[0m\u001b[1;33m)\u001b[0m\u001b[1;33m\u001b[0m\u001b[1;33m\u001b[0m\u001b[0m\n\u001b[0m\u001b[0;32m    781\u001b[0m \u001b[1;33m\u001b[0m\u001b[0m\n\u001b[0;32m    782\u001b[0m       \u001b[0mnew_tracing_count\u001b[0m \u001b[1;33m=\u001b[0m \u001b[0mself\u001b[0m\u001b[1;33m.\u001b[0m\u001b[0m_get_tracing_count\u001b[0m\u001b[1;33m(\u001b[0m\u001b[1;33m)\u001b[0m\u001b[1;33m\u001b[0m\u001b[1;33m\u001b[0m\u001b[0m\n",
      "\u001b[1;32m~\\Anaconda3\\envs\\DT005A Final Project\\lib\\site-packages\\tensorflow\\python\\eager\\def_function.py\u001b[0m in \u001b[0;36m_call\u001b[1;34m(self, *args, **kwds)\u001b[0m\n\u001b[0;32m    805\u001b[0m       \u001b[1;31m# In this case we have created variables on the first call, so we run the\u001b[0m\u001b[1;33m\u001b[0m\u001b[1;33m\u001b[0m\u001b[1;33m\u001b[0m\u001b[0m\n\u001b[0;32m    806\u001b[0m       \u001b[1;31m# defunned version which is guaranteed to never create variables.\u001b[0m\u001b[1;33m\u001b[0m\u001b[1;33m\u001b[0m\u001b[1;33m\u001b[0m\u001b[0m\n\u001b[1;32m--> 807\u001b[1;33m       \u001b[1;32mreturn\u001b[0m \u001b[0mself\u001b[0m\u001b[1;33m.\u001b[0m\u001b[0m_stateless_fn\u001b[0m\u001b[1;33m(\u001b[0m\u001b[1;33m*\u001b[0m\u001b[0margs\u001b[0m\u001b[1;33m,\u001b[0m \u001b[1;33m**\u001b[0m\u001b[0mkwds\u001b[0m\u001b[1;33m)\u001b[0m  \u001b[1;31m# pylint: disable=not-callable\u001b[0m\u001b[1;33m\u001b[0m\u001b[1;33m\u001b[0m\u001b[0m\n\u001b[0m\u001b[0;32m    808\u001b[0m     \u001b[1;32melif\u001b[0m \u001b[0mself\u001b[0m\u001b[1;33m.\u001b[0m\u001b[0m_stateful_fn\u001b[0m \u001b[1;32mis\u001b[0m \u001b[1;32mnot\u001b[0m \u001b[1;32mNone\u001b[0m\u001b[1;33m:\u001b[0m\u001b[1;33m\u001b[0m\u001b[1;33m\u001b[0m\u001b[0m\n\u001b[0;32m    809\u001b[0m       \u001b[1;31m# Release the lock early so that multiple threads can perform the call\u001b[0m\u001b[1;33m\u001b[0m\u001b[1;33m\u001b[0m\u001b[1;33m\u001b[0m\u001b[0m\n",
      "\u001b[1;32m~\\Anaconda3\\envs\\DT005A Final Project\\lib\\site-packages\\tensorflow\\python\\eager\\function.py\u001b[0m in \u001b[0;36m__call__\u001b[1;34m(self, *args, **kwargs)\u001b[0m\n\u001b[0;32m   2827\u001b[0m     \u001b[1;32mwith\u001b[0m \u001b[0mself\u001b[0m\u001b[1;33m.\u001b[0m\u001b[0m_lock\u001b[0m\u001b[1;33m:\u001b[0m\u001b[1;33m\u001b[0m\u001b[1;33m\u001b[0m\u001b[0m\n\u001b[0;32m   2828\u001b[0m       \u001b[0mgraph_function\u001b[0m\u001b[1;33m,\u001b[0m \u001b[0margs\u001b[0m\u001b[1;33m,\u001b[0m \u001b[0mkwargs\u001b[0m \u001b[1;33m=\u001b[0m \u001b[0mself\u001b[0m\u001b[1;33m.\u001b[0m\u001b[0m_maybe_define_function\u001b[0m\u001b[1;33m(\u001b[0m\u001b[0margs\u001b[0m\u001b[1;33m,\u001b[0m \u001b[0mkwargs\u001b[0m\u001b[1;33m)\u001b[0m\u001b[1;33m\u001b[0m\u001b[1;33m\u001b[0m\u001b[0m\n\u001b[1;32m-> 2829\u001b[1;33m     \u001b[1;32mreturn\u001b[0m \u001b[0mgraph_function\u001b[0m\u001b[1;33m.\u001b[0m\u001b[0m_filtered_call\u001b[0m\u001b[1;33m(\u001b[0m\u001b[0margs\u001b[0m\u001b[1;33m,\u001b[0m \u001b[0mkwargs\u001b[0m\u001b[1;33m)\u001b[0m  \u001b[1;31m# pylint: disable=protected-access\u001b[0m\u001b[1;33m\u001b[0m\u001b[1;33m\u001b[0m\u001b[0m\n\u001b[0m\u001b[0;32m   2830\u001b[0m \u001b[1;33m\u001b[0m\u001b[0m\n\u001b[0;32m   2831\u001b[0m   \u001b[1;33m@\u001b[0m\u001b[0mproperty\u001b[0m\u001b[1;33m\u001b[0m\u001b[1;33m\u001b[0m\u001b[0m\n",
      "\u001b[1;32m~\\Anaconda3\\envs\\DT005A Final Project\\lib\\site-packages\\tensorflow\\python\\eager\\function.py\u001b[0m in \u001b[0;36m_filtered_call\u001b[1;34m(self, args, kwargs, cancellation_manager)\u001b[0m\n\u001b[0;32m   1846\u001b[0m                            resource_variable_ops.BaseResourceVariable))],\n\u001b[0;32m   1847\u001b[0m         \u001b[0mcaptured_inputs\u001b[0m\u001b[1;33m=\u001b[0m\u001b[0mself\u001b[0m\u001b[1;33m.\u001b[0m\u001b[0mcaptured_inputs\u001b[0m\u001b[1;33m,\u001b[0m\u001b[1;33m\u001b[0m\u001b[1;33m\u001b[0m\u001b[0m\n\u001b[1;32m-> 1848\u001b[1;33m         cancellation_manager=cancellation_manager)\n\u001b[0m\u001b[0;32m   1849\u001b[0m \u001b[1;33m\u001b[0m\u001b[0m\n\u001b[0;32m   1850\u001b[0m   \u001b[1;32mdef\u001b[0m \u001b[0m_call_flat\u001b[0m\u001b[1;33m(\u001b[0m\u001b[0mself\u001b[0m\u001b[1;33m,\u001b[0m \u001b[0margs\u001b[0m\u001b[1;33m,\u001b[0m \u001b[0mcaptured_inputs\u001b[0m\u001b[1;33m,\u001b[0m \u001b[0mcancellation_manager\u001b[0m\u001b[1;33m=\u001b[0m\u001b[1;32mNone\u001b[0m\u001b[1;33m)\u001b[0m\u001b[1;33m:\u001b[0m\u001b[1;33m\u001b[0m\u001b[1;33m\u001b[0m\u001b[0m\n",
      "\u001b[1;32m~\\Anaconda3\\envs\\DT005A Final Project\\lib\\site-packages\\tensorflow\\python\\eager\\function.py\u001b[0m in \u001b[0;36m_call_flat\u001b[1;34m(self, args, captured_inputs, cancellation_manager)\u001b[0m\n\u001b[0;32m   1922\u001b[0m       \u001b[1;31m# No tape is watching; skip to running the function.\u001b[0m\u001b[1;33m\u001b[0m\u001b[1;33m\u001b[0m\u001b[1;33m\u001b[0m\u001b[0m\n\u001b[0;32m   1923\u001b[0m       return self._build_call_outputs(self._inference_function.call(\n\u001b[1;32m-> 1924\u001b[1;33m           ctx, args, cancellation_manager=cancellation_manager))\n\u001b[0m\u001b[0;32m   1925\u001b[0m     forward_backward = self._select_forward_and_backward_functions(\n\u001b[0;32m   1926\u001b[0m         \u001b[0margs\u001b[0m\u001b[1;33m,\u001b[0m\u001b[1;33m\u001b[0m\u001b[1;33m\u001b[0m\u001b[0m\n",
      "\u001b[1;32m~\\Anaconda3\\envs\\DT005A Final Project\\lib\\site-packages\\tensorflow\\python\\eager\\function.py\u001b[0m in \u001b[0;36mcall\u001b[1;34m(self, ctx, args, cancellation_manager)\u001b[0m\n\u001b[0;32m    548\u001b[0m               \u001b[0minputs\u001b[0m\u001b[1;33m=\u001b[0m\u001b[0margs\u001b[0m\u001b[1;33m,\u001b[0m\u001b[1;33m\u001b[0m\u001b[1;33m\u001b[0m\u001b[0m\n\u001b[0;32m    549\u001b[0m               \u001b[0mattrs\u001b[0m\u001b[1;33m=\u001b[0m\u001b[0mattrs\u001b[0m\u001b[1;33m,\u001b[0m\u001b[1;33m\u001b[0m\u001b[1;33m\u001b[0m\u001b[0m\n\u001b[1;32m--> 550\u001b[1;33m               ctx=ctx)\n\u001b[0m\u001b[0;32m    551\u001b[0m         \u001b[1;32melse\u001b[0m\u001b[1;33m:\u001b[0m\u001b[1;33m\u001b[0m\u001b[1;33m\u001b[0m\u001b[0m\n\u001b[0;32m    552\u001b[0m           outputs = execute.execute_with_cancellation(\n",
      "\u001b[1;32m~\\Anaconda3\\envs\\DT005A Final Project\\lib\\site-packages\\tensorflow\\python\\eager\\execute.py\u001b[0m in \u001b[0;36mquick_execute\u001b[1;34m(op_name, num_outputs, inputs, attrs, ctx, name)\u001b[0m\n\u001b[0;32m     58\u001b[0m     \u001b[0mctx\u001b[0m\u001b[1;33m.\u001b[0m\u001b[0mensure_initialized\u001b[0m\u001b[1;33m(\u001b[0m\u001b[1;33m)\u001b[0m\u001b[1;33m\u001b[0m\u001b[1;33m\u001b[0m\u001b[0m\n\u001b[0;32m     59\u001b[0m     tensors = pywrap_tfe.TFE_Py_Execute(ctx._handle, device_name, op_name,\n\u001b[1;32m---> 60\u001b[1;33m                                         inputs, attrs, num_outputs)\n\u001b[0m\u001b[0;32m     61\u001b[0m   \u001b[1;32mexcept\u001b[0m \u001b[0mcore\u001b[0m\u001b[1;33m.\u001b[0m\u001b[0m_NotOkStatusException\u001b[0m \u001b[1;32mas\u001b[0m \u001b[0me\u001b[0m\u001b[1;33m:\u001b[0m\u001b[1;33m\u001b[0m\u001b[1;33m\u001b[0m\u001b[0m\n\u001b[0;32m     62\u001b[0m     \u001b[1;32mif\u001b[0m \u001b[0mname\u001b[0m \u001b[1;32mis\u001b[0m \u001b[1;32mnot\u001b[0m \u001b[1;32mNone\u001b[0m\u001b[1;33m:\u001b[0m\u001b[1;33m\u001b[0m\u001b[1;33m\u001b[0m\u001b[0m\n",
      "\u001b[1;31mKeyboardInterrupt\u001b[0m: "
     ]
    }
   ]
  },
  {
   "cell_type": "code",
   "execution_count": 16,
   "metadata": {
    "tags": []
   },
   "outputs": [
    {
     "output_type": "stream",
     "name": "stdout",
     "text": [
      "-----------------------------------------\nhyperparameter tune {'interval_size': 3, 'num_layers': 1, 'activation': 'relu', 'hiddent_units': 200, 'dropout': 0.2, 'tuner/epochs': 2, 'tuner/initial_epoch': 0, 'tuner/bracket': 3, 'tuner/round': 0, 'batch_size': 32, 'epochs': 10}\nmean_rmse_score 0.9487481089842162\nmax_rmse_score 0.9487481089842162\nmin_rmse_score 0.9487481089842162\nvariance_rmse_score 0.0\nstd_dev_rmse_score 0.0\n"
     ]
    }
   ],
   "source": [
    "# Print summary for same \n",
    "hyperparameter_results = defaultdict(list)\n",
    "for file in glob.glob(\"forecasting_evaluation/gru/trial*/trial.json\"):\n",
    "    trial = json.load(open(file))\n",
    "    if trial['status'] == 'COMPLETED' and trial['score'] is not None:\n",
    "        hyperparameter_results[str(trial[\"hyperparameters\"][\"values\"])].append(trial[\"score\"])\n",
    "\n",
    "for param, rmse_scores in sorted(hyperparameter_results.items(), key=lambda a: sum(a[1])):\n",
    "    mean_rmse_score = sum(rmse_scores)/len(rmse_scores)\n",
    "    max_rmse_score = max(rmse_scores)\n",
    "    min_rmse_score = min(rmse_scores)\n",
    "    variance_rmse_score = (sum([(mean_rmse_score-current_score)**2 for current_score in rmse_scores]))/len(rmse_scores)\n",
    "    std_dev_rmse_score = sqrt(variance_rmse_score)\n",
    "    # summarize scores\n",
    "    print(\"-----------------------------------------\")\n",
    "    print(\"hyperparameter tune\",param)\n",
    "    print(\"mean_rmse_score\",mean_rmse_score)\n",
    "    print(\"max_rmse_score\",max_rmse_score)\n",
    "    print(\"min_rmse_score\",min_rmse_score)\n",
    "    print(\"variance_rmse_score\",variance_rmse_score)\n",
    "    print(\"std_dev_rmse_score\",std_dev_rmse_score)\n",
    "    break"
   ]
  },
  {
   "cell_type": "code",
   "execution_count": 17,
   "metadata": {},
   "outputs": [
    {
     "output_type": "stream",
     "name": "stdout",
     "text": [
      "--------------------------------------\n",
      "interval_size 3\n",
      "rmse_scores [0.6421245874909565, 0.6111898912635526, 0.6046609855762729, 0.8798052729045992, 1.174923460572061, 0.6483958958045415, 0.7953366320622017, 0.6946335300934573, 0.7007166319610261, 0.6562141790391527]\n",
      "mean_rmse_score 0.7408001066767821\n",
      "max_rmse_score 1.174923460572061\n",
      "min_rmse_score 0.6046609855762729\n",
      "variance_rmse_score 0.027526063663645073\n",
      "std_dev_rmse_score 0.16590980580919584\n",
      "--------------------------------------\n",
      "interval_size 5\n",
      "rmse_scores [0.7661594800809469, 0.8731741814994336, 0.6239971220071708, 0.6252142317968193, 0.6167664694159338, 0.6750072716019796, 0.651644670372564, 0.6471496415619963, 0.6552532952178551, 0.683936416897272]\n",
      "mean_rmse_score 0.6818302780451971\n",
      "max_rmse_score 0.8731741814994336\n",
      "min_rmse_score 0.6167664694159338\n",
      "variance_rmse_score 0.0057378496239992305\n",
      "std_dev_rmse_score 0.07574859486485033\n",
      "--------------------------------------\n",
      "interval_size 7\n",
      "rmse_scores [0.5990412564410015, 0.57059919307322, 0.6619964048602817, 0.5779071144866035, 0.676890471037047, 0.5921787362621722, 0.6294983600769898, 0.6399929249010738, 0.5753761440447202, 0.6751914042264492]\n",
      "mean_rmse_score 0.6198672009409558\n",
      "max_rmse_score 0.676890471037047\n",
      "min_rmse_score 0.57059919307322\n",
      "variance_rmse_score 0.0015952905254564484\n",
      "std_dev_rmse_score 0.039941088185682275\n",
      "--------------------------------------\n",
      "interval_size 9\n",
      "rmse_scores [0.6894651374418734, 0.5741285917761154, 0.5762682326123262, 0.6008460797000906, 0.5695449721826464, 0.5779985974813904, 0.579999239063834, 0.5701981886497073, 0.6618977385189605, 0.6348333067110721]\n",
      "mean_rmse_score 0.6035180084138017\n",
      "max_rmse_score 0.6894651374418734\n",
      "min_rmse_score 0.5695449721826464\n",
      "variance_rmse_score 0.0016857927503300947\n",
      "std_dev_rmse_score 0.04105840657319881\n",
      "--------------------------------------\n",
      "interval_size 11\n",
      "rmse_scores [0.5740774232979942, 0.6019142687233366, 0.5700159350517428, 0.6806269974177067, 0.5901635482541149, 0.6384198885472997, 0.6092051970151335, 0.6931131926158377, 0.5763737098260154, 0.6406565772307847]\n",
      "mean_rmse_score 0.6174566737979965\n",
      "max_rmse_score 0.6931131926158377\n",
      "min_rmse_score 0.5700159350517428\n",
      "variance_rmse_score 0.0017566851439781753\n",
      "std_dev_rmse_score 0.04191282791673899\n"
     ]
    }
   ],
   "source": [
    "## Kör det här!!!  \n",
    "# load the new file\n",
    "dataset = read_csv('temperature_humidity_hourly.csv', header=0, infer_datetime_format=True, parse_dates=['datetime'], index_col=['datetime'])\n",
    "# split into train and test\n",
    "interval_size_rmse_list = []\n",
    "interval_size_std_rmse_list = []\n",
    "\n",
    "interval_size_list = list(range(3, 12, 2))\n",
    "for interval_size in interval_size_list:\n",
    "    print(\"--------------------------------------\")\n",
    "    print(\"interval_size\",interval_size)\n",
    "    train, test = split_dataset(dataset.values, interval_size)\n",
    "    # evaluate model and get scores\n",
    "    n_input = interval_size\n",
    "    # mean, maximum,minimum,std_dev,\n",
    "    rmse_scores = []\n",
    "    train_x, train_y = to_supervised(train, n_input, n_input)\n",
    "    for i in range(10):\n",
    "        hp = kt.HyperParameters()\n",
    "        hp.Int('interval_size', min_value=3, max_value=12, step=2, default=interval_size)\n",
    "        model = build_model(hp)\n",
    "        epochs = 10\n",
    "        batch_size = 32\n",
    "\n",
    "        callback = tf.keras.callbacks.EarlyStopping(monitor='loss', patience=3)\n",
    "        model.fit(train_x, train_y, epochs=epochs, batch_size=batch_size, verbose=False, callbacks=[callback])\n",
    "        score, scores, predictions = evaluate_model(train, test, interval_size, model)\n",
    "        rmse_scores.append(score)\n",
    "    \n",
    "    # Prepare and calculate results\n",
    "    mean_rmse_score = sum(rmse_scores)/len(rmse_scores)\n",
    "    max_rmse_score = max(rmse_scores)\n",
    "    min_rmse_score = min(rmse_scores)\n",
    "    variance_rmse_score = (sum([(mean_rmse_score-current_score)**2 for current_score in rmse_scores]))/len(rmse_scores)\n",
    "    std_dev_rmse_score = sqrt(variance_rmse_score)\n",
    "    # Add values to list\n",
    "    interval_size_rmse_list.append(mean_rmse_score)\n",
    "    interval_size_std_rmse_list.append(std_dev_rmse_score)\n",
    "    # summarize scores\n",
    "    print(\"rmse_scores\", rmse_scores)\n",
    "    print(\"mean_rmse_score\",mean_rmse_score)\n",
    "    print(\"max_rmse_score\",max_rmse_score)\n",
    "    print(\"min_rmse_score\",min_rmse_score)\n",
    "    print(\"variance_rmse_score\",variance_rmse_score)\n",
    "    print(\"std_dev_rmse_score\",std_dev_rmse_score)\n",
    "    # summarize_scores('gru', mean_score, scores)"
   ]
  },
  {
   "source": [
    "# plot scores\n",
    "pyplot.rcdefaults()\n",
    "fig, ax = pyplot.subplots()\n",
    "ax.bar(interval_size_list, interval_size_rmse_list, yerr=interval_size_std_rmse_list, align='center', color='#189ad3', label='gru', error_kw=dict(ecolor=\"black\", lw=1, capsize=5, capthick=2))\n",
    "ax.set_xticks(interval_size_list)\n",
    "ax.set_ylabel('RMSE')\n",
    "ax.set_xlabel('Interval Size')\n",
    "ax.set_title('GRU Performance')\n",
    "pyplot.rc('lines')\n",
    "pyplot.grid(True)\n",
    "pyplot.ylim([0, 1])\n",
    "pyplot.savefig('forecast_gru_result.png', bbox_inches='tight')\n",
    "pyplot.show()"
   ],
   "cell_type": "code",
   "metadata": {},
   "execution_count": 20,
   "outputs": [
    {
     "output_type": "display_data",
     "data": {
      "text/plain": "<Figure size 640x480 with 1 Axes>",
      "image/svg+xml": "<?xml version=\"1.0\" encoding=\"utf-8\" standalone=\"no\"?>\r\n<!DOCTYPE svg PUBLIC \"-//W3C//DTD SVG 1.1//EN\"\r\n  \"http://www.w3.org/Graphics/SVG/1.1/DTD/svg11.dtd\">\r\n<!-- Created with matplotlib (https://matplotlib.org/) -->\r\n<svg height=\"325.986375pt\" version=\"1.1\" viewBox=\"0 0 408.10125 325.986375\" width=\"408.10125pt\" xmlns=\"http://www.w3.org/2000/svg\" xmlns:xlink=\"http://www.w3.org/1999/xlink\">\r\n <metadata>\r\n  <rdf:RDF xmlns:cc=\"http://creativecommons.org/ns#\" xmlns:dc=\"http://purl.org/dc/elements/1.1/\" xmlns:rdf=\"http://www.w3.org/1999/02/22-rdf-syntax-ns#\">\r\n   <cc:Work>\r\n    <dc:type rdf:resource=\"http://purl.org/dc/dcmitype/StillImage\"/>\r\n    <dc:date>2021-05-14T17:03:45.279142</dc:date>\r\n    <dc:format>image/svg+xml</dc:format>\r\n    <dc:creator>\r\n     <cc:Agent>\r\n      <dc:title>Matplotlib v3.3.4, https://matplotlib.org/</dc:title>\r\n     </cc:Agent>\r\n    </dc:creator>\r\n   </cc:Work>\r\n  </rdf:RDF>\r\n </metadata>\r\n <defs>\r\n  <style type=\"text/css\">*{stroke-linecap:butt;stroke-linejoin:round;}</style>\r\n </defs>\r\n <g id=\"figure_1\">\r\n  <g id=\"patch_1\">\r\n   <path d=\"M 0 325.986375 \r\nL 408.10125 325.986375 \r\nL 408.10125 0 \r\nL 0 0 \r\nz\r\n\" style=\"fill:#ffffff;\"/>\r\n  </g>\r\n  <g id=\"axes_1\">\r\n   <g id=\"patch_2\">\r\n    <path d=\"M 43.78125 288.430125 \r\nL 400.90125 288.430125 \r\nL 400.90125 22.318125 \r\nL 43.78125 22.318125 \r\nz\r\n\" style=\"fill:#ffffff;\"/>\r\n   </g>\r\n   <g id=\"patch_3\">\r\n    <path clip-path=\"url(#p333d64cd6c)\" d=\"M 60.013977 288.430125 \r\nL 89.528027 288.430125 \r\nL 89.528027 91.294327 \r\nL 60.013977 91.294327 \r\nz\r\n\" style=\"fill:#189ad3;\"/>\r\n   </g>\r\n   <g id=\"patch_4\">\r\n    <path clip-path=\"url(#p333d64cd6c)\" d=\"M 133.799101 288.430125 \r\nL 163.313151 288.430125 \r\nL 163.313151 106.986906 \r\nL 133.799101 106.986906 \r\nz\r\n\" style=\"fill:#189ad3;\"/>\r\n   </g>\r\n   <g id=\"patch_5\">\r\n    <path clip-path=\"url(#p333d64cd6c)\" d=\"M 207.584225 288.430125 \r\nL 237.098275 288.430125 \r\nL 237.098275 123.476024 \r\nL 207.584225 123.476024 \r\nz\r\n\" style=\"fill:#189ad3;\"/>\r\n   </g>\r\n   <g id=\"patch_6\">\r\n    <path clip-path=\"url(#p333d64cd6c)\" d=\"M 281.369349 288.430125 \r\nL 310.883399 288.430125 \r\nL 310.883399 127.826741 \r\nL 281.369349 127.826741 \r\nz\r\n\" style=\"fill:#189ad3;\"/>\r\n   </g>\r\n   <g id=\"patch_7\">\r\n    <path clip-path=\"url(#p333d64cd6c)\" d=\"M 355.154473 288.430125 \r\nL 384.668523 288.430125 \r\nL 384.668523 124.117495 \r\nL 355.154473 124.117495 \r\nz\r\n\" style=\"fill:#189ad3;\"/>\r\n   </g>\r\n   <g id=\"matplotlib.axis_1\">\r\n    <g id=\"xtick_1\">\r\n     <g id=\"line2d_1\">\r\n      <path clip-path=\"url(#p333d64cd6c)\" d=\"M 74.771002 288.430125 \r\nL 74.771002 22.318125 \r\n\" style=\"fill:none;stroke:#b0b0b0;stroke-linecap:square;stroke-width:0.8;\"/>\r\n     </g>\r\n     <g id=\"line2d_2\">\r\n      <defs>\r\n       <path d=\"M 0 0 \r\nL 0 3.5 \r\n\" id=\"md6303d4ed5\" style=\"stroke:#000000;stroke-width:0.8;\"/>\r\n      </defs>\r\n      <g>\r\n       <use style=\"stroke:#000000;stroke-width:0.8;\" x=\"74.771002\" xlink:href=\"#md6303d4ed5\" y=\"288.430125\"/>\r\n      </g>\r\n     </g>\r\n     <g id=\"text_1\">\r\n      <!-- 3 -->\r\n      <g transform=\"translate(71.589752 303.028562)scale(0.1 -0.1)\">\r\n       <defs>\r\n        <path d=\"M 40.578125 39.3125 \r\nQ 47.65625 37.796875 51.625 33 \r\nQ 55.609375 28.21875 55.609375 21.1875 \r\nQ 55.609375 10.40625 48.1875 4.484375 \r\nQ 40.765625 -1.421875 27.09375 -1.421875 \r\nQ 22.515625 -1.421875 17.65625 -0.515625 \r\nQ 12.796875 0.390625 7.625 2.203125 \r\nL 7.625 11.71875 \r\nQ 11.71875 9.328125 16.59375 8.109375 \r\nQ 21.484375 6.890625 26.8125 6.890625 \r\nQ 36.078125 6.890625 40.9375 10.546875 \r\nQ 45.796875 14.203125 45.796875 21.1875 \r\nQ 45.796875 27.640625 41.28125 31.265625 \r\nQ 36.765625 34.90625 28.71875 34.90625 \r\nL 20.21875 34.90625 \r\nL 20.21875 43.015625 \r\nL 29.109375 43.015625 \r\nQ 36.375 43.015625 40.234375 45.921875 \r\nQ 44.09375 48.828125 44.09375 54.296875 \r\nQ 44.09375 59.90625 40.109375 62.90625 \r\nQ 36.140625 65.921875 28.71875 65.921875 \r\nQ 24.65625 65.921875 20.015625 65.03125 \r\nQ 15.375 64.15625 9.8125 62.3125 \r\nL 9.8125 71.09375 \r\nQ 15.4375 72.65625 20.34375 73.4375 \r\nQ 25.25 74.21875 29.59375 74.21875 \r\nQ 40.828125 74.21875 47.359375 69.109375 \r\nQ 53.90625 64.015625 53.90625 55.328125 \r\nQ 53.90625 49.265625 50.4375 45.09375 \r\nQ 46.96875 40.921875 40.578125 39.3125 \r\nz\r\n\" id=\"DejaVuSans-51\"/>\r\n       </defs>\r\n       <use xlink:href=\"#DejaVuSans-51\"/>\r\n      </g>\r\n     </g>\r\n    </g>\r\n    <g id=\"xtick_2\">\r\n     <g id=\"line2d_3\">\r\n      <path clip-path=\"url(#p333d64cd6c)\" d=\"M 148.556126 288.430125 \r\nL 148.556126 22.318125 \r\n\" style=\"fill:none;stroke:#b0b0b0;stroke-linecap:square;stroke-width:0.8;\"/>\r\n     </g>\r\n     <g id=\"line2d_4\">\r\n      <g>\r\n       <use style=\"stroke:#000000;stroke-width:0.8;\" x=\"148.556126\" xlink:href=\"#md6303d4ed5\" y=\"288.430125\"/>\r\n      </g>\r\n     </g>\r\n     <g id=\"text_2\">\r\n      <!-- 5 -->\r\n      <g transform=\"translate(145.374876 303.028562)scale(0.1 -0.1)\">\r\n       <defs>\r\n        <path d=\"M 10.796875 72.90625 \r\nL 49.515625 72.90625 \r\nL 49.515625 64.59375 \r\nL 19.828125 64.59375 \r\nL 19.828125 46.734375 \r\nQ 21.96875 47.46875 24.109375 47.828125 \r\nQ 26.265625 48.1875 28.421875 48.1875 \r\nQ 40.625 48.1875 47.75 41.5 \r\nQ 54.890625 34.8125 54.890625 23.390625 \r\nQ 54.890625 11.625 47.5625 5.09375 \r\nQ 40.234375 -1.421875 26.90625 -1.421875 \r\nQ 22.3125 -1.421875 17.546875 -0.640625 \r\nQ 12.796875 0.140625 7.71875 1.703125 \r\nL 7.71875 11.625 \r\nQ 12.109375 9.234375 16.796875 8.0625 \r\nQ 21.484375 6.890625 26.703125 6.890625 \r\nQ 35.15625 6.890625 40.078125 11.328125 \r\nQ 45.015625 15.765625 45.015625 23.390625 \r\nQ 45.015625 31 40.078125 35.4375 \r\nQ 35.15625 39.890625 26.703125 39.890625 \r\nQ 22.75 39.890625 18.8125 39.015625 \r\nQ 14.890625 38.140625 10.796875 36.28125 \r\nz\r\n\" id=\"DejaVuSans-53\"/>\r\n       </defs>\r\n       <use xlink:href=\"#DejaVuSans-53\"/>\r\n      </g>\r\n     </g>\r\n    </g>\r\n    <g id=\"xtick_3\">\r\n     <g id=\"line2d_5\">\r\n      <path clip-path=\"url(#p333d64cd6c)\" d=\"M 222.34125 288.430125 \r\nL 222.34125 22.318125 \r\n\" style=\"fill:none;stroke:#b0b0b0;stroke-linecap:square;stroke-width:0.8;\"/>\r\n     </g>\r\n     <g id=\"line2d_6\">\r\n      <g>\r\n       <use style=\"stroke:#000000;stroke-width:0.8;\" x=\"222.34125\" xlink:href=\"#md6303d4ed5\" y=\"288.430125\"/>\r\n      </g>\r\n     </g>\r\n     <g id=\"text_3\">\r\n      <!-- 7 -->\r\n      <g transform=\"translate(219.16 303.028562)scale(0.1 -0.1)\">\r\n       <defs>\r\n        <path d=\"M 8.203125 72.90625 \r\nL 55.078125 72.90625 \r\nL 55.078125 68.703125 \r\nL 28.609375 0 \r\nL 18.3125 0 \r\nL 43.21875 64.59375 \r\nL 8.203125 64.59375 \r\nz\r\n\" id=\"DejaVuSans-55\"/>\r\n       </defs>\r\n       <use xlink:href=\"#DejaVuSans-55\"/>\r\n      </g>\r\n     </g>\r\n    </g>\r\n    <g id=\"xtick_4\">\r\n     <g id=\"line2d_7\">\r\n      <path clip-path=\"url(#p333d64cd6c)\" d=\"M 296.126374 288.430125 \r\nL 296.126374 22.318125 \r\n\" style=\"fill:none;stroke:#b0b0b0;stroke-linecap:square;stroke-width:0.8;\"/>\r\n     </g>\r\n     <g id=\"line2d_8\">\r\n      <g>\r\n       <use style=\"stroke:#000000;stroke-width:0.8;\" x=\"296.126374\" xlink:href=\"#md6303d4ed5\" y=\"288.430125\"/>\r\n      </g>\r\n     </g>\r\n     <g id=\"text_4\">\r\n      <!-- 9 -->\r\n      <g transform=\"translate(292.945124 303.028562)scale(0.1 -0.1)\">\r\n       <defs>\r\n        <path d=\"M 10.984375 1.515625 \r\nL 10.984375 10.5 \r\nQ 14.703125 8.734375 18.5 7.8125 \r\nQ 22.3125 6.890625 25.984375 6.890625 \r\nQ 35.75 6.890625 40.890625 13.453125 \r\nQ 46.046875 20.015625 46.78125 33.40625 \r\nQ 43.953125 29.203125 39.59375 26.953125 \r\nQ 35.25 24.703125 29.984375 24.703125 \r\nQ 19.046875 24.703125 12.671875 31.3125 \r\nQ 6.296875 37.9375 6.296875 49.421875 \r\nQ 6.296875 60.640625 12.9375 67.421875 \r\nQ 19.578125 74.21875 30.609375 74.21875 \r\nQ 43.265625 74.21875 49.921875 64.515625 \r\nQ 56.59375 54.828125 56.59375 36.375 \r\nQ 56.59375 19.140625 48.40625 8.859375 \r\nQ 40.234375 -1.421875 26.421875 -1.421875 \r\nQ 22.703125 -1.421875 18.890625 -0.6875 \r\nQ 15.09375 0.046875 10.984375 1.515625 \r\nz\r\nM 30.609375 32.421875 \r\nQ 37.25 32.421875 41.125 36.953125 \r\nQ 45.015625 41.5 45.015625 49.421875 \r\nQ 45.015625 57.28125 41.125 61.84375 \r\nQ 37.25 66.40625 30.609375 66.40625 \r\nQ 23.96875 66.40625 20.09375 61.84375 \r\nQ 16.21875 57.28125 16.21875 49.421875 \r\nQ 16.21875 41.5 20.09375 36.953125 \r\nQ 23.96875 32.421875 30.609375 32.421875 \r\nz\r\n\" id=\"DejaVuSans-57\"/>\r\n       </defs>\r\n       <use xlink:href=\"#DejaVuSans-57\"/>\r\n      </g>\r\n     </g>\r\n    </g>\r\n    <g id=\"xtick_5\">\r\n     <g id=\"line2d_9\">\r\n      <path clip-path=\"url(#p333d64cd6c)\" d=\"M 369.911498 288.430125 \r\nL 369.911498 22.318125 \r\n\" style=\"fill:none;stroke:#b0b0b0;stroke-linecap:square;stroke-width:0.8;\"/>\r\n     </g>\r\n     <g id=\"line2d_10\">\r\n      <g>\r\n       <use style=\"stroke:#000000;stroke-width:0.8;\" x=\"369.911498\" xlink:href=\"#md6303d4ed5\" y=\"288.430125\"/>\r\n      </g>\r\n     </g>\r\n     <g id=\"text_5\">\r\n      <!-- 11 -->\r\n      <g transform=\"translate(363.548998 303.028562)scale(0.1 -0.1)\">\r\n       <defs>\r\n        <path d=\"M 12.40625 8.296875 \r\nL 28.515625 8.296875 \r\nL 28.515625 63.921875 \r\nL 10.984375 60.40625 \r\nL 10.984375 69.390625 \r\nL 28.421875 72.90625 \r\nL 38.28125 72.90625 \r\nL 38.28125 8.296875 \r\nL 54.390625 8.296875 \r\nL 54.390625 0 \r\nL 12.40625 0 \r\nz\r\n\" id=\"DejaVuSans-49\"/>\r\n       </defs>\r\n       <use xlink:href=\"#DejaVuSans-49\"/>\r\n       <use x=\"63.623047\" xlink:href=\"#DejaVuSans-49\"/>\r\n      </g>\r\n     </g>\r\n    </g>\r\n    <g id=\"text_6\">\r\n     <!-- Interval Size -->\r\n     <g transform=\"translate(191.339687 316.706687)scale(0.1 -0.1)\">\r\n      <defs>\r\n       <path d=\"M 9.8125 72.90625 \r\nL 19.671875 72.90625 \r\nL 19.671875 0 \r\nL 9.8125 0 \r\nz\r\n\" id=\"DejaVuSans-73\"/>\r\n       <path d=\"M 54.890625 33.015625 \r\nL 54.890625 0 \r\nL 45.90625 0 \r\nL 45.90625 32.71875 \r\nQ 45.90625 40.484375 42.875 44.328125 \r\nQ 39.84375 48.1875 33.796875 48.1875 \r\nQ 26.515625 48.1875 22.3125 43.546875 \r\nQ 18.109375 38.921875 18.109375 30.90625 \r\nL 18.109375 0 \r\nL 9.078125 0 \r\nL 9.078125 54.6875 \r\nL 18.109375 54.6875 \r\nL 18.109375 46.1875 \r\nQ 21.34375 51.125 25.703125 53.5625 \r\nQ 30.078125 56 35.796875 56 \r\nQ 45.21875 56 50.046875 50.171875 \r\nQ 54.890625 44.34375 54.890625 33.015625 \r\nz\r\n\" id=\"DejaVuSans-110\"/>\r\n       <path d=\"M 18.3125 70.21875 \r\nL 18.3125 54.6875 \r\nL 36.8125 54.6875 \r\nL 36.8125 47.703125 \r\nL 18.3125 47.703125 \r\nL 18.3125 18.015625 \r\nQ 18.3125 11.328125 20.140625 9.421875 \r\nQ 21.96875 7.515625 27.59375 7.515625 \r\nL 36.8125 7.515625 \r\nL 36.8125 0 \r\nL 27.59375 0 \r\nQ 17.1875 0 13.234375 3.875 \r\nQ 9.28125 7.765625 9.28125 18.015625 \r\nL 9.28125 47.703125 \r\nL 2.6875 47.703125 \r\nL 2.6875 54.6875 \r\nL 9.28125 54.6875 \r\nL 9.28125 70.21875 \r\nz\r\n\" id=\"DejaVuSans-116\"/>\r\n       <path d=\"M 56.203125 29.59375 \r\nL 56.203125 25.203125 \r\nL 14.890625 25.203125 \r\nQ 15.484375 15.921875 20.484375 11.0625 \r\nQ 25.484375 6.203125 34.421875 6.203125 \r\nQ 39.59375 6.203125 44.453125 7.46875 \r\nQ 49.3125 8.734375 54.109375 11.28125 \r\nL 54.109375 2.78125 \r\nQ 49.265625 0.734375 44.1875 -0.34375 \r\nQ 39.109375 -1.421875 33.890625 -1.421875 \r\nQ 20.796875 -1.421875 13.15625 6.1875 \r\nQ 5.515625 13.8125 5.515625 26.8125 \r\nQ 5.515625 40.234375 12.765625 48.109375 \r\nQ 20.015625 56 32.328125 56 \r\nQ 43.359375 56 49.78125 48.890625 \r\nQ 56.203125 41.796875 56.203125 29.59375 \r\nz\r\nM 47.21875 32.234375 \r\nQ 47.125 39.59375 43.09375 43.984375 \r\nQ 39.0625 48.390625 32.421875 48.390625 \r\nQ 24.90625 48.390625 20.390625 44.140625 \r\nQ 15.875 39.890625 15.1875 32.171875 \r\nz\r\n\" id=\"DejaVuSans-101\"/>\r\n       <path d=\"M 41.109375 46.296875 \r\nQ 39.59375 47.171875 37.8125 47.578125 \r\nQ 36.03125 48 33.890625 48 \r\nQ 26.265625 48 22.1875 43.046875 \r\nQ 18.109375 38.09375 18.109375 28.8125 \r\nL 18.109375 0 \r\nL 9.078125 0 \r\nL 9.078125 54.6875 \r\nL 18.109375 54.6875 \r\nL 18.109375 46.1875 \r\nQ 20.953125 51.171875 25.484375 53.578125 \r\nQ 30.03125 56 36.53125 56 \r\nQ 37.453125 56 38.578125 55.875 \r\nQ 39.703125 55.765625 41.0625 55.515625 \r\nz\r\n\" id=\"DejaVuSans-114\"/>\r\n       <path d=\"M 2.984375 54.6875 \r\nL 12.5 54.6875 \r\nL 29.59375 8.796875 \r\nL 46.6875 54.6875 \r\nL 56.203125 54.6875 \r\nL 35.6875 0 \r\nL 23.484375 0 \r\nz\r\n\" id=\"DejaVuSans-118\"/>\r\n       <path d=\"M 34.28125 27.484375 \r\nQ 23.390625 27.484375 19.1875 25 \r\nQ 14.984375 22.515625 14.984375 16.5 \r\nQ 14.984375 11.71875 18.140625 8.90625 \r\nQ 21.296875 6.109375 26.703125 6.109375 \r\nQ 34.1875 6.109375 38.703125 11.40625 \r\nQ 43.21875 16.703125 43.21875 25.484375 \r\nL 43.21875 27.484375 \r\nz\r\nM 52.203125 31.203125 \r\nL 52.203125 0 \r\nL 43.21875 0 \r\nL 43.21875 8.296875 \r\nQ 40.140625 3.328125 35.546875 0.953125 \r\nQ 30.953125 -1.421875 24.3125 -1.421875 \r\nQ 15.921875 -1.421875 10.953125 3.296875 \r\nQ 6 8.015625 6 15.921875 \r\nQ 6 25.140625 12.171875 29.828125 \r\nQ 18.359375 34.515625 30.609375 34.515625 \r\nL 43.21875 34.515625 \r\nL 43.21875 35.40625 \r\nQ 43.21875 41.609375 39.140625 45 \r\nQ 35.0625 48.390625 27.6875 48.390625 \r\nQ 23 48.390625 18.546875 47.265625 \r\nQ 14.109375 46.140625 10.015625 43.890625 \r\nL 10.015625 52.203125 \r\nQ 14.9375 54.109375 19.578125 55.046875 \r\nQ 24.21875 56 28.609375 56 \r\nQ 40.484375 56 46.34375 49.84375 \r\nQ 52.203125 43.703125 52.203125 31.203125 \r\nz\r\n\" id=\"DejaVuSans-97\"/>\r\n       <path d=\"M 9.421875 75.984375 \r\nL 18.40625 75.984375 \r\nL 18.40625 0 \r\nL 9.421875 0 \r\nz\r\n\" id=\"DejaVuSans-108\"/>\r\n       <path id=\"DejaVuSans-32\"/>\r\n       <path d=\"M 53.515625 70.515625 \r\nL 53.515625 60.890625 \r\nQ 47.90625 63.578125 42.921875 64.890625 \r\nQ 37.9375 66.21875 33.296875 66.21875 \r\nQ 25.25 66.21875 20.875 63.09375 \r\nQ 16.5 59.96875 16.5 54.203125 \r\nQ 16.5 49.359375 19.40625 46.890625 \r\nQ 22.3125 44.4375 30.421875 42.921875 \r\nL 36.375 41.703125 \r\nQ 47.40625 39.59375 52.65625 34.296875 \r\nQ 57.90625 29 57.90625 20.125 \r\nQ 57.90625 9.515625 50.796875 4.046875 \r\nQ 43.703125 -1.421875 29.984375 -1.421875 \r\nQ 24.8125 -1.421875 18.96875 -0.25 \r\nQ 13.140625 0.921875 6.890625 3.21875 \r\nL 6.890625 13.375 \r\nQ 12.890625 10.015625 18.65625 8.296875 \r\nQ 24.421875 6.59375 29.984375 6.59375 \r\nQ 38.421875 6.59375 43.015625 9.90625 \r\nQ 47.609375 13.234375 47.609375 19.390625 \r\nQ 47.609375 24.75 44.3125 27.78125 \r\nQ 41.015625 30.8125 33.5 32.328125 \r\nL 27.484375 33.5 \r\nQ 16.453125 35.6875 11.515625 40.375 \r\nQ 6.59375 45.0625 6.59375 53.421875 \r\nQ 6.59375 63.09375 13.40625 68.65625 \r\nQ 20.21875 74.21875 32.171875 74.21875 \r\nQ 37.3125 74.21875 42.625 73.28125 \r\nQ 47.953125 72.359375 53.515625 70.515625 \r\nz\r\n\" id=\"DejaVuSans-83\"/>\r\n       <path d=\"M 9.421875 54.6875 \r\nL 18.40625 54.6875 \r\nL 18.40625 0 \r\nL 9.421875 0 \r\nz\r\nM 9.421875 75.984375 \r\nL 18.40625 75.984375 \r\nL 18.40625 64.59375 \r\nL 9.421875 64.59375 \r\nz\r\n\" id=\"DejaVuSans-105\"/>\r\n       <path d=\"M 5.515625 54.6875 \r\nL 48.1875 54.6875 \r\nL 48.1875 46.484375 \r\nL 14.40625 7.171875 \r\nL 48.1875 7.171875 \r\nL 48.1875 0 \r\nL 4.296875 0 \r\nL 4.296875 8.203125 \r\nL 38.09375 47.515625 \r\nL 5.515625 47.515625 \r\nz\r\n\" id=\"DejaVuSans-122\"/>\r\n      </defs>\r\n      <use xlink:href=\"#DejaVuSans-73\"/>\r\n      <use x=\"29.492188\" xlink:href=\"#DejaVuSans-110\"/>\r\n      <use x=\"92.871094\" xlink:href=\"#DejaVuSans-116\"/>\r\n      <use x=\"132.080078\" xlink:href=\"#DejaVuSans-101\"/>\r\n      <use x=\"193.603516\" xlink:href=\"#DejaVuSans-114\"/>\r\n      <use x=\"234.716797\" xlink:href=\"#DejaVuSans-118\"/>\r\n      <use x=\"293.896484\" xlink:href=\"#DejaVuSans-97\"/>\r\n      <use x=\"355.175781\" xlink:href=\"#DejaVuSans-108\"/>\r\n      <use x=\"382.958984\" xlink:href=\"#DejaVuSans-32\"/>\r\n      <use x=\"414.746094\" xlink:href=\"#DejaVuSans-83\"/>\r\n      <use x=\"478.222656\" xlink:href=\"#DejaVuSans-105\"/>\r\n      <use x=\"506.005859\" xlink:href=\"#DejaVuSans-122\"/>\r\n      <use x=\"558.496094\" xlink:href=\"#DejaVuSans-101\"/>\r\n     </g>\r\n    </g>\r\n   </g>\r\n   <g id=\"matplotlib.axis_2\">\r\n    <g id=\"ytick_1\">\r\n     <g id=\"line2d_11\">\r\n      <path clip-path=\"url(#p333d64cd6c)\" d=\"M 43.78125 288.430125 \r\nL 400.90125 288.430125 \r\n\" style=\"fill:none;stroke:#b0b0b0;stroke-linecap:square;stroke-width:0.8;\"/>\r\n     </g>\r\n     <g id=\"line2d_12\">\r\n      <defs>\r\n       <path d=\"M 0 0 \r\nL -3.5 0 \r\n\" id=\"mfc2dc0232c\" style=\"stroke:#000000;stroke-width:0.8;\"/>\r\n      </defs>\r\n      <g>\r\n       <use style=\"stroke:#000000;stroke-width:0.8;\" x=\"43.78125\" xlink:href=\"#mfc2dc0232c\" y=\"288.430125\"/>\r\n      </g>\r\n     </g>\r\n     <g id=\"text_7\">\r\n      <!-- 0.0 -->\r\n      <g transform=\"translate(20.878125 292.229344)scale(0.1 -0.1)\">\r\n       <defs>\r\n        <path d=\"M 31.78125 66.40625 \r\nQ 24.171875 66.40625 20.328125 58.90625 \r\nQ 16.5 51.421875 16.5 36.375 \r\nQ 16.5 21.390625 20.328125 13.890625 \r\nQ 24.171875 6.390625 31.78125 6.390625 \r\nQ 39.453125 6.390625 43.28125 13.890625 \r\nQ 47.125 21.390625 47.125 36.375 \r\nQ 47.125 51.421875 43.28125 58.90625 \r\nQ 39.453125 66.40625 31.78125 66.40625 \r\nz\r\nM 31.78125 74.21875 \r\nQ 44.046875 74.21875 50.515625 64.515625 \r\nQ 56.984375 54.828125 56.984375 36.375 \r\nQ 56.984375 17.96875 50.515625 8.265625 \r\nQ 44.046875 -1.421875 31.78125 -1.421875 \r\nQ 19.53125 -1.421875 13.0625 8.265625 \r\nQ 6.59375 17.96875 6.59375 36.375 \r\nQ 6.59375 54.828125 13.0625 64.515625 \r\nQ 19.53125 74.21875 31.78125 74.21875 \r\nz\r\n\" id=\"DejaVuSans-48\"/>\r\n        <path d=\"M 10.6875 12.40625 \r\nL 21 12.40625 \r\nL 21 0 \r\nL 10.6875 0 \r\nz\r\n\" id=\"DejaVuSans-46\"/>\r\n       </defs>\r\n       <use xlink:href=\"#DejaVuSans-48\"/>\r\n       <use x=\"63.623047\" xlink:href=\"#DejaVuSans-46\"/>\r\n       <use x=\"95.410156\" xlink:href=\"#DejaVuSans-48\"/>\r\n      </g>\r\n     </g>\r\n    </g>\r\n    <g id=\"ytick_2\">\r\n     <g id=\"line2d_13\">\r\n      <path clip-path=\"url(#p333d64cd6c)\" d=\"M 43.78125 235.207725 \r\nL 400.90125 235.207725 \r\n\" style=\"fill:none;stroke:#b0b0b0;stroke-linecap:square;stroke-width:0.8;\"/>\r\n     </g>\r\n     <g id=\"line2d_14\">\r\n      <g>\r\n       <use style=\"stroke:#000000;stroke-width:0.8;\" x=\"43.78125\" xlink:href=\"#mfc2dc0232c\" y=\"235.207725\"/>\r\n      </g>\r\n     </g>\r\n     <g id=\"text_8\">\r\n      <!-- 0.2 -->\r\n      <g transform=\"translate(20.878125 239.006944)scale(0.1 -0.1)\">\r\n       <defs>\r\n        <path d=\"M 19.1875 8.296875 \r\nL 53.609375 8.296875 \r\nL 53.609375 0 \r\nL 7.328125 0 \r\nL 7.328125 8.296875 \r\nQ 12.9375 14.109375 22.625 23.890625 \r\nQ 32.328125 33.6875 34.8125 36.53125 \r\nQ 39.546875 41.84375 41.421875 45.53125 \r\nQ 43.3125 49.21875 43.3125 52.78125 \r\nQ 43.3125 58.59375 39.234375 62.25 \r\nQ 35.15625 65.921875 28.609375 65.921875 \r\nQ 23.96875 65.921875 18.8125 64.3125 \r\nQ 13.671875 62.703125 7.8125 59.421875 \r\nL 7.8125 69.390625 \r\nQ 13.765625 71.78125 18.9375 73 \r\nQ 24.125 74.21875 28.421875 74.21875 \r\nQ 39.75 74.21875 46.484375 68.546875 \r\nQ 53.21875 62.890625 53.21875 53.421875 \r\nQ 53.21875 48.921875 51.53125 44.890625 \r\nQ 49.859375 40.875 45.40625 35.40625 \r\nQ 44.1875 33.984375 37.640625 27.21875 \r\nQ 31.109375 20.453125 19.1875 8.296875 \r\nz\r\n\" id=\"DejaVuSans-50\"/>\r\n       </defs>\r\n       <use xlink:href=\"#DejaVuSans-48\"/>\r\n       <use x=\"63.623047\" xlink:href=\"#DejaVuSans-46\"/>\r\n       <use x=\"95.410156\" xlink:href=\"#DejaVuSans-50\"/>\r\n      </g>\r\n     </g>\r\n    </g>\r\n    <g id=\"ytick_3\">\r\n     <g id=\"line2d_15\">\r\n      <path clip-path=\"url(#p333d64cd6c)\" d=\"M 43.78125 181.985325 \r\nL 400.90125 181.985325 \r\n\" style=\"fill:none;stroke:#b0b0b0;stroke-linecap:square;stroke-width:0.8;\"/>\r\n     </g>\r\n     <g id=\"line2d_16\">\r\n      <g>\r\n       <use style=\"stroke:#000000;stroke-width:0.8;\" x=\"43.78125\" xlink:href=\"#mfc2dc0232c\" y=\"181.985325\"/>\r\n      </g>\r\n     </g>\r\n     <g id=\"text_9\">\r\n      <!-- 0.4 -->\r\n      <g transform=\"translate(20.878125 185.784544)scale(0.1 -0.1)\">\r\n       <defs>\r\n        <path d=\"M 37.796875 64.3125 \r\nL 12.890625 25.390625 \r\nL 37.796875 25.390625 \r\nz\r\nM 35.203125 72.90625 \r\nL 47.609375 72.90625 \r\nL 47.609375 25.390625 \r\nL 58.015625 25.390625 \r\nL 58.015625 17.1875 \r\nL 47.609375 17.1875 \r\nL 47.609375 0 \r\nL 37.796875 0 \r\nL 37.796875 17.1875 \r\nL 4.890625 17.1875 \r\nL 4.890625 26.703125 \r\nz\r\n\" id=\"DejaVuSans-52\"/>\r\n       </defs>\r\n       <use xlink:href=\"#DejaVuSans-48\"/>\r\n       <use x=\"63.623047\" xlink:href=\"#DejaVuSans-46\"/>\r\n       <use x=\"95.410156\" xlink:href=\"#DejaVuSans-52\"/>\r\n      </g>\r\n     </g>\r\n    </g>\r\n    <g id=\"ytick_4\">\r\n     <g id=\"line2d_17\">\r\n      <path clip-path=\"url(#p333d64cd6c)\" d=\"M 43.78125 128.762925 \r\nL 400.90125 128.762925 \r\n\" style=\"fill:none;stroke:#b0b0b0;stroke-linecap:square;stroke-width:0.8;\"/>\r\n     </g>\r\n     <g id=\"line2d_18\">\r\n      <g>\r\n       <use style=\"stroke:#000000;stroke-width:0.8;\" x=\"43.78125\" xlink:href=\"#mfc2dc0232c\" y=\"128.762925\"/>\r\n      </g>\r\n     </g>\r\n     <g id=\"text_10\">\r\n      <!-- 0.6 -->\r\n      <g transform=\"translate(20.878125 132.562144)scale(0.1 -0.1)\">\r\n       <defs>\r\n        <path d=\"M 33.015625 40.375 \r\nQ 26.375 40.375 22.484375 35.828125 \r\nQ 18.609375 31.296875 18.609375 23.390625 \r\nQ 18.609375 15.53125 22.484375 10.953125 \r\nQ 26.375 6.390625 33.015625 6.390625 \r\nQ 39.65625 6.390625 43.53125 10.953125 \r\nQ 47.40625 15.53125 47.40625 23.390625 \r\nQ 47.40625 31.296875 43.53125 35.828125 \r\nQ 39.65625 40.375 33.015625 40.375 \r\nz\r\nM 52.59375 71.296875 \r\nL 52.59375 62.3125 \r\nQ 48.875 64.0625 45.09375 64.984375 \r\nQ 41.3125 65.921875 37.59375 65.921875 \r\nQ 27.828125 65.921875 22.671875 59.328125 \r\nQ 17.53125 52.734375 16.796875 39.40625 \r\nQ 19.671875 43.65625 24.015625 45.921875 \r\nQ 28.375 48.1875 33.59375 48.1875 \r\nQ 44.578125 48.1875 50.953125 41.515625 \r\nQ 57.328125 34.859375 57.328125 23.390625 \r\nQ 57.328125 12.15625 50.6875 5.359375 \r\nQ 44.046875 -1.421875 33.015625 -1.421875 \r\nQ 20.359375 -1.421875 13.671875 8.265625 \r\nQ 6.984375 17.96875 6.984375 36.375 \r\nQ 6.984375 53.65625 15.1875 63.9375 \r\nQ 23.390625 74.21875 37.203125 74.21875 \r\nQ 40.921875 74.21875 44.703125 73.484375 \r\nQ 48.484375 72.75 52.59375 71.296875 \r\nz\r\n\" id=\"DejaVuSans-54\"/>\r\n       </defs>\r\n       <use xlink:href=\"#DejaVuSans-48\"/>\r\n       <use x=\"63.623047\" xlink:href=\"#DejaVuSans-46\"/>\r\n       <use x=\"95.410156\" xlink:href=\"#DejaVuSans-54\"/>\r\n      </g>\r\n     </g>\r\n    </g>\r\n    <g id=\"ytick_5\">\r\n     <g id=\"line2d_19\">\r\n      <path clip-path=\"url(#p333d64cd6c)\" d=\"M 43.78125 75.540525 \r\nL 400.90125 75.540525 \r\n\" style=\"fill:none;stroke:#b0b0b0;stroke-linecap:square;stroke-width:0.8;\"/>\r\n     </g>\r\n     <g id=\"line2d_20\">\r\n      <g>\r\n       <use style=\"stroke:#000000;stroke-width:0.8;\" x=\"43.78125\" xlink:href=\"#mfc2dc0232c\" y=\"75.540525\"/>\r\n      </g>\r\n     </g>\r\n     <g id=\"text_11\">\r\n      <!-- 0.8 -->\r\n      <g transform=\"translate(20.878125 79.339744)scale(0.1 -0.1)\">\r\n       <defs>\r\n        <path d=\"M 31.78125 34.625 \r\nQ 24.75 34.625 20.71875 30.859375 \r\nQ 16.703125 27.09375 16.703125 20.515625 \r\nQ 16.703125 13.921875 20.71875 10.15625 \r\nQ 24.75 6.390625 31.78125 6.390625 \r\nQ 38.8125 6.390625 42.859375 10.171875 \r\nQ 46.921875 13.96875 46.921875 20.515625 \r\nQ 46.921875 27.09375 42.890625 30.859375 \r\nQ 38.875 34.625 31.78125 34.625 \r\nz\r\nM 21.921875 38.8125 \r\nQ 15.578125 40.375 12.03125 44.71875 \r\nQ 8.5 49.078125 8.5 55.328125 \r\nQ 8.5 64.0625 14.71875 69.140625 \r\nQ 20.953125 74.21875 31.78125 74.21875 \r\nQ 42.671875 74.21875 48.875 69.140625 \r\nQ 55.078125 64.0625 55.078125 55.328125 \r\nQ 55.078125 49.078125 51.53125 44.71875 \r\nQ 48 40.375 41.703125 38.8125 \r\nQ 48.828125 37.15625 52.796875 32.3125 \r\nQ 56.78125 27.484375 56.78125 20.515625 \r\nQ 56.78125 9.90625 50.3125 4.234375 \r\nQ 43.84375 -1.421875 31.78125 -1.421875 \r\nQ 19.734375 -1.421875 13.25 4.234375 \r\nQ 6.78125 9.90625 6.78125 20.515625 \r\nQ 6.78125 27.484375 10.78125 32.3125 \r\nQ 14.796875 37.15625 21.921875 38.8125 \r\nz\r\nM 18.3125 54.390625 \r\nQ 18.3125 48.734375 21.84375 45.5625 \r\nQ 25.390625 42.390625 31.78125 42.390625 \r\nQ 38.140625 42.390625 41.71875 45.5625 \r\nQ 45.3125 48.734375 45.3125 54.390625 \r\nQ 45.3125 60.0625 41.71875 63.234375 \r\nQ 38.140625 66.40625 31.78125 66.40625 \r\nQ 25.390625 66.40625 21.84375 63.234375 \r\nQ 18.3125 60.0625 18.3125 54.390625 \r\nz\r\n\" id=\"DejaVuSans-56\"/>\r\n       </defs>\r\n       <use xlink:href=\"#DejaVuSans-48\"/>\r\n       <use x=\"63.623047\" xlink:href=\"#DejaVuSans-46\"/>\r\n       <use x=\"95.410156\" xlink:href=\"#DejaVuSans-56\"/>\r\n      </g>\r\n     </g>\r\n    </g>\r\n    <g id=\"ytick_6\">\r\n     <g id=\"line2d_21\">\r\n      <path clip-path=\"url(#p333d64cd6c)\" d=\"M 43.78125 22.318125 \r\nL 400.90125 22.318125 \r\n\" style=\"fill:none;stroke:#b0b0b0;stroke-linecap:square;stroke-width:0.8;\"/>\r\n     </g>\r\n     <g id=\"line2d_22\">\r\n      <g>\r\n       <use style=\"stroke:#000000;stroke-width:0.8;\" x=\"43.78125\" xlink:href=\"#mfc2dc0232c\" y=\"22.318125\"/>\r\n      </g>\r\n     </g>\r\n     <g id=\"text_12\">\r\n      <!-- 1.0 -->\r\n      <g transform=\"translate(20.878125 26.117344)scale(0.1 -0.1)\">\r\n       <use xlink:href=\"#DejaVuSans-49\"/>\r\n       <use x=\"63.623047\" xlink:href=\"#DejaVuSans-46\"/>\r\n       <use x=\"95.410156\" xlink:href=\"#DejaVuSans-48\"/>\r\n      </g>\r\n     </g>\r\n    </g>\r\n    <g id=\"text_13\">\r\n     <!-- RMSE -->\r\n     <g transform=\"translate(14.798438 169.496)rotate(-90)scale(0.1 -0.1)\">\r\n      <defs>\r\n       <path d=\"M 44.390625 34.1875 \r\nQ 47.5625 33.109375 50.5625 29.59375 \r\nQ 53.5625 26.078125 56.59375 19.921875 \r\nL 66.609375 0 \r\nL 56 0 \r\nL 46.6875 18.703125 \r\nQ 43.0625 26.03125 39.671875 28.421875 \r\nQ 36.28125 30.8125 30.421875 30.8125 \r\nL 19.671875 30.8125 \r\nL 19.671875 0 \r\nL 9.8125 0 \r\nL 9.8125 72.90625 \r\nL 32.078125 72.90625 \r\nQ 44.578125 72.90625 50.734375 67.671875 \r\nQ 56.890625 62.453125 56.890625 51.90625 \r\nQ 56.890625 45.015625 53.6875 40.46875 \r\nQ 50.484375 35.9375 44.390625 34.1875 \r\nz\r\nM 19.671875 64.796875 \r\nL 19.671875 38.921875 \r\nL 32.078125 38.921875 \r\nQ 39.203125 38.921875 42.84375 42.21875 \r\nQ 46.484375 45.515625 46.484375 51.90625 \r\nQ 46.484375 58.296875 42.84375 61.546875 \r\nQ 39.203125 64.796875 32.078125 64.796875 \r\nz\r\n\" id=\"DejaVuSans-82\"/>\r\n       <path d=\"M 9.8125 72.90625 \r\nL 24.515625 72.90625 \r\nL 43.109375 23.296875 \r\nL 61.8125 72.90625 \r\nL 76.515625 72.90625 \r\nL 76.515625 0 \r\nL 66.890625 0 \r\nL 66.890625 64.015625 \r\nL 48.09375 14.015625 \r\nL 38.1875 14.015625 \r\nL 19.390625 64.015625 \r\nL 19.390625 0 \r\nL 9.8125 0 \r\nz\r\n\" id=\"DejaVuSans-77\"/>\r\n       <path d=\"M 9.8125 72.90625 \r\nL 55.90625 72.90625 \r\nL 55.90625 64.59375 \r\nL 19.671875 64.59375 \r\nL 19.671875 43.015625 \r\nL 54.390625 43.015625 \r\nL 54.390625 34.71875 \r\nL 19.671875 34.71875 \r\nL 19.671875 8.296875 \r\nL 56.78125 8.296875 \r\nL 56.78125 0 \r\nL 9.8125 0 \r\nz\r\n\" id=\"DejaVuSans-69\"/>\r\n      </defs>\r\n      <use xlink:href=\"#DejaVuSans-82\"/>\r\n      <use x=\"69.482422\" xlink:href=\"#DejaVuSans-77\"/>\r\n      <use x=\"155.761719\" xlink:href=\"#DejaVuSans-83\"/>\r\n      <use x=\"219.238281\" xlink:href=\"#DejaVuSans-69\"/>\r\n     </g>\r\n    </g>\r\n   </g>\r\n   <g id=\"LineCollection_1\">\r\n    <path clip-path=\"url(#p333d64cd6c)\" d=\"M 74.771002 135.444917 \r\nL 74.771002 47.143737 \r\n\" style=\"fill:none;stroke:#000000;\"/>\r\n    <path clip-path=\"url(#p333d64cd6c)\" d=\"M 148.556126 127.144516 \r\nL 148.556126 86.829296 \r\n\" style=\"fill:none;stroke:#000000;\"/>\r\n    <path clip-path=\"url(#p333d64cd6c)\" d=\"M 222.34125 134.104827 \r\nL 222.34125 112.847222 \r\n\" style=\"fill:none;stroke:#000000;\"/>\r\n    <path clip-path=\"url(#p333d64cd6c)\" d=\"M 296.126374 138.752875 \r\nL 296.126374 116.900606 \r\n\" style=\"fill:none;stroke:#000000;\"/>\r\n    <path clip-path=\"url(#p333d64cd6c)\" d=\"M 369.911498 135.271001 \r\nL 369.911498 112.963988 \r\n\" style=\"fill:none;stroke:#000000;\"/>\r\n   </g>\r\n   <g id=\"line2d_23\">\r\n    <defs>\r\n     <path d=\"M 5 0 \r\nL -5 -0 \r\n\" id=\"m3ee5e80a1b\" style=\"stroke:#000000;stroke-width:2;\"/>\r\n    </defs>\r\n    <g clip-path=\"url(#p333d64cd6c)\">\r\n     <use style=\"stroke:#000000;stroke-width:2;\" x=\"74.771002\" xlink:href=\"#m3ee5e80a1b\" y=\"135.444917\"/>\r\n     <use style=\"stroke:#000000;stroke-width:2;\" x=\"148.556126\" xlink:href=\"#m3ee5e80a1b\" y=\"127.144516\"/>\r\n     <use style=\"stroke:#000000;stroke-width:2;\" x=\"222.34125\" xlink:href=\"#m3ee5e80a1b\" y=\"134.104827\"/>\r\n     <use style=\"stroke:#000000;stroke-width:2;\" x=\"296.126374\" xlink:href=\"#m3ee5e80a1b\" y=\"138.752875\"/>\r\n     <use style=\"stroke:#000000;stroke-width:2;\" x=\"369.911498\" xlink:href=\"#m3ee5e80a1b\" y=\"135.271001\"/>\r\n    </g>\r\n   </g>\r\n   <g id=\"line2d_24\">\r\n    <g clip-path=\"url(#p333d64cd6c)\">\r\n     <use style=\"stroke:#000000;stroke-width:2;\" x=\"74.771002\" xlink:href=\"#m3ee5e80a1b\" y=\"47.143737\"/>\r\n     <use style=\"stroke:#000000;stroke-width:2;\" x=\"148.556126\" xlink:href=\"#m3ee5e80a1b\" y=\"86.829296\"/>\r\n     <use style=\"stroke:#000000;stroke-width:2;\" x=\"222.34125\" xlink:href=\"#m3ee5e80a1b\" y=\"112.847222\"/>\r\n     <use style=\"stroke:#000000;stroke-width:2;\" x=\"296.126374\" xlink:href=\"#m3ee5e80a1b\" y=\"116.900606\"/>\r\n     <use style=\"stroke:#000000;stroke-width:2;\" x=\"369.911498\" xlink:href=\"#m3ee5e80a1b\" y=\"112.963988\"/>\r\n    </g>\r\n   </g>\r\n   <g id=\"patch_8\">\r\n    <path d=\"M 43.78125 288.430125 \r\nL 43.78125 22.318125 \r\n\" style=\"fill:none;stroke:#000000;stroke-linecap:square;stroke-linejoin:miter;stroke-width:0.8;\"/>\r\n   </g>\r\n   <g id=\"patch_9\">\r\n    <path d=\"M 400.90125 288.430125 \r\nL 400.90125 22.318125 \r\n\" style=\"fill:none;stroke:#000000;stroke-linecap:square;stroke-linejoin:miter;stroke-width:0.8;\"/>\r\n   </g>\r\n   <g id=\"patch_10\">\r\n    <path d=\"M 43.78125 288.430125 \r\nL 400.90125 288.430125 \r\n\" style=\"fill:none;stroke:#000000;stroke-linecap:square;stroke-linejoin:miter;stroke-width:0.8;\"/>\r\n   </g>\r\n   <g id=\"patch_11\">\r\n    <path d=\"M 43.78125 22.318125 \r\nL 400.90125 22.318125 \r\n\" style=\"fill:none;stroke:#000000;stroke-linecap:square;stroke-linejoin:miter;stroke-width:0.8;\"/>\r\n   </g>\r\n   <g id=\"text_14\">\r\n    <!-- GRU Performance -->\r\n    <g transform=\"translate(169.206563 16.318125)scale(0.12 -0.12)\">\r\n     <defs>\r\n      <path d=\"M 59.515625 10.40625 \r\nL 59.515625 29.984375 \r\nL 43.40625 29.984375 \r\nL 43.40625 38.09375 \r\nL 69.28125 38.09375 \r\nL 69.28125 6.78125 \r\nQ 63.578125 2.734375 56.6875 0.65625 \r\nQ 49.8125 -1.421875 42 -1.421875 \r\nQ 24.90625 -1.421875 15.25 8.5625 \r\nQ 5.609375 18.5625 5.609375 36.375 \r\nQ 5.609375 54.25 15.25 64.234375 \r\nQ 24.90625 74.21875 42 74.21875 \r\nQ 49.125 74.21875 55.546875 72.453125 \r\nQ 61.96875 70.703125 67.390625 67.28125 \r\nL 67.390625 56.78125 \r\nQ 61.921875 61.421875 55.765625 63.765625 \r\nQ 49.609375 66.109375 42.828125 66.109375 \r\nQ 29.4375 66.109375 22.71875 58.640625 \r\nQ 16.015625 51.171875 16.015625 36.375 \r\nQ 16.015625 21.625 22.71875 14.15625 \r\nQ 29.4375 6.6875 42.828125 6.6875 \r\nQ 48.046875 6.6875 52.140625 7.59375 \r\nQ 56.25 8.5 59.515625 10.40625 \r\nz\r\n\" id=\"DejaVuSans-71\"/>\r\n      <path d=\"M 8.6875 72.90625 \r\nL 18.609375 72.90625 \r\nL 18.609375 28.609375 \r\nQ 18.609375 16.890625 22.84375 11.734375 \r\nQ 27.09375 6.59375 36.625 6.59375 \r\nQ 46.09375 6.59375 50.34375 11.734375 \r\nQ 54.59375 16.890625 54.59375 28.609375 \r\nL 54.59375 72.90625 \r\nL 64.5 72.90625 \r\nL 64.5 27.390625 \r\nQ 64.5 13.140625 57.4375 5.859375 \r\nQ 50.390625 -1.421875 36.625 -1.421875 \r\nQ 22.796875 -1.421875 15.734375 5.859375 \r\nQ 8.6875 13.140625 8.6875 27.390625 \r\nz\r\n\" id=\"DejaVuSans-85\"/>\r\n      <path d=\"M 19.671875 64.796875 \r\nL 19.671875 37.40625 \r\nL 32.078125 37.40625 \r\nQ 38.96875 37.40625 42.71875 40.96875 \r\nQ 46.484375 44.53125 46.484375 51.125 \r\nQ 46.484375 57.671875 42.71875 61.234375 \r\nQ 38.96875 64.796875 32.078125 64.796875 \r\nz\r\nM 9.8125 72.90625 \r\nL 32.078125 72.90625 \r\nQ 44.34375 72.90625 50.609375 67.359375 \r\nQ 56.890625 61.8125 56.890625 51.125 \r\nQ 56.890625 40.328125 50.609375 34.8125 \r\nQ 44.34375 29.296875 32.078125 29.296875 \r\nL 19.671875 29.296875 \r\nL 19.671875 0 \r\nL 9.8125 0 \r\nz\r\n\" id=\"DejaVuSans-80\"/>\r\n      <path d=\"M 37.109375 75.984375 \r\nL 37.109375 68.5 \r\nL 28.515625 68.5 \r\nQ 23.6875 68.5 21.796875 66.546875 \r\nQ 19.921875 64.59375 19.921875 59.515625 \r\nL 19.921875 54.6875 \r\nL 34.71875 54.6875 \r\nL 34.71875 47.703125 \r\nL 19.921875 47.703125 \r\nL 19.921875 0 \r\nL 10.890625 0 \r\nL 10.890625 47.703125 \r\nL 2.296875 47.703125 \r\nL 2.296875 54.6875 \r\nL 10.890625 54.6875 \r\nL 10.890625 58.5 \r\nQ 10.890625 67.625 15.140625 71.796875 \r\nQ 19.390625 75.984375 28.609375 75.984375 \r\nz\r\n\" id=\"DejaVuSans-102\"/>\r\n      <path d=\"M 30.609375 48.390625 \r\nQ 23.390625 48.390625 19.1875 42.75 \r\nQ 14.984375 37.109375 14.984375 27.296875 \r\nQ 14.984375 17.484375 19.15625 11.84375 \r\nQ 23.34375 6.203125 30.609375 6.203125 \r\nQ 37.796875 6.203125 41.984375 11.859375 \r\nQ 46.1875 17.53125 46.1875 27.296875 \r\nQ 46.1875 37.015625 41.984375 42.703125 \r\nQ 37.796875 48.390625 30.609375 48.390625 \r\nz\r\nM 30.609375 56 \r\nQ 42.328125 56 49.015625 48.375 \r\nQ 55.71875 40.765625 55.71875 27.296875 \r\nQ 55.71875 13.875 49.015625 6.21875 \r\nQ 42.328125 -1.421875 30.609375 -1.421875 \r\nQ 18.84375 -1.421875 12.171875 6.21875 \r\nQ 5.515625 13.875 5.515625 27.296875 \r\nQ 5.515625 40.765625 12.171875 48.375 \r\nQ 18.84375 56 30.609375 56 \r\nz\r\n\" id=\"DejaVuSans-111\"/>\r\n      <path d=\"M 52 44.1875 \r\nQ 55.375 50.25 60.0625 53.125 \r\nQ 64.75 56 71.09375 56 \r\nQ 79.640625 56 84.28125 50.015625 \r\nQ 88.921875 44.046875 88.921875 33.015625 \r\nL 88.921875 0 \r\nL 79.890625 0 \r\nL 79.890625 32.71875 \r\nQ 79.890625 40.578125 77.09375 44.375 \r\nQ 74.3125 48.1875 68.609375 48.1875 \r\nQ 61.625 48.1875 57.5625 43.546875 \r\nQ 53.515625 38.921875 53.515625 30.90625 \r\nL 53.515625 0 \r\nL 44.484375 0 \r\nL 44.484375 32.71875 \r\nQ 44.484375 40.625 41.703125 44.40625 \r\nQ 38.921875 48.1875 33.109375 48.1875 \r\nQ 26.21875 48.1875 22.15625 43.53125 \r\nQ 18.109375 38.875 18.109375 30.90625 \r\nL 18.109375 0 \r\nL 9.078125 0 \r\nL 9.078125 54.6875 \r\nL 18.109375 54.6875 \r\nL 18.109375 46.1875 \r\nQ 21.1875 51.21875 25.484375 53.609375 \r\nQ 29.78125 56 35.6875 56 \r\nQ 41.65625 56 45.828125 52.96875 \r\nQ 50 49.953125 52 44.1875 \r\nz\r\n\" id=\"DejaVuSans-109\"/>\r\n      <path d=\"M 48.78125 52.59375 \r\nL 48.78125 44.1875 \r\nQ 44.96875 46.296875 41.140625 47.34375 \r\nQ 37.3125 48.390625 33.40625 48.390625 \r\nQ 24.65625 48.390625 19.8125 42.84375 \r\nQ 14.984375 37.3125 14.984375 27.296875 \r\nQ 14.984375 17.28125 19.8125 11.734375 \r\nQ 24.65625 6.203125 33.40625 6.203125 \r\nQ 37.3125 6.203125 41.140625 7.25 \r\nQ 44.96875 8.296875 48.78125 10.40625 \r\nL 48.78125 2.09375 \r\nQ 45.015625 0.34375 40.984375 -0.53125 \r\nQ 36.96875 -1.421875 32.421875 -1.421875 \r\nQ 20.0625 -1.421875 12.78125 6.34375 \r\nQ 5.515625 14.109375 5.515625 27.296875 \r\nQ 5.515625 40.671875 12.859375 48.328125 \r\nQ 20.21875 56 33.015625 56 \r\nQ 37.15625 56 41.109375 55.140625 \r\nQ 45.0625 54.296875 48.78125 52.59375 \r\nz\r\n\" id=\"DejaVuSans-99\"/>\r\n     </defs>\r\n     <use xlink:href=\"#DejaVuSans-71\"/>\r\n     <use x=\"77.490234\" xlink:href=\"#DejaVuSans-82\"/>\r\n     <use x=\"146.972656\" xlink:href=\"#DejaVuSans-85\"/>\r\n     <use x=\"220.166016\" xlink:href=\"#DejaVuSans-32\"/>\r\n     <use x=\"251.953125\" xlink:href=\"#DejaVuSans-80\"/>\r\n     <use x=\"308.630859\" xlink:href=\"#DejaVuSans-101\"/>\r\n     <use x=\"370.154297\" xlink:href=\"#DejaVuSans-114\"/>\r\n     <use x=\"411.267578\" xlink:href=\"#DejaVuSans-102\"/>\r\n     <use x=\"446.472656\" xlink:href=\"#DejaVuSans-111\"/>\r\n     <use x=\"507.654297\" xlink:href=\"#DejaVuSans-114\"/>\r\n     <use x=\"547.017578\" xlink:href=\"#DejaVuSans-109\"/>\r\n     <use x=\"644.429688\" xlink:href=\"#DejaVuSans-97\"/>\r\n     <use x=\"705.708984\" xlink:href=\"#DejaVuSans-110\"/>\r\n     <use x=\"769.087891\" xlink:href=\"#DejaVuSans-99\"/>\r\n     <use x=\"824.068359\" xlink:href=\"#DejaVuSans-101\"/>\r\n    </g>\r\n   </g>\r\n  </g>\r\n </g>\r\n <defs>\r\n  <clipPath id=\"p333d64cd6c\">\r\n   <rect height=\"266.112\" width=\"357.12\" x=\"43.78125\" y=\"22.318125\"/>\r\n  </clipPath>\r\n </defs>\r\n</svg>\r\n",
      "image/png": "[encoded data removed]"
     },
     "metadata": {}
    }
   ]
  },
  {
   "cell_type": "code",
   "execution_count": 19,
   "metadata": {},
   "outputs": [],
   "source": [
    "df_test = pd.DataFrame(test.reshape(test.shape[0]* test.shape[1], 2), columns=[\"temperature\",\"humidity\"])\n",
    "df_pred = pd.DataFrame(predictions.reshape(predictions.shape[0]* predictions.shape[1],),columns=[\"pred_temperature\"])\n",
    "predicted_and_test = df_pred.join(df_test)\n",
    "predicted_and_test.to_csv('predicted_temperature_and_test_values.csv',index=False)"
   ]
  },
  {
   "cell_type": "code",
   "execution_count": null,
   "metadata": {},
   "outputs": [],
   "source": []
  }
 ]
}