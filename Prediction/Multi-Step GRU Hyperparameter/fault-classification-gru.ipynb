{
 "metadata": {
  "language_info": {
   "codemirror_mode": {
    "name": "ipython",
    "version": 3
   },
   "file_extension": ".py",
   "mimetype": "text/x-python",
   "name": "python",
   "nbconvert_exporter": "python",
   "pygments_lexer": "ipython3",
   "version": "3.7.9"
  },
  "orig_nbformat": 2,
  "kernelspec": {
   "name": "python379jvsc74a57bd0c3218535dd4fc05aa3e9f9bc0ba552a9acaa71ce56ba5438b99e7cdc1c0a0be6",
   "display_name": "Python 3.7.9 64-bit ('DT005A Final Project': conda)"
  }
 },
 "nbformat": 4,
 "nbformat_minor": 2,
 "cells": [
  {
   "cell_type": "code",
   "execution_count": 32,
   "metadata": {},
   "outputs": [],
   "source": [
    "# univariate multi-step lstm\n",
    "import pandas as pd\n",
    "import numpy as np\n",
    "import scipy.stats as st\n",
    "import kerastuner as kt\n",
    "from pandas import read_csv\n",
    "from kerastuner.tuners import Hyperband\n",
    "from sklearn.preprocessing import MinMaxScaler\n",
    "from sklearn.model_selection import train_test_split\n",
    "from matplotlib import pyplot\n",
    "from keras.models import Sequential\n",
    "from keras.layers import (LSTM, Dense, Flatten)\n",
    "from keras.utils.np_utils import to_categorical"
   ]
  },
  {
   "cell_type": "code",
   "execution_count": 2,
   "metadata": {},
   "outputs": [],
   "source": [
    "df = read_csv(\"predicted_temperature_and_test_values.csv\")"
   ]
  },
  {
   "cell_type": "code",
   "execution_count": 31,
   "metadata": {},
   "outputs": [
    {
     "output_type": "execute_result",
     "data": {
      "text/plain": [
       "    pred_temperature  temperature   humidity  label\n",
       "0          23.947466    24.833333  14.416667  False\n",
       "1          24.202640    24.661017  14.915254  False\n",
       "2          23.895992    24.583333  14.966667  False\n",
       "3          23.915253    24.589286  17.446429  False\n",
       "4          23.957087    23.666667  19.400000   True\n",
       "5          23.699652    22.016667  20.883333  False\n",
       "6          23.566374    22.583333  20.050000  False\n",
       "7          23.349136    22.762712  18.847458  False\n",
       "8          23.766033    23.150000  17.766667  False\n",
       "9          23.383087    24.157895  17.298246  False\n",
       "10         23.565964    22.068966  20.206897  False\n",
       "11         23.482517    21.525424  20.067797  False\n",
       "12         23.146376    21.016949  19.237288  False\n",
       "13         23.176466    21.000000  19.050000  False\n",
       "14         22.658100    21.637931  17.620690  False\n",
       "15         22.928873    24.000000  14.566667  False\n",
       "16         22.747477    24.100000  14.033333  False\n",
       "17         22.893818    24.140351  14.017544  False\n",
       "18         22.692535    24.067797  14.050847  False\n",
       "19         22.760942    24.333333  14.000000  False\n",
       "20         22.753736    24.483333  13.600000  False\n",
       "21         23.930563    24.288136  13.610169   True\n",
       "22         24.036812    24.440678  13.457627  False\n",
       "23         23.812038    24.789474  13.017544  False\n",
       "24         23.713522    24.482759  13.017241  False\n",
       "25         23.863583    24.355932  13.016949  False\n",
       "26         23.726568    23.245614  14.929825  False\n",
       "27         23.496126    23.933333  14.200000  False\n",
       "28         23.801607    24.000000  14.482759   True\n",
       "29         24.116580    24.000000  15.333333   True\n",
       "30         23.755215    24.000000  16.300000   True\n",
       "31         23.829319    23.237288  17.779661  False\n",
       "32         23.866535    22.733333  19.616667  False\n",
       "33         23.524187    23.033898  17.440678  False\n",
       "34         23.451021    23.543860  15.508772   True\n",
       "35         23.572645    23.431034  14.724138   True\n",
       "36         23.815283    24.050000  13.200000   True\n",
       "37         23.525003    24.247863  13.410256  False\n",
       "38         23.612778    24.252101  13.218487  False\n",
       "39         23.573616    24.333333  13.083333  False\n",
       "40         23.414639    24.389831  13.118644  False\n",
       "41         23.320982    24.491525  13.000000  False\n",
       "42         24.023466    24.440678  13.118644  False\n",
       "43         24.223894    24.256410  13.136752   True\n",
       "44         23.932840    24.616667  13.000000  False\n",
       "45         23.902931    24.186441  13.033898   True\n",
       "46         24.008766    24.400000  13.000000  False\n",
       "47         23.764067    24.508621  13.103448  False\n",
       "48         23.590437    24.233333  13.733333  False\n",
       "49         24.024078    24.321739  13.982609   True\n",
       "50         24.300556    24.538462  14.324786   True\n",
       "51         23.968410    22.865546  17.638655  False\n",
       "52         23.993753    22.086207  18.948276  False\n",
       "53         24.052597    21.598291  19.547009  False\n",
       "54         23.740274    22.000000  19.846154  False\n",
       "55         23.614895    21.966102  20.372881  False"
      ],
      "text/html": "<div>\n<style scoped>\n    .dataframe tbody tr th:only-of-type {\n        vertical-align: middle;\n    }\n\n    .dataframe tbody tr th {\n        vertical-align: top;\n    }\n\n    .dataframe thead th {\n        text-align: right;\n    }\n</style>\n<table border=\"1\" class=\"dataframe\">\n  <thead>\n    <tr style=\"text-align: right;\">\n      <th></th>\n      <th>pred_temperature</th>\n      <th>temperature</th>\n      <th>humidity</th>\n      <th>label</th>\n    </tr>\n  </thead>\n  <tbody>\n    <tr>\n      <th>0</th>\n      <td>23.947466</td>\n      <td>24.833333</td>\n      <td>14.416667</td>\n      <td>False</td>\n    </tr>\n    <tr>\n      <th>1</th>\n      <td>24.202640</td>\n      <td>24.661017</td>\n      <td>14.915254</td>\n      <td>False</td>\n    </tr>\n    <tr>\n      <th>2</th>\n      <td>23.895992</td>\n      <td>24.583333</td>\n      <td>14.966667</td>\n      <td>False</td>\n    </tr>\n    <tr>\n      <th>3</th>\n      <td>23.915253</td>\n      <td>24.589286</td>\n      <td>17.446429</td>\n      <td>False</td>\n    </tr>\n    <tr>\n      <th>4</th>\n      <td>23.957087</td>\n      <td>23.666667</td>\n      <td>19.400000</td>\n      <td>True</td>\n    </tr>\n    <tr>\n      <th>5</th>\n      <td>23.699652</td>\n      <td>22.016667</td>\n      <td>20.883333</td>\n      <td>False</td>\n    </tr>\n    <tr>\n      <th>6</th>\n      <td>23.566374</td>\n      <td>22.583333</td>\n      <td>20.050000</td>\n      <td>False</td>\n    </tr>\n    <tr>\n      <th>7</th>\n      <td>23.349136</td>\n      <td>22.762712</td>\n      <td>18.847458</td>\n      <td>False</td>\n    </tr>\n    <tr>\n      <th>8</th>\n      <td>23.766033</td>\n      <td>23.150000</td>\n      <td>17.766667</td>\n      <td>False</td>\n    </tr>\n    <tr>\n      <th>9</th>\n      <td>23.383087</td>\n      <td>24.157895</td>\n      <td>17.298246</td>\n      <td>False</td>\n    </tr>\n    <tr>\n      <th>10</th>\n      <td>23.565964</td>\n      <td>22.068966</td>\n      <td>20.206897</td>\n      <td>False</td>\n    </tr>\n    <tr>\n      <th>11</th>\n      <td>23.482517</td>\n      <td>21.525424</td>\n      <td>20.067797</td>\n      <td>False</td>\n    </tr>\n    <tr>\n      <th>12</th>\n      <td>23.146376</td>\n      <td>21.016949</td>\n      <td>19.237288</td>\n      <td>False</td>\n    </tr>\n    <tr>\n      <th>13</th>\n      <td>23.176466</td>\n      <td>21.000000</td>\n      <td>19.050000</td>\n      <td>False</td>\n    </tr>\n    <tr>\n      <th>14</th>\n      <td>22.658100</td>\n      <td>21.637931</td>\n      <td>17.620690</td>\n      <td>False</td>\n    </tr>\n    <tr>\n      <th>15</th>\n      <td>22.928873</td>\n      <td>24.000000</td>\n      <td>14.566667</td>\n      <td>False</td>\n    </tr>\n    <tr>\n      <th>16</th>\n      <td>22.747477</td>\n      <td>24.100000</td>\n      <td>14.033333</td>\n      <td>False</td>\n    </tr>\n    <tr>\n      <th>17</th>\n      <td>22.893818</td>\n      <td>24.140351</td>\n      <td>14.017544</td>\n      <td>False</td>\n    </tr>\n    <tr>\n      <th>18</th>\n      <td>22.692535</td>\n      <td>24.067797</td>\n      <td>14.050847</td>\n      <td>False</td>\n    </tr>\n    <tr>\n      <th>19</th>\n      <td>22.760942</td>\n      <td>24.333333</td>\n      <td>14.000000</td>\n      <td>False</td>\n    </tr>\n    <tr>\n      <th>20</th>\n      <td>22.753736</td>\n      <td>24.483333</td>\n      <td>13.600000</td>\n      <td>False</td>\n    </tr>\n    <tr>\n      <th>21</th>\n      <td>23.930563</td>\n      <td>24.288136</td>\n      <td>13.610169</td>\n      <td>True</td>\n    </tr>\n    <tr>\n      <th>22</th>\n      <td>24.036812</td>\n      <td>24.440678</td>\n      <td>13.457627</td>\n      <td>False</td>\n    </tr>\n    <tr>\n      <th>23</th>\n      <td>23.812038</td>\n      <td>24.789474</td>\n      <td>13.017544</td>\n      <td>False</td>\n    </tr>\n    <tr>\n      <th>24</th>\n      <td>23.713522</td>\n      <td>24.482759</td>\n      <td>13.017241</td>\n      <td>False</td>\n    </tr>\n    <tr>\n      <th>25</th>\n      <td>23.863583</td>\n      <td>24.355932</td>\n      <td>13.016949</td>\n      <td>False</td>\n    </tr>\n    <tr>\n      <th>26</th>\n      <td>23.726568</td>\n      <td>23.245614</td>\n      <td>14.929825</td>\n      <td>False</td>\n    </tr>\n    <tr>\n      <th>27</th>\n      <td>23.496126</td>\n      <td>23.933333</td>\n      <td>14.200000</td>\n      <td>False</td>\n    </tr>\n    <tr>\n      <th>28</th>\n      <td>23.801607</td>\n      <td>24.000000</td>\n      <td>14.482759</td>\n      <td>True</td>\n    </tr>\n    <tr>\n      <th>29</th>\n      <td>24.116580</td>\n      <td>24.000000</td>\n      <td>15.333333</td>\n      <td>True</td>\n    </tr>\n    <tr>\n      <th>30</th>\n      <td>23.755215</td>\n      <td>24.000000</td>\n      <td>16.300000</td>\n      <td>True</td>\n    </tr>\n    <tr>\n      <th>31</th>\n      <td>23.829319</td>\n      <td>23.237288</td>\n      <td>17.779661</td>\n      <td>False</td>\n    </tr>\n    <tr>\n      <th>32</th>\n      <td>23.866535</td>\n      <td>22.733333</td>\n      <td>19.616667</td>\n      <td>False</td>\n    </tr>\n    <tr>\n      <th>33</th>\n      <td>23.524187</td>\n      <td>23.033898</td>\n      <td>17.440678</td>\n      <td>False</td>\n    </tr>\n    <tr>\n      <th>34</th>\n      <td>23.451021</td>\n      <td>23.543860</td>\n      <td>15.508772</td>\n      <td>True</td>\n    </tr>\n    <tr>\n      <th>35</th>\n      <td>23.572645</td>\n      <td>23.431034</td>\n      <td>14.724138</td>\n      <td>True</td>\n    </tr>\n    <tr>\n      <th>36</th>\n      <td>23.815283</td>\n      <td>24.050000</td>\n      <td>13.200000</td>\n      <td>True</td>\n    </tr>\n    <tr>\n      <th>37</th>\n      <td>23.525003</td>\n      <td>24.247863</td>\n      <td>13.410256</td>\n      <td>False</td>\n    </tr>\n    <tr>\n      <th>38</th>\n      <td>23.612778</td>\n      <td>24.252101</td>\n      <td>13.218487</td>\n      <td>False</td>\n    </tr>\n    <tr>\n      <th>39</th>\n      <td>23.573616</td>\n      <td>24.333333</td>\n      <td>13.083333</td>\n      <td>False</td>\n    </tr>\n    <tr>\n      <th>40</th>\n      <td>23.414639</td>\n      <td>24.389831</td>\n      <td>13.118644</td>\n      <td>False</td>\n    </tr>\n    <tr>\n      <th>41</th>\n      <td>23.320982</td>\n      <td>24.491525</td>\n      <td>13.000000</td>\n      <td>False</td>\n    </tr>\n    <tr>\n      <th>42</th>\n      <td>24.023466</td>\n      <td>24.440678</td>\n      <td>13.118644</td>\n      <td>False</td>\n    </tr>\n    <tr>\n      <th>43</th>\n      <td>24.223894</td>\n      <td>24.256410</td>\n      <td>13.136752</td>\n      <td>True</td>\n    </tr>\n    <tr>\n      <th>44</th>\n      <td>23.932840</td>\n      <td>24.616667</td>\n      <td>13.000000</td>\n      <td>False</td>\n    </tr>\n    <tr>\n      <th>45</th>\n      <td>23.902931</td>\n      <td>24.186441</td>\n      <td>13.033898</td>\n      <td>True</td>\n    </tr>\n    <tr>\n      <th>46</th>\n      <td>24.008766</td>\n      <td>24.400000</td>\n      <td>13.000000</td>\n      <td>False</td>\n    </tr>\n    <tr>\n      <th>47</th>\n      <td>23.764067</td>\n      <td>24.508621</td>\n      <td>13.103448</td>\n      <td>False</td>\n    </tr>\n    <tr>\n      <th>48</th>\n      <td>23.590437</td>\n      <td>24.233333</td>\n      <td>13.733333</td>\n      <td>False</td>\n    </tr>\n    <tr>\n      <th>49</th>\n      <td>24.024078</td>\n      <td>24.321739</td>\n      <td>13.982609</td>\n      <td>True</td>\n    </tr>\n    <tr>\n      <th>50</th>\n      <td>24.300556</td>\n      <td>24.538462</td>\n      <td>14.324786</td>\n      <td>True</td>\n    </tr>\n    <tr>\n      <th>51</th>\n      <td>23.968410</td>\n      <td>22.865546</td>\n      <td>17.638655</td>\n      <td>False</td>\n    </tr>\n    <tr>\n      <th>52</th>\n      <td>23.993753</td>\n      <td>22.086207</td>\n      <td>18.948276</td>\n      <td>False</td>\n    </tr>\n    <tr>\n      <th>53</th>\n      <td>24.052597</td>\n      <td>21.598291</td>\n      <td>19.547009</td>\n      <td>False</td>\n    </tr>\n    <tr>\n      <th>54</th>\n      <td>23.740274</td>\n      <td>22.000000</td>\n      <td>19.846154</td>\n      <td>False</td>\n    </tr>\n    <tr>\n      <th>55</th>\n      <td>23.614895</td>\n      <td>21.966102</td>\n      <td>20.372881</td>\n      <td>False</td>\n    </tr>\n  </tbody>\n</table>\n</div>"
     },
     "metadata": {},
     "execution_count": 31
    }
   ],
   "source": [
    "df"
   ]
  },
  {
   "cell_type": "code",
   "execution_count": 4,
   "metadata": {},
   "outputs": [],
   "source": [
    "def calculate_confidence(data):\n",
    "    diff_actual_pred = data.temperature - data.pred_temperature\n",
    "    confidence_interval= st.t.interval(0.99, diff_actual_pred.shape[0]-1, loc=diff_actual_pred.mean(), scale=st.sem(diff_actual_pred.values.tolist()))\n",
    "    return confidence_interval"
   ]
  },
  {
   "cell_type": "code",
   "execution_count": 5,
   "metadata": {},
   "outputs": [
    {
     "output_type": "stream",
     "name": "stdout",
     "text": [
      "(-0.3925278235895418, 0.3670887003061874) 0.3798082619478646\n"
     ]
    }
   ],
   "source": [
    "interval = calculate_confidence(df)\n",
    "print(interval, (interval[1] - interval[0])/2)"
   ]
  },
  {
   "cell_type": "code",
   "execution_count": 6,
   "metadata": {},
   "outputs": [],
   "source": [
    "def to_labeled(data):\n",
    "    diff_actual_pred = data.temperature - data.pred_temperature\n",
    "    interval = calculate_confidence(data)\n",
    "    data['label'] = ((diff_actual_pred>interval[0]) & (diff_actual_pred<interval[1]))"
   ]
  },
  {
   "cell_type": "code",
   "execution_count": 7,
   "metadata": {},
   "outputs": [],
   "source": [
    "# split a univariate dataset into train/test sets\n",
    "def split_dataset(data):\n",
    "    split_index = int((len(data)*0.8))\n",
    "    train, test = data[:split_index], data[split_index:]\n",
    "    return train, test"
   ]
  },
  {
   "source": [
    "# train the model\n",
    "def build_model(train):\n",
    "    train_x = train[[\"temperature\", \"humidity\"]].values.reshape((-1, 1, 2))\n",
    "    train_y = to_categorical(train.label.values, num_classes=2)\n",
    "    # define parameters\n",
    "    verbose, epochs, batch_size = 1, 10, 5\n",
    "    n_features, n_outputs = train_x.shape[2], train_y.shape[1]\n",
    "    n_timesteps = 1\n",
    "    print(n_outputs, n_timesteps, n_features)\n",
    "    # define model\n",
    "    model = Sequential()\n",
    "    model.add(LSTM(200, activation='relu', input_shape=(n_timesteps, n_features)))\n",
    "    model.add(Dense(100, activation='relu'))\n",
    "    model.add(Dense(n_outputs))\n",
    "    model.compile(loss='mse', optimizer='adam')\n",
    "    # fit network\n",
    "    model.fit(train_x, train_y, epochs=epochs, batch_size=batch_size, verbose=verbose)\n",
    "    return model"
   ],
   "cell_type": "markdown",
   "metadata": {}
  },
  {
   "cell_type": "code",
   "execution_count": 49,
   "metadata": {},
   "outputs": [],
   "source": [
    "# train the model\n",
    "def build_model(hp):\n",
    "    # define hyperparameters parameters\n",
    "    num_layers = hp.Int('num_layers', 1, 7, step=2)\n",
    "    activation = hp.Choice(\"activation\", [\"sigmoid\", \"relu\", \"tanh\"])\n",
    "    hiddent_units = hp.Choice('hiddent_units', [50, 100, 150, 200])\n",
    "\n",
    "    n_features, n_outputs = 2, 2\n",
    "    n_timesteps = 1\n",
    "\n",
    "    # define model\n",
    "    model = Sequential()\n",
    "    # we want sigmoid in the first layer so that we convert the data between 0 and 1\n",
    "    model.add(LSTM(hiddent_units, activation='sigmoid', input_shape=(n_timesteps, n_features), return_sequences=num_layers > 1))\n",
    "    for i in range(num_layers - 2):\n",
    "        model.add(LSTM(hiddent_units, activation=activation, return_sequences=True, dropout=hp.Float(\"dropout\", 0.0 , 0.8 , 0.2)))\n",
    "    if num_layers > 1:\n",
    "        model.add(LSTM(hiddent_units, activation=activation))\n",
    "    model.add(Dense(n_outputs))\n",
    "    model.compile(loss='mse', metrics=['accuracy'], optimizer='adam')\n",
    "    return model"
   ]
  },
  {
   "cell_type": "code",
   "execution_count": 50,
   "metadata": {},
   "outputs": [
    {
     "output_type": "stream",
     "name": "stdout",
     "text": [
      "[[[24.83333333 14.41666667]]\n\n [[24.66101695 14.91525424]]\n\n [[24.58333333 14.96666667]]\n\n [[24.58928571 17.44642857]]\n\n [[23.66666667 19.4       ]]\n\n [[22.01666667 20.88333333]]\n\n [[22.58333333 20.05      ]]\n\n [[22.76271186 18.84745763]]\n\n [[23.15       17.76666667]]\n\n [[24.15789474 17.29824561]]\n\n [[22.06896552 20.20689655]]\n\n [[21.52542373 20.06779661]]\n\n [[21.01694915 19.23728814]]\n\n [[21.         19.05      ]]\n\n [[21.63793103 17.62068966]]\n\n [[24.         14.56666667]]\n\n [[24.1        14.03333333]]\n\n [[24.14035088 14.01754386]]\n\n [[24.06779661 14.05084746]]\n\n [[24.33333333 14.        ]]\n\n [[24.48333333 13.6       ]]\n\n [[24.28813559 13.61016949]]\n\n [[24.44067797 13.45762712]]\n\n [[24.78947368 13.01754386]]\n\n [[24.48275862 13.01724138]]\n\n [[24.3559322  13.01694915]]\n\n [[23.24561404 14.92982456]]\n\n [[23.93333333 14.2       ]]\n\n [[24.         14.48275862]]\n\n [[24.         15.33333333]]\n\n [[24.         16.3       ]]\n\n [[23.23728814 17.77966102]]\n\n [[22.73333333 19.61666667]]\n\n [[23.03389831 17.44067797]]\n\n [[23.54385965 15.50877193]]\n\n [[23.43103448 14.72413793]]\n\n [[24.05       13.2       ]]\n\n [[24.24786325 13.41025641]]\n\n [[24.25210084 13.21848739]]\n\n [[24.33333333 13.08333333]]\n\n [[24.38983051 13.11864407]]\n\n [[24.49152542 13.        ]]\n\n [[24.44067797 13.11864407]]\n\n [[24.25641026 13.13675214]]] [[1. 0.]\n [1. 0.]\n [1. 0.]\n [1. 0.]\n [0. 1.]\n [1. 0.]\n [1. 0.]\n [1. 0.]\n [1. 0.]\n [1. 0.]\n [1. 0.]\n [1. 0.]\n [1. 0.]\n [1. 0.]\n [1. 0.]\n [1. 0.]\n [1. 0.]\n [1. 0.]\n [1. 0.]\n [1. 0.]\n [1. 0.]\n [0. 1.]\n [1. 0.]\n [1. 0.]\n [1. 0.]\n [1. 0.]\n [1. 0.]\n [1. 0.]\n [0. 1.]\n [0. 1.]\n [0. 1.]\n [1. 0.]\n [1. 0.]\n [1. 0.]\n [0. 1.]\n [0. 1.]\n [0. 1.]\n [1. 0.]\n [1. 0.]\n [1. 0.]\n [1. 0.]\n [1. 0.]\n [1. 0.]\n [0. 1.]]\n[[[24.61666667 13.        ]]\n\n [[24.18644068 13.03389831]]\n\n [[24.4        13.        ]]\n\n [[24.50862069 13.10344828]]\n\n [[24.23333333 13.73333333]]\n\n [[24.32173913 13.9826087 ]]\n\n [[24.53846154 14.32478632]]\n\n [[22.86554622 17.63865546]]\n\n [[22.0862069  18.94827586]]\n\n [[21.5982906  19.54700855]]\n\n [[22.         19.84615385]]\n\n [[21.96610169 20.37288136]]] [[1. 0.]\n [0. 1.]\n [1. 0.]\n [1. 0.]\n [1. 0.]\n [0. 1.]\n [0. 1.]\n [1. 0.]\n [1. 0.]\n [1. 0.]\n [1. 0.]\n [1. 0.]]\n"
     ]
    }
   ],
   "source": [
    "train, test = split_dataset(df)\n",
    "\n",
    "train_x = train[[\"temperature\", \"humidity\"]].values.reshape((-1, 1, 2))\n",
    "train_y = to_categorical(train.label.values, num_classes=2)\n",
    "val_x = test[[\"temperature\", \"humidity\"]].values.reshape((-1, 1, 2))\n",
    "val_y = to_categorical(test.label.values, num_classes=2)\n",
    "print(train_x, train_y)\n",
    "print(val_x, val_y)"
   ]
  },
  {
   "source": [
    "# When training with hyperparameters change the epoch size to 50 and the max_trails to min 72000\n",
    "class MyTuner(kt.Tuner):\n",
    "    \n",
    "    def __init__(self, **kwargs):\n",
    "        super().__init__(**kwargs)\n",
    "\n",
    "    def run_trial(self, trial, *atgs, **kwargs):\n",
    "        hp = trial.hyperparameters\n",
    "        batch_size = hp.Choice(\"batch_size\", [0, 32, 64, 128, 256, 512])\n",
    "        epochs = hp.Choice(\"epochs\", [15])\n",
    "        model = self.hypermodel.build(trial.hyperparameters)\n",
    "        model.fit(train_x, train_y, epochs=epochs, batch_size=batch_size, verbose=False)\n",
    "        score, accuracy = model.evaluate(val_x, val_y)\n",
    "        self.oracle.update_trial(trial.trial_id, {'score': score, 'accuracy': accuracy})\n",
    "\n",
    "tuner = MyTuner(\n",
    "    oracle=kt.oracles.BayesianOptimization(\n",
    "          objective=kt.Objective('accuracy', 'min'),\n",
    "          max_trials=20),\n",
    "    hypermodel=build_model,\n",
    "    directory='fault_classification_evaluation',\n",
    "    project_name='lstm', overwrite=True)\n",
    "tuner.search_space_summary()"
   ],
   "cell_type": "markdown",
   "metadata": {}
  },
  {
   "cell_type": "code",
   "execution_count": 66,
   "metadata": {},
   "outputs": [],
   "source": [
    "tuner = Hyperband(build_model,\n",
    "                     objective='val_accuracy',\n",
    "                     max_epochs=5,\n",
    "                     factor=3,\n",
    "                     directory='fault_classification_evaluation',\n",
    "                     project_name='lstm',\n",
    "                     overwrite=True)"
   ]
  },
  {
   "cell_type": "code",
   "execution_count": 67,
   "metadata": {},
   "outputs": [
    {
     "output_type": "stream",
     "name": "stdout",
     "text": [
      "Trial 10 Complete [00h 00m 22s]\nval_accuracy: 0.6666666865348816\n\nBest val_accuracy So Far: 0.6666666865348816\nTotal elapsed time: 00h 02m 27s\nINFO:tensorflow:Oracle triggered exit\n"
     ]
    }
   ],
   "source": [
    "tuner.search(train_x, train_y,\n",
    "             epochs=5,\n",
    "             validation_split=0.2)"
   ]
  },
  {
   "cell_type": "code",
   "execution_count": null,
   "metadata": {},
   "outputs": [],
   "source": [
    "to_labeled(df)\n",
    "train, test = split_dataset(df)\n",
    "build_model(train).predict(test[[\"temperature\", \"humidity\"]].values.reshape((-1, 1, 2)))"
   ]
  },
  {
   "cell_type": "code",
   "execution_count": null,
   "metadata": {},
   "outputs": [],
   "source": []
  }
 ]
}