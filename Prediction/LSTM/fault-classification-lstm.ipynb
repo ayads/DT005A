{
 "metadata": {
  "language_info": {
   "codemirror_mode": {
    "name": "ipython",
    "version": 3
   },
   "file_extension": ".py",
   "mimetype": "text/x-python",
   "name": "python",
   "nbconvert_exporter": "python",
   "pygments_lexer": "ipython3",
   "version": "3.7.9-final"
  },
  "orig_nbformat": 2,
  "kernelspec": {
   "name": "python3",
   "display_name": "Python 3",
   "language": "python"
  }
 },
 "nbformat": 4,
 "nbformat_minor": 2,
 "cells": [
  {
   "cell_type": "code",
   "execution_count": 40,
   "metadata": {},
   "outputs": [],
   "source": [
    "# univariate multi-step lstm\n",
    "import pandas as pd\n",
    "import numpy as np\n",
    "import scipy.stats as st\n",
    "from pandas import read_csv\n",
    "from sklearn.preprocessing import MinMaxScaler\n",
    "from sklearn.model_selection import train_test_split\n",
    "from matplotlib import pyplot\n",
    "from keras.models import Sequential\n",
    "from keras.layers import (LSTM, Dense, Flatten)\n",
    "from keras.utils.np_utils import to_categorical"
   ]
  },
  {
   "cell_type": "code",
   "execution_count": 3,
   "metadata": {},
   "outputs": [],
   "source": [
    "df = read_csv(\"predicted_temperature_and_test_values.csv\")"
   ]
  },
  {
   "cell_type": "code",
   "execution_count": 4,
   "metadata": {},
   "outputs": [
    {
     "output_type": "execute_result",
     "data": {
      "text/plain": [
       "   pred_temperature  temperature   humidity\n",
       "0         23.294163    24.000000  17.241379\n",
       "1         23.227598    24.000000  17.016949\n",
       "2         23.374884    24.000000  16.966667\n",
       "3         23.404564    24.000000  16.357143\n",
       "4         23.345507    24.389831  15.576271"
      ],
      "text/html": "<div>\n<style scoped>\n    .dataframe tbody tr th:only-of-type {\n        vertical-align: middle;\n    }\n\n    .dataframe tbody tr th {\n        vertical-align: top;\n    }\n\n    .dataframe thead th {\n        text-align: right;\n    }\n</style>\n<table border=\"1\" class=\"dataframe\">\n  <thead>\n    <tr style=\"text-align: right;\">\n      <th></th>\n      <th>pred_temperature</th>\n      <th>temperature</th>\n      <th>humidity</th>\n    </tr>\n  </thead>\n  <tbody>\n    <tr>\n      <th>0</th>\n      <td>23.294163</td>\n      <td>24.000000</td>\n      <td>17.241379</td>\n    </tr>\n    <tr>\n      <th>1</th>\n      <td>23.227598</td>\n      <td>24.000000</td>\n      <td>17.016949</td>\n    </tr>\n    <tr>\n      <th>2</th>\n      <td>23.374884</td>\n      <td>24.000000</td>\n      <td>16.966667</td>\n    </tr>\n    <tr>\n      <th>3</th>\n      <td>23.404564</td>\n      <td>24.000000</td>\n      <td>16.357143</td>\n    </tr>\n    <tr>\n      <th>4</th>\n      <td>23.345507</td>\n      <td>24.389831</td>\n      <td>15.576271</td>\n    </tr>\n  </tbody>\n</table>\n</div>"
     },
     "metadata": {},
     "execution_count": 4
    }
   ],
   "source": [
    "df.head(5)"
   ]
  },
  {
   "cell_type": "code",
   "execution_count": 33,
   "metadata": {},
   "outputs": [],
   "source": [
    "def calculate_confidence(data):\n",
    "    diff_actual_pred = data.temperature - data.pred_temperature\n",
    "    confidence_interval= st.t.interval(0.99, diff_actual_pred.shape[0]-1, loc=diff_actual_pred.mean(), scale=st.sem(diff_actual_pred.values.tolist()))\n",
    "    return confidence_interval"
   ]
  },
  {
   "cell_type": "code",
   "execution_count": 34,
   "metadata": {},
   "outputs": [
    {
     "output_type": "stream",
     "name": "stdout",
     "text": [
      "(0.19071296071307547, 0.8509075109596698) 0.3300972751232971\n"
     ]
    }
   ],
   "source": [
    "interval = calculate_confidence(df)\n",
    "print(interval, (interval[1] - interval[0])/2)"
   ]
  },
  {
   "cell_type": "code",
   "execution_count": 37,
   "metadata": {},
   "outputs": [],
   "source": [
    "def to_labeled(data):\n",
    "    diff_actual_pred = data.temperature - data.pred_temperature\n",
    "    interval = calculate_confidence(data)\n",
    "    data['label'] = ((diff_actual_pred>interval[0]) & (diff_actual_pred<interval[1]))"
   ]
  },
  {
   "cell_type": "code",
   "execution_count": 45,
   "metadata": {},
   "outputs": [],
   "source": [
    "# split a univariate dataset into train/test sets\n",
    "def split_dataset(data):\n",
    "    split_index = int((len(data)*0.8))\n",
    "    train, test = data[:split_index], data[split_index:]\n",
    "    return train, test"
   ]
  },
  {
   "cell_type": "code",
   "execution_count": 76,
   "metadata": {},
   "outputs": [],
   "source": [
    "# train the model\n",
    "def build_model(train):\n",
    "    train_x = train[[\"temperature\", \"humidity\"]].values.reshape((-1, 1, 2))\n",
    "    train_y = to_categorical(train.label.values, num_classes=2)\n",
    "    # define parameters\n",
    "    verbose, epochs, batch_size = 1, 10, 5\n",
    "    n_features, n_outputs = train_x.shape[2], train_y.shape[1]\n",
    "    n_timesteps = 1\n",
    "    print(n_outputs, n_timesteps, n_features)\n",
    "    # define model\n",
    "    model = Sequential()\n",
    "    model.add(LSTM(200, activation='relu', input_shape=(n_timesteps, n_features)))\n",
    "    model.add(Dense(100, activation='relu'))\n",
    "    model.add(Dense(n_outputs))\n",
    "    model.compile(loss='mse', optimizer='adam')\n",
    "    # fit network\n",
    "    model.fit(train_x, train_y, epochs=epochs, batch_size=batch_size, verbose=verbose)\n",
    "    return model"
   ]
  },
  {
   "cell_type": "code",
   "execution_count": 79,
   "metadata": {},
   "outputs": [
    {
     "output_type": "stream",
     "name": "stdout",
     "text": [
      "2 1 2\n",
      "Epoch 1/10\n",
      "8/8 [==============================] - 0s 2ms/step - loss: 0.2399\n",
      "Epoch 2/10\n",
      "8/8 [==============================] - 0s 2ms/step - loss: 0.2083\n",
      "Epoch 3/10\n",
      "8/8 [==============================] - 0s 2ms/step - loss: 0.1940\n",
      "Epoch 4/10\n",
      "8/8 [==============================] - 0s 2ms/step - loss: 0.1729\n",
      "Epoch 5/10\n",
      "8/8 [==============================] - 0s 2ms/step - loss: 0.1631\n",
      "Epoch 6/10\n",
      "8/8 [==============================] - 0s 2ms/step - loss: 0.1596\n",
      "Epoch 7/10\n",
      "8/8 [==============================] - 0s 2ms/step - loss: 0.1618\n",
      "Epoch 8/10\n",
      "8/8 [==============================] - 0s 2ms/step - loss: 0.1642\n",
      "Epoch 9/10\n",
      "8/8 [==============================] - 0s 2ms/step - loss: 0.1582\n",
      "Epoch 10/10\n",
      "8/8 [==============================] - 0s 2ms/step - loss: 0.1597\n"
     ]
    },
    {
     "output_type": "execute_result",
     "data": {
      "text/plain": [
       "array([[0.76000893, 0.24321869],\n",
       "       [0.7371352 , 0.26281118],\n",
       "       [0.74622357, 0.24919342],\n",
       "       [0.74538994, 0.25042772],\n",
       "       [0.73382497, 0.267528  ],\n",
       "       [0.7411209 , 0.25679874],\n",
       "       [0.738291  , 0.26106843],\n",
       "       [0.74667454, 0.24852704],\n",
       "       [0.75895786, 0.2307301 ],\n",
       "       [0.74667454, 0.24852704]], dtype=float32)"
      ]
     },
     "metadata": {},
     "execution_count": 79
    }
   ],
   "source": [
    "to_labeled(df)\n",
    "train, test = split_dataset(df)\n",
    "build_model(train).predict(test[[\"temperature\", \"humidity\"]].values.reshape((-1, 1, 2)))"
   ]
  },
  {
   "cell_type": "code",
   "execution_count": null,
   "metadata": {},
   "outputs": [],
   "source": []
  }
 ]
}