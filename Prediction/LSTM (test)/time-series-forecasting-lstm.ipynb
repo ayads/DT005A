{
 "metadata": {
  "language_info": {
   "codemirror_mode": {
    "name": "ipython",
    "version": 3
   },
   "file_extension": ".py",
   "mimetype": "text/x-python",
   "name": "python",
   "nbconvert_exporter": "python",
   "pygments_lexer": "ipython3",
   "version": "3.7.9-final"
  },
  "orig_nbformat": 2,
  "kernelspec": {
   "name": "python3",
   "display_name": "Python 3",
   "language": "python"
  }
 },
 "nbformat": 4,
 "nbformat_minor": 2,
 "cells": [
  {
   "cell_type": "code",
   "execution_count": 1,
   "metadata": {},
   "outputs": [],
   "source": [
    "# https://towardsdatascience.com/lstm-time-series-forecasting-predicting-stock-prices-using-an-lstm-model-6223e9644a2f\n",
    "# Multi-Step LSTM Time Series Forecasting Models: https://machinelearningmastery.com/how-to-develop-lstm-models-for-multi-step-time-series-forecasting-of-household-power-consumption/"
   ]
  },
  {
   "cell_type": "code",
   "execution_count": 2,
   "metadata": {},
   "outputs": [],
   "source": [
    "import os\n",
    "import boto3\n",
    "import json\n",
    "import re\n",
    "import pandas as pd\n",
    "import numpy as np\n",
    "import keras\n",
    "import math\n",
    "import matplotlib.pyplot as plt\n",
    "from datetime import datetime\n",
    "from keras.models import Sequential\n",
    "from keras.layers import (Dense, LSTM, Dropout)\n",
    "from sklearn.preprocessing import MinMaxScaler\n",
    "from sklearn.metrics import (mean_squared_error, mean_absolute_error)\n",
    "from sklearn.model_selection import train_test_split"
   ]
  },
  {
   "source": [
    "## Fetch & Clean data"
   ],
   "cell_type": "markdown",
   "metadata": {}
  },
  {
   "source": [
    "# define client, folder and files for AWS.\n",
    "s3_client = boto3.client(\"s3\")\n",
    "s3_bucket_name = 'thesis-hydroponic-project'\n",
    "s3_bucket_prefix = 'TemperatureAndHumidity2021/'"
   ],
   "cell_type": "code",
   "metadata": {},
   "execution_count": 3,
   "outputs": []
  },
  {
   "cell_type": "code",
   "execution_count": 4,
   "metadata": {
    "tags": [
     "outputPrepend"
    ]
   },
   "outputs": [
    {
     "output_type": "stream",
     "name": "stdout",
     "text": [
      "549cf-c5ae-449b-8876-ea33f1369d9f\n",
      "Load from cache: TemperatureAndHumidity2021/03/07/10/ThesisHydroponicSensorDeliveryStream-1-2021-03-07-10-35-12-c5f541a0-3ff9-47f4-91b2-8f1aded1cae4\n",
      "Load from cache: TemperatureAndHumidity2021/03/07/10/ThesisHydroponicSensorDeliveryStream-1-2021-03-07-10-50-15-942453d3-bfbd-424c-b535-b66b10f1cd3f\n",
      "Load from cache: TemperatureAndHumidity2021/03/07/11/ThesisHydroponicSensorDeliveryStream-1-2021-03-07-11-05-22-f4432023-5fe6-4f93-9f13-3647bcd6a2f1\n",
      "Load from cache: TemperatureAndHumidity2021/03/07/11/ThesisHydroponicSensorDeliveryStream-1-2021-03-07-11-20-30-622e0f3b-2f37-4297-80fa-d8054859b1b0\n",
      "Load from cache: TemperatureAndHumidity2021/03/07/11/ThesisHydroponicSensorDeliveryStream-1-2021-03-07-11-35-38-b7d672e6-05bf-4460-ac67-5a10c6398b83\n",
      "Load from cache: TemperatureAndHumidity2021/03/07/11/ThesisHydroponicSensorDeliveryStream-1-2021-03-07-11-50-40-a73158b4-e380-45bb-a389-7679688225a2\n",
      "Load from cache: TemperatureAndHumidity2021/03/07/12/ThesisHydroponicSensorDeliveryStream-1-2021-03-07-12-05-42-b28d909d-c2bc-4206-b7ce-0d8bd98f82a4\n",
      "Load from cache: TemperatureAndHumidity2021/03/07/12/ThesisHydroponicSensorDeliveryStream-1-2021-03-07-12-20-48-ab837e96-bfb4-4345-9594-cba48fe136b4\n",
      "Load from cache: TemperatureAndHumidity2021/03/07/12/ThesisHydroponicSensorDeliveryStream-1-2021-03-07-12-35-56-c601cdd2-c753-44dc-b7af-24bf360337be\n",
      "Load from cache: TemperatureAndHumidity2021/03/07/12/ThesisHydroponicSensorDeliveryStream-1-2021-03-07-12-51-01-56c6fb18-9e1a-43be-b757-be56c2653c5b\n",
      "Load from cache: TemperatureAndHumidity2021/03/07/13/ThesisHydroponicSensorDeliveryStream-1-2021-03-07-13-06-04-7942ff14-8955-4210-993c-016919bc4541\n",
      "Load from cache: TemperatureAndHumidity2021/03/07/13/ThesisHydroponicSensorDeliveryStream-1-2021-03-07-13-21-07-26a8a1a1-b350-4148-9d09-8f26c12faba1\n",
      "Load from cache: TemperatureAndHumidity2021/03/07/13/ThesisHydroponicSensorDeliveryStream-1-2021-03-07-13-36-15-e37c0c3b-8b66-4cfa-a153-9ca613ad1620\n",
      "Load from cache: TemperatureAndHumidity2021/03/07/13/ThesisHydroponicSensorDeliveryStream-1-2021-03-07-13-51-22-8770a1b4-fd95-4a6a-b356-74e8969cdff7\n",
      "Load from cache: TemperatureAndHumidity2021/03/07/14/ThesisHydroponicSensorDeliveryStream-1-2021-03-07-14-06-24-f5e6c64f-916f-4f72-952d-cfe0e1a4cdaa\n",
      "Load from cache: TemperatureAndHumidity2021/03/07/14/ThesisHydroponicSensorDeliveryStream-1-2021-03-07-14-21-28-3fb19ddb-75ce-4f0a-a5cd-ffb46b33d1cd\n",
      "Load from cache: TemperatureAndHumidity2021/03/07/14/ThesisHydroponicSensorDeliveryStream-1-2021-03-07-14-36-35-b1c6235b-c345-4784-b1d0-f25b44576124\n",
      "Load from cache: TemperatureAndHumidity2021/03/07/14/ThesisHydroponicSensorDeliveryStream-1-2021-03-07-14-51-42-15d8db2d-a976-4f6c-90f1-bee229e51ece\n",
      "Load from cache: TemperatureAndHumidity2021/03/07/15/ThesisHydroponicSensorDeliveryStream-1-2021-03-07-15-06-50-4a96d76b-7896-4919-ad14-0425d206bc94\n",
      "Load from cache: TemperatureAndHumidity2021/03/07/15/ThesisHydroponicSensorDeliveryStream-1-2021-03-07-15-21-54-81784a60-9672-4c90-9660-2a8c901aa6ac\n",
      "Load from cache: TemperatureAndHumidity2021/03/07/15/ThesisHydroponicSensorDeliveryStream-1-2021-03-07-15-36-59-9937138a-16cf-457c-99c3-717295ab2ca0\n",
      "Load from cache: TemperatureAndHumidity2021/03/07/15/ThesisHydroponicSensorDeliveryStream-1-2021-03-07-15-52-07-b48fb587-acb8-4f15-be44-329f2fec0c26\n",
      "Load from cache: TemperatureAndHumidity2021/03/07/16/ThesisHydroponicSensorDeliveryStream-1-2021-03-07-16-07-10-42092d62-d085-4da3-bff2-7743e6db97ae\n",
      "Load from cache: TemperatureAndHumidity2021/03/07/16/ThesisHydroponicSensorDeliveryStream-1-2021-03-07-16-22-17-2fa17bb7-7d07-4849-b410-001209f18e34\n",
      "Load from cache: TemperatureAndHumidity2021/03/07/16/ThesisHydroponicSensorDeliveryStream-1-2021-03-07-16-37-21-c5c4fb03-f073-46bd-b399-599a63d033aa\n",
      "Load from cache: TemperatureAndHumidity2021/03/07/16/ThesisHydroponicSensorDeliveryStream-1-2021-03-07-16-52-26-83e42b01-5b4a-4211-8a38-38531c94aaf6\n",
      "Load from cache: TemperatureAndHumidity2021/03/07/17/ThesisHydroponicSensorDeliveryStream-1-2021-03-07-17-07-30-49aa4a0a-f027-4469-aa2c-91d0fb75234b\n",
      "Load from cache: TemperatureAndHumidity2021/03/07/17/ThesisHydroponicSensorDeliveryStream-1-2021-03-07-17-22-35-d124fd95-96c7-4c38-b20c-a8b9ebdd4613\n",
      "Load from cache: TemperatureAndHumidity2021/03/07/17/ThesisHydroponicSensorDeliveryStream-1-2021-03-07-17-37-36-ffcc5678-70cd-4dc9-8a36-f5a2c43c6628\n",
      "Load from cache: TemperatureAndHumidity2021/03/07/17/ThesisHydroponicSensorDeliveryStream-1-2021-03-07-17-52-42-f32ee223-bae7-4a36-8f8b-b7f3e9f9ab05\n",
      "Load from cache: TemperatureAndHumidity2021/03/07/18/ThesisHydroponicSensorDeliveryStream-1-2021-03-07-18-07-47-2bccb599-8ead-4adc-bbea-70438c087f47\n",
      "Load from cache: TemperatureAndHumidity2021/03/07/18/ThesisHydroponicSensorDeliveryStream-1-2021-03-07-18-22-48-74cad28a-d5b6-4735-af37-5c0d551ad646\n",
      "Load from cache: TemperatureAndHumidity2021/03/07/18/ThesisHydroponicSensorDeliveryStream-1-2021-03-07-18-37-54-e2b79e5d-1ece-45fd-b917-328c9857be9c\n",
      "Load from cache: TemperatureAndHumidity2021/03/07/18/ThesisHydroponicSensorDeliveryStream-1-2021-03-07-18-52-57-d129ea8c-0575-4d18-ad92-01f80ae6adc4\n",
      "Load from cache: TemperatureAndHumidity2021/03/07/19/ThesisHydroponicSensorDeliveryStream-1-2021-03-07-19-08-00-5a5a08b6-7603-4db8-ba22-5423cb079313\n",
      "Load from cache: TemperatureAndHumidity2021/03/07/19/ThesisHydroponicSensorDeliveryStream-1-2021-03-07-19-23-03-2781f028-49a5-4219-a6e7-097a80207ef6\n",
      "Load from cache: TemperatureAndHumidity2021/03/07/19/ThesisHydroponicSensorDeliveryStream-1-2021-03-07-19-38-09-04497822-2785-4523-9198-01236181e752\n",
      "Load from cache: TemperatureAndHumidity2021/03/07/19/ThesisHydroponicSensorDeliveryStream-1-2021-03-07-19-53-12-e0317df8-7402-48d4-b7f8-7c33a3107c11\n",
      "Load from cache: TemperatureAndHumidity2021/03/07/20/ThesisHydroponicSensorDeliveryStream-1-2021-03-07-20-08-18-8ed042f8-0951-430f-b2e5-9c9d874385de\n",
      "Load from cache: TemperatureAndHumidity2021/03/07/20/ThesisHydroponicSensorDeliveryStream-1-2021-03-07-20-23-21-2569da5f-6935-4f9a-99a3-812e78f68682\n",
      "Load from cache: TemperatureAndHumidity2021/03/07/20/ThesisHydroponicSensorDeliveryStream-1-2021-03-07-20-38-22-63cdf513-9a96-4920-8b41-a658de577735\n",
      "Load from cache: TemperatureAndHumidity2021/03/07/20/ThesisHydroponicSensorDeliveryStream-1-2021-03-07-20-53-27-9c70e071-2d17-4f71-b1df-a429d8336255\n",
      "Load from cache: TemperatureAndHumidity2021/03/07/21/ThesisHydroponicSensorDeliveryStream-1-2021-03-07-21-08-30-62101cc4-9185-4281-aed8-77d8398bfd29\n",
      "Load from cache: TemperatureAndHumidity2021/03/07/21/ThesisHydroponicSensorDeliveryStream-1-2021-03-07-21-23-34-ec28b287-da22-404a-a56a-147187b53ac3\n",
      "Load from cache: TemperatureAndHumidity2021/03/07/21/ThesisHydroponicSensorDeliveryStream-1-2021-03-07-21-38-39-58369673-80c2-4ea2-85b2-ae7710c1ad00\n",
      "Load from cache: TemperatureAndHumidity2021/03/07/21/ThesisHydroponicSensorDeliveryStream-1-2021-03-07-21-53-42-25a95453-55ff-4ce4-9341-1b4bb71fe239\n",
      "Load from cache: TemperatureAndHumidity2021/03/07/22/ThesisHydroponicSensorDeliveryStream-1-2021-03-07-22-08-45-b4144132-2d36-4db9-813a-363cc3a640f8\n",
      "Load from cache: TemperatureAndHumidity2021/03/07/22/ThesisHydroponicSensorDeliveryStream-1-2021-03-07-22-23-48-06cc6f35-e3c3-430e-a166-de6d332b6b72\n",
      "Load from cache: TemperatureAndHumidity2021/03/07/22/ThesisHydroponicSensorDeliveryStream-1-2021-03-07-22-38-54-0850a420-c4c9-4f6d-9f92-64b0af382ba4\n",
      "Load from cache: TemperatureAndHumidity2021/03/07/22/ThesisHydroponicSensorDeliveryStream-1-2021-03-07-22-54-09-eca2b2b2-91ae-42cf-a1cf-431815e8d2cc\n",
      "Load from cache: TemperatureAndHumidity2021/03/07/23/ThesisHydroponicSensorDeliveryStream-1-2021-03-07-23-09-16-e98fe085-4a26-4356-bf7d-bf0ac274d77f\n",
      "Load from cache: TemperatureAndHumidity2021/03/07/23/ThesisHydroponicSensorDeliveryStream-1-2021-03-07-23-24-24-6716617f-54e6-42ea-b2a4-ab625e1ecb47\n",
      "Load from cache: TemperatureAndHumidity2021/03/07/23/ThesisHydroponicSensorDeliveryStream-1-2021-03-07-23-39-30-2cfce13c-b29e-40e9-b85b-cf48260f1f86\n",
      "Load from cache: TemperatureAndHumidity2021/03/07/23/ThesisHydroponicSensorDeliveryStream-1-2021-03-07-23-54-35-0e506843-421b-434f-a096-261616ad44c4\n",
      "Load from cache: TemperatureAndHumidity2021/03/08/00/ThesisHydroponicSensorDeliveryStream-1-2021-03-08-00-09-38-1e27e0ab-2bb7-4776-bb49-0bb228b3cc96\n",
      "Load from cache: TemperatureAndHumidity2021/03/08/00/ThesisHydroponicSensorDeliveryStream-1-2021-03-08-00-24-44-3337ff07-8333-48d2-b9e8-888a054973ab\n",
      "Load from cache: TemperatureAndHumidity2021/03/08/00/ThesisHydroponicSensorDeliveryStream-1-2021-03-08-00-39-46-ccc31bfb-de8e-4414-aec9-234683d1a260\n",
      "Load from cache: TemperatureAndHumidity2021/03/08/00/ThesisHydroponicSensorDeliveryStream-1-2021-03-08-00-54-49-bca0dd0d-5184-4917-9e17-1e129616b8b3\n",
      "Load from cache: TemperatureAndHumidity2021/03/08/01/ThesisHydroponicSensorDeliveryStream-1-2021-03-08-01-09-58-f522bc5d-2ee9-4a35-8186-42f1ad48d430\n",
      "Load from cache: TemperatureAndHumidity2021/03/08/01/ThesisHydroponicSensorDeliveryStream-1-2021-03-08-01-25-01-d56fdd6f-a250-492a-b9d2-4cca43b67464\n",
      "Load from cache: TemperatureAndHumidity2021/03/08/01/ThesisHydroponicSensorDeliveryStream-1-2021-03-08-01-40-04-6df4c144-c5b4-4120-89ff-1107f6bab72f\n",
      "Load from cache: TemperatureAndHumidity2021/03/08/01/ThesisHydroponicSensorDeliveryStream-1-2021-03-08-01-55-11-6626b9ec-1d86-4c59-8f1f-32d0fd80bcd5\n",
      "Load from cache: TemperatureAndHumidity2021/03/08/02/ThesisHydroponicSensorDeliveryStream-1-2021-03-08-02-10-17-9f628276-5530-4005-94da-c3fd52c561dc\n",
      "Load from cache: TemperatureAndHumidity2021/03/08/02/ThesisHydroponicSensorDeliveryStream-1-2021-03-08-02-25-23-7e00065e-21fb-4cd6-9df3-b6a0383dce46\n",
      "Load from cache: TemperatureAndHumidity2021/03/08/02/ThesisHydroponicSensorDeliveryStream-1-2021-03-08-02-40-24-392b99f6-953b-49c1-a581-91672b8b0237\n",
      "Load from cache: TemperatureAndHumidity2021/03/08/02/ThesisHydroponicSensorDeliveryStream-1-2021-03-08-02-55-31-2ffce601-37b3-48e9-b103-1166439be405\n",
      "Load from cache: TemperatureAndHumidity2021/03/08/03/ThesisHydroponicSensorDeliveryStream-1-2021-03-08-03-10-39-8808075e-8264-4cd5-a886-40c50978c209\n",
      "Load from cache: TemperatureAndHumidity2021/03/08/03/ThesisHydroponicSensorDeliveryStream-1-2021-03-08-03-25-42-8c79c828-5a23-482e-adf9-89acb65619a2\n",
      "Load from cache: TemperatureAndHumidity2021/03/08/03/ThesisHydroponicSensorDeliveryStream-1-2021-03-08-03-40-48-0f9ba7e4-ffdf-46bf-a28b-12048750b5bd\n",
      "Load from cache: TemperatureAndHumidity2021/03/08/03/ThesisHydroponicSensorDeliveryStream-1-2021-03-08-03-55-53-593d6487-0bcd-45ab-873d-6b398e6e377b\n",
      "Load from cache: TemperatureAndHumidity2021/03/08/04/ThesisHydroponicSensorDeliveryStream-1-2021-03-08-04-10-59-357c8526-8948-4c81-96bc-9ad05f7873eb\n",
      "Load from cache: TemperatureAndHumidity2021/03/08/04/ThesisHydroponicSensorDeliveryStream-1-2021-03-08-04-26-02-98c67a38-a619-4e99-9f56-06b2997650c0\n",
      "Load from cache: TemperatureAndHumidity2021/03/08/04/ThesisHydroponicSensorDeliveryStream-1-2021-03-08-04-41-07-ea592645-021d-4f27-aede-aa967db7665c\n",
      "Load from cache: TemperatureAndHumidity2021/03/08/04/ThesisHydroponicSensorDeliveryStream-1-2021-03-08-04-56-08-4355000d-2287-46d8-9248-04e3ce85930a\n",
      "Load from cache: TemperatureAndHumidity2021/03/08/05/ThesisHydroponicSensorDeliveryStream-1-2021-03-08-05-11-13-6a786b87-4fe3-425e-9c9c-a21758f6e790\n",
      "Load from cache: TemperatureAndHumidity2021/03/08/05/ThesisHydroponicSensorDeliveryStream-1-2021-03-08-05-26-20-39ab62d9-21be-4bc7-bfe9-db2e1adb10c1\n",
      "Load from cache: TemperatureAndHumidity2021/03/08/05/ThesisHydroponicSensorDeliveryStream-1-2021-03-08-05-41-24-eaa9fda6-a467-4433-94ab-fcb1239bec18\n",
      "Load from cache: TemperatureAndHumidity2021/03/08/05/ThesisHydroponicSensorDeliveryStream-1-2021-03-08-05-56-34-72ebee42-84f6-4a4d-978d-f687d043d4b5\n",
      "Load from cache: TemperatureAndHumidity2021/03/08/06/ThesisHydroponicSensorDeliveryStream-1-2021-03-08-06-11-39-59a95fc5-77d4-49ea-8e14-a67008c8cded\n",
      "Load from cache: TemperatureAndHumidity2021/03/08/06/ThesisHydroponicSensorDeliveryStream-1-2021-03-08-06-26-42-5afeabd5-4f5e-41f3-88b2-12649a6cb8a5\n",
      "Load from cache: TemperatureAndHumidity2021/03/08/06/ThesisHydroponicSensorDeliveryStream-1-2021-03-08-06-41-46-de108310-ae69-4300-8885-318402d67bd6\n",
      "Load from cache: TemperatureAndHumidity2021/03/08/06/ThesisHydroponicSensorDeliveryStream-1-2021-03-08-06-56-55-adf440dc-bdbc-4be8-acdd-67bd71d38b8b\n",
      "Load from cache: TemperatureAndHumidity2021/03/08/07/ThesisHydroponicSensorDeliveryStream-1-2021-03-08-07-11-59-52f4a9eb-6a98-4fac-a837-6b371e0d0591\n",
      "Load from cache: TemperatureAndHumidity2021/03/08/07/ThesisHydroponicSensorDeliveryStream-1-2021-03-08-07-27-02-041ae79e-1e66-46b2-aa90-e256309171fd\n",
      "Load from cache: TemperatureAndHumidity2021/03/08/07/ThesisHydroponicSensorDeliveryStream-1-2021-03-08-07-42-04-05ac4584-3ec3-4e65-8899-0affe0429c85\n",
      "Load from cache: TemperatureAndHumidity2021/03/08/07/ThesisHydroponicSensorDeliveryStream-1-2021-03-08-07-57-06-ceb31cb2-47fc-44cc-b00f-46121db681eb\n",
      "Load from cache: TemperatureAndHumidity2021/03/08/08/ThesisHydroponicSensorDeliveryStream-1-2021-03-08-08-12-09-df5e855e-49df-4aa3-b415-28120edd8fc8\n",
      "Load from cache: TemperatureAndHumidity2021/03/08/08/ThesisHydroponicSensorDeliveryStream-1-2021-03-08-08-27-15-059c1a33-13aa-43bd-a904-73e273f7ea79\n",
      "Load from cache: TemperatureAndHumidity2021/03/08/08/ThesisHydroponicSensorDeliveryStream-1-2021-03-08-08-42-18-329a8f14-b27d-49f6-9e7a-30edede72490\n",
      "Load from cache: TemperatureAndHumidity2021/03/08/08/ThesisHydroponicSensorDeliveryStream-1-2021-03-08-08-57-19-d58bbc02-50a3-4057-bdff-c6f39cf948f7\n",
      "Load from cache: TemperatureAndHumidity2021/03/08/09/ThesisHydroponicSensorDeliveryStream-1-2021-03-08-09-12-24-f04b99d2-af72-429a-8099-b525ec77afad\n",
      "Load from cache: TemperatureAndHumidity2021/03/08/09/ThesisHydroponicSensorDeliveryStream-1-2021-03-08-09-27-25-4abdcbe6-07ce-4068-87e5-fef9052546e3\n",
      "Load from cache: TemperatureAndHumidity2021/03/08/09/ThesisHydroponicSensorDeliveryStream-1-2021-03-08-09-42-30-768356f1-8ded-44cd-a839-ad4dadb126b3\n",
      "Load from cache: TemperatureAndHumidity2021/03/08/09/ThesisHydroponicSensorDeliveryStream-1-2021-03-08-09-57-34-9bf0c333-4610-4ded-b5ca-29bc59facd7d\n",
      "Load from cache: TemperatureAndHumidity2021/03/08/10/ThesisHydroponicSensorDeliveryStream-1-2021-03-08-10-12-37-c5d80e62-e341-42c1-bfb9-656c89969a22\n",
      "Load from cache: TemperatureAndHumidity2021/03/08/10/ThesisHydroponicSensorDeliveryStream-1-2021-03-08-10-27-40-c8e10068-3e54-482c-9c87-838171dc2546\n",
      "Load from cache: TemperatureAndHumidity2021/03/08/10/ThesisHydroponicSensorDeliveryStream-1-2021-03-08-10-42-45-99db4080-cde9-4c2d-9cbd-0953eff6e044\n",
      "Load from cache: TemperatureAndHumidity2021/03/08/10/ThesisHydroponicSensorDeliveryStream-1-2021-03-08-10-57-50-e817e2ea-8eb7-4ea4-80bc-26acc483db23\n",
      "Load from cache: TemperatureAndHumidity2021/03/08/11/ThesisHydroponicSensorDeliveryStream-1-2021-03-08-11-12-59-c313273c-edd8-4b5d-ad8d-ca8560de67a1\n",
      "Load from cache: TemperatureAndHumidity2021/03/08/11/ThesisHydroponicSensorDeliveryStream-1-2021-03-08-11-28-04-dd728a71-453d-4269-a527-6b20bf7b88a6\n",
      "Load from cache: TemperatureAndHumidity2021/03/08/11/ThesisHydroponicSensorDeliveryStream-1-2021-03-08-11-43-09-3635e961-e3f3-4f4c-b65d-70c1cabbd7d4\n",
      "Load from cache: TemperatureAndHumidity2021/03/08/11/ThesisHydroponicSensorDeliveryStream-1-2021-03-08-11-58-14-dc89d339-e731-4bc9-94de-db3b35169956\n",
      "Load from cache: TemperatureAndHumidity2021/03/08/12/ThesisHydroponicSensorDeliveryStream-1-2021-03-08-12-13-15-429840fe-b14f-4331-b0cd-4f2abf931dac\n",
      "Load from cache: TemperatureAndHumidity2021/03/08/12/ThesisHydroponicSensorDeliveryStream-1-2021-03-08-12-28-18-e051f677-4b41-4e41-b7aa-bca136f4587c\n",
      "Load from cache: TemperatureAndHumidity2021/03/08/12/ThesisHydroponicSensorDeliveryStream-1-2021-03-08-12-43-23-70c8e3a9-3255-4fd5-a768-464f4808b62b\n",
      "Load from cache: TemperatureAndHumidity2021/03/08/12/ThesisHydroponicSensorDeliveryStream-1-2021-03-08-12-58-24-0fa94db3-a585-4f03-b109-c93e14bc07ba\n",
      "Load from cache: TemperatureAndHumidity2021/03/08/13/ThesisHydroponicSensorDeliveryStream-1-2021-03-08-13-13-29-f3ffe69a-1719-482f-b103-b8d67df90996\n",
      "Load from cache: TemperatureAndHumidity2021/03/08/13/ThesisHydroponicSensorDeliveryStream-1-2021-03-08-13-28-30-e2d05871-bed9-4d80-a2c4-026467675213\n",
      "Load from cache: TemperatureAndHumidity2021/03/08/13/ThesisHydroponicSensorDeliveryStream-1-2021-03-08-13-43-35-2f86a361-4d81-4caa-8336-ce16d8d28445\n",
      "Load from cache: TemperatureAndHumidity2021/03/08/13/ThesisHydroponicSensorDeliveryStream-1-2021-03-08-13-58-39-f4594a3b-e02f-4e2b-a08f-0207987ec075\n",
      "Load from cache: TemperatureAndHumidity2021/03/08/14/ThesisHydroponicSensorDeliveryStream-1-2021-03-08-14-13-42-914dbce0-cf04-456e-a45c-26e140fd0b12\n",
      "Load from cache: TemperatureAndHumidity2021/03/08/14/ThesisHydroponicSensorDeliveryStream-1-2021-03-08-14-28-49-0dac1e4f-b8f3-48a4-adb8-59da02bc6369\n",
      "Load from cache: TemperatureAndHumidity2021/03/08/14/ThesisHydroponicSensorDeliveryStream-1-2021-03-08-14-43-51-c924f7b6-eadd-4b41-af92-51299b8e4d85\n",
      "Load from cache: TemperatureAndHumidity2021/03/08/14/ThesisHydroponicSensorDeliveryStream-1-2021-03-08-14-58-54-0659a073-1a73-42f2-b157-62745c6f63d3\n",
      "Load from cache: TemperatureAndHumidity2021/03/08/15/ThesisHydroponicSensorDeliveryStream-1-2021-03-08-15-13-57-574d69a3-75cc-46ad-abd0-aacc8ee69999\n",
      "Load from cache: TemperatureAndHumidity2021/03/08/15/ThesisHydroponicSensorDeliveryStream-1-2021-03-08-15-29-04-188bf66b-e3ac-4c3b-a4a5-a9fcd761beab\n",
      "Load from cache: TemperatureAndHumidity2021/03/08/15/ThesisHydroponicSensorDeliveryStream-1-2021-03-08-15-44-07-70dc0409-c384-44b0-b76a-b8399beaf230\n",
      "Load from cache: TemperatureAndHumidity2021/03/08/15/ThesisHydroponicSensorDeliveryStream-1-2021-03-08-15-59-15-b562e088-3128-426a-a1ec-bd94a82846a7\n",
      "Load from cache: TemperatureAndHumidity2021/03/08/16/ThesisHydroponicSensorDeliveryStream-1-2021-03-08-16-14-22-43263e5e-7e33-4399-87c6-1479a4a5480a\n",
      "Load from cache: TemperatureAndHumidity2021/03/08/16/ThesisHydroponicSensorDeliveryStream-1-2021-03-08-16-29-27-777530a8-be94-4710-af7e-a13406e248bd\n",
      "Load from cache: TemperatureAndHumidity2021/03/08/16/ThesisHydroponicSensorDeliveryStream-1-2021-03-08-16-44-36-505575bd-0362-482d-9230-909437c69f4c\n",
      "Load from cache: TemperatureAndHumidity2021/03/08/17/ThesisHydroponicSensorDeliveryStream-1-2021-03-08-17-04-43-7d267b45-2c87-4979-a5c3-7bf0f5b991d7\n",
      "Load from cache: TemperatureAndHumidity2021/03/08/17/ThesisHydroponicSensorDeliveryStream-1-2021-03-08-17-19-49-462e4cf2-1e88-46d6-b6c4-207f76b0f4eb\n",
      "Load from cache: TemperatureAndHumidity2021/03/08/17/ThesisHydroponicSensorDeliveryStream-1-2021-03-08-17-34-55-ef419e55-3ba1-4a2d-b515-279d77ba872a\n",
      "Load from cache: TemperatureAndHumidity2021/03/08/17/ThesisHydroponicSensorDeliveryStream-1-2021-03-08-17-49-58-c1830811-943c-4b44-84c7-509c32ff7a16\n",
      "Load from cache: TemperatureAndHumidity2021/03/08/18/ThesisHydroponicSensorDeliveryStream-1-2021-03-08-18-04-59-02e46788-8285-48dc-9adf-d40a1d9a9f79\n",
      "Load from cache: TemperatureAndHumidity2021/03/08/18/ThesisHydroponicSensorDeliveryStream-1-2021-03-08-18-20-07-4391a9bd-301b-45ae-a61f-83576b642574\n",
      "Load from cache: TemperatureAndHumidity2021/03/08/18/ThesisHydroponicSensorDeliveryStream-1-2021-03-08-18-35-12-d393af30-6b86-4215-a452-5a23327fe0cd\n",
      "Load from cache: TemperatureAndHumidity2021/03/08/18/ThesisHydroponicSensorDeliveryStream-1-2021-03-08-18-50-17-8e687fae-db06-49ef-97a8-84441cc31c3a\n",
      "Load from cache: TemperatureAndHumidity2021/03/08/19/ThesisHydroponicSensorDeliveryStream-1-2021-03-08-19-05-22-7ae21827-a5ee-4686-902e-aef8d799dacf\n",
      "Load from cache: TemperatureAndHumidity2021/03/08/19/ThesisHydroponicSensorDeliveryStream-1-2021-03-08-19-20-24-9b6ba143-bb98-4d46-928d-c5a710d8f019\n",
      "Load from cache: TemperatureAndHumidity2021/03/08/19/ThesisHydroponicSensorDeliveryStream-1-2021-03-08-19-35-28-a9b8bcfd-0cf6-4ff0-ac6e-2de18bfd8018\n",
      "Load from cache: TemperatureAndHumidity2021/03/08/19/ThesisHydroponicSensorDeliveryStream-1-2021-03-08-19-50-35-0f0bd155-d631-4ff7-a8a9-65d0ac504171\n",
      "Load from cache: TemperatureAndHumidity2021/03/08/20/ThesisHydroponicSensorDeliveryStream-1-2021-03-08-20-05-41-cd22d05c-5ff6-40b7-975e-e0c6c4ab5b95\n"
     ]
    }
   ],
   "source": [
    "# Fetch existing data or load fresh data.\n",
    "# Remove redundancy and null.\n",
    "files = s3_client.list_objects(Bucket=s3_bucket_name, Prefix=s3_bucket_prefix)['Contents']\n",
    "parsed_sensor_values = []\n",
    "for file in files:\n",
    "    if not os.path.isfile('.cache/' + file['Key']) or (datetime.now() - datetime.fromtimestamp(os.path.getctime('.cache/' + file['Key']))).days > 31:\n",
    "        print(\"Fetching fresh file from S3:\", file['Key'])\n",
    "        s3_object = s3_client.get_object(Bucket=s3_bucket_name, Key= file['Key'])\n",
    "        raw_sensor_values = s3_object['Body'].read().decode()\n",
    "        clean_sensor_values = re.sub(\",+\", \",\", raw_sensor_values)\n",
    "        sensor_values = json.loads(\"[\" + clean_sensor_values.strip(',') + \"]\")\n",
    "    else:\n",
    "        print(\"Load from cache:\", file['Key'])\n",
    "        with open('.cache/' + file['Key']) as f:\n",
    "            sensor_values = json.load(f)\n",
    "    parsed_sensor_values += sensor_values\n",
    "    os.makedirs('.cache/' + os.path.dirname(file['Key']), exist_ok=True)\n",
    "    with open('.cache/' + file['Key'], 'w') as f:\n",
    "        json.dump(sensor_values, f)"
   ]
  },
  {
   "source": [
    "## Data preparation"
   ],
   "cell_type": "markdown",
   "metadata": {}
  },
  {
   "cell_type": "code",
   "execution_count": 5,
   "metadata": {},
   "outputs": [],
   "source": [
    "df = pd.DataFrame(parsed_sensor_values)"
   ]
  },
  {
   "cell_type": "code",
   "execution_count": 6,
   "metadata": {},
   "outputs": [],
   "source": [
    "df['temperature'] = df['temperature'].astype(float)\n",
    "df['humidity'] = df['humidity'].astype(float)\n",
    "df['datetime'] = pd.to_datetime(df['datetime'])"
   ]
  },
  {
   "cell_type": "code",
   "execution_count": 7,
   "metadata": {},
   "outputs": [],
   "source": [
    "df.sort_values('datetime', ascending=True, inplace=True)"
   ]
  },
  {
   "cell_type": "code",
   "execution_count": 8,
   "metadata": {},
   "outputs": [
    {
     "output_type": "stream",
     "name": "stdout",
     "text": [
      "Number of rows and columns: (16059, 4)\n"
     ]
    },
    {
     "output_type": "execute_result",
     "data": {
      "text/plain": [
       "         sensor_type  temperature  humidity            datetime\n",
       "0  hydroponic sensor         14.0      38.0 2021-02-26 08:51:37\n",
       "1  hydroponic sensor         15.0      36.0 2021-02-26 08:51:43\n",
       "2  hydroponic sensor         15.0      36.0 2021-02-26 08:51:48\n",
       "3  hydroponic sensor         15.0      36.0 2021-02-26 08:51:53\n",
       "4  hydroponic sensor         15.0      35.0 2021-02-26 08:51:58"
      ],
      "text/html": "<div>\n<style scoped>\n    .dataframe tbody tr th:only-of-type {\n        vertical-align: middle;\n    }\n\n    .dataframe tbody tr th {\n        vertical-align: top;\n    }\n\n    .dataframe thead th {\n        text-align: right;\n    }\n</style>\n<table border=\"1\" class=\"dataframe\">\n  <thead>\n    <tr style=\"text-align: right;\">\n      <th></th>\n      <th>sensor_type</th>\n      <th>temperature</th>\n      <th>humidity</th>\n      <th>datetime</th>\n    </tr>\n  </thead>\n  <tbody>\n    <tr>\n      <th>0</th>\n      <td>hydroponic sensor</td>\n      <td>14.0</td>\n      <td>38.0</td>\n      <td>2021-02-26 08:51:37</td>\n    </tr>\n    <tr>\n      <th>1</th>\n      <td>hydroponic sensor</td>\n      <td>15.0</td>\n      <td>36.0</td>\n      <td>2021-02-26 08:51:43</td>\n    </tr>\n    <tr>\n      <th>2</th>\n      <td>hydroponic sensor</td>\n      <td>15.0</td>\n      <td>36.0</td>\n      <td>2021-02-26 08:51:48</td>\n    </tr>\n    <tr>\n      <th>3</th>\n      <td>hydroponic sensor</td>\n      <td>15.0</td>\n      <td>36.0</td>\n      <td>2021-02-26 08:51:53</td>\n    </tr>\n    <tr>\n      <th>4</th>\n      <td>hydroponic sensor</td>\n      <td>15.0</td>\n      <td>35.0</td>\n      <td>2021-02-26 08:51:58</td>\n    </tr>\n  </tbody>\n</table>\n</div>"
     },
     "metadata": {},
     "execution_count": 8
    }
   ],
   "source": [
    "print('Number of rows and columns:', df.shape)\n",
    "df.head(5)"
   ]
  },
  {
   "cell_type": "code",
   "execution_count": 9,
   "metadata": {},
   "outputs": [],
   "source": [
    "# Splitting dataset into trainning and testing sets.\n",
    "split_index = int(len(df) * 0.7)\n",
    "training_set = df.iloc[:split_index, 1:2].values\n",
    "test_set = df.iloc[split_index:, 1:2].values"
   ]
  },
  {
   "cell_type": "code",
   "execution_count": 10,
   "metadata": {},
   "outputs": [
    {
     "output_type": "stream",
     "name": "stdout",
     "text": [
      "Number of rows and columns in training dataset: (11241, 1)\nNumber of rows and columns in testing dataset: (4818, 1)\n"
     ]
    }
   ],
   "source": [
    "print('Number of rows and columns in training dataset:', training_set.shape)\n",
    "print('Number of rows and columns in testing dataset:', test_set.shape)"
   ]
  },
  {
   "cell_type": "code",
   "execution_count": 11,
   "metadata": {},
   "outputs": [],
   "source": [
    "# Feature Scaling.\n",
    "sc = MinMaxScaler(feature_range = (0,1))\n",
    "training_set_scaled = sc.fit_transform(training_set)"
   ]
  },
  {
   "cell_type": "code",
   "execution_count": 12,
   "metadata": {},
   "outputs": [
    {
     "output_type": "stream",
     "name": "stdout",
     "text": [
      "Number of rows and columns in X_train: (11231, 10, 1)\n"
     ]
    }
   ],
   "source": [
    "# Creating a data structure with 60 time-steps and 1 output.\n",
    "X_train = []\n",
    "y_train = []\n",
    "# n_time_steps = 60\n",
    "n_time_steps = 10\n",
    "for i in range(n_time_steps, len(training_set)):\n",
    "    start_index = i-n_time_steps\n",
    "    X_train.append(training_set_scaled[start_index:i, 0])\n",
    "    y_train.append(training_set_scaled[i, 0])\n",
    "X_train, y_train = np.array(X_train), np.array(y_train)\n",
    "\n",
    "# Preparing for modeling by setting number of feature dimension.\n",
    "n_features = 1\n",
    "X_train = np.reshape(X_train, (X_train.shape[0], X_train.shape[1], n_features))\n",
    "print('Number of rows and columns in X_train:', X_train.shape)"
   ]
  },
  {
   "source": [
    "## Train Model"
   ],
   "cell_type": "markdown",
   "metadata": {}
  },
  {
   "cell_type": "code",
   "execution_count": 13,
   "metadata": {},
   "outputs": [
    {
     "output_type": "stream",
     "name": "stdout",
     "text": [
      "Epoch 1/2\n",
      "375/375 [==============================] - 5s 14ms/step - loss: 0.0244\n",
      "Epoch 2/2\n",
      "375/375 [==============================] - 5s 13ms/step - loss: 0.0084\n"
     ]
    },
    {
     "output_type": "execute_result",
     "data": {
      "text/plain": [
       "<tensorflow.python.keras.callbacks.History at 0x1f6c6f70a08>"
      ]
     },
     "metadata": {},
     "execution_count": 13
    }
   ],
   "source": [
    "# Build the LSTM Model with 50 neurons and 4 hidden layers.\n",
    "# Assign 1 neuron in the output layer for predicting the normalized temperature value.\n",
    "# Use the MSE loss function and the Adam stochastic gradient descent optimizer.\n",
    "# We use Dropout to avoid overfitting\n",
    "model = Sequential()\n",
    "#Adding the first LSTM layer and some Dropout regularisation\n",
    "model.add(LSTM(units = 50, return_sequences = True, input_shape = (X_train.shape[1], 1)))\n",
    "model.add(Dropout(0.2))\n",
    "# Adding a second LSTM layer and some Dropout regularisation\n",
    "model.add(LSTM(units = 50, return_sequences = True))\n",
    "model.add(Dropout(0.2))\n",
    "# Adding a third LSTM layer and some Dropout regularisation\n",
    "model.add(LSTM(units = 50, return_sequences = True))\n",
    "model.add(Dropout(0.2))\n",
    "# Adding a fourth LSTM layer and some Dropout regularisation\n",
    "model.add(LSTM(units = 50))\n",
    "model.add(Dropout(0.2))\n",
    "# Adding the output layer\n",
    "model.add(Dense(units = 1))\n",
    "# Compiling the RNN\n",
    "model.compile(optimizer = 'adam', loss = 'mean_squared_error')\n",
    "# Fitting the RNN to the Training set\n",
    "# weights only are updated when a batch is completed\n",
    "model.fit(X_train, y_train, epochs = 2, batch_size = 30)"
   ]
  },
  {
   "cell_type": "code",
   "execution_count": 14,
   "metadata": {},
   "outputs": [
    {
     "output_type": "stream",
     "name": "stdout",
     "text": [
      "11231\n"
     ]
    }
   ],
   "source": [
    "# Prepare the test data (reshape them)\n",
    "# Getting the predicted temperature.\n",
    "dataset_train = df.iloc[:len(training_set), 1:2]\n",
    "dataset_test = df.iloc[len(training_set):, 1:2]\n",
    "dataset_total = pd.concat((dataset_train, dataset_test), axis = 0)\n",
    "n_inputs = len(dataset_total) - len(dataset_test) - n_time_steps\n",
    "print(n_inputs)\n",
    "inputs = dataset_total[n_inputs:].values\n",
    "inputs = inputs.reshape(-1,1)\n",
    "inputs = sc.transform(inputs)\n",
    "\n",
    "# Preparing testing dataset.\n",
    "X_test = []\n",
    "for i in range(n_time_steps, len(inputs)):\n",
    "    X_test.append(inputs[i-n_time_steps:i, 0])\n",
    "X_test = np.array(X_test)\n",
    "X_test = np.reshape(X_test, (X_test.shape[0], X_test.shape[1], 1))"
   ]
  },
  {
   "cell_type": "code",
   "execution_count": 15,
   "metadata": {},
   "outputs": [],
   "source": [
    "predicted_temperature = model.predict(X_test)\n",
    "predicted_temperature = sc.inverse_transform(predicted_temperature)"
   ]
  },
  {
   "source": [
    "## Evaluate Model"
   ],
   "cell_type": "markdown",
   "metadata": {}
  },
  {
   "cell_type": "code",
   "execution_count": 16,
   "metadata": {},
   "outputs": [
    {
     "output_type": "display_data",
     "data": {
      "text/plain": "<Figure size 432x288 with 1 Axes>",
      "image/svg+xml": "<?xml version=\"1.0\" encoding=\"utf-8\" standalone=\"no\"?>\r\n<!DOCTYPE svg PUBLIC \"-//W3C//DTD SVG 1.1//EN\"\r\n  \"http://www.w3.org/Graphics/SVG/1.1/DTD/svg11.dtd\">\r\n<!-- Created with matplotlib (https://matplotlib.org/) -->\r\n<svg height=\"260.63625pt\" version=\"1.1\" viewBox=\"0 0 382.603125 260.63625\" width=\"382.603125pt\" xmlns=\"http://www.w3.org/2000/svg\" xmlns:xlink=\"http://www.w3.org/1999/xlink\">\r\n <metadata>\r\n  <rdf:RDF xmlns:cc=\"http://creativecommons.org/ns#\" xmlns:dc=\"http://purl.org/dc/elements/1.1/\" xmlns:rdf=\"http://www.w3.org/1999/02/22-rdf-syntax-ns#\">\r\n   <cc:Work>\r\n    <dc:type rdf:resource=\"http://purl.org/dc/dcmitype/StillImage\"/>\r\n    <dc:date>2021-03-18T11:27:25.766772</dc:date>\r\n    <dc:format>image/svg+xml</dc:format>\r\n    <dc:creator>\r\n     <cc:Agent>\r\n      <dc:title>Matplotlib v3.3.4, https://matplotlib.org/</dc:title>\r\n     </cc:Agent>\r\n    </dc:creator>\r\n   </cc:Work>\r\n  </rdf:RDF>\r\n </metadata>\r\n <defs>\r\n  <style type=\"text/css\">*{stroke-linecap:butt;stroke-linejoin:round;}</style>\r\n </defs>\r\n <g id=\"figure_1\">\r\n  <g id=\"patch_1\">\r\n   <path d=\"M 0 260.63625 \r\nL 382.603125 260.63625 \r\nL 382.603125 0 \r\nL 0 0 \r\nz\r\n\" style=\"fill:none;\"/>\r\n  </g>\r\n  <g id=\"axes_1\">\r\n   <g id=\"patch_2\">\r\n    <path d=\"M 40.603125 239.758125 \r\nL 375.403125 239.758125 \r\nL 375.403125 22.318125 \r\nL 40.603125 22.318125 \r\nz\r\n\" style=\"fill:#ffffff;\"/>\r\n   </g>\r\n   <g id=\"matplotlib.axis_1\">\r\n    <g id=\"text_1\">\r\n     <!-- Time -->\r\n     <g transform=\"translate(195.769531 251.356563)scale(0.1 -0.1)\">\r\n      <defs>\r\n       <path d=\"M -0.296875 72.90625 \r\nL 61.375 72.90625 \r\nL 61.375 64.59375 \r\nL 35.5 64.59375 \r\nL 35.5 0 \r\nL 25.59375 0 \r\nL 25.59375 64.59375 \r\nL -0.296875 64.59375 \r\nz\r\n\" id=\"DejaVuSans-84\"/>\r\n       <path d=\"M 9.421875 54.6875 \r\nL 18.40625 54.6875 \r\nL 18.40625 0 \r\nL 9.421875 0 \r\nz\r\nM 9.421875 75.984375 \r\nL 18.40625 75.984375 \r\nL 18.40625 64.59375 \r\nL 9.421875 64.59375 \r\nz\r\n\" id=\"DejaVuSans-105\"/>\r\n       <path d=\"M 52 44.1875 \r\nQ 55.375 50.25 60.0625 53.125 \r\nQ 64.75 56 71.09375 56 \r\nQ 79.640625 56 84.28125 50.015625 \r\nQ 88.921875 44.046875 88.921875 33.015625 \r\nL 88.921875 0 \r\nL 79.890625 0 \r\nL 79.890625 32.71875 \r\nQ 79.890625 40.578125 77.09375 44.375 \r\nQ 74.3125 48.1875 68.609375 48.1875 \r\nQ 61.625 48.1875 57.5625 43.546875 \r\nQ 53.515625 38.921875 53.515625 30.90625 \r\nL 53.515625 0 \r\nL 44.484375 0 \r\nL 44.484375 32.71875 \r\nQ 44.484375 40.625 41.703125 44.40625 \r\nQ 38.921875 48.1875 33.109375 48.1875 \r\nQ 26.21875 48.1875 22.15625 43.53125 \r\nQ 18.109375 38.875 18.109375 30.90625 \r\nL 18.109375 0 \r\nL 9.078125 0 \r\nL 9.078125 54.6875 \r\nL 18.109375 54.6875 \r\nL 18.109375 46.1875 \r\nQ 21.1875 51.21875 25.484375 53.609375 \r\nQ 29.78125 56 35.6875 56 \r\nQ 41.65625 56 45.828125 52.96875 \r\nQ 50 49.953125 52 44.1875 \r\nz\r\n\" id=\"DejaVuSans-109\"/>\r\n       <path d=\"M 56.203125 29.59375 \r\nL 56.203125 25.203125 \r\nL 14.890625 25.203125 \r\nQ 15.484375 15.921875 20.484375 11.0625 \r\nQ 25.484375 6.203125 34.421875 6.203125 \r\nQ 39.59375 6.203125 44.453125 7.46875 \r\nQ 49.3125 8.734375 54.109375 11.28125 \r\nL 54.109375 2.78125 \r\nQ 49.265625 0.734375 44.1875 -0.34375 \r\nQ 39.109375 -1.421875 33.890625 -1.421875 \r\nQ 20.796875 -1.421875 13.15625 6.1875 \r\nQ 5.515625 13.8125 5.515625 26.8125 \r\nQ 5.515625 40.234375 12.765625 48.109375 \r\nQ 20.015625 56 32.328125 56 \r\nQ 43.359375 56 49.78125 48.890625 \r\nQ 56.203125 41.796875 56.203125 29.59375 \r\nz\r\nM 47.21875 32.234375 \r\nQ 47.125 39.59375 43.09375 43.984375 \r\nQ 39.0625 48.390625 32.421875 48.390625 \r\nQ 24.90625 48.390625 20.390625 44.140625 \r\nQ 15.875 39.890625 15.1875 32.171875 \r\nz\r\n\" id=\"DejaVuSans-101\"/>\r\n      </defs>\r\n      <use xlink:href=\"#DejaVuSans-84\"/>\r\n      <use x=\"57.958984\" xlink:href=\"#DejaVuSans-105\"/>\r\n      <use x=\"85.742188\" xlink:href=\"#DejaVuSans-109\"/>\r\n      <use x=\"183.154297\" xlink:href=\"#DejaVuSans-101\"/>\r\n     </g>\r\n    </g>\r\n   </g>\r\n   <g id=\"matplotlib.axis_2\">\r\n    <g id=\"ytick_1\">\r\n     <g id=\"line2d_1\">\r\n      <defs>\r\n       <path d=\"M 0 0 \r\nL -3.5 0 \r\n\" id=\"m504eae36e1\" style=\"stroke:#000000;stroke-width:0.8;\"/>\r\n      </defs>\r\n      <g>\r\n       <use style=\"stroke:#000000;stroke-width:0.8;\" x=\"40.603125\" xlink:href=\"#m504eae36e1\" y=\"229.874489\"/>\r\n      </g>\r\n     </g>\r\n     <g id=\"text_2\">\r\n      <!-- 21 -->\r\n      <g transform=\"translate(20.878125 233.673707)scale(0.1 -0.1)\">\r\n       <defs>\r\n        <path d=\"M 19.1875 8.296875 \r\nL 53.609375 8.296875 \r\nL 53.609375 0 \r\nL 7.328125 0 \r\nL 7.328125 8.296875 \r\nQ 12.9375 14.109375 22.625 23.890625 \r\nQ 32.328125 33.6875 34.8125 36.53125 \r\nQ 39.546875 41.84375 41.421875 45.53125 \r\nQ 43.3125 49.21875 43.3125 52.78125 \r\nQ 43.3125 58.59375 39.234375 62.25 \r\nQ 35.15625 65.921875 28.609375 65.921875 \r\nQ 23.96875 65.921875 18.8125 64.3125 \r\nQ 13.671875 62.703125 7.8125 59.421875 \r\nL 7.8125 69.390625 \r\nQ 13.765625 71.78125 18.9375 73 \r\nQ 24.125 74.21875 28.421875 74.21875 \r\nQ 39.75 74.21875 46.484375 68.546875 \r\nQ 53.21875 62.890625 53.21875 53.421875 \r\nQ 53.21875 48.921875 51.53125 44.890625 \r\nQ 49.859375 40.875 45.40625 35.40625 \r\nQ 44.1875 33.984375 37.640625 27.21875 \r\nQ 31.109375 20.453125 19.1875 8.296875 \r\nz\r\n\" id=\"DejaVuSans-50\"/>\r\n        <path d=\"M 12.40625 8.296875 \r\nL 28.515625 8.296875 \r\nL 28.515625 63.921875 \r\nL 10.984375 60.40625 \r\nL 10.984375 69.390625 \r\nL 28.421875 72.90625 \r\nL 38.28125 72.90625 \r\nL 38.28125 8.296875 \r\nL 54.390625 8.296875 \r\nL 54.390625 0 \r\nL 12.40625 0 \r\nz\r\n\" id=\"DejaVuSans-49\"/>\r\n       </defs>\r\n       <use xlink:href=\"#DejaVuSans-50\"/>\r\n       <use x=\"63.623047\" xlink:href=\"#DejaVuSans-49\"/>\r\n      </g>\r\n     </g>\r\n    </g>\r\n    <g id=\"ytick_2\">\r\n     <g id=\"line2d_2\">\r\n      <g>\r\n       <use style=\"stroke:#000000;stroke-width:0.8;\" x=\"40.603125\" xlink:href=\"#m504eae36e1\" y=\"184.272525\"/>\r\n      </g>\r\n     </g>\r\n     <g id=\"text_3\">\r\n      <!-- 22 -->\r\n      <g transform=\"translate(20.878125 188.071744)scale(0.1 -0.1)\">\r\n       <use xlink:href=\"#DejaVuSans-50\"/>\r\n       <use x=\"63.623047\" xlink:href=\"#DejaVuSans-50\"/>\r\n      </g>\r\n     </g>\r\n    </g>\r\n    <g id=\"ytick_3\">\r\n     <g id=\"line2d_3\">\r\n      <g>\r\n       <use style=\"stroke:#000000;stroke-width:0.8;\" x=\"40.603125\" xlink:href=\"#m504eae36e1\" y=\"138.670562\"/>\r\n      </g>\r\n     </g>\r\n     <g id=\"text_4\">\r\n      <!-- 23 -->\r\n      <g transform=\"translate(20.878125 142.469781)scale(0.1 -0.1)\">\r\n       <defs>\r\n        <path d=\"M 40.578125 39.3125 \r\nQ 47.65625 37.796875 51.625 33 \r\nQ 55.609375 28.21875 55.609375 21.1875 \r\nQ 55.609375 10.40625 48.1875 4.484375 \r\nQ 40.765625 -1.421875 27.09375 -1.421875 \r\nQ 22.515625 -1.421875 17.65625 -0.515625 \r\nQ 12.796875 0.390625 7.625 2.203125 \r\nL 7.625 11.71875 \r\nQ 11.71875 9.328125 16.59375 8.109375 \r\nQ 21.484375 6.890625 26.8125 6.890625 \r\nQ 36.078125 6.890625 40.9375 10.546875 \r\nQ 45.796875 14.203125 45.796875 21.1875 \r\nQ 45.796875 27.640625 41.28125 31.265625 \r\nQ 36.765625 34.90625 28.71875 34.90625 \r\nL 20.21875 34.90625 \r\nL 20.21875 43.015625 \r\nL 29.109375 43.015625 \r\nQ 36.375 43.015625 40.234375 45.921875 \r\nQ 44.09375 48.828125 44.09375 54.296875 \r\nQ 44.09375 59.90625 40.109375 62.90625 \r\nQ 36.140625 65.921875 28.71875 65.921875 \r\nQ 24.65625 65.921875 20.015625 65.03125 \r\nQ 15.375 64.15625 9.8125 62.3125 \r\nL 9.8125 71.09375 \r\nQ 15.4375 72.65625 20.34375 73.4375 \r\nQ 25.25 74.21875 29.59375 74.21875 \r\nQ 40.828125 74.21875 47.359375 69.109375 \r\nQ 53.90625 64.015625 53.90625 55.328125 \r\nQ 53.90625 49.265625 50.4375 45.09375 \r\nQ 46.96875 40.921875 40.578125 39.3125 \r\nz\r\n\" id=\"DejaVuSans-51\"/>\r\n       </defs>\r\n       <use xlink:href=\"#DejaVuSans-50\"/>\r\n       <use x=\"63.623047\" xlink:href=\"#DejaVuSans-51\"/>\r\n      </g>\r\n     </g>\r\n    </g>\r\n    <g id=\"ytick_4\">\r\n     <g id=\"line2d_4\">\r\n      <g>\r\n       <use style=\"stroke:#000000;stroke-width:0.8;\" x=\"40.603125\" xlink:href=\"#m504eae36e1\" y=\"93.068599\"/>\r\n      </g>\r\n     </g>\r\n     <g id=\"text_5\">\r\n      <!-- 24 -->\r\n      <g transform=\"translate(20.878125 96.867817)scale(0.1 -0.1)\">\r\n       <defs>\r\n        <path d=\"M 37.796875 64.3125 \r\nL 12.890625 25.390625 \r\nL 37.796875 25.390625 \r\nz\r\nM 35.203125 72.90625 \r\nL 47.609375 72.90625 \r\nL 47.609375 25.390625 \r\nL 58.015625 25.390625 \r\nL 58.015625 17.1875 \r\nL 47.609375 17.1875 \r\nL 47.609375 0 \r\nL 37.796875 0 \r\nL 37.796875 17.1875 \r\nL 4.890625 17.1875 \r\nL 4.890625 26.703125 \r\nz\r\n\" id=\"DejaVuSans-52\"/>\r\n       </defs>\r\n       <use xlink:href=\"#DejaVuSans-50\"/>\r\n       <use x=\"63.623047\" xlink:href=\"#DejaVuSans-52\"/>\r\n      </g>\r\n     </g>\r\n    </g>\r\n    <g id=\"ytick_5\">\r\n     <g id=\"line2d_5\">\r\n      <g>\r\n       <use style=\"stroke:#000000;stroke-width:0.8;\" x=\"40.603125\" xlink:href=\"#m504eae36e1\" y=\"47.466635\"/>\r\n      </g>\r\n     </g>\r\n     <g id=\"text_6\">\r\n      <!-- 25 -->\r\n      <g transform=\"translate(20.878125 51.265854)scale(0.1 -0.1)\">\r\n       <defs>\r\n        <path d=\"M 10.796875 72.90625 \r\nL 49.515625 72.90625 \r\nL 49.515625 64.59375 \r\nL 19.828125 64.59375 \r\nL 19.828125 46.734375 \r\nQ 21.96875 47.46875 24.109375 47.828125 \r\nQ 26.265625 48.1875 28.421875 48.1875 \r\nQ 40.625 48.1875 47.75 41.5 \r\nQ 54.890625 34.8125 54.890625 23.390625 \r\nQ 54.890625 11.625 47.5625 5.09375 \r\nQ 40.234375 -1.421875 26.90625 -1.421875 \r\nQ 22.3125 -1.421875 17.546875 -0.640625 \r\nQ 12.796875 0.140625 7.71875 1.703125 \r\nL 7.71875 11.625 \r\nQ 12.109375 9.234375 16.796875 8.0625 \r\nQ 21.484375 6.890625 26.703125 6.890625 \r\nQ 35.15625 6.890625 40.078125 11.328125 \r\nQ 45.015625 15.765625 45.015625 23.390625 \r\nQ 45.015625 31 40.078125 35.4375 \r\nQ 35.15625 39.890625 26.703125 39.890625 \r\nQ 22.75 39.890625 18.8125 39.015625 \r\nQ 14.890625 38.140625 10.796875 36.28125 \r\nz\r\n\" id=\"DejaVuSans-53\"/>\r\n       </defs>\r\n       <use xlink:href=\"#DejaVuSans-50\"/>\r\n       <use x=\"63.623047\" xlink:href=\"#DejaVuSans-53\"/>\r\n      </g>\r\n     </g>\r\n    </g>\r\n    <g id=\"text_7\">\r\n     <!-- Value -->\r\n     <g transform=\"translate(14.798438 144.769375)rotate(-90)scale(0.1 -0.1)\">\r\n      <defs>\r\n       <path d=\"M 28.609375 0 \r\nL 0.78125 72.90625 \r\nL 11.078125 72.90625 \r\nL 34.1875 11.53125 \r\nL 57.328125 72.90625 \r\nL 67.578125 72.90625 \r\nL 39.796875 0 \r\nz\r\n\" id=\"DejaVuSans-86\"/>\r\n       <path d=\"M 34.28125 27.484375 \r\nQ 23.390625 27.484375 19.1875 25 \r\nQ 14.984375 22.515625 14.984375 16.5 \r\nQ 14.984375 11.71875 18.140625 8.90625 \r\nQ 21.296875 6.109375 26.703125 6.109375 \r\nQ 34.1875 6.109375 38.703125 11.40625 \r\nQ 43.21875 16.703125 43.21875 25.484375 \r\nL 43.21875 27.484375 \r\nz\r\nM 52.203125 31.203125 \r\nL 52.203125 0 \r\nL 43.21875 0 \r\nL 43.21875 8.296875 \r\nQ 40.140625 3.328125 35.546875 0.953125 \r\nQ 30.953125 -1.421875 24.3125 -1.421875 \r\nQ 15.921875 -1.421875 10.953125 3.296875 \r\nQ 6 8.015625 6 15.921875 \r\nQ 6 25.140625 12.171875 29.828125 \r\nQ 18.359375 34.515625 30.609375 34.515625 \r\nL 43.21875 34.515625 \r\nL 43.21875 35.40625 \r\nQ 43.21875 41.609375 39.140625 45 \r\nQ 35.0625 48.390625 27.6875 48.390625 \r\nQ 23 48.390625 18.546875 47.265625 \r\nQ 14.109375 46.140625 10.015625 43.890625 \r\nL 10.015625 52.203125 \r\nQ 14.9375 54.109375 19.578125 55.046875 \r\nQ 24.21875 56 28.609375 56 \r\nQ 40.484375 56 46.34375 49.84375 \r\nQ 52.203125 43.703125 52.203125 31.203125 \r\nz\r\n\" id=\"DejaVuSans-97\"/>\r\n       <path d=\"M 9.421875 75.984375 \r\nL 18.40625 75.984375 \r\nL 18.40625 0 \r\nL 9.421875 0 \r\nz\r\n\" id=\"DejaVuSans-108\"/>\r\n       <path d=\"M 8.5 21.578125 \r\nL 8.5 54.6875 \r\nL 17.484375 54.6875 \r\nL 17.484375 21.921875 \r\nQ 17.484375 14.15625 20.5 10.265625 \r\nQ 23.53125 6.390625 29.59375 6.390625 \r\nQ 36.859375 6.390625 41.078125 11.03125 \r\nQ 45.3125 15.671875 45.3125 23.6875 \r\nL 45.3125 54.6875 \r\nL 54.296875 54.6875 \r\nL 54.296875 0 \r\nL 45.3125 0 \r\nL 45.3125 8.40625 \r\nQ 42.046875 3.421875 37.71875 1 \r\nQ 33.40625 -1.421875 27.6875 -1.421875 \r\nQ 18.265625 -1.421875 13.375 4.4375 \r\nQ 8.5 10.296875 8.5 21.578125 \r\nz\r\nM 31.109375 56 \r\nz\r\n\" id=\"DejaVuSans-117\"/>\r\n      </defs>\r\n      <use xlink:href=\"#DejaVuSans-86\"/>\r\n      <use x=\"60.658203\" xlink:href=\"#DejaVuSans-97\"/>\r\n      <use x=\"121.9375\" xlink:href=\"#DejaVuSans-108\"/>\r\n      <use x=\"149.720703\" xlink:href=\"#DejaVuSans-117\"/>\r\n      <use x=\"213.099609\" xlink:href=\"#DejaVuSans-101\"/>\r\n     </g>\r\n    </g>\r\n   </g>\r\n   <g id=\"line2d_6\">\r\n    <path clip-path=\"url(#p90a7887bf5)\" d=\"M 55.821307 47.466635 \r\nL 56.758109 47.466635 \r\nL 56.820149 93.068599 \r\nL 56.948365 47.466635 \r\nL 57.010405 47.466635 \r\nL 57.072445 93.068599 \r\nL 57.196525 47.466635 \r\nL 57.322673 93.068599 \r\nL 57.38678 93.068599 \r\nL 57.44882 47.466635 \r\nL 57.5729 93.068599 \r\nL 86.513482 93.068599 \r\nL 86.637561 47.466635 \r\nL 86.763709 47.466635 \r\nL 86.825749 93.068599 \r\nL 86.949829 47.466635 \r\nL 87.326204 47.466635 \r\nL 87.450284 93.068599 \r\nL 90.193482 93.068599 \r\nL 90.255522 138.670562 \r\nL 90.38167 93.068599 \r\nL 90.507818 93.068599 \r\nL 90.633965 138.670562 \r\nL 90.696005 93.068599 \r\nL 90.820085 138.670562 \r\nL 94.376006 138.670562 \r\nL 94.438045 184.272525 \r\nL 94.562125 138.670562 \r\nL 96.123463 138.670562 \r\nL 96.247543 93.068599 \r\nL 96.371623 93.068599 \r\nL 96.495702 138.670562 \r\nL 96.619782 138.670562 \r\nL 96.682856 93.068599 \r\nL 96.80797 138.670562 \r\nL 96.933084 138.670562 \r\nL 96.995124 93.068599 \r\nL 97.057163 138.670562 \r\nL 97.181243 93.068599 \r\nL 97.305323 93.068599 \r\nL 97.367363 138.670562 \r\nL 97.429403 93.068599 \r\nL 97.555551 138.670562 \r\nL 97.617591 138.670562 \r\nL 97.679631 93.068599 \r\nL 117.828124 93.068599 \r\nL 117.890163 47.466635 \r\nL 117.952203 93.068599 \r\nL 120.760543 93.068599 \r\nL 120.822583 47.466635 \r\nL 120.884623 93.068599 \r\nL 120.946663 47.466635 \r\nL 121.072811 93.068599 \r\nL 123.256615 93.068599 \r\nL 123.318655 47.466635 \r\nL 123.444803 93.068599 \r\nL 123.506843 93.068599 \r\nL 123.568883 47.466635 \r\nL 123.692963 93.068599 \r\nL 124.252356 93.068599 \r\nL 124.316464 47.466635 \r\nL 124.442611 93.068599 \r\nL 125.129186 93.068599 \r\nL 125.191226 47.466635 \r\nL 125.31634 93.068599 \r\nL 126.755666 93.068599 \r\nL 126.817706 47.466635 \r\nL 126.941786 93.068599 \r\nL 127.380201 93.068599 \r\nL 127.443275 47.466635 \r\nL 127.567355 93.068599 \r\nL 128.126748 93.068599 \r\nL 128.188788 47.466635 \r\nL 128.315969 93.068599 \r\nL 128.378009 47.466635 \r\nL 128.503123 93.068599 \r\nL 129.558836 93.068599 \r\nL 129.620875 47.466635 \r\nL 129.745989 93.068599 \r\nL 130.305382 93.068599 \r\nL 130.430496 47.466635 \r\nL 130.743798 47.466635 \r\nL 130.805838 93.068599 \r\nL 130.867878 47.466635 \r\nL 130.991957 93.068599 \r\nL 146.327188 93.068599 \r\nL 146.451268 138.670562 \r\nL 149.193431 138.670562 \r\nL 149.317511 93.068599 \r\nL 160.975843 93.068599 \r\nL 161.038917 138.670562 \r\nL 161.162997 93.068599 \r\nL 189.916425 93.068599 \r\nL 189.980533 47.466635 \r\nL 191.791064 47.466635 \r\nL 191.855172 93.068599 \r\nL 191.917212 47.466635 \r\nL 191.979252 93.068599 \r\nL 192.105399 47.466635 \r\nL 192.291519 47.466635 \r\nL 192.355627 93.068599 \r\nL 192.417667 47.466635 \r\nL 192.541747 93.068599 \r\nL 192.605855 93.068599 \r\nL 192.733036 47.466635 \r\nL 193.045304 47.466635 \r\nL 193.107344 93.068599 \r\nL 193.231424 47.466635 \r\nL 193.356538 47.466635 \r\nL 193.419611 93.068599 \r\nL 193.543691 47.466635 \r\nL 193.606765 93.068599 \r\nL 193.668805 47.466635 \r\nL 193.792885 93.068599 \r\nL 193.854925 93.068599 \r\nL 193.916965 47.466635 \r\nL 193.981073 93.068599 \r\nL 194.043112 47.466635 \r\nL 194.105152 93.068599 \r\nL 194.167192 47.466635 \r\nL 194.229232 93.068599 \r\nL 194.291272 47.466635 \r\nL 194.415352 93.068599 \r\nL 196.470941 93.068599 \r\nL 196.596055 47.466635 \r\nL 196.720134 93.068599 \r\nL 197.406709 93.068599 \r\nL 197.468749 47.466635 \r\nL 197.593863 93.068599 \r\nL 198.21633 93.068599 \r\nL 198.34041 47.466635 \r\nL 198.465524 93.068599 \r\nL 200.58522 93.068599 \r\nL 200.64726 47.466635 \r\nL 200.77134 93.068599 \r\nL 200.89542 47.466635 \r\nL 201.0195 93.068599 \r\nL 201.516853 93.068599 \r\nL 201.643001 47.466635 \r\nL 201.767081 47.466635 \r\nL 201.893228 93.068599 \r\nL 202.017308 47.466635 \r\nL 202.079348 47.466635 \r\nL 202.204462 93.068599 \r\nL 202.266502 93.068599 \r\nL 202.328542 47.466635 \r\nL 202.452622 93.068599 \r\nL 202.576701 47.466635 \r\nL 202.824861 47.466635 \r\nL 202.949975 93.068599 \r\nL 203.076123 47.466635 \r\nL 203.138162 47.466635 \r\nL 203.200202 93.068599 \r\nL 203.324282 47.466635 \r\nL 203.448362 47.466635 \r\nL 203.57451 93.068599 \r\nL 203.886777 93.068599 \r\nL 204.010857 47.466635 \r\nL 204.135971 93.068599 \r\nL 204.198011 47.466635 \r\nL 204.322091 93.068599 \r\nL 204.44617 47.466635 \r\nL 204.696398 47.466635 \r\nL 204.758438 93.068599 \r\nL 204.820478 47.466635 \r\nL 204.882518 93.068599 \r\nL 205.007632 47.466635 \r\nL 205.069672 47.466635 \r\nL 205.195819 93.068599 \r\nL 205.319899 93.068599 \r\nL 205.443979 47.466635 \r\nL 205.692139 47.466635 \r\nL 205.817252 93.068599 \r\nL 205.941332 47.466635 \r\nL 206.19156 47.466635 \r\nL 206.2536 93.068599 \r\nL 206.377679 47.466635 \r\nL 206.503827 93.068599 \r\nL 206.627907 47.466635 \r\nL 206.939141 47.466635 \r\nL 207.001181 93.068599 \r\nL 207.06322 47.466635 \r\nL 207.251408 47.466635 \r\nL 207.313448 93.068599 \r\nL 207.437528 47.466635 \r\nL 209.244957 47.466635 \r\nL 209.373173 93.068599 \r\nL 209.497253 47.466635 \r\nL 209.931532 47.466635 \r\nL 209.994606 93.068599 \r\nL 210.118686 47.466635 \r\nL 211.238506 47.466635 \r\nL 211.300546 93.068599 \r\nL 211.362586 47.466635 \r\nL 211.424626 93.068599 \r\nL 211.486666 47.466635 \r\nL 211.610745 93.068599 \r\nL 211.735859 47.466635 \r\nL 217.782682 47.466635 \r\nL 217.907796 93.068599 \r\nL 218.84253 93.068599 \r\nL 218.90457 47.466635 \r\nL 218.96661 93.068599 \r\nL 219.091724 47.466635 \r\nL 231.77268 47.466635 \r\nL 231.835754 93.068599 \r\nL 231.898828 47.466635 \r\nL 231.960868 93.068599 \r\nL 232.084948 47.466635 \r\nL 236.894075 47.466635 \r\nL 236.958183 93.068599 \r\nL 237.08433 47.466635 \r\nL 237.20841 47.466635 \r\nL 237.27045 93.068599 \r\nL 237.39453 47.466635 \r\nL 237.519644 93.068599 \r\nL 240.823269 93.068599 \r\nL 240.887376 47.466635 \r\nL 241.011456 93.068599 \r\nL 241.576019 93.068599 \r\nL 241.764207 47.466635 \r\nL 241.888287 93.068599 \r\nL 244.754531 93.068599 \r\nL 244.87861 138.670562 \r\nL 244.94065 93.068599 \r\nL 245.066798 138.670562 \r\nL 245.130906 138.670562 \r\nL 245.25602 93.068599 \r\nL 245.443173 93.068599 \r\nL 245.569321 138.670562 \r\nL 246.128714 138.670562 \r\nL 246.317936 93.068599 \r\nL 247.127557 93.068599 \r\nL 247.189597 138.670562 \r\nL 247.313677 93.068599 \r\nL 247.62491 93.068599 \r\nL 247.68695 47.466635 \r\nL 247.74899 93.068599 \r\nL 247.875138 93.068599 \r\nL 247.999218 47.466635 \r\nL 248.498639 47.466635 \r\nL 248.560679 93.068599 \r\nL 248.622719 47.466635 \r\nL 248.746798 93.068599 \r\nL 248.808838 47.466635 \r\nL 248.870878 93.068599 \r\nL 248.932918 47.466635 \r\nL 249.059066 93.068599 \r\nL 251.498268 93.068599 \r\nL 251.624416 138.670562 \r\nL 252.684264 138.670562 \r\nL 252.746304 184.272525 \r\nL 252.808344 138.670562 \r\nL 252.933458 184.272525 \r\nL 252.995498 138.670562 \r\nL 253.119578 184.272525 \r\nL 257.987642 184.272525 \r\nL 258.111722 229.874489 \r\nL 258.173762 229.874489 \r\nL 258.29991 184.272525 \r\nL 258.487063 184.272525 \r\nL 258.611143 229.874489 \r\nL 258.923411 229.874489 \r\nL 259.047491 184.272525 \r\nL 260.169379 184.272525 \r\nL 260.293459 138.670562 \r\nL 261.291267 138.670562 \r\nL 261.416381 93.068599 \r\nL 261.541495 138.670562 \r\nL 262.476229 138.670562 \r\nL 262.538269 93.068599 \r\nL 262.600309 138.670562 \r\nL 262.724389 93.068599 \r\nL 262.787463 93.068599 \r\nL 262.911543 138.670562 \r\nL 264.031363 138.670562 \r\nL 264.157511 93.068599 \r\nL 264.281591 138.670562 \r\nL 264.40567 138.670562 \r\nL 264.531818 93.068599 \r\nL 264.655898 138.670562 \r\nL 266.461259 138.670562 \r\nL 266.586373 93.068599 \r\nL 266.711487 138.670562 \r\nL 267.457 138.670562 \r\nL 267.581079 93.068599 \r\nL 267.894381 93.068599 \r\nL 267.957455 138.670562 \r\nL 268.081535 93.068599 \r\nL 273.625834 93.068599 \r\nL 273.749914 138.670562 \r\nL 273.873994 93.068599 \r\nL 274.248301 93.068599 \r\nL 274.310341 138.670562 \r\nL 274.435455 93.068599 \r\nL 274.497495 93.068599 \r\nL 274.621575 138.670562 \r\nL 274.747722 93.068599 \r\nL 274.933842 93.068599 \r\nL 275.057922 138.670562 \r\nL 275.182002 138.670562 \r\nL 275.306082 93.068599 \r\nL 275.555275 93.068599 \r\nL 275.617315 138.670562 \r\nL 275.744497 93.068599 \r\nL 275.806537 93.068599 \r\nL 275.931651 138.670562 \r\nL 275.993691 138.670562 \r\nL 276.11777 93.068599 \r\nL 277.051471 93.068599 \r\nL 277.115579 138.670562 \r\nL 277.239659 93.068599 \r\nL 277.487818 93.068599 \r\nL 277.549858 138.670562 \r\nL 277.673938 93.068599 \r\nL 281.430454 93.068599 \r\nL 281.554534 138.670562 \r\nL 281.680682 93.068599 \r\nL 285.050483 93.068599 \r\nL 285.112523 47.466635 \r\nL 285.236602 93.068599 \r\nL 285.859069 93.068599 \r\nL 285.921109 47.466635 \r\nL 286.049325 93.068599 \r\nL 286.670758 93.068599 \r\nL 286.794838 47.466635 \r\nL 287.105037 47.466635 \r\nL 287.168111 93.068599 \r\nL 287.292191 47.466635 \r\nL 287.478311 47.466635 \r\nL 287.540351 93.068599 \r\nL 287.664431 47.466635 \r\nL 287.851584 47.466635 \r\nL 287.914658 93.068599 \r\nL 288.038738 47.466635 \r\nL 288.412011 47.466635 \r\nL 288.474051 93.068599 \r\nL 288.602267 47.466635 \r\nL 288.979677 47.466635 \r\nL 289.103756 93.068599 \r\nL 289.227836 47.466635 \r\nL 290.349724 47.466635 \r\nL 290.411764 93.068599 \r\nL 290.535844 47.466635 \r\nL 290.660958 93.068599 \r\nL 290.847078 93.068599 \r\nL 290.971158 47.466635 \r\nL 291.345465 47.466635 \r\nL 291.409573 93.068599 \r\nL 291.533653 47.466635 \r\nL 292.845797 47.466635 \r\nL 292.969876 93.068599 \r\nL 293.093956 47.466635 \r\nL 296.528899 47.466635 \r\nL 296.591973 93.068599 \r\nL 296.716053 47.466635 \r\nL 296.903206 47.466635 \r\nL 296.965246 93.068599 \r\nL 297.089326 47.466635 \r\nL 297.213406 47.466635 \r\nL 297.337486 93.068599 \r\nL 297.461566 47.466635 \r\nL 298.087135 47.466635 \r\nL 298.149174 93.068599 \r\nL 298.276356 47.466635 \r\nL 307.008473 47.466635 \r\nL 307.134621 93.068599 \r\nL 307.196661 93.068599 \r\nL 307.2587 47.466635 \r\nL 307.384848 93.068599 \r\nL 307.695048 93.068599 \r\nL 307.821196 47.466635 \r\nL 309.254317 47.466635 \r\nL 309.316357 93.068599 \r\nL 309.440437 47.466635 \r\nL 318.909795 47.466635 \r\nL 318.971835 93.068599 \r\nL 319.095914 47.466635 \r\nL 319.219994 47.466635 \r\nL 319.344074 93.068599 \r\nL 360.184943 93.068599 \r\nL 360.184943 93.068599 \r\n\" style=\"fill:none;stroke:#ff0000;stroke-linecap:square;stroke-width:1.5;\"/>\r\n   </g>\r\n   <g id=\"line2d_7\">\r\n    <path clip-path=\"url(#p90a7887bf5)\" d=\"M 55.821307 32.201761 \r\nL 56.820149 32.201761 \r\nL 56.948365 32.957608 \r\nL 57.196525 37.216961 \r\nL 57.44882 44.989565 \r\nL 57.51086 41.905643 \r\nL 57.8831 62.436738 \r\nL 57.94514 61.858589 \r\nL 58.071287 61.43248 \r\nL 58.195367 67.533698 \r\nL 86.575522 67.533698 \r\nL 86.637561 67.291462 \r\nL 86.763709 64.997569 \r\nL 87.011869 51.291356 \r\nL 87.200057 36.459985 \r\nL 87.264165 37.22766 \r\nL 87.450284 38.439797 \r\nL 87.512324 33.197321 \r\nL 87.574364 34.702142 \r\nL 87.762552 44.736369 \r\nL 88.137893 67.533698 \r\nL 90.255522 67.533698 \r\nL 90.38167 68.299373 \r\nL 90.633965 72.10922 \r\nL 91.006205 81.977926 \r\nL 91.194392 97.691785 \r\nL 91.256432 97.337868 \r\nL 91.318472 97.235494 \r\nL 91.44462 103.451176 \r\nL 94.438045 103.451176 \r\nL 94.562125 104.221809 \r\nL 95.059479 109.691734 \r\nL 95.183558 103.451176 \r\nL 96.185503 103.451176 \r\nL 96.247543 103.208331 \r\nL 96.371623 100.893476 \r\nL 96.80797 79.498247 \r\nL 96.87001 83.867977 \r\nL 97.057163 98.834165 \r\nL 97.119203 97.514522 \r\nL 97.305323 91.250132 \r\nL 97.367363 94.049546 \r\nL 97.617591 77.039268 \r\nL 97.679631 79.63376 \r\nL 97.805778 76.606461 \r\nL 98.056006 88.883699 \r\nL 98.432381 67.533698 \r\nL 117.890163 67.533698 \r\nL 118.078351 66.768458 \r\nL 118.578806 61.43248 \r\nL 118.702886 67.533698 \r\nL 120.822583 67.533698 \r\nL 120.946663 66.768458 \r\nL 121.13485 62.602519 \r\nL 121.447118 55.774332 \r\nL 121.634272 67.533698 \r\nL 123.318655 67.533698 \r\nL 123.444803 66.768458 \r\nL 123.692963 62.450567 \r\nL 123.942156 57.129724 \r\nL 124.004196 62.436738 \r\nL 124.066236 61.858589 \r\nL 124.190316 61.43248 \r\nL 124.316464 67.533698 \r\nL 124.442611 66.768458 \r\nL 124.943067 61.519546 \r\nL 125.005107 61.43248 \r\nL 125.129186 67.533698 \r\nL 125.191226 67.533698 \r\nL 125.31634 66.768458 \r\nL 125.816795 61.43248 \r\nL 125.940875 67.533698 \r\nL 126.817706 67.533698 \r\nL 126.941786 66.768458 \r\nL 127.443275 61.43248 \r\nL 127.505315 67.291462 \r\nL 127.567355 66.768458 \r\nL 128.064708 61.43248 \r\nL 128.188788 67.533698 \r\nL 128.315969 66.768458 \r\nL 128.503123 63.363932 \r\nL 128.813323 56.352742 \r\nL 128.875363 61.858589 \r\nL 128.937402 61.519546 \r\nL 128.999442 61.43248 \r\nL 129.124556 67.533698 \r\nL 129.620875 67.533698 \r\nL 129.745989 66.768458 \r\nL 130.242308 61.43248 \r\nL 130.368456 67.533698 \r\nL 130.430496 67.291462 \r\nL 130.556644 64.997569 \r\nL 130.743798 54.841397 \r\nL 130.991957 33.94734 \r\nL 131.053997 35.602895 \r\nL 131.240117 45.511699 \r\nL 131.61339 67.533698 \r\nL 146.389228 67.533698 \r\nL 146.451268 67.775847 \r\nL 146.575347 70.067826 \r\nL 146.762501 80.261573 \r\nL 147.134741 103.451176 \r\nL 149.255471 103.451176 \r\nL 149.317511 103.208331 \r\nL 149.442625 100.893476 \r\nL 149.628745 90.601618 \r\nL 150.000984 67.533698 \r\nL 161.038917 67.533698 \r\nL 161.162997 68.299373 \r\nL 161.659316 73.664576 \r\nL 161.785464 67.533698 \r\nL 189.980533 67.533698 \r\nL 190.10668 67.291462 \r\nL 190.23076 64.997569 \r\nL 190.41688 54.841397 \r\nL 190.791187 32.201761 \r\nL 191.855172 32.201761 \r\nL 191.979252 32.957608 \r\nL 192.167439 37.064748 \r\nL 192.479707 44.573893 \r\nL 192.668929 38.059786 \r\nL 192.983264 53.166185 \r\nL 193.293464 33.707452 \r\nL 193.356538 34.607509 \r\nL 193.668805 40.780659 \r\nL 193.730845 42.32923 \r\nL 193.792885 38.208172 \r\nL 193.854925 40.637056 \r\nL 194.229232 56.363179 \r\nL 194.291272 53.939079 \r\nL 194.353312 57.272456 \r\nL 194.539432 49.060783 \r\nL 194.727619 56.436676 \r\nL 194.789659 55.774332 \r\nL 194.976813 67.533698 \r\nL 196.532981 67.533698 \r\nL 196.596055 67.291462 \r\nL 196.720134 65.240675 \r\nL 197.15855 55.85818 \r\nL 197.22059 55.433549 \r\nL 197.406709 67.533698 \r\nL 197.468749 67.533698 \r\nL 197.593863 66.768458 \r\nL 198.09225 61.43248 \r\nL 198.21633 67.533698 \r\nL 198.27837 67.533698 \r\nL 198.34041 67.291462 \r\nL 198.465524 65.240675 \r\nL 198.899803 55.433549 \r\nL 199.086957 67.533698 \r\nL 200.64726 67.533698 \r\nL 200.77134 66.768458 \r\nL 200.95746 63.121261 \r\nL 201.268693 52.057031 \r\nL 201.330733 56.772241 \r\nL 201.392773 55.85818 \r\nL 201.454813 55.433549 \r\nL 201.580961 67.533698 \r\nL 201.643001 67.291462 \r\nL 201.767081 64.997569 \r\nL 202.017308 52.054943 \r\nL 202.204462 40.061344 \r\nL 202.266502 42.494142 \r\nL 202.452622 51.709985 \r\nL 202.514661 49.272577 \r\nL 202.576701 47.134376 \r\nL 202.762821 57.468158 \r\nL 203.138162 36.113113 \r\nL 203.510402 47.52265 \r\nL 203.63655 38.225655 \r\nL 203.700658 40.304536 \r\nL 204.073931 60.428309 \r\nL 204.135971 65.240675 \r\nL 204.198011 63.565201 \r\nL 204.572318 48.629977 \r\nL 204.634358 51.403993 \r\nL 204.696398 53.499488 \r\nL 205.007632 35.363268 \r\nL 205.319899 45.68296 \r\nL 205.381939 48.754966 \r\nL 205.443979 46.181001 \r\nL 205.506019 49.786535 \r\nL 205.568059 47.279544 \r\nL 205.755212 54.841397 \r\nL 206.003372 36.113113 \r\nL 206.06748 37.965414 \r\nL 206.377679 44.900933 \r\nL 206.503827 34.847571 \r\nL 206.565867 36.554096 \r\nL 206.877101 47.528651 \r\nL 206.939141 42.834838 \r\nL 207.001181 43.734808 \r\nL 207.06322 44.3808 \r\nL 207.251408 33.707452 \r\nL 207.313448 34.607509 \r\nL 207.749795 42.474745 \r\nL 207.811835 37.22766 \r\nL 207.874909 37.79598 \r\nL 207.998989 38.198779 \r\nL 208.123069 32.201761 \r\nL 209.309065 32.201761 \r\nL 209.373173 32.441823 \r\nL 209.497253 34.462689 \r\nL 209.931532 44.138999 \r\nL 210.056646 32.441823 \r\nL 210.118686 32.957608 \r\nL 210.617073 38.198779 \r\nL 210.741153 32.201761 \r\nL 211.300546 32.201761 \r\nL 211.424626 32.957608 \r\nL 211.610745 37.304549 \r\nL 211.921979 51.485754 \r\nL 212.108099 43.734808 \r\nL 212.170139 44.138999 \r\nL 212.356258 32.201761 \r\nL 217.844722 32.201761 \r\nL 217.907796 32.441823 \r\nL 218.03291 34.702142 \r\nL 218.220063 44.736369 \r\nL 218.592303 67.533698 \r\nL 218.90457 67.533698 \r\nL 219.029684 66.768458 \r\nL 219.279912 61.593304 \r\nL 219.530139 43.812306 \r\nL 219.717293 32.201761 \r\nL 231.835754 32.201761 \r\nL 231.960868 32.957608 \r\nL 232.146988 37.064748 \r\nL 232.458221 43.812306 \r\nL 232.644341 32.201761 \r\nL 236.958183 32.201761 \r\nL 237.08433 32.957608 \r\nL 237.39453 37.985419 \r\nL 237.582718 42.5699 \r\nL 237.645791 38.964105 \r\nL 238.020099 61.43248 \r\nL 238.146247 67.533698 \r\nL 240.887376 67.533698 \r\nL 241.011456 66.768458 \r\nL 241.51398 61.519546 \r\nL 241.576019 61.43248 \r\nL 241.702167 67.533698 \r\nL 241.764207 67.291462 \r\nL 241.888287 65.240675 \r\nL 242.325668 55.433549 \r\nL 242.511788 67.533698 \r\nL 244.81657 67.533698 \r\nL 244.87861 67.775847 \r\nL 245.00269 69.826634 \r\nL 245.19398 77.817989 \r\nL 245.443173 92.67328 \r\nL 245.817481 75.923155 \r\nL 246.253828 103.451176 \r\nL 246.317936 103.208331 \r\nL 246.442016 100.893476 \r\nL 246.630204 90.601618 \r\nL 247.003477 67.533698 \r\nL 247.189597 67.533698 \r\nL 247.313677 68.299373 \r\nL 247.74899 73.333795 \r\nL 247.875138 72.896552 \r\nL 248.061257 63.121261 \r\nL 248.248411 53.499488 \r\nL 248.372491 43.734808 \r\nL 248.498639 44.138999 \r\nL 248.622719 32.441823 \r\nL 248.684758 32.957608 \r\nL 248.808838 35.602895 \r\nL 249.059066 47.192478 \r\nL 249.311362 57.550005 \r\nL 249.435441 55.774332 \r\nL 249.622595 67.533698 \r\nL 251.562376 67.533698 \r\nL 251.624416 67.775847 \r\nL 251.748496 70.067826 \r\nL 251.93565 80.26166 \r\nL 252.309957 103.451176 \r\nL 252.746304 103.451176 \r\nL 252.870384 104.221809 \r\nL 252.995498 106.93233 \r\nL 253.243657 119.631154 \r\nL 253.495953 133.958744 \r\nL 253.620033 133.469836 \r\nL 253.746181 139.774584 \r\nL 258.049682 139.774584 \r\nL 258.111722 140.016473 \r\nL 258.236836 142.329501 \r\nL 258.673183 159.163647 \r\nL 258.861371 148.26485 \r\nL 259.17157 173.766786 \r\nL 259.23361 171.282061 \r\nL 259.483838 152.306496 \r\nL 259.672026 139.774584 \r\nL 260.231419 139.774584 \r\nL 260.293459 139.532522 \r\nL 260.417538 137.21097 \r\nL 260.603658 126.841961 \r\nL 260.976932 103.451176 \r\nL 261.416381 103.451176 \r\nL 261.541495 102.680543 \r\nL 262.039882 97.235494 \r\nL 262.163962 103.451176 \r\nL 262.538269 103.451176 \r\nL 262.662349 102.680543 \r\nL 262.787463 99.967934 \r\nL 263.159702 81.992713 \r\nL 263.221742 86.437853 \r\nL 263.283782 85.396369 \r\nL 263.532976 103.451176 \r\nL 264.095471 103.451176 \r\nL 264.157511 103.208331 \r\nL 264.281591 101.137539 \r\nL 264.717938 87.146905 \r\nL 264.842018 95.631604 \r\nL 264.906126 93.913163 \r\nL 265.092245 91.132971 \r\nL 265.278365 103.451176 \r\nL 266.524333 103.451176 \r\nL 266.586373 103.208331 \r\nL 266.711487 101.137539 \r\nL 267.145766 91.132971 \r\nL 267.331886 103.451176 \r\nL 267.51904 103.451176 \r\nL 267.581079 103.208331 \r\nL 267.707227 100.893476 \r\nL 267.894381 90.601618 \r\nL 268.143575 69.06209 \r\nL 268.331762 70.947183 \r\nL 268.579922 73.57664 \r\nL 268.641962 73.664576 \r\nL 268.766042 67.533698 \r\nL 273.687874 67.533698 \r\nL 273.749914 67.775847 \r\nL 273.873994 69.826634 \r\nL 274.310341 79.720912 \r\nL 274.435455 68.299373 \r\nL 274.497495 69.06209 \r\nL 274.685683 72.874895 \r\nL 274.933842 81.440832 \r\nL 274.995882 76.989516 \r\nL 275.057922 78.603669 \r\nL 275.182002 82.272524 \r\nL 275.306082 75.682572 \r\nL 275.617315 90.601618 \r\nL 275.868577 69.978847 \r\nL 275.931651 71.189332 \r\nL 276.11777 77.982379 \r\nL 276.24185 83.896245 \r\nL 276.305958 80.409785 \r\nL 276.367998 82.707505 \r\nL 276.492078 85.448295 \r\nL 276.740237 67.533698 \r\nL 277.115579 67.533698 \r\nL 277.239659 68.299373 \r\nL 277.735978 75.198882 \r\nL 277.799052 69.978847 \r\nL 277.861092 70.947183 \r\nL 278.109251 73.57664 \r\nL 278.171291 73.664576 \r\nL 278.297439 67.533698 \r\nL 281.492494 67.533698 \r\nL 281.554534 67.775847 \r\nL 281.680682 69.826634 \r\nL 282.119097 79.289062 \r\nL 282.181137 79.720912 \r\nL 282.367257 67.533698 \r\nL 285.112523 67.533698 \r\nL 285.236602 66.768458 \r\nL 285.73499 61.43248 \r\nL 285.859069 67.533698 \r\nL 285.921109 67.533698 \r\nL 286.049325 66.768458 \r\nL 286.546678 61.43248 \r\nL 286.670758 67.533698 \r\nL 286.732798 67.533698 \r\nL 286.794838 67.291462 \r\nL 286.918918 64.997569 \r\nL 287.105037 54.841397 \r\nL 287.354231 33.707452 \r\nL 287.416271 34.607509 \r\nL 287.78851 40.615312 \r\nL 287.851584 35.557927 \r\nL 287.914658 36.459985 \r\nL 288.163852 40.615312 \r\nL 288.225892 35.557927 \r\nL 288.287932 36.459898 \r\nL 288.538159 38.439797 \r\nL 288.602267 32.957608 \r\nL 288.665341 33.707452 \r\nL 289.103756 38.439797 \r\nL 289.165796 33.197321 \r\nL 289.227836 34.462689 \r\nL 289.66315 44.138999 \r\nL 289.851337 32.201761 \r\nL 290.411764 32.201761 \r\nL 290.535844 32.957608 \r\nL 290.660958 34.847571 \r\nL 290.847078 42.14527 \r\nL 291.221385 59.151373 \r\nL 291.533653 32.957608 \r\nL 291.6598 33.707452 \r\nL 292.034108 38.124325 \r\nL 292.096148 38.198779 \r\nL 292.222296 32.201761 \r\nL 292.907837 32.201761 \r\nL 292.969876 32.441823 \r\nL 293.093956 34.462689 \r\nL 293.53444 44.138999 \r\nL 293.720559 32.201761 \r\nL 296.591973 32.201761 \r\nL 296.716053 32.957608 \r\nL 297.089326 38.554348 \r\nL 297.213406 40.615312 \r\nL 297.275446 35.557927 \r\nL 297.337486 36.700307 \r\nL 297.587713 43.987742 \r\nL 297.649753 39.820934 \r\nL 297.711793 41.494755 \r\nL 297.898947 44.138999 \r\nL 298.087135 32.201761 \r\nL 298.149174 32.201761 \r\nL 298.276356 32.957608 \r\nL 298.775778 38.198779 \r\nL 298.899857 32.201761 \r\nL 307.072581 32.201761 \r\nL 307.134621 32.441823 \r\nL 307.2587 34.702142 \r\nL 307.446888 43.228939 \r\nL 307.695048 62.436738 \r\nL 307.821196 61.278093 \r\nL 307.883236 60.428309 \r\nL 307.945275 64.997569 \r\nL 308.008349 62.555116 \r\nL 308.256509 44.138999 \r\nL 308.442629 32.201761 \r\nL 309.316357 32.201761 \r\nL 309.440437 32.957608 \r\nL 309.94296 38.198779 \r\nL 310.06704 32.201761 \r\nL 318.971835 32.201761 \r\nL 319.095914 32.957608 \r\nL 319.344074 36.700307 \r\nL 319.531228 43.049154 \r\nL 320.029615 67.533698 \r\nL 360.184943 67.533698 \r\nL 360.184943 67.533698 \r\n\" style=\"fill:none;stroke:#0000ff;stroke-linecap:square;stroke-width:1.5;\"/>\r\n   </g>\r\n   <g id=\"patch_3\">\r\n    <path d=\"M 40.603125 239.758125 \r\nL 40.603125 22.318125 \r\n\" style=\"fill:none;stroke:#000000;stroke-linecap:square;stroke-linejoin:miter;stroke-width:0.8;\"/>\r\n   </g>\r\n   <g id=\"patch_4\">\r\n    <path d=\"M 375.403125 239.758125 \r\nL 375.403125 22.318125 \r\n\" style=\"fill:none;stroke:#000000;stroke-linecap:square;stroke-linejoin:miter;stroke-width:0.8;\"/>\r\n   </g>\r\n   <g id=\"patch_5\">\r\n    <path d=\"M 40.603125 239.758125 \r\nL 375.403125 239.758125 \r\n\" style=\"fill:none;stroke:#000000;stroke-linecap:square;stroke-linejoin:miter;stroke-width:0.8;\"/>\r\n   </g>\r\n   <g id=\"patch_6\">\r\n    <path d=\"M 40.603125 22.318125 \r\nL 375.403125 22.318125 \r\n\" style=\"fill:none;stroke:#000000;stroke-linecap:square;stroke-linejoin:miter;stroke-width:0.8;\"/>\r\n   </g>\r\n   <g id=\"text_8\">\r\n    <!-- Temperature Prediction -->\r\n    <g transform=\"translate(138.28875 16.318125)scale(0.12 -0.12)\">\r\n     <defs>\r\n      <path d=\"M 18.109375 8.203125 \r\nL 18.109375 -20.796875 \r\nL 9.078125 -20.796875 \r\nL 9.078125 54.6875 \r\nL 18.109375 54.6875 \r\nL 18.109375 46.390625 \r\nQ 20.953125 51.265625 25.265625 53.625 \r\nQ 29.59375 56 35.59375 56 \r\nQ 45.5625 56 51.78125 48.09375 \r\nQ 58.015625 40.1875 58.015625 27.296875 \r\nQ 58.015625 14.40625 51.78125 6.484375 \r\nQ 45.5625 -1.421875 35.59375 -1.421875 \r\nQ 29.59375 -1.421875 25.265625 0.953125 \r\nQ 20.953125 3.328125 18.109375 8.203125 \r\nz\r\nM 48.6875 27.296875 \r\nQ 48.6875 37.203125 44.609375 42.84375 \r\nQ 40.53125 48.484375 33.40625 48.484375 \r\nQ 26.265625 48.484375 22.1875 42.84375 \r\nQ 18.109375 37.203125 18.109375 27.296875 \r\nQ 18.109375 17.390625 22.1875 11.75 \r\nQ 26.265625 6.109375 33.40625 6.109375 \r\nQ 40.53125 6.109375 44.609375 11.75 \r\nQ 48.6875 17.390625 48.6875 27.296875 \r\nz\r\n\" id=\"DejaVuSans-112\"/>\r\n      <path d=\"M 41.109375 46.296875 \r\nQ 39.59375 47.171875 37.8125 47.578125 \r\nQ 36.03125 48 33.890625 48 \r\nQ 26.265625 48 22.1875 43.046875 \r\nQ 18.109375 38.09375 18.109375 28.8125 \r\nL 18.109375 0 \r\nL 9.078125 0 \r\nL 9.078125 54.6875 \r\nL 18.109375 54.6875 \r\nL 18.109375 46.1875 \r\nQ 20.953125 51.171875 25.484375 53.578125 \r\nQ 30.03125 56 36.53125 56 \r\nQ 37.453125 56 38.578125 55.875 \r\nQ 39.703125 55.765625 41.0625 55.515625 \r\nz\r\n\" id=\"DejaVuSans-114\"/>\r\n      <path d=\"M 18.3125 70.21875 \r\nL 18.3125 54.6875 \r\nL 36.8125 54.6875 \r\nL 36.8125 47.703125 \r\nL 18.3125 47.703125 \r\nL 18.3125 18.015625 \r\nQ 18.3125 11.328125 20.140625 9.421875 \r\nQ 21.96875 7.515625 27.59375 7.515625 \r\nL 36.8125 7.515625 \r\nL 36.8125 0 \r\nL 27.59375 0 \r\nQ 17.1875 0 13.234375 3.875 \r\nQ 9.28125 7.765625 9.28125 18.015625 \r\nL 9.28125 47.703125 \r\nL 2.6875 47.703125 \r\nL 2.6875 54.6875 \r\nL 9.28125 54.6875 \r\nL 9.28125 70.21875 \r\nz\r\n\" id=\"DejaVuSans-116\"/>\r\n      <path id=\"DejaVuSans-32\"/>\r\n      <path d=\"M 19.671875 64.796875 \r\nL 19.671875 37.40625 \r\nL 32.078125 37.40625 \r\nQ 38.96875 37.40625 42.71875 40.96875 \r\nQ 46.484375 44.53125 46.484375 51.125 \r\nQ 46.484375 57.671875 42.71875 61.234375 \r\nQ 38.96875 64.796875 32.078125 64.796875 \r\nz\r\nM 9.8125 72.90625 \r\nL 32.078125 72.90625 \r\nQ 44.34375 72.90625 50.609375 67.359375 \r\nQ 56.890625 61.8125 56.890625 51.125 \r\nQ 56.890625 40.328125 50.609375 34.8125 \r\nQ 44.34375 29.296875 32.078125 29.296875 \r\nL 19.671875 29.296875 \r\nL 19.671875 0 \r\nL 9.8125 0 \r\nz\r\n\" id=\"DejaVuSans-80\"/>\r\n      <path d=\"M 45.40625 46.390625 \r\nL 45.40625 75.984375 \r\nL 54.390625 75.984375 \r\nL 54.390625 0 \r\nL 45.40625 0 \r\nL 45.40625 8.203125 \r\nQ 42.578125 3.328125 38.25 0.953125 \r\nQ 33.9375 -1.421875 27.875 -1.421875 \r\nQ 17.96875 -1.421875 11.734375 6.484375 \r\nQ 5.515625 14.40625 5.515625 27.296875 \r\nQ 5.515625 40.1875 11.734375 48.09375 \r\nQ 17.96875 56 27.875 56 \r\nQ 33.9375 56 38.25 53.625 \r\nQ 42.578125 51.265625 45.40625 46.390625 \r\nz\r\nM 14.796875 27.296875 \r\nQ 14.796875 17.390625 18.875 11.75 \r\nQ 22.953125 6.109375 30.078125 6.109375 \r\nQ 37.203125 6.109375 41.296875 11.75 \r\nQ 45.40625 17.390625 45.40625 27.296875 \r\nQ 45.40625 37.203125 41.296875 42.84375 \r\nQ 37.203125 48.484375 30.078125 48.484375 \r\nQ 22.953125 48.484375 18.875 42.84375 \r\nQ 14.796875 37.203125 14.796875 27.296875 \r\nz\r\n\" id=\"DejaVuSans-100\"/>\r\n      <path d=\"M 48.78125 52.59375 \r\nL 48.78125 44.1875 \r\nQ 44.96875 46.296875 41.140625 47.34375 \r\nQ 37.3125 48.390625 33.40625 48.390625 \r\nQ 24.65625 48.390625 19.8125 42.84375 \r\nQ 14.984375 37.3125 14.984375 27.296875 \r\nQ 14.984375 17.28125 19.8125 11.734375 \r\nQ 24.65625 6.203125 33.40625 6.203125 \r\nQ 37.3125 6.203125 41.140625 7.25 \r\nQ 44.96875 8.296875 48.78125 10.40625 \r\nL 48.78125 2.09375 \r\nQ 45.015625 0.34375 40.984375 -0.53125 \r\nQ 36.96875 -1.421875 32.421875 -1.421875 \r\nQ 20.0625 -1.421875 12.78125 6.34375 \r\nQ 5.515625 14.109375 5.515625 27.296875 \r\nQ 5.515625 40.671875 12.859375 48.328125 \r\nQ 20.21875 56 33.015625 56 \r\nQ 37.15625 56 41.109375 55.140625 \r\nQ 45.0625 54.296875 48.78125 52.59375 \r\nz\r\n\" id=\"DejaVuSans-99\"/>\r\n      <path d=\"M 30.609375 48.390625 \r\nQ 23.390625 48.390625 19.1875 42.75 \r\nQ 14.984375 37.109375 14.984375 27.296875 \r\nQ 14.984375 17.484375 19.15625 11.84375 \r\nQ 23.34375 6.203125 30.609375 6.203125 \r\nQ 37.796875 6.203125 41.984375 11.859375 \r\nQ 46.1875 17.53125 46.1875 27.296875 \r\nQ 46.1875 37.015625 41.984375 42.703125 \r\nQ 37.796875 48.390625 30.609375 48.390625 \r\nz\r\nM 30.609375 56 \r\nQ 42.328125 56 49.015625 48.375 \r\nQ 55.71875 40.765625 55.71875 27.296875 \r\nQ 55.71875 13.875 49.015625 6.21875 \r\nQ 42.328125 -1.421875 30.609375 -1.421875 \r\nQ 18.84375 -1.421875 12.171875 6.21875 \r\nQ 5.515625 13.875 5.515625 27.296875 \r\nQ 5.515625 40.765625 12.171875 48.375 \r\nQ 18.84375 56 30.609375 56 \r\nz\r\n\" id=\"DejaVuSans-111\"/>\r\n      <path d=\"M 54.890625 33.015625 \r\nL 54.890625 0 \r\nL 45.90625 0 \r\nL 45.90625 32.71875 \r\nQ 45.90625 40.484375 42.875 44.328125 \r\nQ 39.84375 48.1875 33.796875 48.1875 \r\nQ 26.515625 48.1875 22.3125 43.546875 \r\nQ 18.109375 38.921875 18.109375 30.90625 \r\nL 18.109375 0 \r\nL 9.078125 0 \r\nL 9.078125 54.6875 \r\nL 18.109375 54.6875 \r\nL 18.109375 46.1875 \r\nQ 21.34375 51.125 25.703125 53.5625 \r\nQ 30.078125 56 35.796875 56 \r\nQ 45.21875 56 50.046875 50.171875 \r\nQ 54.890625 44.34375 54.890625 33.015625 \r\nz\r\n\" id=\"DejaVuSans-110\"/>\r\n     </defs>\r\n     <use xlink:href=\"#DejaVuSans-84\"/>\r\n     <use x=\"44.083984\" xlink:href=\"#DejaVuSans-101\"/>\r\n     <use x=\"105.607422\" xlink:href=\"#DejaVuSans-109\"/>\r\n     <use x=\"203.019531\" xlink:href=\"#DejaVuSans-112\"/>\r\n     <use x=\"266.496094\" xlink:href=\"#DejaVuSans-101\"/>\r\n     <use x=\"328.019531\" xlink:href=\"#DejaVuSans-114\"/>\r\n     <use x=\"369.132812\" xlink:href=\"#DejaVuSans-97\"/>\r\n     <use x=\"430.412109\" xlink:href=\"#DejaVuSans-116\"/>\r\n     <use x=\"469.621094\" xlink:href=\"#DejaVuSans-117\"/>\r\n     <use x=\"533\" xlink:href=\"#DejaVuSans-114\"/>\r\n     <use x=\"571.863281\" xlink:href=\"#DejaVuSans-101\"/>\r\n     <use x=\"633.386719\" xlink:href=\"#DejaVuSans-32\"/>\r\n     <use x=\"665.173828\" xlink:href=\"#DejaVuSans-80\"/>\r\n     <use x=\"723.726562\" xlink:href=\"#DejaVuSans-114\"/>\r\n     <use x=\"762.589844\" xlink:href=\"#DejaVuSans-101\"/>\r\n     <use x=\"824.113281\" xlink:href=\"#DejaVuSans-100\"/>\r\n     <use x=\"887.589844\" xlink:href=\"#DejaVuSans-105\"/>\r\n     <use x=\"915.373047\" xlink:href=\"#DejaVuSans-99\"/>\r\n     <use x=\"970.353516\" xlink:href=\"#DejaVuSans-116\"/>\r\n     <use x=\"1009.5625\" xlink:href=\"#DejaVuSans-105\"/>\r\n     <use x=\"1037.345703\" xlink:href=\"#DejaVuSans-111\"/>\r\n     <use x=\"1098.527344\" xlink:href=\"#DejaVuSans-110\"/>\r\n    </g>\r\n   </g>\r\n   <g id=\"legend_1\">\r\n    <g id=\"patch_7\">\r\n     <path d=\"M 47.603125 234.758125 \r\nL 193.060937 234.758125 \r\nQ 195.060937 234.758125 195.060937 232.758125 \r\nL 195.060937 204.401875 \r\nQ 195.060937 202.401875 193.060937 202.401875 \r\nL 47.603125 202.401875 \r\nQ 45.603125 202.401875 45.603125 204.401875 \r\nL 45.603125 232.758125 \r\nQ 45.603125 234.758125 47.603125 234.758125 \r\nz\r\n\" style=\"fill:#ffffff;opacity:0.8;stroke:#cccccc;stroke-linejoin:miter;\"/>\r\n    </g>\r\n    <g id=\"line2d_8\">\r\n     <path d=\"M 49.603125 210.500313 \r\nL 69.603125 210.500313 \r\n\" style=\"fill:none;stroke:#ff0000;stroke-linecap:square;stroke-width:1.5;\"/>\r\n    </g>\r\n    <g id=\"line2d_9\"/>\r\n    <g id=\"text_9\">\r\n     <!-- Real Temperature -->\r\n     <g transform=\"translate(77.603125 214.000313)scale(0.1 -0.1)\">\r\n      <defs>\r\n       <path d=\"M 44.390625 34.1875 \r\nQ 47.5625 33.109375 50.5625 29.59375 \r\nQ 53.5625 26.078125 56.59375 19.921875 \r\nL 66.609375 0 \r\nL 56 0 \r\nL 46.6875 18.703125 \r\nQ 43.0625 26.03125 39.671875 28.421875 \r\nQ 36.28125 30.8125 30.421875 30.8125 \r\nL 19.671875 30.8125 \r\nL 19.671875 0 \r\nL 9.8125 0 \r\nL 9.8125 72.90625 \r\nL 32.078125 72.90625 \r\nQ 44.578125 72.90625 50.734375 67.671875 \r\nQ 56.890625 62.453125 56.890625 51.90625 \r\nQ 56.890625 45.015625 53.6875 40.46875 \r\nQ 50.484375 35.9375 44.390625 34.1875 \r\nz\r\nM 19.671875 64.796875 \r\nL 19.671875 38.921875 \r\nL 32.078125 38.921875 \r\nQ 39.203125 38.921875 42.84375 42.21875 \r\nQ 46.484375 45.515625 46.484375 51.90625 \r\nQ 46.484375 58.296875 42.84375 61.546875 \r\nQ 39.203125 64.796875 32.078125 64.796875 \r\nz\r\n\" id=\"DejaVuSans-82\"/>\r\n      </defs>\r\n      <use xlink:href=\"#DejaVuSans-82\"/>\r\n      <use x=\"64.982422\" xlink:href=\"#DejaVuSans-101\"/>\r\n      <use x=\"126.505859\" xlink:href=\"#DejaVuSans-97\"/>\r\n      <use x=\"187.785156\" xlink:href=\"#DejaVuSans-108\"/>\r\n      <use x=\"215.568359\" xlink:href=\"#DejaVuSans-32\"/>\r\n      <use x=\"247.355469\" xlink:href=\"#DejaVuSans-84\"/>\r\n      <use x=\"291.439453\" xlink:href=\"#DejaVuSans-101\"/>\r\n      <use x=\"352.962891\" xlink:href=\"#DejaVuSans-109\"/>\r\n      <use x=\"450.375\" xlink:href=\"#DejaVuSans-112\"/>\r\n      <use x=\"513.851562\" xlink:href=\"#DejaVuSans-101\"/>\r\n      <use x=\"575.375\" xlink:href=\"#DejaVuSans-114\"/>\r\n      <use x=\"616.488281\" xlink:href=\"#DejaVuSans-97\"/>\r\n      <use x=\"677.767578\" xlink:href=\"#DejaVuSans-116\"/>\r\n      <use x=\"716.976562\" xlink:href=\"#DejaVuSans-117\"/>\r\n      <use x=\"780.355469\" xlink:href=\"#DejaVuSans-114\"/>\r\n      <use x=\"819.21875\" xlink:href=\"#DejaVuSans-101\"/>\r\n     </g>\r\n    </g>\r\n    <g id=\"line2d_10\">\r\n     <path d=\"M 49.603125 225.178438 \r\nL 69.603125 225.178438 \r\n\" style=\"fill:none;stroke:#0000ff;stroke-linecap:square;stroke-width:1.5;\"/>\r\n    </g>\r\n    <g id=\"line2d_11\"/>\r\n    <g id=\"text_10\">\r\n     <!-- Predicted Temperature -->\r\n     <g transform=\"translate(77.603125 228.678438)scale(0.1 -0.1)\">\r\n      <use xlink:href=\"#DejaVuSans-80\"/>\r\n      <use x=\"58.552734\" xlink:href=\"#DejaVuSans-114\"/>\r\n      <use x=\"97.416016\" xlink:href=\"#DejaVuSans-101\"/>\r\n      <use x=\"158.939453\" xlink:href=\"#DejaVuSans-100\"/>\r\n      <use x=\"222.416016\" xlink:href=\"#DejaVuSans-105\"/>\r\n      <use x=\"250.199219\" xlink:href=\"#DejaVuSans-99\"/>\r\n      <use x=\"305.179688\" xlink:href=\"#DejaVuSans-116\"/>\r\n      <use x=\"344.388672\" xlink:href=\"#DejaVuSans-101\"/>\r\n      <use x=\"405.912109\" xlink:href=\"#DejaVuSans-100\"/>\r\n      <use x=\"469.388672\" xlink:href=\"#DejaVuSans-32\"/>\r\n      <use x=\"501.175781\" xlink:href=\"#DejaVuSans-84\"/>\r\n      <use x=\"545.259766\" xlink:href=\"#DejaVuSans-101\"/>\r\n      <use x=\"606.783203\" xlink:href=\"#DejaVuSans-109\"/>\r\n      <use x=\"704.195312\" xlink:href=\"#DejaVuSans-112\"/>\r\n      <use x=\"767.671875\" xlink:href=\"#DejaVuSans-101\"/>\r\n      <use x=\"829.195312\" xlink:href=\"#DejaVuSans-114\"/>\r\n      <use x=\"870.308594\" xlink:href=\"#DejaVuSans-97\"/>\r\n      <use x=\"931.587891\" xlink:href=\"#DejaVuSans-116\"/>\r\n      <use x=\"970.796875\" xlink:href=\"#DejaVuSans-117\"/>\r\n      <use x=\"1034.175781\" xlink:href=\"#DejaVuSans-114\"/>\r\n      <use x=\"1073.039062\" xlink:href=\"#DejaVuSans-101\"/>\r\n     </g>\r\n    </g>\r\n   </g>\r\n  </g>\r\n </g>\r\n <defs>\r\n  <clipPath id=\"p90a7887bf5\">\r\n   <rect height=\"217.44\" width=\"334.8\" x=\"40.603125\" y=\"22.318125\"/>\r\n  </clipPath>\r\n </defs>\r\n</svg>\r\n",
      "image/png": "[encoded data removed]"
     },
     "metadata": {
      "needs_background": "light"
     }
    }
   ],
   "source": [
    "# Visualising the results\n",
    "plt.plot(df.loc[len(training_set):, 'datetime'],dataset_test.values, color = 'red', label = 'Real Temperature')\n",
    "plt.plot(df.loc[len(training_set):, 'datetime'],predicted_temperature, color = 'blue', label = 'Predicted Temperature')\n",
    "plt.xticks(np.arange(0,4818, 5000))\n",
    "plt.title('Temperature Prediction')\n",
    "plt.xlabel('Time')\n",
    "plt.ylabel('Value')\n",
    "plt.legend()\n",
    "plt.show()"
   ]
  },
  {
   "cell_type": "code",
   "execution_count": null,
   "metadata": {},
   "outputs": [],
   "source": []
  }
 ]
}