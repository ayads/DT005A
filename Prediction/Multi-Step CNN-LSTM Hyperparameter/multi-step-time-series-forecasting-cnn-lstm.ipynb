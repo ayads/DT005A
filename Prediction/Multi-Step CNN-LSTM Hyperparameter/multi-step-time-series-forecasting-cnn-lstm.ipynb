{
 "metadata": {
  "language_info": {
   "codemirror_mode": {
    "name": "ipython",
    "version": 3
   },
   "file_extension": ".py",
   "mimetype": "text/x-python",
   "name": "python",
   "nbconvert_exporter": "python",
   "pygments_lexer": "ipython3",
   "version": "3.7.9"
  },
  "orig_nbformat": 2,
  "kernelspec": {
   "name": "python379jvsc74a57bd0c3218535dd4fc05aa3e9f9bc0ba552a9acaa71ce56ba5438b99e7cdc1c0a0be6",
   "display_name": "Python 3.7.9 64-bit ('DT005A Final Project': conda)"
  }
 },
 "nbformat": 4,
 "nbformat_minor": 2,
 "cells": [
  {
   "cell_type": "code",
   "execution_count": 25,
   "metadata": {},
   "outputs": [],
   "source": [
    "# univariate multi-step cnn-lstm\n",
    "import os\n",
    "import boto3\n",
    "import json\n",
    "import re\n",
    "import kerastuner as kt\n",
    "import pandas as pd\n",
    "import numpy as np\n",
    "import glob\n",
    "import tensorflow as tf\n",
    "from collections import defaultdict\n",
    "from kerastuner import Objective\n",
    "from datetime import datetime\n",
    "from math import sqrt\n",
    "from numpy import (split, array)\n",
    "from pandas import read_csv\n",
    "from sklearn.metrics import (mean_squared_error, mean_absolute_error)\n",
    "from sklearn.preprocessing import MinMaxScaler\n",
    "from sklearn.model_selection import train_test_split\n",
    "from matplotlib import pyplot\n",
    "from keras.models import Sequential, load_model\n",
    "from keras.layers import (LSTM, Dense, Flatten, RepeatVector, TimeDistributed, )\n",
    "from keras.layers.convolutional import Conv1D\n",
    "from keras.layers.convolutional import MaxPooling1D"
   ]
  },
  {
   "cell_type": "code",
   "execution_count": 2,
   "metadata": {},
   "outputs": [],
   "source": [
    "# define client, folder and files for AWS.\n",
    "s3_client = boto3.client(\"s3\")\n",
    "s3_bucket_name = 'thesis-hydroponic-project'\n",
    "s3_bucket_prefix = 'TemperatureAndHumidity2021/03'"
   ]
  },
  {
   "cell_type": "code",
   "execution_count": 3,
   "metadata": {
    "tags": [
     "outputPrepend"
    ]
   },
   "outputs": [
    {
     "output_type": "stream",
     "name": "stdout",
     "text": [
      "2d33c-944e-46de-8d37-28a6bf992123\n",
      "Load from cache: TemperatureAndHumidity2021/03/29/02/ThesisHydroponicSensorDeliveryStream-1-2021-03-29-02-55-47-7016dacb-4449-46ce-b8e7-1cbab7995d41\n",
      "Load from cache: TemperatureAndHumidity2021/03/29/03/ThesisHydroponicSensorDeliveryStream-1-2021-03-29-03-10-52-bb30d9e6-e9c3-4303-879e-362feecd838c\n",
      "Load from cache: TemperatureAndHumidity2021/03/29/03/ThesisHydroponicSensorDeliveryStream-1-2021-03-29-03-25-58-2209f8f2-fcb6-4653-bd0c-6856ad0429c0\n",
      "Load from cache: TemperatureAndHumidity2021/03/29/03/ThesisHydroponicSensorDeliveryStream-1-2021-03-29-03-41-06-1bb94952-fbe2-4851-a004-e3a4b2fef1ac\n",
      "Load from cache: TemperatureAndHumidity2021/03/29/03/ThesisHydroponicSensorDeliveryStream-1-2021-03-29-03-56-08-55391883-814a-44ed-899f-945b41f7138c\n",
      "Load from cache: TemperatureAndHumidity2021/03/29/04/ThesisHydroponicSensorDeliveryStream-1-2021-03-29-04-11-14-d6528ed4-e4af-4d9f-9ec4-30cb3deda1c5\n",
      "Load from cache: TemperatureAndHumidity2021/03/30/00/ThesisHydroponicSensorDeliveryStream-1-2021-03-30-00-02-41-d174a858-5c78-4e61-b853-e4398ce7ad7d\n",
      "Load from cache: TemperatureAndHumidity2021/03/30/00/ThesisHydroponicSensorDeliveryStream-1-2021-03-30-00-17-51-aa5e60fd-7d26-4c60-a4d7-fa69514fc698\n",
      "Load from cache: TemperatureAndHumidity2021/03/30/00/ThesisHydroponicSensorDeliveryStream-1-2021-03-30-00-32-53-089e6f33-a40a-4c0a-a1e3-00af4d683010\n",
      "Load from cache: TemperatureAndHumidity2021/03/30/00/ThesisHydroponicSensorDeliveryStream-1-2021-03-30-00-47-58-8bc95fc0-91d5-47f8-b9b6-8141cb011112\n",
      "Load from cache: TemperatureAndHumidity2021/03/30/01/ThesisHydroponicSensorDeliveryStream-1-2021-03-30-01-03-02-3da15aba-9df9-47bb-911b-1012bd19f861\n",
      "Load from cache: TemperatureAndHumidity2021/03/30/01/ThesisHydroponicSensorDeliveryStream-1-2021-03-30-01-18-09-09b320c8-f37b-4375-b204-3f2eecac6e14\n",
      "Load from cache: TemperatureAndHumidity2021/03/30/01/ThesisHydroponicSensorDeliveryStream-1-2021-03-30-01-33-12-557e614a-45ac-428a-84a9-e157ca954a67\n",
      "Load from cache: TemperatureAndHumidity2021/03/30/01/ThesisHydroponicSensorDeliveryStream-1-2021-03-30-01-48-18-7de54d41-4f44-47b3-8095-b09b3ad6bc8c\n",
      "Load from cache: TemperatureAndHumidity2021/03/30/02/ThesisHydroponicSensorDeliveryStream-1-2021-03-30-02-03-24-ac3e058c-0f94-4e07-aed1-35ba880d78d1\n",
      "Load from cache: TemperatureAndHumidity2021/03/30/02/ThesisHydroponicSensorDeliveryStream-1-2021-03-30-02-18-31-49be1b3c-68cc-4310-8902-db70fdac09d0\n",
      "Load from cache: TemperatureAndHumidity2021/03/30/02/ThesisHydroponicSensorDeliveryStream-1-2021-03-30-02-33-32-6e90a915-4344-449a-ab65-a067294bcb00\n",
      "Load from cache: TemperatureAndHumidity2021/03/30/02/ThesisHydroponicSensorDeliveryStream-1-2021-03-30-02-48-37-40b40434-2098-4cd2-9c5c-341d83f97014\n",
      "Load from cache: TemperatureAndHumidity2021/03/30/03/ThesisHydroponicSensorDeliveryStream-1-2021-03-30-03-03-45-f91aca57-51df-4222-a4d7-003b29aab9fe\n",
      "Load from cache: TemperatureAndHumidity2021/03/30/03/ThesisHydroponicSensorDeliveryStream-1-2021-03-30-03-18-46-e3bd1223-ae2b-426c-ae09-dfc670ccd0b0\n",
      "Load from cache: TemperatureAndHumidity2021/03/30/03/ThesisHydroponicSensorDeliveryStream-1-2021-03-30-03-33-56-70991600-bc59-4731-a055-fcb5ca523f61\n",
      "Load from cache: TemperatureAndHumidity2021/03/30/03/ThesisHydroponicSensorDeliveryStream-1-2021-03-30-03-49-02-04a7d82c-8014-4d5e-ac94-fa47b8a6a8ae\n",
      "Load from cache: TemperatureAndHumidity2021/03/30/04/ThesisHydroponicSensorDeliveryStream-1-2021-03-30-04-04-11-9dd2452f-f8aa-4fa6-ad16-fd524ba8fd22\n",
      "Load from cache: TemperatureAndHumidity2021/03/30/04/ThesisHydroponicSensorDeliveryStream-1-2021-03-30-04-19-14-f44a9364-3c42-454e-b9f6-b38117d73bf7\n",
      "Load from cache: TemperatureAndHumidity2021/03/30/04/ThesisHydroponicSensorDeliveryStream-1-2021-03-30-04-34-19-9963217d-4a35-4d6d-82fc-24ec196c9d28\n",
      "Load from cache: TemperatureAndHumidity2021/03/30/04/ThesisHydroponicSensorDeliveryStream-1-2021-03-30-04-49-23-fd56fcf9-5120-4562-be60-6673993b4be0\n",
      "Load from cache: TemperatureAndHumidity2021/03/30/05/ThesisHydroponicSensorDeliveryStream-1-2021-03-30-05-04-27-eaa85a55-b5e3-4366-92e3-ad971f030e44\n",
      "Load from cache: TemperatureAndHumidity2021/03/30/05/ThesisHydroponicSensorDeliveryStream-1-2021-03-30-05-19-30-ba01dea3-b851-46fa-870f-2d06bf9015c5\n",
      "Load from cache: TemperatureAndHumidity2021/03/30/05/ThesisHydroponicSensorDeliveryStream-1-2021-03-30-05-34-33-d1ec33b2-90df-49a6-88ad-a8ec58352d32\n",
      "Load from cache: TemperatureAndHumidity2021/03/30/05/ThesisHydroponicSensorDeliveryStream-1-2021-03-30-05-49-37-e98464a1-4a80-4c77-a686-28b111cdcc10\n",
      "Load from cache: TemperatureAndHumidity2021/03/30/06/ThesisHydroponicSensorDeliveryStream-1-2021-03-30-06-04-43-552e3e02-2954-4660-abc9-487fc59200d4\n",
      "Load from cache: TemperatureAndHumidity2021/03/30/06/ThesisHydroponicSensorDeliveryStream-1-2021-03-30-06-19-46-88943a8e-498c-43ea-b6a5-8cea5f9c53a8\n",
      "Load from cache: TemperatureAndHumidity2021/03/30/06/ThesisHydroponicSensorDeliveryStream-1-2021-03-30-06-34-51-3a171955-77a1-42fc-aa6d-833007e84c2d\n",
      "Load from cache: TemperatureAndHumidity2021/03/30/06/ThesisHydroponicSensorDeliveryStream-1-2021-03-30-06-49-58-8ea4e4a8-7073-4618-9814-9f7226255bb0\n",
      "Load from cache: TemperatureAndHumidity2021/03/30/07/ThesisHydroponicSensorDeliveryStream-1-2021-03-30-07-05-00-b8a2db70-cdf1-4547-999a-a30fe2317791\n",
      "Load from cache: TemperatureAndHumidity2021/03/30/07/ThesisHydroponicSensorDeliveryStream-1-2021-03-30-07-20-04-13d9ed63-2bf5-43b2-b9c0-a8a2fe3f412a\n",
      "Load from cache: TemperatureAndHumidity2021/03/30/07/ThesisHydroponicSensorDeliveryStream-1-2021-03-30-07-35-12-e3a9eb3a-bb2a-419d-977b-b8723f965f10\n",
      "Load from cache: TemperatureAndHumidity2021/03/30/07/ThesisHydroponicSensorDeliveryStream-1-2021-03-30-07-50-20-10cb3179-bce2-4bfa-8fec-8742ccdf4a23\n",
      "Load from cache: TemperatureAndHumidity2021/03/30/08/ThesisHydroponicSensorDeliveryStream-1-2021-03-30-08-05-25-50a2edc4-3cb9-4c9c-9499-877876954ecc\n",
      "Load from cache: TemperatureAndHumidity2021/03/30/08/ThesisHydroponicSensorDeliveryStream-1-2021-03-30-08-20-30-42bde546-f701-4de7-bc30-8cb8d3d3a838\n",
      "Load from cache: TemperatureAndHumidity2021/03/30/08/ThesisHydroponicSensorDeliveryStream-1-2021-03-30-08-35-34-71762449-700a-4ce0-a59c-b3ea30580135\n",
      "Load from cache: TemperatureAndHumidity2021/03/30/08/ThesisHydroponicSensorDeliveryStream-1-2021-03-30-08-50-38-47f86cff-156c-4740-a2b9-d440156fe067\n",
      "Load from cache: TemperatureAndHumidity2021/03/30/09/ThesisHydroponicSensorDeliveryStream-1-2021-03-30-09-05-43-61a47a1c-bd70-40fb-8dc0-416232d4f45c\n",
      "Load from cache: TemperatureAndHumidity2021/03/30/09/ThesisHydroponicSensorDeliveryStream-1-2021-03-30-09-20-48-9e470860-785d-489c-a15c-744720a337cc\n",
      "Load from cache: TemperatureAndHumidity2021/03/30/09/ThesisHydroponicSensorDeliveryStream-1-2021-03-30-09-35-56-f720f664-0992-462c-87ed-40b96293726b\n",
      "Load from cache: TemperatureAndHumidity2021/03/30/09/ThesisHydroponicSensorDeliveryStream-1-2021-03-30-09-51-01-3ce89a9d-5890-4fae-b9a9-1ae23ec0ec23\n",
      "Load from cache: TemperatureAndHumidity2021/03/30/10/ThesisHydroponicSensorDeliveryStream-1-2021-03-30-10-06-07-f3abeaba-6466-4849-bb60-797b47825569\n",
      "Load from cache: TemperatureAndHumidity2021/03/30/10/ThesisHydroponicSensorDeliveryStream-1-2021-03-30-10-21-12-68927a8c-f80f-4981-adf9-0cc0e330721f\n",
      "Load from cache: TemperatureAndHumidity2021/03/30/10/ThesisHydroponicSensorDeliveryStream-1-2021-03-30-10-36-13-f471ca98-23a8-47f3-80a9-c2bac19bda47\n",
      "Load from cache: TemperatureAndHumidity2021/03/30/10/ThesisHydroponicSensorDeliveryStream-1-2021-03-30-10-51-20-a6ead53e-ee50-498e-831d-b08233fe71c4\n",
      "Load from cache: TemperatureAndHumidity2021/03/30/11/ThesisHydroponicSensorDeliveryStream-1-2021-03-30-11-06-23-12b02c8a-77d5-4f3a-8ffe-be5b161a38d7\n",
      "Load from cache: TemperatureAndHumidity2021/03/30/11/ThesisHydroponicSensorDeliveryStream-1-2021-03-30-11-21-27-eb562d17-c5dc-4138-bb85-aca1bc7ee2f2\n",
      "Load from cache: TemperatureAndHumidity2021/03/30/11/ThesisHydroponicSensorDeliveryStream-1-2021-03-30-11-36-31-69da5190-3d97-411e-ba47-26c893f7422c\n",
      "Load from cache: TemperatureAndHumidity2021/03/30/11/ThesisHydroponicSensorDeliveryStream-1-2021-03-30-11-51-37-b3108b5e-95ff-4936-9470-5fa44c8c533f\n",
      "Load from cache: TemperatureAndHumidity2021/03/30/12/ThesisHydroponicSensorDeliveryStream-1-2021-03-30-12-06-40-e5633fac-f3c3-4155-b506-1ddaf0640cc9\n",
      "Load from cache: TemperatureAndHumidity2021/03/30/12/ThesisHydroponicSensorDeliveryStream-1-2021-03-30-12-21-43-9c88b5b3-da58-4a15-9198-01e9e552ea4a\n",
      "Load from cache: TemperatureAndHumidity2021/03/30/12/ThesisHydroponicSensorDeliveryStream-1-2021-03-30-12-36-46-628f5abc-637f-4663-a705-c9b99ed0b12d\n",
      "Load from cache: TemperatureAndHumidity2021/03/30/12/ThesisHydroponicSensorDeliveryStream-1-2021-03-30-12-51-50-a97dbd0a-f9c7-471a-b7c8-4ce1e9e62f51\n",
      "Load from cache: TemperatureAndHumidity2021/03/30/13/ThesisHydroponicSensorDeliveryStream-1-2021-03-30-13-06-53-252c0a20-4f51-47cb-bf9e-06e2059fbed1\n",
      "Load from cache: TemperatureAndHumidity2021/03/30/13/ThesisHydroponicSensorDeliveryStream-1-2021-03-30-13-21-54-351ec5ba-f70f-45cf-8e00-7da0c1b0aec9\n",
      "Load from cache: TemperatureAndHumidity2021/03/30/13/ThesisHydroponicSensorDeliveryStream-1-2021-03-30-13-37-01-0193d8a4-a05e-43cd-8295-7e3cc7676917\n",
      "Load from cache: TemperatureAndHumidity2021/03/30/13/ThesisHydroponicSensorDeliveryStream-1-2021-03-30-13-52-03-c2fa0b5c-8651-4701-9b6e-bf6e670279cc\n",
      "Load from cache: TemperatureAndHumidity2021/03/30/14/ThesisHydroponicSensorDeliveryStream-1-2021-03-30-14-07-08-9e3eeabc-02f7-4172-ba5a-11872c2016f8\n",
      "Load from cache: TemperatureAndHumidity2021/03/30/14/ThesisHydroponicSensorDeliveryStream-1-2021-03-30-14-22-15-3151cc99-0402-486b-892c-578f77d506ee\n",
      "Load from cache: TemperatureAndHumidity2021/03/30/14/ThesisHydroponicSensorDeliveryStream-1-2021-03-30-14-37-19-71ecd75f-132d-40af-8ee0-28d8857935d7\n",
      "Load from cache: TemperatureAndHumidity2021/03/30/14/ThesisHydroponicSensorDeliveryStream-1-2021-03-30-14-52-23-e5582631-cab5-404d-9dcf-81e9e96b6bdf\n",
      "Load from cache: TemperatureAndHumidity2021/03/30/15/ThesisHydroponicSensorDeliveryStream-1-2021-03-30-15-07-28-61eb21f0-feeb-428a-bc64-683095dac947\n",
      "Load from cache: TemperatureAndHumidity2021/03/30/15/ThesisHydroponicSensorDeliveryStream-1-2021-03-30-15-22-33-ed20cbe4-6a49-43b5-abb8-5f6dbe389d62\n",
      "Load from cache: TemperatureAndHumidity2021/03/30/15/ThesisHydroponicSensorDeliveryStream-1-2021-03-30-15-37-37-9ad37e6e-d93e-4437-b8c2-116e0bd2a4d3\n",
      "Load from cache: TemperatureAndHumidity2021/03/30/15/ThesisHydroponicSensorDeliveryStream-1-2021-03-30-15-52-52-20ef7af3-4c50-4d50-a7ed-c2a5f4207087\n",
      "Load from cache: TemperatureAndHumidity2021/03/30/16/ThesisHydroponicSensorDeliveryStream-1-2021-03-30-16-07-54-90064ce0-fc2a-4aab-922f-a352e22e1c63\n",
      "Load from cache: TemperatureAndHumidity2021/03/30/16/ThesisHydroponicSensorDeliveryStream-1-2021-03-30-16-23-03-70df5030-0769-4d68-b127-f1561ce5af1b\n",
      "Load from cache: TemperatureAndHumidity2021/03/30/16/ThesisHydroponicSensorDeliveryStream-1-2021-03-30-16-38-14-76881d18-d354-404d-9cd5-3b83bb51aef6\n",
      "Load from cache: TemperatureAndHumidity2021/03/30/16/ThesisHydroponicSensorDeliveryStream-1-2021-03-30-16-53-18-90509a34-4c23-40a1-a354-d92e8aa562fa\n",
      "Load from cache: TemperatureAndHumidity2021/03/30/17/ThesisHydroponicSensorDeliveryStream-1-2021-03-30-17-08-20-21d3832f-6838-4daf-ab5c-a829e2749b45\n",
      "Load from cache: TemperatureAndHumidity2021/03/30/17/ThesisHydroponicSensorDeliveryStream-1-2021-03-30-17-23-23-395339e1-3fdb-4a6a-8ee5-c423a60caa0e\n",
      "Load from cache: TemperatureAndHumidity2021/03/30/17/ThesisHydroponicSensorDeliveryStream-1-2021-03-30-17-38-27-9cbb6727-9c3f-47c8-9301-c7bda9c8ce48\n",
      "Load from cache: TemperatureAndHumidity2021/03/30/17/ThesisHydroponicSensorDeliveryStream-1-2021-03-30-17-53-30-066b1079-8e35-4a61-9732-ac13505b468e\n",
      "Load from cache: TemperatureAndHumidity2021/03/30/18/ThesisHydroponicSensorDeliveryStream-1-2021-03-30-18-08-34-335385af-a9b0-4a9e-ae0a-0fbae7763b38\n",
      "Load from cache: TemperatureAndHumidity2021/03/30/18/ThesisHydroponicSensorDeliveryStream-1-2021-03-30-18-23-42-88d8ab24-4307-4855-bc2a-e68d0a468d1c\n",
      "Load from cache: TemperatureAndHumidity2021/03/30/18/ThesisHydroponicSensorDeliveryStream-1-2021-03-30-18-38-45-e54a335b-464c-44e3-9d3f-c41cc6691f4c\n",
      "Load from cache: TemperatureAndHumidity2021/03/30/18/ThesisHydroponicSensorDeliveryStream-1-2021-03-30-18-53-47-0fd662f1-643c-4985-a510-b1865fd46450\n",
      "Load from cache: TemperatureAndHumidity2021/03/30/19/ThesisHydroponicSensorDeliveryStream-1-2021-03-30-19-08-54-4fe4dba7-0537-4b71-90dd-b7b4d5012cfe\n",
      "Load from cache: TemperatureAndHumidity2021/03/30/19/ThesisHydroponicSensorDeliveryStream-1-2021-03-30-19-24-03-cd239b38-120b-4e99-83ec-a90fb2f69dbc\n",
      "Load from cache: TemperatureAndHumidity2021/03/30/19/ThesisHydroponicSensorDeliveryStream-1-2021-03-30-19-39-09-c44b9ae4-a964-4d64-9f73-6086b9c0e561\n",
      "Load from cache: TemperatureAndHumidity2021/03/30/19/ThesisHydroponicSensorDeliveryStream-1-2021-03-30-19-54-19-4128d653-b905-4db3-8bed-7ef52509af46\n",
      "Load from cache: TemperatureAndHumidity2021/03/30/20/ThesisHydroponicSensorDeliveryStream-1-2021-03-30-20-09-21-e1e56f42-ae0f-4ee2-a760-1019b86ec83c\n",
      "Load from cache: TemperatureAndHumidity2021/03/30/20/ThesisHydroponicSensorDeliveryStream-1-2021-03-30-20-24-22-2d6554d5-3cbf-4381-b1ff-aa858aa7e740\n",
      "Load from cache: TemperatureAndHumidity2021/03/30/20/ThesisHydroponicSensorDeliveryStream-1-2021-03-30-20-39-33-fd03ccf5-2899-4b7a-b41e-672e77f3888c\n",
      "Load from cache: TemperatureAndHumidity2021/03/30/20/ThesisHydroponicSensorDeliveryStream-1-2021-03-30-20-54-42-6793f40b-8440-4a1e-bea6-31da5888410e\n",
      "Load from cache: TemperatureAndHumidity2021/03/30/21/ThesisHydroponicSensorDeliveryStream-1-2021-03-30-21-09-47-27826ace-79d2-49d5-b2ce-5ed8703910d5\n",
      "Load from cache: TemperatureAndHumidity2021/03/30/21/ThesisHydroponicSensorDeliveryStream-1-2021-03-30-21-24-55-1aa5afdf-a494-4204-a8f1-a274ba475731\n",
      "Load from cache: TemperatureAndHumidity2021/03/30/21/ThesisHydroponicSensorDeliveryStream-1-2021-03-30-21-40-03-c525ddf8-dce0-4f13-9e76-47fc9372a874\n",
      "Load from cache: TemperatureAndHumidity2021/03/30/21/ThesisHydroponicSensorDeliveryStream-1-2021-03-30-21-55-14-aaf03887-7686-4f51-b756-41f332926c75\n",
      "Load from cache: TemperatureAndHumidity2021/03/30/22/ThesisHydroponicSensorDeliveryStream-1-2021-03-30-22-10-21-a46b72a6-ff3d-4299-b9a0-733beda3cba4\n",
      "Load from cache: TemperatureAndHumidity2021/03/30/22/ThesisHydroponicSensorDeliveryStream-1-2021-03-30-22-25-25-8f158a2b-d6a2-499a-839c-277928c6a35a\n",
      "Load from cache: TemperatureAndHumidity2021/03/30/22/ThesisHydroponicSensorDeliveryStream-1-2021-03-30-22-40-34-a72491e2-1d61-4d4e-ad30-2609fe1337c6\n",
      "Load from cache: TemperatureAndHumidity2021/03/30/22/ThesisHydroponicSensorDeliveryStream-1-2021-03-30-22-55-40-daf37338-c13d-4bde-b638-b96535ea230e\n",
      "Load from cache: TemperatureAndHumidity2021/03/30/23/ThesisHydroponicSensorDeliveryStream-1-2021-03-30-23-10-44-8c54ba69-97df-4834-b987-b7ac3bb8b847\n",
      "Load from cache: TemperatureAndHumidity2021/03/30/23/ThesisHydroponicSensorDeliveryStream-1-2021-03-30-23-25-49-2bb60d9e-941e-4024-b732-b8242a36045f\n",
      "Load from cache: TemperatureAndHumidity2021/03/30/23/ThesisHydroponicSensorDeliveryStream-1-2021-03-30-23-40-55-00277c6f-5426-467c-9e83-46231d0b6ce0\n",
      "Load from cache: TemperatureAndHumidity2021/03/30/23/ThesisHydroponicSensorDeliveryStream-1-2021-03-30-23-56-00-b7330a68-4294-4dc0-b372-6c4d1c695d89\n",
      "Load from cache: TemperatureAndHumidity2021/03/31/00/ThesisHydroponicSensorDeliveryStream-1-2021-03-31-00-11-05-a8901ff2-f9ba-4a90-9d70-d04c4c850c6d\n",
      "Load from cache: TemperatureAndHumidity2021/03/31/00/ThesisHydroponicSensorDeliveryStream-1-2021-03-31-00-26-10-37fa6f96-463e-489e-8f10-94e5a0fdcabc\n",
      "Load from cache: TemperatureAndHumidity2021/03/31/00/ThesisHydroponicSensorDeliveryStream-1-2021-03-31-00-41-20-0af49be6-ae68-4518-b71e-2481f345008f\n",
      "Load from cache: TemperatureAndHumidity2021/03/31/00/ThesisHydroponicSensorDeliveryStream-1-2021-03-31-00-56-23-05669627-9b8e-4ae0-9f76-c5efd0364599\n",
      "Load from cache: TemperatureAndHumidity2021/03/31/01/ThesisHydroponicSensorDeliveryStream-1-2021-03-31-01-11-29-bd56ecaf-0577-4d12-b0a8-43d92dca7f00\n",
      "Load from cache: TemperatureAndHumidity2021/03/31/01/ThesisHydroponicSensorDeliveryStream-1-2021-03-31-01-26-34-001d6886-4215-44a9-9fde-907c43e06d47\n",
      "Load from cache: TemperatureAndHumidity2021/03/31/01/ThesisHydroponicSensorDeliveryStream-1-2021-03-31-01-41-42-7b8eb675-86a7-4df8-a6b8-1da3dda14409\n",
      "Load from cache: TemperatureAndHumidity2021/03/31/01/ThesisHydroponicSensorDeliveryStream-1-2021-03-31-01-56-49-d0b9f800-de6b-4c43-9a86-2e1cd5d256c9\n",
      "Load from cache: TemperatureAndHumidity2021/03/31/02/ThesisHydroponicSensorDeliveryStream-1-2021-03-31-02-11-52-c5a819b2-1b97-429a-ad15-cde189cdc7e1\n",
      "Load from cache: TemperatureAndHumidity2021/03/31/02/ThesisHydroponicSensorDeliveryStream-1-2021-03-31-02-26-57-a9cba129-5176-430b-9f87-ae9743d2744f\n",
      "Load from cache: TemperatureAndHumidity2021/03/31/02/ThesisHydroponicSensorDeliveryStream-1-2021-03-31-02-42-02-cddf073f-44ad-41ff-9154-836c028f8f5a\n",
      "Load from cache: TemperatureAndHumidity2021/03/31/02/ThesisHydroponicSensorDeliveryStream-1-2021-03-31-02-57-05-2970a293-7eb6-433c-8ce7-b26da5c20562\n",
      "Load from cache: TemperatureAndHumidity2021/03/31/03/ThesisHydroponicSensorDeliveryStream-1-2021-03-31-03-12-08-48a60387-e2f1-46a7-952c-f7d92ec566b8\n",
      "Load from cache: TemperatureAndHumidity2021/03/31/03/ThesisHydroponicSensorDeliveryStream-1-2021-03-31-03-27-16-f2fb3d29-52cb-400f-bef8-3615e35dc2b8\n",
      "Load from cache: TemperatureAndHumidity2021/03/31/03/ThesisHydroponicSensorDeliveryStream-1-2021-03-31-03-42-20-3364af83-36e7-4d7a-9366-796a78a80b0d\n",
      "Load from cache: TemperatureAndHumidity2021/03/31/03/ThesisHydroponicSensorDeliveryStream-1-2021-03-31-03-57-26-2351dfc9-9d61-4bef-8bbe-d67fa4dd6369\n",
      "Load from cache: TemperatureAndHumidity2021/03/31/04/ThesisHydroponicSensorDeliveryStream-1-2021-03-31-04-12-28-f782e1e0-f4f5-4e4a-8d22-71352038a520\n",
      "Load from cache: TemperatureAndHumidity2021/03/31/04/ThesisHydroponicSensorDeliveryStream-1-2021-03-31-04-27-31-c1fcb998-b3d4-4234-bc35-19587aa4e899\n",
      "Load from cache: TemperatureAndHumidity2021/03/31/04/ThesisHydroponicSensorDeliveryStream-1-2021-03-31-04-42-41-a5456828-2690-4139-bfbe-984a12971748\n",
      "Load from cache: TemperatureAndHumidity2021/03/31/04/ThesisHydroponicSensorDeliveryStream-1-2021-03-31-04-57-44-68cac744-4722-4699-ac53-2a0978c175ff\n",
      "Load from cache: TemperatureAndHumidity2021/03/31/05/ThesisHydroponicSensorDeliveryStream-1-2021-03-31-05-12-50-334286d9-1eaa-44be-8f2a-b5567ac30587\n",
      "Load from cache: TemperatureAndHumidity2021/03/31/05/ThesisHydroponicSensorDeliveryStream-1-2021-03-31-05-27-57-84874d13-d156-4300-98fb-68bc7157862f\n",
      "Load from cache: TemperatureAndHumidity2021/03/31/05/ThesisHydroponicSensorDeliveryStream-1-2021-03-31-05-43-03-66fed756-3106-4b9c-b5bf-e62dc48ebfe3\n",
      "Load from cache: TemperatureAndHumidity2021/03/31/05/ThesisHydroponicSensorDeliveryStream-1-2021-03-31-05-58-10-1b5de0ef-9121-431b-aab4-f63c82db9fe0\n",
      "Load from cache: TemperatureAndHumidity2021/03/31/06/ThesisHydroponicSensorDeliveryStream-1-2021-03-31-06-13-15-69345d92-77ba-4fc6-a77a-cfd2ae04b67c\n",
      "Load from cache: TemperatureAndHumidity2021/03/31/06/ThesisHydroponicSensorDeliveryStream-1-2021-03-31-06-28-19-c688ed30-4714-4379-8b26-e1af91a63287\n",
      "Load from cache: TemperatureAndHumidity2021/03/31/06/ThesisHydroponicSensorDeliveryStream-1-2021-03-31-06-43-27-5a54e017-9c16-47be-8cd9-e4c9eb8a910a\n",
      "Load from cache: TemperatureAndHumidity2021/03/31/06/ThesisHydroponicSensorDeliveryStream-1-2021-03-31-06-58-34-63443efd-66fd-4cf8-88a4-38934754c191\n",
      "Load from cache: TemperatureAndHumidity2021/03/31/07/ThesisHydroponicSensorDeliveryStream-1-2021-03-31-07-13-42-857d164c-af35-41f2-bb1f-fcba52d70b64\n",
      "Load from cache: TemperatureAndHumidity2021/03/31/07/ThesisHydroponicSensorDeliveryStream-1-2021-03-31-07-28-53-78c721f1-d3ed-4a9e-aaaf-4b2479c9cffd\n",
      "Load from cache: TemperatureAndHumidity2021/03/31/07/ThesisHydroponicSensorDeliveryStream-1-2021-03-31-07-44-05-56b5ef9b-8f1a-4c10-8ba5-94ed64459cd5\n",
      "Load from cache: TemperatureAndHumidity2021/03/31/07/ThesisHydroponicSensorDeliveryStream-1-2021-03-31-07-59-10-6863ffb0-5a6f-4aaf-a245-37a8a3c6998e\n"
     ]
    }
   ],
   "source": [
    "# Fetch existing data or load fresh data.\n",
    "# Remove redundancy and null.\n",
    "#files = s3_client.list_objects(Bucket=s3_bucket_name, Prefix=s3_bucket_prefix)['Contents']\n",
    "files = [{'Key': '/'.join(f.split('\\\\')[1:])} for f in glob.glob('.cache/**/**/**/***/*')]\n",
    "parsed_sensor_values = []\n",
    "for file in files:\n",
    "    if False: #not os.path.isfile('.cache/' + file['Key']) or (datetime.now() - datetime.fromtimestamp(os.path.getctime('.cache/' + file['Key']))).days > 31:\n",
    "        print(\"Fetching fresh file from S3:\", file['Key'])\n",
    "        if os.path.isfile('.cache/' + file['Key']):\n",
    "            os.unlink('.cache/' + file['Key'])\n",
    "        s3_object = s3_client.get_object(Bucket=s3_bucket_name, Key= file['Key'])\n",
    "        raw_sensor_values = s3_object['Body'].read().decode()\n",
    "        clean_sensor_values = re.sub(\",+\", \",\", raw_sensor_values)\n",
    "        sensor_values = json.loads(\"[\" + clean_sensor_values.strip(',') + \"]\")\n",
    "    else:\n",
    "        print(\"Load from cache:\", file['Key'])\n",
    "        with open('.cache/' + file['Key']) as f:\n",
    "            sensor_values = json.load(f)\n",
    "    parsed_sensor_values += sensor_values\n",
    "    os.makedirs('.cache/' + os.path.dirname(file['Key']), exist_ok=True)\n",
    "    with open('.cache/' + file['Key'], 'w') as f:\n",
    "        json.dump(sensor_values, f)"
   ]
  },
  {
   "source": [
    "## Data preparation"
   ],
   "cell_type": "markdown",
   "metadata": {}
  },
  {
   "cell_type": "code",
   "execution_count": 4,
   "metadata": {},
   "outputs": [],
   "source": [
    "df = pd.DataFrame(parsed_sensor_values)\n",
    "df['temperature'] = df['temperature'].astype(float)\n",
    "df['humidity'] = df['humidity'].astype(float)\n",
    "df['datetime'] = pd.to_datetime(df['datetime'])\n",
    "df.sort_values('datetime', ascending=True, inplace=True)"
   ]
  },
  {
   "cell_type": "code",
   "execution_count": 5,
   "metadata": {},
   "outputs": [
    {
     "output_type": "stream",
     "name": "stdout",
     "text": [
      "Number of rows and columns: (91774, 4)\n"
     ]
    },
    {
     "output_type": "execute_result",
     "data": {
      "text/plain": [
       "         sensor_type  temperature  humidity            datetime\n",
       "0  hydroponic sensor         14.0      38.0 2021-02-26 08:51:37\n",
       "1  hydroponic sensor         15.0      36.0 2021-02-26 08:51:43\n",
       "2  hydroponic sensor         15.0      36.0 2021-02-26 08:51:48\n",
       "3  hydroponic sensor         15.0      36.0 2021-02-26 08:51:53\n",
       "4  hydroponic sensor         15.0      35.0 2021-02-26 08:51:58"
      ],
      "text/html": "<div>\n<style scoped>\n    .dataframe tbody tr th:only-of-type {\n        vertical-align: middle;\n    }\n\n    .dataframe tbody tr th {\n        vertical-align: top;\n    }\n\n    .dataframe thead th {\n        text-align: right;\n    }\n</style>\n<table border=\"1\" class=\"dataframe\">\n  <thead>\n    <tr style=\"text-align: right;\">\n      <th></th>\n      <th>sensor_type</th>\n      <th>temperature</th>\n      <th>humidity</th>\n      <th>datetime</th>\n    </tr>\n  </thead>\n  <tbody>\n    <tr>\n      <th>0</th>\n      <td>hydroponic sensor</td>\n      <td>14.0</td>\n      <td>38.0</td>\n      <td>2021-02-26 08:51:37</td>\n    </tr>\n    <tr>\n      <th>1</th>\n      <td>hydroponic sensor</td>\n      <td>15.0</td>\n      <td>36.0</td>\n      <td>2021-02-26 08:51:43</td>\n    </tr>\n    <tr>\n      <th>2</th>\n      <td>hydroponic sensor</td>\n      <td>15.0</td>\n      <td>36.0</td>\n      <td>2021-02-26 08:51:48</td>\n    </tr>\n    <tr>\n      <th>3</th>\n      <td>hydroponic sensor</td>\n      <td>15.0</td>\n      <td>36.0</td>\n      <td>2021-02-26 08:51:53</td>\n    </tr>\n    <tr>\n      <th>4</th>\n      <td>hydroponic sensor</td>\n      <td>15.0</td>\n      <td>35.0</td>\n      <td>2021-02-26 08:51:58</td>\n    </tr>\n  </tbody>\n</table>\n</div>"
     },
     "metadata": {},
     "execution_count": 5
    }
   ],
   "source": [
    "print('Number of rows and columns:', df.shape)\n",
    "df.head(5)"
   ]
  },
  {
   "cell_type": "code",
   "execution_count": 6,
   "metadata": {},
   "outputs": [
    {
     "output_type": "stream",
     "name": "stdout",
     "text": [
      "(775, 2)\n                     temperature   humidity\ndatetime                                   \n2021-02-26 08:00:00    20.978495  27.376344\n2021-02-26 09:00:00    23.768421  24.040602\n2021-02-26 10:00:00    25.008850  30.794690\n2021-02-26 11:00:00    22.839286  31.142857\n2021-02-26 12:00:00    23.854545  29.054545\n...                          ...        ...\n2021-03-31 06:00:00    24.000000  20.067039\n2021-03-31 07:00:00    24.000000  20.352273\n2021-03-31 08:00:00    24.331461  20.067416\n2021-03-31 09:00:00    25.084746  20.084746\n2021-03-31 10:00:00    25.666667  20.666667\n\n[775 rows x 2 columns]\n"
     ]
    }
   ],
   "source": [
    "# resample data to hourly\n",
    "hourly_groups = df.set_index('datetime').resample('1H')\n",
    "# Calulating the mean will simply eliminate the data outliers\n",
    "hourly_data = hourly_groups.mean()\n",
    "hourly_data.dropna(inplace=True)\n",
    "# summarize\n",
    "print(hourly_data.shape)\n",
    "print(hourly_data)\n",
    "# save\n",
    "hourly_data.to_csv('temperature_humidity_hourly.csv')"
   ]
  },
  {
   "cell_type": "code",
   "execution_count": 7,
   "metadata": {},
   "outputs": [],
   "source": [
    "# split a univariate dataset into train/test sets\n",
    "def split_dataset(data, interval_size):\n",
    "    temp_a = int((len(data)*0.8)/interval_size)\n",
    "    split_index = temp_a*interval_size\n",
    "    temp_b = int(len(data)/interval_size)\n",
    "    end_index = temp_b*interval_size\n",
    "    # split into standard weeks(i.e. divisible by interval_size)\n",
    "    train, test = data[:split_index], data[split_index:end_index]\n",
    "    # restructure into windows of weekly data\n",
    "    train = array(split(train, len(train)/interval_size))\n",
    "    test = array(split(test, len(test)/interval_size))\n",
    "    return train, test"
   ]
  },
  {
   "cell_type": "code",
   "execution_count": 8,
   "metadata": {},
   "outputs": [],
   "source": [
    "# evaluate one or more weekly forecasts against expected values\n",
    "def evaluate_forecasts(actual, predicted):\n",
    "    scores = list()\n",
    "    # calculate an RMSE score for each day\n",
    "    for i in range(actual.shape[1]):\n",
    "        # calculate mse\n",
    "        mse = mean_squared_error(actual[:, i], predicted[:, i])\n",
    "        # calculate rmse\n",
    "        rmse = sqrt(mse)\n",
    "        # store\n",
    "        scores.append(rmse)\n",
    "    # calculate overall RMSE\n",
    "    s = 0\n",
    "    for row in range(actual.shape[0]):\n",
    "        for col in range(actual.shape[1]):\n",
    "            s += (actual[row, col] - predicted[row, col])**2\n",
    "    score = sqrt(s / (actual.shape[0] * actual.shape[1]))\n",
    "    return score, scores"
   ]
  },
  {
   "cell_type": "code",
   "execution_count": 9,
   "metadata": {},
   "outputs": [],
   "source": [
    "# summarize scores\n",
    "def summarize_scores(name, score, scores):\n",
    "    s_scores = ', '.join(['%.1f' % s for s in scores])\n",
    "    print('%s: [%.3f] %s' % (name, score, s_scores))"
   ]
  },
  {
   "cell_type": "code",
   "execution_count": 10,
   "metadata": {},
   "outputs": [],
   "source": [
    "# convert history into inputs and outputs\n",
    "def to_supervised(train, n_input, n_out):\n",
    "\t# flatten data\n",
    "\tdata = train.reshape((train.shape[0]*train.shape[1], train.shape[2]))\n",
    "\tX, y = list(), list()\n",
    "\tin_start = 0\n",
    "\t# step over the entire history one time step at a time\n",
    "\tfor _ in range(len(data)):\n",
    "\t\t# define the end of the input sequence\n",
    "\t\tin_end = in_start + n_input\n",
    "\t\tout_end = in_end + n_out\n",
    "\t\t# ensure we have enough data for this instance\n",
    "\t\tif out_end <= len(data):\n",
    "\t\t\tx_input = data[in_start:in_end, 0]\n",
    "\t\t\tx_input = x_input.reshape((len(x_input), 1))\n",
    "\t\t\tX.append(x_input)\n",
    "\t\t\ty.append(data[in_end:out_end, 0])\n",
    "\t\t# move along one time step\n",
    "\t\tin_start += 1\n",
    "\treturn array(X), array(y)"
   ]
  },
  {
   "cell_type": "code",
   "execution_count": 11,
   "metadata": {},
   "outputs": [],
   "source": [
    "# train the model\n",
    "def build_model(hp):\n",
    "\t# define hyperparameters parameters\n",
    "\tinterval_size = hp.Int('interval_size', min_value=3, max_value=12, step=2)\n",
    "\tnum_layers = hp.Int('num_layers', 1, 7, step=2, default=7)\n",
    "\tactivation = hp.Choice(\"activation\", [\"sigmoid\", \"relu\", \"tanh\"], default=\"tanh\")\n",
    "\thiddent_units = hp.Choice('hiddent_units', [50, 100, 150, 200], default=200)\n",
    "\t\n",
    "\t# define model\n",
    "\tmodel = Sequential()\n",
    "\tmodel.add(Conv1D(filters=64, kernel_size=3, padding='same', activation='sigmoid', input_shape=(interval_size, 1)))\n",
    "\tmodel.add(Conv1D(filters=64, kernel_size=3, activation='relu', padding='same'))\n",
    "\tmodel.add(MaxPooling1D(pool_size=2))\n",
    "\tmodel.add(Flatten())\n",
    "\tmodel.add(RepeatVector(interval_size))\n",
    "\t# we want sigmoid in the first lstm layer so that we convert the data between 0 and 1\n",
    "\tmodel.add(LSTM(hiddent_units, return_sequences=num_layers > 1))\n",
    "\tfor i in range(num_layers - 2):\n",
    "\t\tmodel.add(LSTM(hiddent_units, activation=activation, return_sequences=True, dropout=hp.Float(\"dropout\", 0.0 , 0.8 , 0.2, default=0.2)))\n",
    "\tif num_layers > 1:\n",
    "\t\tmodel.add(LSTM(hiddent_units, activation=activation))\n",
    "\tmodel.add(Dense(interval_size))\n",
    "\tmodel.compile(loss='mse', optimizer='adam')\n",
    "\treturn model"
   ]
  },
  {
   "source": [
    "\n",
    "# train the model\n",
    "def build_model(train, n_input):\n",
    "\t# prepare data\n",
    "\ttrain_x, train_y = to_supervised(train, n_input, n_input)\n",
    "\t# define parameters\n",
    "\tverbose, epochs, batch_size = 0, 20, 16\n",
    "\tn_timesteps, n_features, n_outputs = train_x.shape[1], train_x.shape[2], train_y.shape[1]\n",
    "\t# reshape output into [samples, timesteps, features]\n",
    "\ttrain_y = train_y.reshape((train_y.shape[0], train_y.shape[1], 1))\n",
    "\t# define model\n",
    "\tmodel = Sequential()\n",
    "\tmodel.add(Conv1D(filters=64, kernel_size=3, activation='relu', padding='same', input_shape=(n_timesteps,n_features)))\n",
    "\tmodel.add(Conv1D(filters=64, kernel_size=3, activation='relu', padding='same'))\n",
    "\tmodel.add(MaxPooling1D(pool_size=2))\n",
    "\tmodel.add(Flatten())\n",
    "\tmodel.add(RepeatVector(n_outputs))\n",
    "\tmodel.add(LSTM(200, activation='relu', return_sequences=True))\n",
    "\tmodel.add(TimeDistributed(Dense(100, activation='relu')))\n",
    "\tmodel.add(TimeDistributed(Dense(1)))\n",
    "\tmodel.compile(loss='mse', optimizer='adam')\n",
    "\t# fit network\n",
    "\t# model.fit(train_x, train_y, epochs=epochs, batch_size=batch_size, verbose=verbose)\n",
    "\treturn model"
   ],
   "cell_type": "markdown",
   "metadata": {}
  },
  {
   "cell_type": "code",
   "execution_count": 12,
   "metadata": {},
   "outputs": [],
   "source": [
    "# make a forecast\n",
    "def forecast(model, history, n_input):\n",
    "\t# flatten data\n",
    "\tdata = array(history)\n",
    "\tdata = data.reshape((data.shape[0]*data.shape[1], data.shape[2]))\n",
    "\t# retrieve last observations for input data\n",
    "\tinput_x = data[-n_input:, 0]\n",
    "\t# reshape into [1, n_input, 1]\n",
    "\tinput_x = input_x.reshape((1, len(input_x), 1))\n",
    "\t# forecast the next week\n",
    "\tyhat = model.predict(input_x, verbose=0)\n",
    "\t# we only want the vector forecast\n",
    "\tyhat = yhat[0]\n",
    "\treturn yhat"
   ]
  },
  {
   "cell_type": "code",
   "execution_count": 13,
   "metadata": {},
   "outputs": [],
   "source": [
    "# evaluate a single model\n",
    "def evaluate_model(train, test, n_input, model):\n",
    "\t# history is a list of weekly data\n",
    "\thistory = [x for x in train]\n",
    "\t# walk-forward validation over each week\n",
    "\tpredictions = list()\n",
    "\tfor i in range(len(test)):\n",
    "\t\t# predict the week\n",
    "\t\tyhat_sequence = forecast(model, history, n_input)\n",
    "\t\t# store the predictions\n",
    "\t\tpredictions.append(yhat_sequence)\n",
    "\t\t# get real observation and add to history for predicting the next week\n",
    "\t\thistory.append(test[i, :])\n",
    "\t# evaluate predictions days for each week\n",
    "\tpredictions = array(predictions)\n",
    "\tscore, scores = evaluate_forecasts(test[:, :, 0], predictions)\n",
    "\treturn score, scores, predictions"
   ]
  },
  {
   "source": [
    "# load the new file\n",
    "dataset = read_csv('temperature_humidity_hourly.csv', header=0, infer_datetime_format=True, parse_dates=['datetime'], index_col=['datetime'])\n",
    "\n",
    "def tuning_build_model(hp):\n",
    "    interval_size = hp.Int('interval_size', min_value=3, max_value=12, step=2)\n",
    "    return build_model(hp)\n",
    "\n",
    "# We create our own tuning class to tune batch size, epochs, interval size, \n",
    "class MyTuner(kt.Tuner):\n",
    "    def __init__(self, **kwargs):\n",
    "        super().__init__(**kwargs)\n",
    "\n",
    "    def run_trial(self, trial, train_ds, **kwargs):\n",
    "        hp = trial.hyperparameters\n",
    "        batch_size = hp.Choice(\"batch_size\", [0, 32, 64, 128, 256, 512], default=0)\n",
    "        # When training with hyperparameters change the epoch size to 50 <------------------\n",
    "        epochs = hp.Choice(\"epochs\", [10])\n",
    "        interval_size = hp.Int('interval_size', min_value=3, max_value=12, step=2)\n",
    "        train, test = split_dataset(train_ds, interval_size)\n",
    "        x,y=to_supervised(train, interval_size, interval_size)\n",
    "        callback = tf.keras.callbacks.EarlyStopping(monitor='loss', patience=3)\n",
    "        rmse_scores =  []\n",
    "        for i in range(5):\n",
    "            model = self.hypermodel.build(trial.hyperparameters)\n",
    "            model.fit(x, y, epochs=epochs, batch_size=batch_size, verbose=False, callbacks=[callback])\n",
    "            score, scores, predictions = evaluate_model(train, test, interval_size, model)\n",
    "            rmse_scores.append(score)\n",
    "        mean_rmse_score = sum(rmse_scores) / len(rmse_scores)\n",
    "        variance_rmse_score = (sum([(mean_rmse_score-current_score)**2 for current_score in rmse_scores]))/len(rmse_scores)\n",
    "        std_dev_rmse_score = sqrt(variance_rmse_score)\n",
    "        self.oracle.update_trial(trial.trial_id, { 'score': mean_rmse_score, 'std': std_dev_rmse_score })"
   ],
   "cell_type": "code",
   "metadata": {},
   "execution_count": 14,
   "outputs": []
  },
  {
   "source": [
    "# When training with hyperparameters change the max_trails to min 72000 <------------------\n",
    "tuner = MyTuner(\n",
    "    oracle=kt.oracles.Hyperband(\n",
    "          objective=kt.Objective('score', 'min'),\n",
    "          max_epochs=50\n",
    "    ),\n",
    "    hypermodel=tuning_build_model,\n",
    "    directory='forecasting_evaluation',\n",
    "    project_name='cnn-lstm', overwrite=True\n",
    ")\n",
    "tuner.search_space_summary()\n",
    "tuner.search(train_ds=dataset.values)\n",
    "tuner.results_summary()"
   ],
   "cell_type": "code",
   "metadata": {},
   "execution_count": 15,
   "outputs": [
    {
     "output_type": "stream",
     "name": "stdout",
     "text": [
      "Search space summary\nDefault search space size: 5\ninterval_size (Int)\n{'default': None, 'conditions': [], 'min_value': 3, 'max_value': 12, 'step': 2, 'sampling': None}\nnum_layers (Int)\n{'default': 7, 'conditions': [], 'min_value': 1, 'max_value': 7, 'step': 2, 'sampling': None}\nactivation (Choice)\n{'default': 'tanh', 'conditions': [], 'values': ['sigmoid', 'relu', 'tanh'], 'ordered': False}\nhiddent_units (Choice)\n{'default': 200, 'conditions': [], 'values': [50, 100, 150, 200], 'ordered': True}\ndropout (Float)\n{'default': 0.2, 'conditions': [], 'min_value': 0.0, 'max_value': 0.8, 'step': 0.2, 'sampling': None}\n\nSearch: Running Trial #1\n\nHyperparameter    |Value             |Best Value So Far \ninterval_size     |3                 |?                 \nnum_layers        |5                 |?                 \nactivation        |relu              |?                 \nhiddent_units     |150               |?                 \ndropout           |0.6               |?                 \ntuner/epochs      |2                 |?                 \ntuner/initial_e...|0                 |?                 \ntuner/bracket     |3                 |?                 \ntuner/round       |0                 |?                 \n\n"
     ]
    },
    {
     "output_type": "error",
     "ename": "KeyboardInterrupt",
     "evalue": "",
     "traceback": [
      "\u001b[1;31m---------------------------------------------------------------------------\u001b[0m",
      "\u001b[1;31mKeyboardInterrupt\u001b[0m                         Traceback (most recent call last)",
      "\u001b[1;32m<ipython-input-15-188ca6707eb4>\u001b[0m in \u001b[0;36m<module>\u001b[1;34m\u001b[0m\n\u001b[0;32m     10\u001b[0m )\n\u001b[0;32m     11\u001b[0m \u001b[0mtuner\u001b[0m\u001b[1;33m.\u001b[0m\u001b[0msearch_space_summary\u001b[0m\u001b[1;33m(\u001b[0m\u001b[1;33m)\u001b[0m\u001b[1;33m\u001b[0m\u001b[1;33m\u001b[0m\u001b[0m\n\u001b[1;32m---> 12\u001b[1;33m \u001b[0mtuner\u001b[0m\u001b[1;33m.\u001b[0m\u001b[0msearch\u001b[0m\u001b[1;33m(\u001b[0m\u001b[0mtrain_ds\u001b[0m\u001b[1;33m=\u001b[0m\u001b[0mdataset\u001b[0m\u001b[1;33m.\u001b[0m\u001b[0mvalues\u001b[0m\u001b[1;33m)\u001b[0m\u001b[1;33m\u001b[0m\u001b[1;33m\u001b[0m\u001b[0m\n\u001b[0m\u001b[0;32m     13\u001b[0m \u001b[0mtuner\u001b[0m\u001b[1;33m.\u001b[0m\u001b[0mresults_summary\u001b[0m\u001b[1;33m(\u001b[0m\u001b[1;33m)\u001b[0m\u001b[1;33m\u001b[0m\u001b[1;33m\u001b[0m\u001b[0m\n",
      "\u001b[1;32m~\\Anaconda3\\envs\\DT005A Final Project\\lib\\site-packages\\kerastuner\\engine\\base_tuner.py\u001b[0m in \u001b[0;36msearch\u001b[1;34m(self, *fit_args, **fit_kwargs)\u001b[0m\n\u001b[0;32m    129\u001b[0m \u001b[1;33m\u001b[0m\u001b[0m\n\u001b[0;32m    130\u001b[0m             \u001b[0mself\u001b[0m\u001b[1;33m.\u001b[0m\u001b[0mon_trial_begin\u001b[0m\u001b[1;33m(\u001b[0m\u001b[0mtrial\u001b[0m\u001b[1;33m)\u001b[0m\u001b[1;33m\u001b[0m\u001b[1;33m\u001b[0m\u001b[0m\n\u001b[1;32m--> 131\u001b[1;33m             \u001b[0mself\u001b[0m\u001b[1;33m.\u001b[0m\u001b[0mrun_trial\u001b[0m\u001b[1;33m(\u001b[0m\u001b[0mtrial\u001b[0m\u001b[1;33m,\u001b[0m \u001b[1;33m*\u001b[0m\u001b[0mfit_args\u001b[0m\u001b[1;33m,\u001b[0m \u001b[1;33m**\u001b[0m\u001b[0mfit_kwargs\u001b[0m\u001b[1;33m)\u001b[0m\u001b[1;33m\u001b[0m\u001b[1;33m\u001b[0m\u001b[0m\n\u001b[0m\u001b[0;32m    132\u001b[0m             \u001b[0mself\u001b[0m\u001b[1;33m.\u001b[0m\u001b[0mon_trial_end\u001b[0m\u001b[1;33m(\u001b[0m\u001b[0mtrial\u001b[0m\u001b[1;33m)\u001b[0m\u001b[1;33m\u001b[0m\u001b[1;33m\u001b[0m\u001b[0m\n\u001b[0;32m    133\u001b[0m         \u001b[0mself\u001b[0m\u001b[1;33m.\u001b[0m\u001b[0mon_search_end\u001b[0m\u001b[1;33m(\u001b[0m\u001b[1;33m)\u001b[0m\u001b[1;33m\u001b[0m\u001b[1;33m\u001b[0m\u001b[0m\n",
      "\u001b[1;32m<ipython-input-14-de38940effe3>\u001b[0m in \u001b[0;36mrun_trial\u001b[1;34m(self, trial, train_ds, **kwargs)\u001b[0m\n\u001b[0;32m     24\u001b[0m             \u001b[0mmodel\u001b[0m \u001b[1;33m=\u001b[0m \u001b[0mself\u001b[0m\u001b[1;33m.\u001b[0m\u001b[0mhypermodel\u001b[0m\u001b[1;33m.\u001b[0m\u001b[0mbuild\u001b[0m\u001b[1;33m(\u001b[0m\u001b[0mtrial\u001b[0m\u001b[1;33m.\u001b[0m\u001b[0mhyperparameters\u001b[0m\u001b[1;33m)\u001b[0m\u001b[1;33m\u001b[0m\u001b[1;33m\u001b[0m\u001b[0m\n\u001b[0;32m     25\u001b[0m             \u001b[0mmodel\u001b[0m\u001b[1;33m.\u001b[0m\u001b[0mfit\u001b[0m\u001b[1;33m(\u001b[0m\u001b[0mx\u001b[0m\u001b[1;33m,\u001b[0m \u001b[0my\u001b[0m\u001b[1;33m,\u001b[0m \u001b[0mepochs\u001b[0m\u001b[1;33m=\u001b[0m\u001b[0mepochs\u001b[0m\u001b[1;33m,\u001b[0m \u001b[0mbatch_size\u001b[0m\u001b[1;33m=\u001b[0m\u001b[0mbatch_size\u001b[0m\u001b[1;33m,\u001b[0m \u001b[0mverbose\u001b[0m\u001b[1;33m=\u001b[0m\u001b[1;32mFalse\u001b[0m\u001b[1;33m,\u001b[0m \u001b[0mcallbacks\u001b[0m\u001b[1;33m=\u001b[0m\u001b[1;33m[\u001b[0m\u001b[0mcallback\u001b[0m\u001b[1;33m]\u001b[0m\u001b[1;33m)\u001b[0m\u001b[1;33m\u001b[0m\u001b[1;33m\u001b[0m\u001b[0m\n\u001b[1;32m---> 26\u001b[1;33m             \u001b[0mscore\u001b[0m\u001b[1;33m,\u001b[0m \u001b[0mscores\u001b[0m\u001b[1;33m,\u001b[0m \u001b[0mpredictions\u001b[0m \u001b[1;33m=\u001b[0m \u001b[0mevaluate_model\u001b[0m\u001b[1;33m(\u001b[0m\u001b[0mtrain\u001b[0m\u001b[1;33m,\u001b[0m \u001b[0mtest\u001b[0m\u001b[1;33m,\u001b[0m \u001b[0minterval_size\u001b[0m\u001b[1;33m,\u001b[0m \u001b[0mmodel\u001b[0m\u001b[1;33m)\u001b[0m\u001b[1;33m\u001b[0m\u001b[1;33m\u001b[0m\u001b[0m\n\u001b[0m\u001b[0;32m     27\u001b[0m             \u001b[0mrmse_scores\u001b[0m\u001b[1;33m.\u001b[0m\u001b[0mappend\u001b[0m\u001b[1;33m(\u001b[0m\u001b[0mscore\u001b[0m\u001b[1;33m)\u001b[0m\u001b[1;33m\u001b[0m\u001b[1;33m\u001b[0m\u001b[0m\n\u001b[0;32m     28\u001b[0m         \u001b[0mmean_rmse_score\u001b[0m \u001b[1;33m=\u001b[0m \u001b[0msum\u001b[0m\u001b[1;33m(\u001b[0m\u001b[0mrmse_scores\u001b[0m\u001b[1;33m)\u001b[0m \u001b[1;33m/\u001b[0m \u001b[0mlen\u001b[0m\u001b[1;33m(\u001b[0m\u001b[0mrmse_scores\u001b[0m\u001b[1;33m)\u001b[0m\u001b[1;33m\u001b[0m\u001b[1;33m\u001b[0m\u001b[0m\n",
      "\u001b[1;32m<ipython-input-13-82a6d4465140>\u001b[0m in \u001b[0;36mevaluate_model\u001b[1;34m(train, test, n_input, model)\u001b[0m\n\u001b[0;32m      7\u001b[0m         \u001b[1;32mfor\u001b[0m \u001b[0mi\u001b[0m \u001b[1;32min\u001b[0m \u001b[0mrange\u001b[0m\u001b[1;33m(\u001b[0m\u001b[0mlen\u001b[0m\u001b[1;33m(\u001b[0m\u001b[0mtest\u001b[0m\u001b[1;33m)\u001b[0m\u001b[1;33m)\u001b[0m\u001b[1;33m:\u001b[0m\u001b[1;33m\u001b[0m\u001b[1;33m\u001b[0m\u001b[0m\n\u001b[0;32m      8\u001b[0m                 \u001b[1;31m# predict the week\u001b[0m\u001b[1;33m\u001b[0m\u001b[1;33m\u001b[0m\u001b[1;33m\u001b[0m\u001b[0m\n\u001b[1;32m----> 9\u001b[1;33m                 \u001b[0myhat_sequence\u001b[0m \u001b[1;33m=\u001b[0m \u001b[0mforecast\u001b[0m\u001b[1;33m(\u001b[0m\u001b[0mmodel\u001b[0m\u001b[1;33m,\u001b[0m \u001b[0mhistory\u001b[0m\u001b[1;33m,\u001b[0m \u001b[0mn_input\u001b[0m\u001b[1;33m)\u001b[0m\u001b[1;33m\u001b[0m\u001b[1;33m\u001b[0m\u001b[0m\n\u001b[0m\u001b[0;32m     10\u001b[0m                 \u001b[1;31m# store the predictions\u001b[0m\u001b[1;33m\u001b[0m\u001b[1;33m\u001b[0m\u001b[1;33m\u001b[0m\u001b[0m\n\u001b[0;32m     11\u001b[0m                 \u001b[0mpredictions\u001b[0m\u001b[1;33m.\u001b[0m\u001b[0mappend\u001b[0m\u001b[1;33m(\u001b[0m\u001b[0myhat_sequence\u001b[0m\u001b[1;33m)\u001b[0m\u001b[1;33m\u001b[0m\u001b[1;33m\u001b[0m\u001b[0m\n",
      "\u001b[1;32m<ipython-input-12-28cc88e9611e>\u001b[0m in \u001b[0;36mforecast\u001b[1;34m(model, history, n_input)\u001b[0m\n\u001b[0;32m      9\u001b[0m         \u001b[0minput_x\u001b[0m \u001b[1;33m=\u001b[0m \u001b[0minput_x\u001b[0m\u001b[1;33m.\u001b[0m\u001b[0mreshape\u001b[0m\u001b[1;33m(\u001b[0m\u001b[1;33m(\u001b[0m\u001b[1;36m1\u001b[0m\u001b[1;33m,\u001b[0m \u001b[0mlen\u001b[0m\u001b[1;33m(\u001b[0m\u001b[0minput_x\u001b[0m\u001b[1;33m)\u001b[0m\u001b[1;33m,\u001b[0m \u001b[1;36m1\u001b[0m\u001b[1;33m)\u001b[0m\u001b[1;33m)\u001b[0m\u001b[1;33m\u001b[0m\u001b[1;33m\u001b[0m\u001b[0m\n\u001b[0;32m     10\u001b[0m         \u001b[1;31m# forecast the next week\u001b[0m\u001b[1;33m\u001b[0m\u001b[1;33m\u001b[0m\u001b[1;33m\u001b[0m\u001b[0m\n\u001b[1;32m---> 11\u001b[1;33m         \u001b[0myhat\u001b[0m \u001b[1;33m=\u001b[0m \u001b[0mmodel\u001b[0m\u001b[1;33m.\u001b[0m\u001b[0mpredict\u001b[0m\u001b[1;33m(\u001b[0m\u001b[0minput_x\u001b[0m\u001b[1;33m,\u001b[0m \u001b[0mverbose\u001b[0m\u001b[1;33m=\u001b[0m\u001b[1;36m0\u001b[0m\u001b[1;33m)\u001b[0m\u001b[1;33m\u001b[0m\u001b[1;33m\u001b[0m\u001b[0m\n\u001b[0m\u001b[0;32m     12\u001b[0m         \u001b[1;31m# we only want the vector forecast\u001b[0m\u001b[1;33m\u001b[0m\u001b[1;33m\u001b[0m\u001b[1;33m\u001b[0m\u001b[0m\n\u001b[0;32m     13\u001b[0m         \u001b[0myhat\u001b[0m \u001b[1;33m=\u001b[0m \u001b[0myhat\u001b[0m\u001b[1;33m[\u001b[0m\u001b[1;36m0\u001b[0m\u001b[1;33m]\u001b[0m\u001b[1;33m\u001b[0m\u001b[1;33m\u001b[0m\u001b[0m\n",
      "\u001b[1;32m~\\Anaconda3\\envs\\DT005A Final Project\\lib\\site-packages\\tensorflow\\python\\keras\\engine\\training.py\u001b[0m in \u001b[0;36m_method_wrapper\u001b[1;34m(self, *args, **kwargs)\u001b[0m\n\u001b[0;32m    128\u001b[0m       raise ValueError('{} is not supported in multi-worker mode.'.format(\n\u001b[0;32m    129\u001b[0m           method.__name__))\n\u001b[1;32m--> 130\u001b[1;33m     \u001b[1;32mreturn\u001b[0m \u001b[0mmethod\u001b[0m\u001b[1;33m(\u001b[0m\u001b[0mself\u001b[0m\u001b[1;33m,\u001b[0m \u001b[1;33m*\u001b[0m\u001b[0margs\u001b[0m\u001b[1;33m,\u001b[0m \u001b[1;33m**\u001b[0m\u001b[0mkwargs\u001b[0m\u001b[1;33m)\u001b[0m\u001b[1;33m\u001b[0m\u001b[1;33m\u001b[0m\u001b[0m\n\u001b[0m\u001b[0;32m    131\u001b[0m \u001b[1;33m\u001b[0m\u001b[0m\n\u001b[0;32m    132\u001b[0m   return tf_decorator.make_decorator(\n",
      "\u001b[1;32m~\\Anaconda3\\envs\\DT005A Final Project\\lib\\site-packages\\tensorflow\\python\\keras\\engine\\training.py\u001b[0m in \u001b[0;36mpredict\u001b[1;34m(self, x, batch_size, verbose, steps, callbacks, max_queue_size, workers, use_multiprocessing)\u001b[0m\n\u001b[0;32m   1577\u001b[0m           \u001b[0muse_multiprocessing\u001b[0m\u001b[1;33m=\u001b[0m\u001b[0muse_multiprocessing\u001b[0m\u001b[1;33m,\u001b[0m\u001b[1;33m\u001b[0m\u001b[1;33m\u001b[0m\u001b[0m\n\u001b[0;32m   1578\u001b[0m           \u001b[0mmodel\u001b[0m\u001b[1;33m=\u001b[0m\u001b[0mself\u001b[0m\u001b[1;33m,\u001b[0m\u001b[1;33m\u001b[0m\u001b[1;33m\u001b[0m\u001b[0m\n\u001b[1;32m-> 1579\u001b[1;33m           steps_per_execution=self._steps_per_execution)\n\u001b[0m\u001b[0;32m   1580\u001b[0m \u001b[1;33m\u001b[0m\u001b[0m\n\u001b[0;32m   1581\u001b[0m       \u001b[1;31m# Container that configures and calls `tf.keras.Callback`s.\u001b[0m\u001b[1;33m\u001b[0m\u001b[1;33m\u001b[0m\u001b[1;33m\u001b[0m\u001b[0m\n",
      "\u001b[1;32m~\\Anaconda3\\envs\\DT005A Final Project\\lib\\site-packages\\tensorflow\\python\\keras\\engine\\data_adapter.py\u001b[0m in \u001b[0;36m__init__\u001b[1;34m(self, x, y, sample_weight, batch_size, steps_per_epoch, initial_epoch, epochs, shuffle, class_weight, max_queue_size, workers, use_multiprocessing, model, steps_per_execution)\u001b[0m\n\u001b[0;32m   1115\u001b[0m         \u001b[0muse_multiprocessing\u001b[0m\u001b[1;33m=\u001b[0m\u001b[0muse_multiprocessing\u001b[0m\u001b[1;33m,\u001b[0m\u001b[1;33m\u001b[0m\u001b[1;33m\u001b[0m\u001b[0m\n\u001b[0;32m   1116\u001b[0m         \u001b[0mdistribution_strategy\u001b[0m\u001b[1;33m=\u001b[0m\u001b[0mds_context\u001b[0m\u001b[1;33m.\u001b[0m\u001b[0mget_strategy\u001b[0m\u001b[1;33m(\u001b[0m\u001b[1;33m)\u001b[0m\u001b[1;33m,\u001b[0m\u001b[1;33m\u001b[0m\u001b[1;33m\u001b[0m\u001b[0m\n\u001b[1;32m-> 1117\u001b[1;33m         model=model)\n\u001b[0m\u001b[0;32m   1118\u001b[0m \u001b[1;33m\u001b[0m\u001b[0m\n\u001b[0;32m   1119\u001b[0m     \u001b[0mstrategy\u001b[0m \u001b[1;33m=\u001b[0m \u001b[0mds_context\u001b[0m\u001b[1;33m.\u001b[0m\u001b[0mget_strategy\u001b[0m\u001b[1;33m(\u001b[0m\u001b[1;33m)\u001b[0m\u001b[1;33m\u001b[0m\u001b[1;33m\u001b[0m\u001b[0m\n",
      "\u001b[1;32m~\\Anaconda3\\envs\\DT005A Final Project\\lib\\site-packages\\tensorflow\\python\\keras\\engine\\data_adapter.py\u001b[0m in \u001b[0;36m__init__\u001b[1;34m(self, x, y, sample_weights, sample_weight_modes, batch_size, epochs, steps, shuffle, **kwargs)\u001b[0m\n\u001b[0;32m    362\u001b[0m     \u001b[0mindices_dataset\u001b[0m \u001b[1;33m=\u001b[0m \u001b[0mindices_dataset\u001b[0m\u001b[1;33m.\u001b[0m\u001b[0mflat_map\u001b[0m\u001b[1;33m(\u001b[0m\u001b[0mslice_batch_indices\u001b[0m\u001b[1;33m)\u001b[0m\u001b[1;33m\u001b[0m\u001b[1;33m\u001b[0m\u001b[0m\n\u001b[0;32m    363\u001b[0m \u001b[1;33m\u001b[0m\u001b[0m\n\u001b[1;32m--> 364\u001b[1;33m     \u001b[0mdataset\u001b[0m \u001b[1;33m=\u001b[0m \u001b[0mself\u001b[0m\u001b[1;33m.\u001b[0m\u001b[0mslice_inputs\u001b[0m\u001b[1;33m(\u001b[0m\u001b[0mindices_dataset\u001b[0m\u001b[1;33m,\u001b[0m \u001b[0minputs\u001b[0m\u001b[1;33m)\u001b[0m\u001b[1;33m\u001b[0m\u001b[1;33m\u001b[0m\u001b[0m\n\u001b[0m\u001b[0;32m    365\u001b[0m \u001b[1;33m\u001b[0m\u001b[0m\n\u001b[0;32m    366\u001b[0m     \u001b[1;32mif\u001b[0m \u001b[0mshuffle\u001b[0m \u001b[1;33m==\u001b[0m \u001b[1;34m\"batch\"\u001b[0m\u001b[1;33m:\u001b[0m\u001b[1;33m\u001b[0m\u001b[1;33m\u001b[0m\u001b[0m\n",
      "\u001b[1;32m~\\Anaconda3\\envs\\DT005A Final Project\\lib\\site-packages\\tensorflow\\python\\keras\\engine\\data_adapter.py\u001b[0m in \u001b[0;36mslice_inputs\u001b[1;34m(self, indices_dataset, inputs)\u001b[0m\n\u001b[0;32m    395\u001b[0m \u001b[1;33m\u001b[0m\u001b[0m\n\u001b[0;32m    396\u001b[0m     dataset = dataset.map(\n\u001b[1;32m--> 397\u001b[1;33m         grab_batch, num_parallel_calls=dataset_ops.AUTOTUNE)\n\u001b[0m\u001b[0;32m    398\u001b[0m \u001b[1;33m\u001b[0m\u001b[0m\n\u001b[0;32m    399\u001b[0m     \u001b[1;31m# Default optimizations are disabled to avoid the overhead of (unnecessary)\u001b[0m\u001b[1;33m\u001b[0m\u001b[1;33m\u001b[0m\u001b[1;33m\u001b[0m\u001b[0m\n",
      "\u001b[1;32m~\\Anaconda3\\envs\\DT005A Final Project\\lib\\site-packages\\tensorflow\\python\\data\\ops\\dataset_ops.py\u001b[0m in \u001b[0;36mmap\u001b[1;34m(self, map_func, num_parallel_calls, deterministic)\u001b[0m\n\u001b[0;32m   1700\u001b[0m           \u001b[0mnum_parallel_calls\u001b[0m\u001b[1;33m,\u001b[0m\u001b[1;33m\u001b[0m\u001b[1;33m\u001b[0m\u001b[0m\n\u001b[0;32m   1701\u001b[0m           \u001b[0mdeterministic\u001b[0m\u001b[1;33m,\u001b[0m\u001b[1;33m\u001b[0m\u001b[1;33m\u001b[0m\u001b[0m\n\u001b[1;32m-> 1702\u001b[1;33m           preserve_cardinality=True)\n\u001b[0m\u001b[0;32m   1703\u001b[0m \u001b[1;33m\u001b[0m\u001b[0m\n\u001b[0;32m   1704\u001b[0m   \u001b[1;32mdef\u001b[0m \u001b[0mflat_map\u001b[0m\u001b[1;33m(\u001b[0m\u001b[0mself\u001b[0m\u001b[1;33m,\u001b[0m \u001b[0mmap_func\u001b[0m\u001b[1;33m)\u001b[0m\u001b[1;33m:\u001b[0m\u001b[1;33m\u001b[0m\u001b[1;33m\u001b[0m\u001b[0m\n",
      "\u001b[1;32m~\\Anaconda3\\envs\\DT005A Final Project\\lib\\site-packages\\tensorflow\\python\\data\\ops\\dataset_ops.py\u001b[0m in \u001b[0;36m__init__\u001b[1;34m(self, input_dataset, map_func, num_parallel_calls, deterministic, use_inter_op_parallelism, preserve_cardinality, use_legacy_function)\u001b[0m\n\u001b[0;32m   4100\u001b[0m         \u001b[0muse_inter_op_parallelism\u001b[0m\u001b[1;33m=\u001b[0m\u001b[0mself\u001b[0m\u001b[1;33m.\u001b[0m\u001b[0m_use_inter_op_parallelism\u001b[0m\u001b[1;33m,\u001b[0m\u001b[1;33m\u001b[0m\u001b[1;33m\u001b[0m\u001b[0m\n\u001b[0;32m   4101\u001b[0m         \u001b[0mpreserve_cardinality\u001b[0m\u001b[1;33m=\u001b[0m\u001b[0mself\u001b[0m\u001b[1;33m.\u001b[0m\u001b[0m_preserve_cardinality\u001b[0m\u001b[1;33m,\u001b[0m\u001b[1;33m\u001b[0m\u001b[1;33m\u001b[0m\u001b[0m\n\u001b[1;32m-> 4102\u001b[1;33m         **self._flat_structure)\n\u001b[0m\u001b[0;32m   4103\u001b[0m     \u001b[0msuper\u001b[0m\u001b[1;33m(\u001b[0m\u001b[0mParallelMapDataset\u001b[0m\u001b[1;33m,\u001b[0m \u001b[0mself\u001b[0m\u001b[1;33m)\u001b[0m\u001b[1;33m.\u001b[0m\u001b[0m__init__\u001b[0m\u001b[1;33m(\u001b[0m\u001b[0minput_dataset\u001b[0m\u001b[1;33m,\u001b[0m \u001b[0mvariant_tensor\u001b[0m\u001b[1;33m)\u001b[0m\u001b[1;33m\u001b[0m\u001b[1;33m\u001b[0m\u001b[0m\n\u001b[0;32m   4104\u001b[0m \u001b[1;33m\u001b[0m\u001b[0m\n",
      "\u001b[1;32m~\\Anaconda3\\envs\\DT005A Final Project\\lib\\site-packages\\tensorflow\\python\\ops\\gen_dataset_ops.py\u001b[0m in \u001b[0;36mparallel_map_dataset_v2\u001b[1;34m(input_dataset, other_arguments, num_parallel_calls, f, output_types, output_shapes, use_inter_op_parallelism, deterministic, preserve_cardinality, name)\u001b[0m\n\u001b[0;32m   5086\u001b[0m         \u001b[1;34m\"f\"\u001b[0m\u001b[1;33m,\u001b[0m \u001b[0mf\u001b[0m\u001b[1;33m,\u001b[0m \u001b[1;34m\"output_types\"\u001b[0m\u001b[1;33m,\u001b[0m \u001b[0moutput_types\u001b[0m\u001b[1;33m,\u001b[0m \u001b[1;34m\"output_shapes\"\u001b[0m\u001b[1;33m,\u001b[0m \u001b[0moutput_shapes\u001b[0m\u001b[1;33m,\u001b[0m\u001b[1;33m\u001b[0m\u001b[1;33m\u001b[0m\u001b[0m\n\u001b[0;32m   5087\u001b[0m         \u001b[1;34m\"use_inter_op_parallelism\"\u001b[0m\u001b[1;33m,\u001b[0m \u001b[0muse_inter_op_parallelism\u001b[0m\u001b[1;33m,\u001b[0m \u001b[1;34m\"deterministic\"\u001b[0m\u001b[1;33m,\u001b[0m\u001b[1;33m\u001b[0m\u001b[1;33m\u001b[0m\u001b[0m\n\u001b[1;32m-> 5088\u001b[1;33m         deterministic, \"preserve_cardinality\", preserve_cardinality)\n\u001b[0m\u001b[0;32m   5089\u001b[0m       \u001b[1;32mreturn\u001b[0m \u001b[0m_result\u001b[0m\u001b[1;33m\u001b[0m\u001b[1;33m\u001b[0m\u001b[0m\n\u001b[0;32m   5090\u001b[0m     \u001b[1;32mexcept\u001b[0m \u001b[0m_core\u001b[0m\u001b[1;33m.\u001b[0m\u001b[0m_NotOkStatusException\u001b[0m \u001b[1;32mas\u001b[0m \u001b[0me\u001b[0m\u001b[1;33m:\u001b[0m\u001b[1;33m\u001b[0m\u001b[1;33m\u001b[0m\u001b[0m\n",
      "\u001b[1;31mKeyboardInterrupt\u001b[0m: "
     ]
    }
   ]
  },
  {
   "cell_type": "code",
   "execution_count": 16,
   "metadata": {
    "tags": []
   },
   "outputs": [],
   "source": [
    "# Print summary for same \n",
    "hyperparameter_results = defaultdict(list)\n",
    "for file in glob.glob(\"forecasting_evaluation/cnn-lstm/trial*/trial.json\"):\n",
    "    trial = json.load(open(file))\n",
    "    if trial['status'] == 'COMPLETED' and trial['score'] is not None:\n",
    "        hyperparameter_results[str(trial[\"hyperparameters\"][\"values\"])].append(trial[\"score\"])\n",
    "\n",
    "for param, rmse_scores in sorted(hyperparameter_results.items(), key=lambda a: sum(a[1])):\n",
    "    mean_rmse_score = sum(rmse_scores)/len(rmse_scores)\n",
    "    max_rmse_score = max(rmse_scores)\n",
    "    min_rmse_score = min(rmse_scores)\n",
    "    variance_rmse_score = (sum([(mean_rmse_score-current_score)**2 for current_score in rmse_scores]))/len(rmse_scores)\n",
    "    std_dev_rmse_score = sqrt(variance_rmse_score)\n",
    "    # summarize scores\n",
    "    print(\"-----------------------------------------\")\n",
    "    print(\"hyperparameter tune\",param)\n",
    "    print(\"mean_rmse_score\",mean_rmse_score)\n",
    "    print(\"max_rmse_score\",max_rmse_score)\n",
    "    print(\"min_rmse_score\",min_rmse_score)\n",
    "    print(\"variance_rmse_score\",variance_rmse_score)\n",
    "    print(\"std_dev_rmse_score\",std_dev_rmse_score)\n",
    "    break"
   ]
  },
  {
   "cell_type": "code",
   "execution_count": 18,
   "metadata": {},
   "outputs": [
    {
     "output_type": "stream",
     "name": "stdout",
     "text": [
      "--------------------------------------\n",
      "interval_size 3\n",
      "rmse_scores [0.5912003898990672, 0.5899714980563275, 0.5932361032617862, 0.5914228151519894, 0.5918776756813612, 0.5893920398828626, 0.5893619388888771, 0.592054930415472, 0.5909150817524405, 0.5885514517017104]\n",
      "mean_rmse_score 0.5907983924691893\n",
      "max_rmse_score 0.5932361032617862\n",
      "min_rmse_score 0.5885514517017104\n",
      "variance_rmse_score 1.9025019448157258e-06\n",
      "std_dev_rmse_score 0.0013793121274083418\n",
      "--------------------------------------\n",
      "interval_size 5\n",
      "rmse_scores [0.6126904670053632, 0.6118517759043559, 0.6133792851675941, 0.612898208826263, 0.6136099928338434, 0.6101624244756852, 0.6109941212450153, 0.6131376523827238, 0.6121149600048614, 0.6170447694548823]\n",
      "mean_rmse_score 0.6127883657300587\n",
      "max_rmse_score 0.6170447694548823\n",
      "min_rmse_score 0.6101624244756852\n",
      "variance_rmse_score 3.0730436895701256e-06\n",
      "std_dev_rmse_score 0.0017530098943160947\n",
      "--------------------------------------\n",
      "interval_size 7\n",
      "rmse_scores [0.6012958650922361, 0.6004512161439811, 0.6100454233253256, 0.5974489760074386, 0.606673574433808, 0.5961130225916574, 0.5989724571730214, 0.6005274556235626, 0.5923453060043, 0.5925251742729637]\n",
      "mean_rmse_score 0.5996398470668294\n",
      "max_rmse_score 0.6100454233253256\n",
      "min_rmse_score 0.5923453060043\n",
      "variance_rmse_score 2.8345061679878494e-05\n",
      "std_dev_rmse_score 0.005324008046564026\n",
      "--------------------------------------\n",
      "interval_size 9\n",
      "rmse_scores [0.6186520803916136, 0.6852198689608484, 0.617569019986299, 0.6300601871507879, 0.6054516692442505, 0.6158002434096681, 0.6242876425867196, 0.6383515394767764, 0.6112788824688561, 0.61797138625005]\n",
      "mean_rmse_score 0.6264642519925869\n",
      "max_rmse_score 0.6852198689608484\n",
      "min_rmse_score 0.6054516692442505\n",
      "variance_rmse_score 0.00046093276136945256\n",
      "std_dev_rmse_score 0.02146934468886865\n",
      "--------------------------------------\n",
      "interval_size 11\n",
      "rmse_scores [0.6591002197531437, 0.6618341301994667, 0.6334477622089447, 0.6286765919854269, 0.6409166918527633, 0.6373479006183039, 0.6804561444505041, 0.6719743361720335, 0.6261008759954578, 0.6350662822188315]\n",
      "mean_rmse_score 0.6474920935454876\n",
      "max_rmse_score 0.6804561444505041\n",
      "min_rmse_score 0.6261008759954578\n",
      "variance_rmse_score 0.0003335843340140736\n",
      "std_dev_rmse_score 0.018264291226709937\n"
     ]
    }
   ],
   "source": [
    "# load the new file\n",
    "dataset = read_csv('temperature_humidity_hourly.csv', header=0, infer_datetime_format=True, parse_dates=['datetime'], index_col=['datetime'])\n",
    "# split into train and test\n",
    "interval_size_rmse_list = []\n",
    "interval_size_std_rmse_list = []\n",
    "interval_size_list = list(range(3, 12, 2))\n",
    "for interval_size in interval_size_list:\n",
    "    print(\"--------------------------------------\")\n",
    "    print(\"interval_size\",interval_size)\n",
    "    train, test = split_dataset(dataset.values, interval_size)\n",
    "    # evaluate model and get scores\n",
    "    n_input = interval_size\n",
    "    # mean, maximum,minimum,std_dev,\n",
    "    rmse_scores = []\n",
    "    train_x, train_y = to_supervised(train, n_input, n_input)\n",
    "    for i in range(10):\n",
    "        hp = kt.HyperParameters()\n",
    "        hp.Int('interval_size', min_value=3, max_value=12, step=2, default=interval_size)\n",
    "        model = build_model(hp)\n",
    "        epochs = 10\n",
    "        batch_size = 32\n",
    "        callback = tf.keras.callbacks.EarlyStopping(monitor='loss', patience=3)\n",
    "        model.fit(train_x, train_y, epochs=epochs, batch_size=batch_size, verbose=False, callbacks=[callback])\n",
    "        score, scores, predictions = evaluate_model(train, test, interval_size, model)\n",
    "        rmse_scores.append(score)\n",
    "    \n",
    "    # Prepare and calculate results\n",
    "    mean_rmse_score = sum(rmse_scores)/len(rmse_scores)\n",
    "    max_rmse_score = max(rmse_scores)\n",
    "    min_rmse_score = min(rmse_scores)\n",
    "    variance_rmse_score = (sum([(mean_rmse_score-current_score)**2 for current_score in rmse_scores]))/len(rmse_scores)\n",
    "    std_dev_rmse_score = sqrt(variance_rmse_score)\n",
    "    # Add values to list\n",
    "    interval_size_rmse_list.append(mean_rmse_score)\n",
    "    interval_size_std_rmse_list.append(std_dev_rmse_score)\n",
    "    # summarize scores\n",
    "    print(\"rmse_scores\", rmse_scores)\n",
    "    print(\"mean_rmse_score\",mean_rmse_score)\n",
    "    print(\"max_rmse_score\",max_rmse_score)\n",
    "    print(\"min_rmse_score\",min_rmse_score)\n",
    "    print(\"variance_rmse_score\",variance_rmse_score)\n",
    "    print(\"std_dev_rmse_score\",std_dev_rmse_score)\n",
    "    # summarize_scores('cnn-lstm', mean_score, scores)"
   ]
  },
  {
   "source": [
    "# plot scores\n",
    "pyplot.rcdefaults()\n",
    "fig, ax = pyplot.subplots()\n",
    "ax.bar(interval_size_list, interval_size_rmse_list, yerr=interval_size_std_rmse_list, align='center', color='#189ad3', label='cnn-lstm', error_kw=dict(ecolor=\"black\", lw=2, capsize=5, capthick=2))\n",
    "ax.set_xticks(interval_size_list)\n",
    "ax.set_ylabel('RMSE')\n",
    "ax.set_xlabel('Interval Size')\n",
    "ax.set_title('CNN-LSTM Performance')\n",
    "pyplot.rc('lines')\n",
    "pyplot.grid(True)\n",
    "pyplot.ylim([0, 1])\n",
    "pyplot.savefig('forecast_cnn_lstm_result.png', bbox_inches='tight')\n",
    "pyplot.show()"
   ],
   "cell_type": "code",
   "metadata": {},
   "execution_count": 19,
   "outputs": [
    {
     "output_type": "display_data",
     "data": {
      "text/plain": "<Figure size 640x480 with 1 Axes>",
      "image/svg+xml": "<?xml version=\"1.0\" encoding=\"utf-8\" standalone=\"no\"?>\r\n<!DOCTYPE svg PUBLIC \"-//W3C//DTD SVG 1.1//EN\"\r\n  \"http://www.w3.org/Graphics/SVG/1.1/DTD/svg11.dtd\">\r\n<!-- Created with matplotlib (https://matplotlib.org/) -->\r\n<svg height=\"325.986375pt\" version=\"1.1\" viewBox=\"0 0 408.10125 325.986375\" width=\"408.10125pt\" xmlns=\"http://www.w3.org/2000/svg\" xmlns:xlink=\"http://www.w3.org/1999/xlink\">\r\n <metadata>\r\n  <rdf:RDF xmlns:cc=\"http://creativecommons.org/ns#\" xmlns:dc=\"http://purl.org/dc/elements/1.1/\" xmlns:rdf=\"http://www.w3.org/1999/02/22-rdf-syntax-ns#\">\r\n   <cc:Work>\r\n    <dc:type rdf:resource=\"http://purl.org/dc/dcmitype/StillImage\"/>\r\n    <dc:date>2021-05-14T20:16:24.476786</dc:date>\r\n    <dc:format>image/svg+xml</dc:format>\r\n    <dc:creator>\r\n     <cc:Agent>\r\n      <dc:title>Matplotlib v3.3.4, https://matplotlib.org/</dc:title>\r\n     </cc:Agent>\r\n    </dc:creator>\r\n   </cc:Work>\r\n  </rdf:RDF>\r\n </metadata>\r\n <defs>\r\n  <style type=\"text/css\">*{stroke-linecap:butt;stroke-linejoin:round;}</style>\r\n </defs>\r\n <g id=\"figure_1\">\r\n  <g id=\"patch_1\">\r\n   <path d=\"M 0 325.986375 \r\nL 408.10125 325.986375 \r\nL 408.10125 0 \r\nL 0 0 \r\nz\r\n\" style=\"fill:#ffffff;\"/>\r\n  </g>\r\n  <g id=\"axes_1\">\r\n   <g id=\"patch_2\">\r\n    <path d=\"M 43.78125 288.430125 \r\nL 400.90125 288.430125 \r\nL 400.90125 22.318125 \r\nL 43.78125 22.318125 \r\nz\r\n\" style=\"fill:#ffffff;\"/>\r\n   </g>\r\n   <g id=\"patch_3\">\r\n    <path clip-path=\"url(#pb2b5a4d060)\" d=\"M 60.013977 288.430125 \r\nL 89.528027 288.430125 \r\nL 89.528027 131.211583 \r\nL 60.013977 131.211583 \r\nz\r\n\" style=\"fill:#189ad3;\"/>\r\n   </g>\r\n   <g id=\"patch_4\">\r\n    <path clip-path=\"url(#pb2b5a4d060)\" d=\"M 133.799101 288.430125 \r\nL 163.313151 288.430125 \r\nL 163.313151 125.359787 \r\nL 133.799101 125.359787 \r\nz\r\n\" style=\"fill:#189ad3;\"/>\r\n   </g>\r\n   <g id=\"patch_5\">\r\n    <path clip-path=\"url(#pb2b5a4d060)\" d=\"M 207.584225 288.430125 \r\nL 237.098275 288.430125 \r\nL 237.098275 128.858766 \r\nL 207.584225 128.858766 \r\nz\r\n\" style=\"fill:#189ad3;\"/>\r\n   </g>\r\n   <g id=\"patch_6\">\r\n    <path clip-path=\"url(#pb2b5a4d060)\" d=\"M 281.369349 288.430125 \r\nL 310.883399 288.430125 \r\nL 310.883399 121.72047 \r\nL 281.369349 121.72047 \r\nz\r\n\" style=\"fill:#189ad3;\"/>\r\n   </g>\r\n   <g id=\"patch_7\">\r\n    <path clip-path=\"url(#pb2b5a4d060)\" d=\"M 355.154473 288.430125 \r\nL 384.668523 288.430125 \r\nL 384.668523 116.124709 \r\nL 355.154473 116.124709 \r\nz\r\n\" style=\"fill:#189ad3;\"/>\r\n   </g>\r\n   <g id=\"matplotlib.axis_1\">\r\n    <g id=\"xtick_1\">\r\n     <g id=\"line2d_1\">\r\n      <path clip-path=\"url(#pb2b5a4d060)\" d=\"M 74.771002 288.430125 \r\nL 74.771002 22.318125 \r\n\" style=\"fill:none;stroke:#b0b0b0;stroke-linecap:square;stroke-width:0.8;\"/>\r\n     </g>\r\n     <g id=\"line2d_2\">\r\n      <defs>\r\n       <path d=\"M 0 0 \r\nL 0 3.5 \r\n\" id=\"mee3c4b46e3\" style=\"stroke:#000000;stroke-width:0.8;\"/>\r\n      </defs>\r\n      <g>\r\n       <use style=\"stroke:#000000;stroke-width:0.8;\" x=\"74.771002\" xlink:href=\"#mee3c4b46e3\" y=\"288.430125\"/>\r\n      </g>\r\n     </g>\r\n     <g id=\"text_1\">\r\n      <!-- 3 -->\r\n      <g transform=\"translate(71.589752 303.028562)scale(0.1 -0.1)\">\r\n       <defs>\r\n        <path d=\"M 40.578125 39.3125 \r\nQ 47.65625 37.796875 51.625 33 \r\nQ 55.609375 28.21875 55.609375 21.1875 \r\nQ 55.609375 10.40625 48.1875 4.484375 \r\nQ 40.765625 -1.421875 27.09375 -1.421875 \r\nQ 22.515625 -1.421875 17.65625 -0.515625 \r\nQ 12.796875 0.390625 7.625 2.203125 \r\nL 7.625 11.71875 \r\nQ 11.71875 9.328125 16.59375 8.109375 \r\nQ 21.484375 6.890625 26.8125 6.890625 \r\nQ 36.078125 6.890625 40.9375 10.546875 \r\nQ 45.796875 14.203125 45.796875 21.1875 \r\nQ 45.796875 27.640625 41.28125 31.265625 \r\nQ 36.765625 34.90625 28.71875 34.90625 \r\nL 20.21875 34.90625 \r\nL 20.21875 43.015625 \r\nL 29.109375 43.015625 \r\nQ 36.375 43.015625 40.234375 45.921875 \r\nQ 44.09375 48.828125 44.09375 54.296875 \r\nQ 44.09375 59.90625 40.109375 62.90625 \r\nQ 36.140625 65.921875 28.71875 65.921875 \r\nQ 24.65625 65.921875 20.015625 65.03125 \r\nQ 15.375 64.15625 9.8125 62.3125 \r\nL 9.8125 71.09375 \r\nQ 15.4375 72.65625 20.34375 73.4375 \r\nQ 25.25 74.21875 29.59375 74.21875 \r\nQ 40.828125 74.21875 47.359375 69.109375 \r\nQ 53.90625 64.015625 53.90625 55.328125 \r\nQ 53.90625 49.265625 50.4375 45.09375 \r\nQ 46.96875 40.921875 40.578125 39.3125 \r\nz\r\n\" id=\"DejaVuSans-51\"/>\r\n       </defs>\r\n       <use xlink:href=\"#DejaVuSans-51\"/>\r\n      </g>\r\n     </g>\r\n    </g>\r\n    <g id=\"xtick_2\">\r\n     <g id=\"line2d_3\">\r\n      <path clip-path=\"url(#pb2b5a4d060)\" d=\"M 148.556126 288.430125 \r\nL 148.556126 22.318125 \r\n\" style=\"fill:none;stroke:#b0b0b0;stroke-linecap:square;stroke-width:0.8;\"/>\r\n     </g>\r\n     <g id=\"line2d_4\">\r\n      <g>\r\n       <use style=\"stroke:#000000;stroke-width:0.8;\" x=\"148.556126\" xlink:href=\"#mee3c4b46e3\" y=\"288.430125\"/>\r\n      </g>\r\n     </g>\r\n     <g id=\"text_2\">\r\n      <!-- 5 -->\r\n      <g transform=\"translate(145.374876 303.028562)scale(0.1 -0.1)\">\r\n       <defs>\r\n        <path d=\"M 10.796875 72.90625 \r\nL 49.515625 72.90625 \r\nL 49.515625 64.59375 \r\nL 19.828125 64.59375 \r\nL 19.828125 46.734375 \r\nQ 21.96875 47.46875 24.109375 47.828125 \r\nQ 26.265625 48.1875 28.421875 48.1875 \r\nQ 40.625 48.1875 47.75 41.5 \r\nQ 54.890625 34.8125 54.890625 23.390625 \r\nQ 54.890625 11.625 47.5625 5.09375 \r\nQ 40.234375 -1.421875 26.90625 -1.421875 \r\nQ 22.3125 -1.421875 17.546875 -0.640625 \r\nQ 12.796875 0.140625 7.71875 1.703125 \r\nL 7.71875 11.625 \r\nQ 12.109375 9.234375 16.796875 8.0625 \r\nQ 21.484375 6.890625 26.703125 6.890625 \r\nQ 35.15625 6.890625 40.078125 11.328125 \r\nQ 45.015625 15.765625 45.015625 23.390625 \r\nQ 45.015625 31 40.078125 35.4375 \r\nQ 35.15625 39.890625 26.703125 39.890625 \r\nQ 22.75 39.890625 18.8125 39.015625 \r\nQ 14.890625 38.140625 10.796875 36.28125 \r\nz\r\n\" id=\"DejaVuSans-53\"/>\r\n       </defs>\r\n       <use xlink:href=\"#DejaVuSans-53\"/>\r\n      </g>\r\n     </g>\r\n    </g>\r\n    <g id=\"xtick_3\">\r\n     <g id=\"line2d_5\">\r\n      <path clip-path=\"url(#pb2b5a4d060)\" d=\"M 222.34125 288.430125 \r\nL 222.34125 22.318125 \r\n\" style=\"fill:none;stroke:#b0b0b0;stroke-linecap:square;stroke-width:0.8;\"/>\r\n     </g>\r\n     <g id=\"line2d_6\">\r\n      <g>\r\n       <use style=\"stroke:#000000;stroke-width:0.8;\" x=\"222.34125\" xlink:href=\"#mee3c4b46e3\" y=\"288.430125\"/>\r\n      </g>\r\n     </g>\r\n     <g id=\"text_3\">\r\n      <!-- 7 -->\r\n      <g transform=\"translate(219.16 303.028562)scale(0.1 -0.1)\">\r\n       <defs>\r\n        <path d=\"M 8.203125 72.90625 \r\nL 55.078125 72.90625 \r\nL 55.078125 68.703125 \r\nL 28.609375 0 \r\nL 18.3125 0 \r\nL 43.21875 64.59375 \r\nL 8.203125 64.59375 \r\nz\r\n\" id=\"DejaVuSans-55\"/>\r\n       </defs>\r\n       <use xlink:href=\"#DejaVuSans-55\"/>\r\n      </g>\r\n     </g>\r\n    </g>\r\n    <g id=\"xtick_4\">\r\n     <g id=\"line2d_7\">\r\n      <path clip-path=\"url(#pb2b5a4d060)\" d=\"M 296.126374 288.430125 \r\nL 296.126374 22.318125 \r\n\" style=\"fill:none;stroke:#b0b0b0;stroke-linecap:square;stroke-width:0.8;\"/>\r\n     </g>\r\n     <g id=\"line2d_8\">\r\n      <g>\r\n       <use style=\"stroke:#000000;stroke-width:0.8;\" x=\"296.126374\" xlink:href=\"#mee3c4b46e3\" y=\"288.430125\"/>\r\n      </g>\r\n     </g>\r\n     <g id=\"text_4\">\r\n      <!-- 9 -->\r\n      <g transform=\"translate(292.945124 303.028562)scale(0.1 -0.1)\">\r\n       <defs>\r\n        <path d=\"M 10.984375 1.515625 \r\nL 10.984375 10.5 \r\nQ 14.703125 8.734375 18.5 7.8125 \r\nQ 22.3125 6.890625 25.984375 6.890625 \r\nQ 35.75 6.890625 40.890625 13.453125 \r\nQ 46.046875 20.015625 46.78125 33.40625 \r\nQ 43.953125 29.203125 39.59375 26.953125 \r\nQ 35.25 24.703125 29.984375 24.703125 \r\nQ 19.046875 24.703125 12.671875 31.3125 \r\nQ 6.296875 37.9375 6.296875 49.421875 \r\nQ 6.296875 60.640625 12.9375 67.421875 \r\nQ 19.578125 74.21875 30.609375 74.21875 \r\nQ 43.265625 74.21875 49.921875 64.515625 \r\nQ 56.59375 54.828125 56.59375 36.375 \r\nQ 56.59375 19.140625 48.40625 8.859375 \r\nQ 40.234375 -1.421875 26.421875 -1.421875 \r\nQ 22.703125 -1.421875 18.890625 -0.6875 \r\nQ 15.09375 0.046875 10.984375 1.515625 \r\nz\r\nM 30.609375 32.421875 \r\nQ 37.25 32.421875 41.125 36.953125 \r\nQ 45.015625 41.5 45.015625 49.421875 \r\nQ 45.015625 57.28125 41.125 61.84375 \r\nQ 37.25 66.40625 30.609375 66.40625 \r\nQ 23.96875 66.40625 20.09375 61.84375 \r\nQ 16.21875 57.28125 16.21875 49.421875 \r\nQ 16.21875 41.5 20.09375 36.953125 \r\nQ 23.96875 32.421875 30.609375 32.421875 \r\nz\r\n\" id=\"DejaVuSans-57\"/>\r\n       </defs>\r\n       <use xlink:href=\"#DejaVuSans-57\"/>\r\n      </g>\r\n     </g>\r\n    </g>\r\n    <g id=\"xtick_5\">\r\n     <g id=\"line2d_9\">\r\n      <path clip-path=\"url(#pb2b5a4d060)\" d=\"M 369.911498 288.430125 \r\nL 369.911498 22.318125 \r\n\" style=\"fill:none;stroke:#b0b0b0;stroke-linecap:square;stroke-width:0.8;\"/>\r\n     </g>\r\n     <g id=\"line2d_10\">\r\n      <g>\r\n       <use style=\"stroke:#000000;stroke-width:0.8;\" x=\"369.911498\" xlink:href=\"#mee3c4b46e3\" y=\"288.430125\"/>\r\n      </g>\r\n     </g>\r\n     <g id=\"text_5\">\r\n      <!-- 11 -->\r\n      <g transform=\"translate(363.548998 303.028562)scale(0.1 -0.1)\">\r\n       <defs>\r\n        <path d=\"M 12.40625 8.296875 \r\nL 28.515625 8.296875 \r\nL 28.515625 63.921875 \r\nL 10.984375 60.40625 \r\nL 10.984375 69.390625 \r\nL 28.421875 72.90625 \r\nL 38.28125 72.90625 \r\nL 38.28125 8.296875 \r\nL 54.390625 8.296875 \r\nL 54.390625 0 \r\nL 12.40625 0 \r\nz\r\n\" id=\"DejaVuSans-49\"/>\r\n       </defs>\r\n       <use xlink:href=\"#DejaVuSans-49\"/>\r\n       <use x=\"63.623047\" xlink:href=\"#DejaVuSans-49\"/>\r\n      </g>\r\n     </g>\r\n    </g>\r\n    <g id=\"text_6\">\r\n     <!-- Interval Size -->\r\n     <g transform=\"translate(191.339687 316.706687)scale(0.1 -0.1)\">\r\n      <defs>\r\n       <path d=\"M 9.8125 72.90625 \r\nL 19.671875 72.90625 \r\nL 19.671875 0 \r\nL 9.8125 0 \r\nz\r\n\" id=\"DejaVuSans-73\"/>\r\n       <path d=\"M 54.890625 33.015625 \r\nL 54.890625 0 \r\nL 45.90625 0 \r\nL 45.90625 32.71875 \r\nQ 45.90625 40.484375 42.875 44.328125 \r\nQ 39.84375 48.1875 33.796875 48.1875 \r\nQ 26.515625 48.1875 22.3125 43.546875 \r\nQ 18.109375 38.921875 18.109375 30.90625 \r\nL 18.109375 0 \r\nL 9.078125 0 \r\nL 9.078125 54.6875 \r\nL 18.109375 54.6875 \r\nL 18.109375 46.1875 \r\nQ 21.34375 51.125 25.703125 53.5625 \r\nQ 30.078125 56 35.796875 56 \r\nQ 45.21875 56 50.046875 50.171875 \r\nQ 54.890625 44.34375 54.890625 33.015625 \r\nz\r\n\" id=\"DejaVuSans-110\"/>\r\n       <path d=\"M 18.3125 70.21875 \r\nL 18.3125 54.6875 \r\nL 36.8125 54.6875 \r\nL 36.8125 47.703125 \r\nL 18.3125 47.703125 \r\nL 18.3125 18.015625 \r\nQ 18.3125 11.328125 20.140625 9.421875 \r\nQ 21.96875 7.515625 27.59375 7.515625 \r\nL 36.8125 7.515625 \r\nL 36.8125 0 \r\nL 27.59375 0 \r\nQ 17.1875 0 13.234375 3.875 \r\nQ 9.28125 7.765625 9.28125 18.015625 \r\nL 9.28125 47.703125 \r\nL 2.6875 47.703125 \r\nL 2.6875 54.6875 \r\nL 9.28125 54.6875 \r\nL 9.28125 70.21875 \r\nz\r\n\" id=\"DejaVuSans-116\"/>\r\n       <path d=\"M 56.203125 29.59375 \r\nL 56.203125 25.203125 \r\nL 14.890625 25.203125 \r\nQ 15.484375 15.921875 20.484375 11.0625 \r\nQ 25.484375 6.203125 34.421875 6.203125 \r\nQ 39.59375 6.203125 44.453125 7.46875 \r\nQ 49.3125 8.734375 54.109375 11.28125 \r\nL 54.109375 2.78125 \r\nQ 49.265625 0.734375 44.1875 -0.34375 \r\nQ 39.109375 -1.421875 33.890625 -1.421875 \r\nQ 20.796875 -1.421875 13.15625 6.1875 \r\nQ 5.515625 13.8125 5.515625 26.8125 \r\nQ 5.515625 40.234375 12.765625 48.109375 \r\nQ 20.015625 56 32.328125 56 \r\nQ 43.359375 56 49.78125 48.890625 \r\nQ 56.203125 41.796875 56.203125 29.59375 \r\nz\r\nM 47.21875 32.234375 \r\nQ 47.125 39.59375 43.09375 43.984375 \r\nQ 39.0625 48.390625 32.421875 48.390625 \r\nQ 24.90625 48.390625 20.390625 44.140625 \r\nQ 15.875 39.890625 15.1875 32.171875 \r\nz\r\n\" id=\"DejaVuSans-101\"/>\r\n       <path d=\"M 41.109375 46.296875 \r\nQ 39.59375 47.171875 37.8125 47.578125 \r\nQ 36.03125 48 33.890625 48 \r\nQ 26.265625 48 22.1875 43.046875 \r\nQ 18.109375 38.09375 18.109375 28.8125 \r\nL 18.109375 0 \r\nL 9.078125 0 \r\nL 9.078125 54.6875 \r\nL 18.109375 54.6875 \r\nL 18.109375 46.1875 \r\nQ 20.953125 51.171875 25.484375 53.578125 \r\nQ 30.03125 56 36.53125 56 \r\nQ 37.453125 56 38.578125 55.875 \r\nQ 39.703125 55.765625 41.0625 55.515625 \r\nz\r\n\" id=\"DejaVuSans-114\"/>\r\n       <path d=\"M 2.984375 54.6875 \r\nL 12.5 54.6875 \r\nL 29.59375 8.796875 \r\nL 46.6875 54.6875 \r\nL 56.203125 54.6875 \r\nL 35.6875 0 \r\nL 23.484375 0 \r\nz\r\n\" id=\"DejaVuSans-118\"/>\r\n       <path d=\"M 34.28125 27.484375 \r\nQ 23.390625 27.484375 19.1875 25 \r\nQ 14.984375 22.515625 14.984375 16.5 \r\nQ 14.984375 11.71875 18.140625 8.90625 \r\nQ 21.296875 6.109375 26.703125 6.109375 \r\nQ 34.1875 6.109375 38.703125 11.40625 \r\nQ 43.21875 16.703125 43.21875 25.484375 \r\nL 43.21875 27.484375 \r\nz\r\nM 52.203125 31.203125 \r\nL 52.203125 0 \r\nL 43.21875 0 \r\nL 43.21875 8.296875 \r\nQ 40.140625 3.328125 35.546875 0.953125 \r\nQ 30.953125 -1.421875 24.3125 -1.421875 \r\nQ 15.921875 -1.421875 10.953125 3.296875 \r\nQ 6 8.015625 6 15.921875 \r\nQ 6 25.140625 12.171875 29.828125 \r\nQ 18.359375 34.515625 30.609375 34.515625 \r\nL 43.21875 34.515625 \r\nL 43.21875 35.40625 \r\nQ 43.21875 41.609375 39.140625 45 \r\nQ 35.0625 48.390625 27.6875 48.390625 \r\nQ 23 48.390625 18.546875 47.265625 \r\nQ 14.109375 46.140625 10.015625 43.890625 \r\nL 10.015625 52.203125 \r\nQ 14.9375 54.109375 19.578125 55.046875 \r\nQ 24.21875 56 28.609375 56 \r\nQ 40.484375 56 46.34375 49.84375 \r\nQ 52.203125 43.703125 52.203125 31.203125 \r\nz\r\n\" id=\"DejaVuSans-97\"/>\r\n       <path d=\"M 9.421875 75.984375 \r\nL 18.40625 75.984375 \r\nL 18.40625 0 \r\nL 9.421875 0 \r\nz\r\n\" id=\"DejaVuSans-108\"/>\r\n       <path id=\"DejaVuSans-32\"/>\r\n       <path d=\"M 53.515625 70.515625 \r\nL 53.515625 60.890625 \r\nQ 47.90625 63.578125 42.921875 64.890625 \r\nQ 37.9375 66.21875 33.296875 66.21875 \r\nQ 25.25 66.21875 20.875 63.09375 \r\nQ 16.5 59.96875 16.5 54.203125 \r\nQ 16.5 49.359375 19.40625 46.890625 \r\nQ 22.3125 44.4375 30.421875 42.921875 \r\nL 36.375 41.703125 \r\nQ 47.40625 39.59375 52.65625 34.296875 \r\nQ 57.90625 29 57.90625 20.125 \r\nQ 57.90625 9.515625 50.796875 4.046875 \r\nQ 43.703125 -1.421875 29.984375 -1.421875 \r\nQ 24.8125 -1.421875 18.96875 -0.25 \r\nQ 13.140625 0.921875 6.890625 3.21875 \r\nL 6.890625 13.375 \r\nQ 12.890625 10.015625 18.65625 8.296875 \r\nQ 24.421875 6.59375 29.984375 6.59375 \r\nQ 38.421875 6.59375 43.015625 9.90625 \r\nQ 47.609375 13.234375 47.609375 19.390625 \r\nQ 47.609375 24.75 44.3125 27.78125 \r\nQ 41.015625 30.8125 33.5 32.328125 \r\nL 27.484375 33.5 \r\nQ 16.453125 35.6875 11.515625 40.375 \r\nQ 6.59375 45.0625 6.59375 53.421875 \r\nQ 6.59375 63.09375 13.40625 68.65625 \r\nQ 20.21875 74.21875 32.171875 74.21875 \r\nQ 37.3125 74.21875 42.625 73.28125 \r\nQ 47.953125 72.359375 53.515625 70.515625 \r\nz\r\n\" id=\"DejaVuSans-83\"/>\r\n       <path d=\"M 9.421875 54.6875 \r\nL 18.40625 54.6875 \r\nL 18.40625 0 \r\nL 9.421875 0 \r\nz\r\nM 9.421875 75.984375 \r\nL 18.40625 75.984375 \r\nL 18.40625 64.59375 \r\nL 9.421875 64.59375 \r\nz\r\n\" id=\"DejaVuSans-105\"/>\r\n       <path d=\"M 5.515625 54.6875 \r\nL 48.1875 54.6875 \r\nL 48.1875 46.484375 \r\nL 14.40625 7.171875 \r\nL 48.1875 7.171875 \r\nL 48.1875 0 \r\nL 4.296875 0 \r\nL 4.296875 8.203125 \r\nL 38.09375 47.515625 \r\nL 5.515625 47.515625 \r\nz\r\n\" id=\"DejaVuSans-122\"/>\r\n      </defs>\r\n      <use xlink:href=\"#DejaVuSans-73\"/>\r\n      <use x=\"29.492188\" xlink:href=\"#DejaVuSans-110\"/>\r\n      <use x=\"92.871094\" xlink:href=\"#DejaVuSans-116\"/>\r\n      <use x=\"132.080078\" xlink:href=\"#DejaVuSans-101\"/>\r\n      <use x=\"193.603516\" xlink:href=\"#DejaVuSans-114\"/>\r\n      <use x=\"234.716797\" xlink:href=\"#DejaVuSans-118\"/>\r\n      <use x=\"293.896484\" xlink:href=\"#DejaVuSans-97\"/>\r\n      <use x=\"355.175781\" xlink:href=\"#DejaVuSans-108\"/>\r\n      <use x=\"382.958984\" xlink:href=\"#DejaVuSans-32\"/>\r\n      <use x=\"414.746094\" xlink:href=\"#DejaVuSans-83\"/>\r\n      <use x=\"478.222656\" xlink:href=\"#DejaVuSans-105\"/>\r\n      <use x=\"506.005859\" xlink:href=\"#DejaVuSans-122\"/>\r\n      <use x=\"558.496094\" xlink:href=\"#DejaVuSans-101\"/>\r\n     </g>\r\n    </g>\r\n   </g>\r\n   <g id=\"matplotlib.axis_2\">\r\n    <g id=\"ytick_1\">\r\n     <g id=\"line2d_11\">\r\n      <path clip-path=\"url(#pb2b5a4d060)\" d=\"M 43.78125 288.430125 \r\nL 400.90125 288.430125 \r\n\" style=\"fill:none;stroke:#b0b0b0;stroke-linecap:square;stroke-width:0.8;\"/>\r\n     </g>\r\n     <g id=\"line2d_12\">\r\n      <defs>\r\n       <path d=\"M 0 0 \r\nL -3.5 0 \r\n\" id=\"m93d9d10f85\" style=\"stroke:#000000;stroke-width:0.8;\"/>\r\n      </defs>\r\n      <g>\r\n       <use style=\"stroke:#000000;stroke-width:0.8;\" x=\"43.78125\" xlink:href=\"#m93d9d10f85\" y=\"288.430125\"/>\r\n      </g>\r\n     </g>\r\n     <g id=\"text_7\">\r\n      <!-- 0.0 -->\r\n      <g transform=\"translate(20.878125 292.229344)scale(0.1 -0.1)\">\r\n       <defs>\r\n        <path d=\"M 31.78125 66.40625 \r\nQ 24.171875 66.40625 20.328125 58.90625 \r\nQ 16.5 51.421875 16.5 36.375 \r\nQ 16.5 21.390625 20.328125 13.890625 \r\nQ 24.171875 6.390625 31.78125 6.390625 \r\nQ 39.453125 6.390625 43.28125 13.890625 \r\nQ 47.125 21.390625 47.125 36.375 \r\nQ 47.125 51.421875 43.28125 58.90625 \r\nQ 39.453125 66.40625 31.78125 66.40625 \r\nz\r\nM 31.78125 74.21875 \r\nQ 44.046875 74.21875 50.515625 64.515625 \r\nQ 56.984375 54.828125 56.984375 36.375 \r\nQ 56.984375 17.96875 50.515625 8.265625 \r\nQ 44.046875 -1.421875 31.78125 -1.421875 \r\nQ 19.53125 -1.421875 13.0625 8.265625 \r\nQ 6.59375 17.96875 6.59375 36.375 \r\nQ 6.59375 54.828125 13.0625 64.515625 \r\nQ 19.53125 74.21875 31.78125 74.21875 \r\nz\r\n\" id=\"DejaVuSans-48\"/>\r\n        <path d=\"M 10.6875 12.40625 \r\nL 21 12.40625 \r\nL 21 0 \r\nL 10.6875 0 \r\nz\r\n\" id=\"DejaVuSans-46\"/>\r\n       </defs>\r\n       <use xlink:href=\"#DejaVuSans-48\"/>\r\n       <use x=\"63.623047\" xlink:href=\"#DejaVuSans-46\"/>\r\n       <use x=\"95.410156\" xlink:href=\"#DejaVuSans-48\"/>\r\n      </g>\r\n     </g>\r\n    </g>\r\n    <g id=\"ytick_2\">\r\n     <g id=\"line2d_13\">\r\n      <path clip-path=\"url(#pb2b5a4d060)\" d=\"M 43.78125 235.207725 \r\nL 400.90125 235.207725 \r\n\" style=\"fill:none;stroke:#b0b0b0;stroke-linecap:square;stroke-width:0.8;\"/>\r\n     </g>\r\n     <g id=\"line2d_14\">\r\n      <g>\r\n       <use style=\"stroke:#000000;stroke-width:0.8;\" x=\"43.78125\" xlink:href=\"#m93d9d10f85\" y=\"235.207725\"/>\r\n      </g>\r\n     </g>\r\n     <g id=\"text_8\">\r\n      <!-- 0.2 -->\r\n      <g transform=\"translate(20.878125 239.006944)scale(0.1 -0.1)\">\r\n       <defs>\r\n        <path d=\"M 19.1875 8.296875 \r\nL 53.609375 8.296875 \r\nL 53.609375 0 \r\nL 7.328125 0 \r\nL 7.328125 8.296875 \r\nQ 12.9375 14.109375 22.625 23.890625 \r\nQ 32.328125 33.6875 34.8125 36.53125 \r\nQ 39.546875 41.84375 41.421875 45.53125 \r\nQ 43.3125 49.21875 43.3125 52.78125 \r\nQ 43.3125 58.59375 39.234375 62.25 \r\nQ 35.15625 65.921875 28.609375 65.921875 \r\nQ 23.96875 65.921875 18.8125 64.3125 \r\nQ 13.671875 62.703125 7.8125 59.421875 \r\nL 7.8125 69.390625 \r\nQ 13.765625 71.78125 18.9375 73 \r\nQ 24.125 74.21875 28.421875 74.21875 \r\nQ 39.75 74.21875 46.484375 68.546875 \r\nQ 53.21875 62.890625 53.21875 53.421875 \r\nQ 53.21875 48.921875 51.53125 44.890625 \r\nQ 49.859375 40.875 45.40625 35.40625 \r\nQ 44.1875 33.984375 37.640625 27.21875 \r\nQ 31.109375 20.453125 19.1875 8.296875 \r\nz\r\n\" id=\"DejaVuSans-50\"/>\r\n       </defs>\r\n       <use xlink:href=\"#DejaVuSans-48\"/>\r\n       <use x=\"63.623047\" xlink:href=\"#DejaVuSans-46\"/>\r\n       <use x=\"95.410156\" xlink:href=\"#DejaVuSans-50\"/>\r\n      </g>\r\n     </g>\r\n    </g>\r\n    <g id=\"ytick_3\">\r\n     <g id=\"line2d_15\">\r\n      <path clip-path=\"url(#pb2b5a4d060)\" d=\"M 43.78125 181.985325 \r\nL 400.90125 181.985325 \r\n\" style=\"fill:none;stroke:#b0b0b0;stroke-linecap:square;stroke-width:0.8;\"/>\r\n     </g>\r\n     <g id=\"line2d_16\">\r\n      <g>\r\n       <use style=\"stroke:#000000;stroke-width:0.8;\" x=\"43.78125\" xlink:href=\"#m93d9d10f85\" y=\"181.985325\"/>\r\n      </g>\r\n     </g>\r\n     <g id=\"text_9\">\r\n      <!-- 0.4 -->\r\n      <g transform=\"translate(20.878125 185.784544)scale(0.1 -0.1)\">\r\n       <defs>\r\n        <path d=\"M 37.796875 64.3125 \r\nL 12.890625 25.390625 \r\nL 37.796875 25.390625 \r\nz\r\nM 35.203125 72.90625 \r\nL 47.609375 72.90625 \r\nL 47.609375 25.390625 \r\nL 58.015625 25.390625 \r\nL 58.015625 17.1875 \r\nL 47.609375 17.1875 \r\nL 47.609375 0 \r\nL 37.796875 0 \r\nL 37.796875 17.1875 \r\nL 4.890625 17.1875 \r\nL 4.890625 26.703125 \r\nz\r\n\" id=\"DejaVuSans-52\"/>\r\n       </defs>\r\n       <use xlink:href=\"#DejaVuSans-48\"/>\r\n       <use x=\"63.623047\" xlink:href=\"#DejaVuSans-46\"/>\r\n       <use x=\"95.410156\" xlink:href=\"#DejaVuSans-52\"/>\r\n      </g>\r\n     </g>\r\n    </g>\r\n    <g id=\"ytick_4\">\r\n     <g id=\"line2d_17\">\r\n      <path clip-path=\"url(#pb2b5a4d060)\" d=\"M 43.78125 128.762925 \r\nL 400.90125 128.762925 \r\n\" style=\"fill:none;stroke:#b0b0b0;stroke-linecap:square;stroke-width:0.8;\"/>\r\n     </g>\r\n     <g id=\"line2d_18\">\r\n      <g>\r\n       <use style=\"stroke:#000000;stroke-width:0.8;\" x=\"43.78125\" xlink:href=\"#m93d9d10f85\" y=\"128.762925\"/>\r\n      </g>\r\n     </g>\r\n     <g id=\"text_10\">\r\n      <!-- 0.6 -->\r\n      <g transform=\"translate(20.878125 132.562144)scale(0.1 -0.1)\">\r\n       <defs>\r\n        <path d=\"M 33.015625 40.375 \r\nQ 26.375 40.375 22.484375 35.828125 \r\nQ 18.609375 31.296875 18.609375 23.390625 \r\nQ 18.609375 15.53125 22.484375 10.953125 \r\nQ 26.375 6.390625 33.015625 6.390625 \r\nQ 39.65625 6.390625 43.53125 10.953125 \r\nQ 47.40625 15.53125 47.40625 23.390625 \r\nQ 47.40625 31.296875 43.53125 35.828125 \r\nQ 39.65625 40.375 33.015625 40.375 \r\nz\r\nM 52.59375 71.296875 \r\nL 52.59375 62.3125 \r\nQ 48.875 64.0625 45.09375 64.984375 \r\nQ 41.3125 65.921875 37.59375 65.921875 \r\nQ 27.828125 65.921875 22.671875 59.328125 \r\nQ 17.53125 52.734375 16.796875 39.40625 \r\nQ 19.671875 43.65625 24.015625 45.921875 \r\nQ 28.375 48.1875 33.59375 48.1875 \r\nQ 44.578125 48.1875 50.953125 41.515625 \r\nQ 57.328125 34.859375 57.328125 23.390625 \r\nQ 57.328125 12.15625 50.6875 5.359375 \r\nQ 44.046875 -1.421875 33.015625 -1.421875 \r\nQ 20.359375 -1.421875 13.671875 8.265625 \r\nQ 6.984375 17.96875 6.984375 36.375 \r\nQ 6.984375 53.65625 15.1875 63.9375 \r\nQ 23.390625 74.21875 37.203125 74.21875 \r\nQ 40.921875 74.21875 44.703125 73.484375 \r\nQ 48.484375 72.75 52.59375 71.296875 \r\nz\r\n\" id=\"DejaVuSans-54\"/>\r\n       </defs>\r\n       <use xlink:href=\"#DejaVuSans-48\"/>\r\n       <use x=\"63.623047\" xlink:href=\"#DejaVuSans-46\"/>\r\n       <use x=\"95.410156\" xlink:href=\"#DejaVuSans-54\"/>\r\n      </g>\r\n     </g>\r\n    </g>\r\n    <g id=\"ytick_5\">\r\n     <g id=\"line2d_19\">\r\n      <path clip-path=\"url(#pb2b5a4d060)\" d=\"M 43.78125 75.540525 \r\nL 400.90125 75.540525 \r\n\" style=\"fill:none;stroke:#b0b0b0;stroke-linecap:square;stroke-width:0.8;\"/>\r\n     </g>\r\n     <g id=\"line2d_20\">\r\n      <g>\r\n       <use style=\"stroke:#000000;stroke-width:0.8;\" x=\"43.78125\" xlink:href=\"#m93d9d10f85\" y=\"75.540525\"/>\r\n      </g>\r\n     </g>\r\n     <g id=\"text_11\">\r\n      <!-- 0.8 -->\r\n      <g transform=\"translate(20.878125 79.339744)scale(0.1 -0.1)\">\r\n       <defs>\r\n        <path d=\"M 31.78125 34.625 \r\nQ 24.75 34.625 20.71875 30.859375 \r\nQ 16.703125 27.09375 16.703125 20.515625 \r\nQ 16.703125 13.921875 20.71875 10.15625 \r\nQ 24.75 6.390625 31.78125 6.390625 \r\nQ 38.8125 6.390625 42.859375 10.171875 \r\nQ 46.921875 13.96875 46.921875 20.515625 \r\nQ 46.921875 27.09375 42.890625 30.859375 \r\nQ 38.875 34.625 31.78125 34.625 \r\nz\r\nM 21.921875 38.8125 \r\nQ 15.578125 40.375 12.03125 44.71875 \r\nQ 8.5 49.078125 8.5 55.328125 \r\nQ 8.5 64.0625 14.71875 69.140625 \r\nQ 20.953125 74.21875 31.78125 74.21875 \r\nQ 42.671875 74.21875 48.875 69.140625 \r\nQ 55.078125 64.0625 55.078125 55.328125 \r\nQ 55.078125 49.078125 51.53125 44.71875 \r\nQ 48 40.375 41.703125 38.8125 \r\nQ 48.828125 37.15625 52.796875 32.3125 \r\nQ 56.78125 27.484375 56.78125 20.515625 \r\nQ 56.78125 9.90625 50.3125 4.234375 \r\nQ 43.84375 -1.421875 31.78125 -1.421875 \r\nQ 19.734375 -1.421875 13.25 4.234375 \r\nQ 6.78125 9.90625 6.78125 20.515625 \r\nQ 6.78125 27.484375 10.78125 32.3125 \r\nQ 14.796875 37.15625 21.921875 38.8125 \r\nz\r\nM 18.3125 54.390625 \r\nQ 18.3125 48.734375 21.84375 45.5625 \r\nQ 25.390625 42.390625 31.78125 42.390625 \r\nQ 38.140625 42.390625 41.71875 45.5625 \r\nQ 45.3125 48.734375 45.3125 54.390625 \r\nQ 45.3125 60.0625 41.71875 63.234375 \r\nQ 38.140625 66.40625 31.78125 66.40625 \r\nQ 25.390625 66.40625 21.84375 63.234375 \r\nQ 18.3125 60.0625 18.3125 54.390625 \r\nz\r\n\" id=\"DejaVuSans-56\"/>\r\n       </defs>\r\n       <use xlink:href=\"#DejaVuSans-48\"/>\r\n       <use x=\"63.623047\" xlink:href=\"#DejaVuSans-46\"/>\r\n       <use x=\"95.410156\" xlink:href=\"#DejaVuSans-56\"/>\r\n      </g>\r\n     </g>\r\n    </g>\r\n    <g id=\"ytick_6\">\r\n     <g id=\"line2d_21\">\r\n      <path clip-path=\"url(#pb2b5a4d060)\" d=\"M 43.78125 22.318125 \r\nL 400.90125 22.318125 \r\n\" style=\"fill:none;stroke:#b0b0b0;stroke-linecap:square;stroke-width:0.8;\"/>\r\n     </g>\r\n     <g id=\"line2d_22\">\r\n      <g>\r\n       <use style=\"stroke:#000000;stroke-width:0.8;\" x=\"43.78125\" xlink:href=\"#m93d9d10f85\" y=\"22.318125\"/>\r\n      </g>\r\n     </g>\r\n     <g id=\"text_12\">\r\n      <!-- 1.0 -->\r\n      <g transform=\"translate(20.878125 26.117344)scale(0.1 -0.1)\">\r\n       <use xlink:href=\"#DejaVuSans-49\"/>\r\n       <use x=\"63.623047\" xlink:href=\"#DejaVuSans-46\"/>\r\n       <use x=\"95.410156\" xlink:href=\"#DejaVuSans-48\"/>\r\n      </g>\r\n     </g>\r\n    </g>\r\n    <g id=\"text_13\">\r\n     <!-- RMSE -->\r\n     <g transform=\"translate(14.798438 169.496)rotate(-90)scale(0.1 -0.1)\">\r\n      <defs>\r\n       <path d=\"M 44.390625 34.1875 \r\nQ 47.5625 33.109375 50.5625 29.59375 \r\nQ 53.5625 26.078125 56.59375 19.921875 \r\nL 66.609375 0 \r\nL 56 0 \r\nL 46.6875 18.703125 \r\nQ 43.0625 26.03125 39.671875 28.421875 \r\nQ 36.28125 30.8125 30.421875 30.8125 \r\nL 19.671875 30.8125 \r\nL 19.671875 0 \r\nL 9.8125 0 \r\nL 9.8125 72.90625 \r\nL 32.078125 72.90625 \r\nQ 44.578125 72.90625 50.734375 67.671875 \r\nQ 56.890625 62.453125 56.890625 51.90625 \r\nQ 56.890625 45.015625 53.6875 40.46875 \r\nQ 50.484375 35.9375 44.390625 34.1875 \r\nz\r\nM 19.671875 64.796875 \r\nL 19.671875 38.921875 \r\nL 32.078125 38.921875 \r\nQ 39.203125 38.921875 42.84375 42.21875 \r\nQ 46.484375 45.515625 46.484375 51.90625 \r\nQ 46.484375 58.296875 42.84375 61.546875 \r\nQ 39.203125 64.796875 32.078125 64.796875 \r\nz\r\n\" id=\"DejaVuSans-82\"/>\r\n       <path d=\"M 9.8125 72.90625 \r\nL 24.515625 72.90625 \r\nL 43.109375 23.296875 \r\nL 61.8125 72.90625 \r\nL 76.515625 72.90625 \r\nL 76.515625 0 \r\nL 66.890625 0 \r\nL 66.890625 64.015625 \r\nL 48.09375 14.015625 \r\nL 38.1875 14.015625 \r\nL 19.390625 64.015625 \r\nL 19.390625 0 \r\nL 9.8125 0 \r\nz\r\n\" id=\"DejaVuSans-77\"/>\r\n       <path d=\"M 9.8125 72.90625 \r\nL 55.90625 72.90625 \r\nL 55.90625 64.59375 \r\nL 19.671875 64.59375 \r\nL 19.671875 43.015625 \r\nL 54.390625 43.015625 \r\nL 54.390625 34.71875 \r\nL 19.671875 34.71875 \r\nL 19.671875 8.296875 \r\nL 56.78125 8.296875 \r\nL 56.78125 0 \r\nL 9.8125 0 \r\nz\r\n\" id=\"DejaVuSans-69\"/>\r\n      </defs>\r\n      <use xlink:href=\"#DejaVuSans-82\"/>\r\n      <use x=\"69.482422\" xlink:href=\"#DejaVuSans-77\"/>\r\n      <use x=\"155.761719\" xlink:href=\"#DejaVuSans-83\"/>\r\n      <use x=\"219.238281\" xlink:href=\"#DejaVuSans-69\"/>\r\n     </g>\r\n    </g>\r\n   </g>\r\n   <g id=\"LineCollection_1\">\r\n    <path clip-path=\"url(#pb2b5a4d060)\" d=\"M 74.771002 131.578635 \r\nL 74.771002 130.844532 \r\n\" style=\"fill:none;stroke:#000000;stroke-width:2;\"/>\r\n    <path clip-path=\"url(#pb2b5a4d060)\" d=\"M 148.556126 125.826284 \r\nL 148.556126 124.89329 \r\n\" style=\"fill:none;stroke:#000000;stroke-width:2;\"/>\r\n    <path clip-path=\"url(#pb2b5a4d060)\" d=\"M 222.34125 130.275548 \r\nL 222.34125 127.441984 \r\n\" style=\"fill:none;stroke:#000000;stroke-width:2;\"/>\r\n    <path clip-path=\"url(#pb2b5a4d060)\" d=\"M 296.126374 127.43372 \r\nL 296.126374 116.00722 \r\n\" style=\"fill:none;stroke:#000000;stroke-width:2;\"/>\r\n    <path clip-path=\"url(#pb2b5a4d060)\" d=\"M 369.911498 120.985056 \r\nL 369.911498 111.264362 \r\n\" style=\"fill:none;stroke:#000000;stroke-width:2;\"/>\r\n   </g>\r\n   <g id=\"line2d_23\">\r\n    <defs>\r\n     <path d=\"M 5 0 \r\nL -5 -0 \r\n\" id=\"mcf2283c90e\" style=\"stroke:#000000;stroke-width:2;\"/>\r\n    </defs>\r\n    <g clip-path=\"url(#pb2b5a4d060)\">\r\n     <use style=\"stroke:#000000;stroke-width:2;\" x=\"74.771002\" xlink:href=\"#mcf2283c90e\" y=\"131.578635\"/>\r\n     <use style=\"stroke:#000000;stroke-width:2;\" x=\"148.556126\" xlink:href=\"#mcf2283c90e\" y=\"125.826284\"/>\r\n     <use style=\"stroke:#000000;stroke-width:2;\" x=\"222.34125\" xlink:href=\"#mcf2283c90e\" y=\"130.275548\"/>\r\n     <use style=\"stroke:#000000;stroke-width:2;\" x=\"296.126374\" xlink:href=\"#mcf2283c90e\" y=\"127.43372\"/>\r\n     <use style=\"stroke:#000000;stroke-width:2;\" x=\"369.911498\" xlink:href=\"#mcf2283c90e\" y=\"120.985056\"/>\r\n    </g>\r\n   </g>\r\n   <g id=\"line2d_24\">\r\n    <g clip-path=\"url(#pb2b5a4d060)\">\r\n     <use style=\"stroke:#000000;stroke-width:2;\" x=\"74.771002\" xlink:href=\"#mcf2283c90e\" y=\"130.844532\"/>\r\n     <use style=\"stroke:#000000;stroke-width:2;\" x=\"148.556126\" xlink:href=\"#mcf2283c90e\" y=\"124.89329\"/>\r\n     <use style=\"stroke:#000000;stroke-width:2;\" x=\"222.34125\" xlink:href=\"#mcf2283c90e\" y=\"127.441984\"/>\r\n     <use style=\"stroke:#000000;stroke-width:2;\" x=\"296.126374\" xlink:href=\"#mcf2283c90e\" y=\"116.00722\"/>\r\n     <use style=\"stroke:#000000;stroke-width:2;\" x=\"369.911498\" xlink:href=\"#mcf2283c90e\" y=\"111.264362\"/>\r\n    </g>\r\n   </g>\r\n   <g id=\"patch_8\">\r\n    <path d=\"M 43.78125 288.430125 \r\nL 43.78125 22.318125 \r\n\" style=\"fill:none;stroke:#000000;stroke-linecap:square;stroke-linejoin:miter;stroke-width:0.8;\"/>\r\n   </g>\r\n   <g id=\"patch_9\">\r\n    <path d=\"M 400.90125 288.430125 \r\nL 400.90125 22.318125 \r\n\" style=\"fill:none;stroke:#000000;stroke-linecap:square;stroke-linejoin:miter;stroke-width:0.8;\"/>\r\n   </g>\r\n   <g id=\"patch_10\">\r\n    <path d=\"M 43.78125 288.430125 \r\nL 400.90125 288.430125 \r\n\" style=\"fill:none;stroke:#000000;stroke-linecap:square;stroke-linejoin:miter;stroke-width:0.8;\"/>\r\n   </g>\r\n   <g id=\"patch_11\">\r\n    <path d=\"M 43.78125 22.318125 \r\nL 400.90125 22.318125 \r\n\" style=\"fill:none;stroke:#000000;stroke-linecap:square;stroke-linejoin:miter;stroke-width:0.8;\"/>\r\n   </g>\r\n   <g id=\"text_14\">\r\n    <!-- CNN-LSTM Performance -->\r\n    <g transform=\"translate(151.090313 16.318125)scale(0.12 -0.12)\">\r\n     <defs>\r\n      <path d=\"M 64.40625 67.28125 \r\nL 64.40625 56.890625 \r\nQ 59.421875 61.53125 53.78125 63.8125 \r\nQ 48.140625 66.109375 41.796875 66.109375 \r\nQ 29.296875 66.109375 22.65625 58.46875 \r\nQ 16.015625 50.828125 16.015625 36.375 \r\nQ 16.015625 21.96875 22.65625 14.328125 \r\nQ 29.296875 6.6875 41.796875 6.6875 \r\nQ 48.140625 6.6875 53.78125 8.984375 \r\nQ 59.421875 11.28125 64.40625 15.921875 \r\nL 64.40625 5.609375 \r\nQ 59.234375 2.09375 53.4375 0.328125 \r\nQ 47.65625 -1.421875 41.21875 -1.421875 \r\nQ 24.65625 -1.421875 15.125 8.703125 \r\nQ 5.609375 18.84375 5.609375 36.375 \r\nQ 5.609375 53.953125 15.125 64.078125 \r\nQ 24.65625 74.21875 41.21875 74.21875 \r\nQ 47.75 74.21875 53.53125 72.484375 \r\nQ 59.328125 70.75 64.40625 67.28125 \r\nz\r\n\" id=\"DejaVuSans-67\"/>\r\n      <path d=\"M 9.8125 72.90625 \r\nL 23.09375 72.90625 \r\nL 55.421875 11.921875 \r\nL 55.421875 72.90625 \r\nL 64.984375 72.90625 \r\nL 64.984375 0 \r\nL 51.703125 0 \r\nL 19.390625 60.984375 \r\nL 19.390625 0 \r\nL 9.8125 0 \r\nz\r\n\" id=\"DejaVuSans-78\"/>\r\n      <path d=\"M 4.890625 31.390625 \r\nL 31.203125 31.390625 \r\nL 31.203125 23.390625 \r\nL 4.890625 23.390625 \r\nz\r\n\" id=\"DejaVuSans-45\"/>\r\n      <path d=\"M 9.8125 72.90625 \r\nL 19.671875 72.90625 \r\nL 19.671875 8.296875 \r\nL 55.171875 8.296875 \r\nL 55.171875 0 \r\nL 9.8125 0 \r\nz\r\n\" id=\"DejaVuSans-76\"/>\r\n      <path d=\"M -0.296875 72.90625 \r\nL 61.375 72.90625 \r\nL 61.375 64.59375 \r\nL 35.5 64.59375 \r\nL 35.5 0 \r\nL 25.59375 0 \r\nL 25.59375 64.59375 \r\nL -0.296875 64.59375 \r\nz\r\n\" id=\"DejaVuSans-84\"/>\r\n      <path d=\"M 19.671875 64.796875 \r\nL 19.671875 37.40625 \r\nL 32.078125 37.40625 \r\nQ 38.96875 37.40625 42.71875 40.96875 \r\nQ 46.484375 44.53125 46.484375 51.125 \r\nQ 46.484375 57.671875 42.71875 61.234375 \r\nQ 38.96875 64.796875 32.078125 64.796875 \r\nz\r\nM 9.8125 72.90625 \r\nL 32.078125 72.90625 \r\nQ 44.34375 72.90625 50.609375 67.359375 \r\nQ 56.890625 61.8125 56.890625 51.125 \r\nQ 56.890625 40.328125 50.609375 34.8125 \r\nQ 44.34375 29.296875 32.078125 29.296875 \r\nL 19.671875 29.296875 \r\nL 19.671875 0 \r\nL 9.8125 0 \r\nz\r\n\" id=\"DejaVuSans-80\"/>\r\n      <path d=\"M 37.109375 75.984375 \r\nL 37.109375 68.5 \r\nL 28.515625 68.5 \r\nQ 23.6875 68.5 21.796875 66.546875 \r\nQ 19.921875 64.59375 19.921875 59.515625 \r\nL 19.921875 54.6875 \r\nL 34.71875 54.6875 \r\nL 34.71875 47.703125 \r\nL 19.921875 47.703125 \r\nL 19.921875 0 \r\nL 10.890625 0 \r\nL 10.890625 47.703125 \r\nL 2.296875 47.703125 \r\nL 2.296875 54.6875 \r\nL 10.890625 54.6875 \r\nL 10.890625 58.5 \r\nQ 10.890625 67.625 15.140625 71.796875 \r\nQ 19.390625 75.984375 28.609375 75.984375 \r\nz\r\n\" id=\"DejaVuSans-102\"/>\r\n      <path d=\"M 30.609375 48.390625 \r\nQ 23.390625 48.390625 19.1875 42.75 \r\nQ 14.984375 37.109375 14.984375 27.296875 \r\nQ 14.984375 17.484375 19.15625 11.84375 \r\nQ 23.34375 6.203125 30.609375 6.203125 \r\nQ 37.796875 6.203125 41.984375 11.859375 \r\nQ 46.1875 17.53125 46.1875 27.296875 \r\nQ 46.1875 37.015625 41.984375 42.703125 \r\nQ 37.796875 48.390625 30.609375 48.390625 \r\nz\r\nM 30.609375 56 \r\nQ 42.328125 56 49.015625 48.375 \r\nQ 55.71875 40.765625 55.71875 27.296875 \r\nQ 55.71875 13.875 49.015625 6.21875 \r\nQ 42.328125 -1.421875 30.609375 -1.421875 \r\nQ 18.84375 -1.421875 12.171875 6.21875 \r\nQ 5.515625 13.875 5.515625 27.296875 \r\nQ 5.515625 40.765625 12.171875 48.375 \r\nQ 18.84375 56 30.609375 56 \r\nz\r\n\" id=\"DejaVuSans-111\"/>\r\n      <path d=\"M 52 44.1875 \r\nQ 55.375 50.25 60.0625 53.125 \r\nQ 64.75 56 71.09375 56 \r\nQ 79.640625 56 84.28125 50.015625 \r\nQ 88.921875 44.046875 88.921875 33.015625 \r\nL 88.921875 0 \r\nL 79.890625 0 \r\nL 79.890625 32.71875 \r\nQ 79.890625 40.578125 77.09375 44.375 \r\nQ 74.3125 48.1875 68.609375 48.1875 \r\nQ 61.625 48.1875 57.5625 43.546875 \r\nQ 53.515625 38.921875 53.515625 30.90625 \r\nL 53.515625 0 \r\nL 44.484375 0 \r\nL 44.484375 32.71875 \r\nQ 44.484375 40.625 41.703125 44.40625 \r\nQ 38.921875 48.1875 33.109375 48.1875 \r\nQ 26.21875 48.1875 22.15625 43.53125 \r\nQ 18.109375 38.875 18.109375 30.90625 \r\nL 18.109375 0 \r\nL 9.078125 0 \r\nL 9.078125 54.6875 \r\nL 18.109375 54.6875 \r\nL 18.109375 46.1875 \r\nQ 21.1875 51.21875 25.484375 53.609375 \r\nQ 29.78125 56 35.6875 56 \r\nQ 41.65625 56 45.828125 52.96875 \r\nQ 50 49.953125 52 44.1875 \r\nz\r\n\" id=\"DejaVuSans-109\"/>\r\n      <path d=\"M 48.78125 52.59375 \r\nL 48.78125 44.1875 \r\nQ 44.96875 46.296875 41.140625 47.34375 \r\nQ 37.3125 48.390625 33.40625 48.390625 \r\nQ 24.65625 48.390625 19.8125 42.84375 \r\nQ 14.984375 37.3125 14.984375 27.296875 \r\nQ 14.984375 17.28125 19.8125 11.734375 \r\nQ 24.65625 6.203125 33.40625 6.203125 \r\nQ 37.3125 6.203125 41.140625 7.25 \r\nQ 44.96875 8.296875 48.78125 10.40625 \r\nL 48.78125 2.09375 \r\nQ 45.015625 0.34375 40.984375 -0.53125 \r\nQ 36.96875 -1.421875 32.421875 -1.421875 \r\nQ 20.0625 -1.421875 12.78125 6.34375 \r\nQ 5.515625 14.109375 5.515625 27.296875 \r\nQ 5.515625 40.671875 12.859375 48.328125 \r\nQ 20.21875 56 33.015625 56 \r\nQ 37.15625 56 41.109375 55.140625 \r\nQ 45.0625 54.296875 48.78125 52.59375 \r\nz\r\n\" id=\"DejaVuSans-99\"/>\r\n     </defs>\r\n     <use xlink:href=\"#DejaVuSans-67\"/>\r\n     <use x=\"69.824219\" xlink:href=\"#DejaVuSans-78\"/>\r\n     <use x=\"144.628906\" xlink:href=\"#DejaVuSans-78\"/>\r\n     <use x=\"219.433594\" xlink:href=\"#DejaVuSans-45\"/>\r\n     <use x=\"255.517578\" xlink:href=\"#DejaVuSans-76\"/>\r\n     <use x=\"311.230469\" xlink:href=\"#DejaVuSans-83\"/>\r\n     <use x=\"374.707031\" xlink:href=\"#DejaVuSans-84\"/>\r\n     <use x=\"435.791016\" xlink:href=\"#DejaVuSans-77\"/>\r\n     <use x=\"522.070312\" xlink:href=\"#DejaVuSans-32\"/>\r\n     <use x=\"553.857422\" xlink:href=\"#DejaVuSans-80\"/>\r\n     <use x=\"610.535156\" xlink:href=\"#DejaVuSans-101\"/>\r\n     <use x=\"672.058594\" xlink:href=\"#DejaVuSans-114\"/>\r\n     <use x=\"713.171875\" xlink:href=\"#DejaVuSans-102\"/>\r\n     <use x=\"748.376953\" xlink:href=\"#DejaVuSans-111\"/>\r\n     <use x=\"809.558594\" xlink:href=\"#DejaVuSans-114\"/>\r\n     <use x=\"848.921875\" xlink:href=\"#DejaVuSans-109\"/>\r\n     <use x=\"946.333984\" xlink:href=\"#DejaVuSans-97\"/>\r\n     <use x=\"1007.613281\" xlink:href=\"#DejaVuSans-110\"/>\r\n     <use x=\"1070.992188\" xlink:href=\"#DejaVuSans-99\"/>\r\n     <use x=\"1125.972656\" xlink:href=\"#DejaVuSans-101\"/>\r\n    </g>\r\n   </g>\r\n  </g>\r\n </g>\r\n <defs>\r\n  <clipPath id=\"pb2b5a4d060\">\r\n   <rect height=\"266.112\" width=\"357.12\" x=\"43.78125\" y=\"22.318125\"/>\r\n  </clipPath>\r\n </defs>\r\n</svg>\r\n",
      "image/png": "[encoded data removed]"
     },
     "metadata": {}
    }
   ]
  },
  {
   "cell_type": "code",
   "execution_count": 20,
   "metadata": {},
   "outputs": [
    {
     "output_type": "stream",
     "name": "stdout",
     "text": [
      "Epoch 1/10\n",
      "25/25 [==============================] - 2s 68ms/step - loss: 357.8930\n",
      "Epoch 2/10\n",
      "25/25 [==============================] - 2s 66ms/step - loss: 56.5281\n",
      "Epoch 3/10\n",
      "25/25 [==============================] - 2s 69ms/step - loss: 11.4261\n",
      "Epoch 4/10\n",
      "25/25 [==============================] - 2s 71ms/step - loss: 1.7404\n",
      "Epoch 5/10\n",
      "25/25 [==============================] - 2s 68ms/step - loss: 0.6314\n",
      "Epoch 6/10\n",
      "25/25 [==============================] - 2s 69ms/step - loss: 0.5744\n",
      "Epoch 7/10\n",
      "25/25 [==============================] - 2s 67ms/step - loss: 0.5739\n",
      "Epoch 8/10\n",
      "25/25 [==============================] - 2s 68ms/step - loss: 0.5740\n",
      "Epoch 9/10\n",
      "25/25 [==============================] - 2s 68ms/step - loss: 0.5740\n",
      "Epoch 10/10\n",
      "25/25 [==============================] - 2s 67ms/step - loss: 0.5747\n"
     ]
    },
    {
     "output_type": "execute_result",
     "data": {
      "text/plain": [
       "<tensorflow.python.keras.callbacks.History at 0x1dfb1dcd488>"
      ]
     },
     "metadata": {},
     "execution_count": 20
    }
   ],
   "source": [
    "hp = kt.HyperParameters()\n",
    "interval_size=3\n",
    "hp.Int('interval_size', min_value=3, max_value=12, step=2, default=interval_size)\n",
    "model = build_model(hp)\n",
    "temp_a = int((len(dataset.values))/interval_size)\n",
    "split_index = temp_a*interval_size\n",
    "data = array(split(dataset.values[:split_index], split_index/interval_size))\n",
    "train_x, train_y = to_supervised(data, interval_size, interval_size)\n",
    "epochs = 10\n",
    "batch_size = 32\n",
    "callback = tf.keras.callbacks.EarlyStopping(monitor='loss', patience=3)\n",
    "model.fit(train_x, train_y, epochs=epochs, batch_size=batch_size, verbose=True, callbacks=[callback])\n"
   ]
  },
  {
   "cell_type": "code",
   "execution_count": 28,
   "metadata": {},
   "outputs": [
    {
     "output_type": "execute_result",
     "data": {
      "text/plain": [
       "(769, 3, 1)"
      ]
     },
     "metadata": {},
     "execution_count": 28
    }
   ],
   "source": [
    "train_x.shape"
   ]
  },
  {
   "cell_type": "code",
   "execution_count": 21,
   "metadata": {},
   "outputs": [],
   "source": [
    "predictions = []\n",
    "for x in data:\n",
    "    pred = forecast(model, [x], interval_size)\n",
    "    predictions.append(pred)\n",
    "predictions = np.asarray(predictions)"
   ]
  },
  {
   "cell_type": "code",
   "execution_count": 22,
   "metadata": {},
   "outputs": [],
   "source": [
    "df_data = pd.DataFrame(data.reshape(data.shape[0]* data.shape[1], 2), columns=[\"temperature\",\"humidity\"])\n",
    "df_pred = pd.DataFrame(predictions.reshape(predictions.shape[0]* predictions.shape[1],),columns=[\"pred_temperature\"])\n",
    "predicted_and_data = df_pred.join(df_data)\n",
    "predicted_and_data.to_csv('predicted_temperature_and_actual_values.csv',index=False)"
   ]
  },
  {
   "cell_type": "code",
   "execution_count": 27,
   "metadata": {},
   "outputs": [],
   "source": [
    "model.save(\"forecasting-cnn-lstm-model.h5\")"
   ]
  },
  {
   "cell_type": "code",
   "execution_count": 26,
   "metadata": {},
   "outputs": [
    {
     "output_type": "execute_result",
     "data": {
      "text/plain": [
       "<tensorflow.python.keras.engine.sequential.Sequential at 0x1e00d270848>"
      ]
     },
     "metadata": {},
     "execution_count": 26
    }
   ],
   "source": [
    "load_model(\"forecasting-cnn-lstm-model\")"
   ]
  },
  {
   "cell_type": "code",
   "execution_count": null,
   "metadata": {},
   "outputs": [],
   "source": []
  }
 ]
}