{
 "metadata": {
  "language_info": {
   "codemirror_mode": {
    "name": "ipython",
    "version": 3
   },
   "file_extension": ".py",
   "mimetype": "text/x-python",
   "name": "python",
   "nbconvert_exporter": "python",
   "pygments_lexer": "ipython3",
   "version": "3.7.9"
  },
  "orig_nbformat": 2,
  "kernelspec": {
   "name": "python379jvsc74a57bd0c3218535dd4fc05aa3e9f9bc0ba552a9acaa71ce56ba5438b99e7cdc1c0a0be6",
   "display_name": "Python 3.7.9 64-bit ('DT005A Final Project': conda)"
  }
 },
 "nbformat": 4,
 "nbformat_minor": 2,
 "cells": [
  {
   "cell_type": "code",
   "execution_count": 1,
   "metadata": {},
   "outputs": [],
   "source": [
    "# univariate multi-step cnn-lstm\n",
    "import os\n",
    "import boto3\n",
    "import json\n",
    "import re\n",
    "import kerastuner as kt\n",
    "import pandas as pd\n",
    "import numpy as np\n",
    "import glob\n",
    "import tensorflow as tf\n",
    "from collections import defaultdict\n",
    "from kerastuner import Objective\n",
    "from datetime import datetime\n",
    "from math import sqrt\n",
    "from numpy import (split, array)\n",
    "from pandas import read_csv\n",
    "from sklearn.metrics import (mean_squared_error, mean_absolute_error)\n",
    "from sklearn.preprocessing import MinMaxScaler\n",
    "from sklearn.model_selection import train_test_split\n",
    "from matplotlib import pyplot\n",
    "from keras.models import Sequential\n",
    "from keras.layers import (LSTM, Dense, Flatten, RepeatVector, TimeDistributed, )\n",
    "from keras.layers.convolutional import Conv1D\n",
    "from keras.layers.convolutional import MaxPooling1D"
   ]
  },
  {
   "cell_type": "code",
   "execution_count": 2,
   "metadata": {},
   "outputs": [],
   "source": [
    "# define client, folder and files for AWS.\n",
    "s3_client = boto3.client(\"s3\")\n",
    "s3_bucket_name = 'thesis-hydroponic-project'\n",
    "s3_bucket_prefix = 'TemperatureAndHumidity2021/03'"
   ]
  },
  {
   "cell_type": "code",
   "execution_count": 3,
   "metadata": {
    "tags": [
     "outputPrepend"
    ]
   },
   "outputs": [
    {
     "output_type": "stream",
     "name": "stdout",
     "text": [
      "2d33c-944e-46de-8d37-28a6bf992123\n",
      "Load from cache: TemperatureAndHumidity2021/03/29/02/ThesisHydroponicSensorDeliveryStream-1-2021-03-29-02-55-47-7016dacb-4449-46ce-b8e7-1cbab7995d41\n",
      "Load from cache: TemperatureAndHumidity2021/03/29/03/ThesisHydroponicSensorDeliveryStream-1-2021-03-29-03-10-52-bb30d9e6-e9c3-4303-879e-362feecd838c\n",
      "Load from cache: TemperatureAndHumidity2021/03/29/03/ThesisHydroponicSensorDeliveryStream-1-2021-03-29-03-25-58-2209f8f2-fcb6-4653-bd0c-6856ad0429c0\n",
      "Load from cache: TemperatureAndHumidity2021/03/29/03/ThesisHydroponicSensorDeliveryStream-1-2021-03-29-03-41-06-1bb94952-fbe2-4851-a004-e3a4b2fef1ac\n",
      "Load from cache: TemperatureAndHumidity2021/03/29/03/ThesisHydroponicSensorDeliveryStream-1-2021-03-29-03-56-08-55391883-814a-44ed-899f-945b41f7138c\n",
      "Load from cache: TemperatureAndHumidity2021/03/29/04/ThesisHydroponicSensorDeliveryStream-1-2021-03-29-04-11-14-d6528ed4-e4af-4d9f-9ec4-30cb3deda1c5\n",
      "Load from cache: TemperatureAndHumidity2021/03/30/00/ThesisHydroponicSensorDeliveryStream-1-2021-03-30-00-02-41-d174a858-5c78-4e61-b853-e4398ce7ad7d\n",
      "Load from cache: TemperatureAndHumidity2021/03/30/00/ThesisHydroponicSensorDeliveryStream-1-2021-03-30-00-17-51-aa5e60fd-7d26-4c60-a4d7-fa69514fc698\n",
      "Load from cache: TemperatureAndHumidity2021/03/30/00/ThesisHydroponicSensorDeliveryStream-1-2021-03-30-00-32-53-089e6f33-a40a-4c0a-a1e3-00af4d683010\n",
      "Load from cache: TemperatureAndHumidity2021/03/30/00/ThesisHydroponicSensorDeliveryStream-1-2021-03-30-00-47-58-8bc95fc0-91d5-47f8-b9b6-8141cb011112\n",
      "Load from cache: TemperatureAndHumidity2021/03/30/01/ThesisHydroponicSensorDeliveryStream-1-2021-03-30-01-03-02-3da15aba-9df9-47bb-911b-1012bd19f861\n",
      "Load from cache: TemperatureAndHumidity2021/03/30/01/ThesisHydroponicSensorDeliveryStream-1-2021-03-30-01-18-09-09b320c8-f37b-4375-b204-3f2eecac6e14\n",
      "Load from cache: TemperatureAndHumidity2021/03/30/01/ThesisHydroponicSensorDeliveryStream-1-2021-03-30-01-33-12-557e614a-45ac-428a-84a9-e157ca954a67\n",
      "Load from cache: TemperatureAndHumidity2021/03/30/01/ThesisHydroponicSensorDeliveryStream-1-2021-03-30-01-48-18-7de54d41-4f44-47b3-8095-b09b3ad6bc8c\n",
      "Load from cache: TemperatureAndHumidity2021/03/30/02/ThesisHydroponicSensorDeliveryStream-1-2021-03-30-02-03-24-ac3e058c-0f94-4e07-aed1-35ba880d78d1\n",
      "Load from cache: TemperatureAndHumidity2021/03/30/02/ThesisHydroponicSensorDeliveryStream-1-2021-03-30-02-18-31-49be1b3c-68cc-4310-8902-db70fdac09d0\n",
      "Load from cache: TemperatureAndHumidity2021/03/30/02/ThesisHydroponicSensorDeliveryStream-1-2021-03-30-02-33-32-6e90a915-4344-449a-ab65-a067294bcb00\n",
      "Load from cache: TemperatureAndHumidity2021/03/30/02/ThesisHydroponicSensorDeliveryStream-1-2021-03-30-02-48-37-40b40434-2098-4cd2-9c5c-341d83f97014\n",
      "Load from cache: TemperatureAndHumidity2021/03/30/03/ThesisHydroponicSensorDeliveryStream-1-2021-03-30-03-03-45-f91aca57-51df-4222-a4d7-003b29aab9fe\n",
      "Load from cache: TemperatureAndHumidity2021/03/30/03/ThesisHydroponicSensorDeliveryStream-1-2021-03-30-03-18-46-e3bd1223-ae2b-426c-ae09-dfc670ccd0b0\n",
      "Load from cache: TemperatureAndHumidity2021/03/30/03/ThesisHydroponicSensorDeliveryStream-1-2021-03-30-03-33-56-70991600-bc59-4731-a055-fcb5ca523f61\n",
      "Load from cache: TemperatureAndHumidity2021/03/30/03/ThesisHydroponicSensorDeliveryStream-1-2021-03-30-03-49-02-04a7d82c-8014-4d5e-ac94-fa47b8a6a8ae\n",
      "Load from cache: TemperatureAndHumidity2021/03/30/04/ThesisHydroponicSensorDeliveryStream-1-2021-03-30-04-04-11-9dd2452f-f8aa-4fa6-ad16-fd524ba8fd22\n",
      "Load from cache: TemperatureAndHumidity2021/03/30/04/ThesisHydroponicSensorDeliveryStream-1-2021-03-30-04-19-14-f44a9364-3c42-454e-b9f6-b38117d73bf7\n",
      "Load from cache: TemperatureAndHumidity2021/03/30/04/ThesisHydroponicSensorDeliveryStream-1-2021-03-30-04-34-19-9963217d-4a35-4d6d-82fc-24ec196c9d28\n",
      "Load from cache: TemperatureAndHumidity2021/03/30/04/ThesisHydroponicSensorDeliveryStream-1-2021-03-30-04-49-23-fd56fcf9-5120-4562-be60-6673993b4be0\n",
      "Load from cache: TemperatureAndHumidity2021/03/30/05/ThesisHydroponicSensorDeliveryStream-1-2021-03-30-05-04-27-eaa85a55-b5e3-4366-92e3-ad971f030e44\n",
      "Load from cache: TemperatureAndHumidity2021/03/30/05/ThesisHydroponicSensorDeliveryStream-1-2021-03-30-05-19-30-ba01dea3-b851-46fa-870f-2d06bf9015c5\n",
      "Load from cache: TemperatureAndHumidity2021/03/30/05/ThesisHydroponicSensorDeliveryStream-1-2021-03-30-05-34-33-d1ec33b2-90df-49a6-88ad-a8ec58352d32\n",
      "Load from cache: TemperatureAndHumidity2021/03/30/05/ThesisHydroponicSensorDeliveryStream-1-2021-03-30-05-49-37-e98464a1-4a80-4c77-a686-28b111cdcc10\n",
      "Load from cache: TemperatureAndHumidity2021/03/30/06/ThesisHydroponicSensorDeliveryStream-1-2021-03-30-06-04-43-552e3e02-2954-4660-abc9-487fc59200d4\n",
      "Load from cache: TemperatureAndHumidity2021/03/30/06/ThesisHydroponicSensorDeliveryStream-1-2021-03-30-06-19-46-88943a8e-498c-43ea-b6a5-8cea5f9c53a8\n",
      "Load from cache: TemperatureAndHumidity2021/03/30/06/ThesisHydroponicSensorDeliveryStream-1-2021-03-30-06-34-51-3a171955-77a1-42fc-aa6d-833007e84c2d\n",
      "Load from cache: TemperatureAndHumidity2021/03/30/06/ThesisHydroponicSensorDeliveryStream-1-2021-03-30-06-49-58-8ea4e4a8-7073-4618-9814-9f7226255bb0\n",
      "Load from cache: TemperatureAndHumidity2021/03/30/07/ThesisHydroponicSensorDeliveryStream-1-2021-03-30-07-05-00-b8a2db70-cdf1-4547-999a-a30fe2317791\n",
      "Load from cache: TemperatureAndHumidity2021/03/30/07/ThesisHydroponicSensorDeliveryStream-1-2021-03-30-07-20-04-13d9ed63-2bf5-43b2-b9c0-a8a2fe3f412a\n",
      "Load from cache: TemperatureAndHumidity2021/03/30/07/ThesisHydroponicSensorDeliveryStream-1-2021-03-30-07-35-12-e3a9eb3a-bb2a-419d-977b-b8723f965f10\n",
      "Load from cache: TemperatureAndHumidity2021/03/30/07/ThesisHydroponicSensorDeliveryStream-1-2021-03-30-07-50-20-10cb3179-bce2-4bfa-8fec-8742ccdf4a23\n",
      "Load from cache: TemperatureAndHumidity2021/03/30/08/ThesisHydroponicSensorDeliveryStream-1-2021-03-30-08-05-25-50a2edc4-3cb9-4c9c-9499-877876954ecc\n",
      "Load from cache: TemperatureAndHumidity2021/03/30/08/ThesisHydroponicSensorDeliveryStream-1-2021-03-30-08-20-30-42bde546-f701-4de7-bc30-8cb8d3d3a838\n",
      "Load from cache: TemperatureAndHumidity2021/03/30/08/ThesisHydroponicSensorDeliveryStream-1-2021-03-30-08-35-34-71762449-700a-4ce0-a59c-b3ea30580135\n",
      "Load from cache: TemperatureAndHumidity2021/03/30/08/ThesisHydroponicSensorDeliveryStream-1-2021-03-30-08-50-38-47f86cff-156c-4740-a2b9-d440156fe067\n",
      "Load from cache: TemperatureAndHumidity2021/03/30/09/ThesisHydroponicSensorDeliveryStream-1-2021-03-30-09-05-43-61a47a1c-bd70-40fb-8dc0-416232d4f45c\n",
      "Load from cache: TemperatureAndHumidity2021/03/30/09/ThesisHydroponicSensorDeliveryStream-1-2021-03-30-09-20-48-9e470860-785d-489c-a15c-744720a337cc\n",
      "Load from cache: TemperatureAndHumidity2021/03/30/09/ThesisHydroponicSensorDeliveryStream-1-2021-03-30-09-35-56-f720f664-0992-462c-87ed-40b96293726b\n",
      "Load from cache: TemperatureAndHumidity2021/03/30/09/ThesisHydroponicSensorDeliveryStream-1-2021-03-30-09-51-01-3ce89a9d-5890-4fae-b9a9-1ae23ec0ec23\n",
      "Load from cache: TemperatureAndHumidity2021/03/30/10/ThesisHydroponicSensorDeliveryStream-1-2021-03-30-10-06-07-f3abeaba-6466-4849-bb60-797b47825569\n",
      "Load from cache: TemperatureAndHumidity2021/03/30/10/ThesisHydroponicSensorDeliveryStream-1-2021-03-30-10-21-12-68927a8c-f80f-4981-adf9-0cc0e330721f\n",
      "Load from cache: TemperatureAndHumidity2021/03/30/10/ThesisHydroponicSensorDeliveryStream-1-2021-03-30-10-36-13-f471ca98-23a8-47f3-80a9-c2bac19bda47\n",
      "Load from cache: TemperatureAndHumidity2021/03/30/10/ThesisHydroponicSensorDeliveryStream-1-2021-03-30-10-51-20-a6ead53e-ee50-498e-831d-b08233fe71c4\n",
      "Load from cache: TemperatureAndHumidity2021/03/30/11/ThesisHydroponicSensorDeliveryStream-1-2021-03-30-11-06-23-12b02c8a-77d5-4f3a-8ffe-be5b161a38d7\n",
      "Load from cache: TemperatureAndHumidity2021/03/30/11/ThesisHydroponicSensorDeliveryStream-1-2021-03-30-11-21-27-eb562d17-c5dc-4138-bb85-aca1bc7ee2f2\n",
      "Load from cache: TemperatureAndHumidity2021/03/30/11/ThesisHydroponicSensorDeliveryStream-1-2021-03-30-11-36-31-69da5190-3d97-411e-ba47-26c893f7422c\n",
      "Load from cache: TemperatureAndHumidity2021/03/30/11/ThesisHydroponicSensorDeliveryStream-1-2021-03-30-11-51-37-b3108b5e-95ff-4936-9470-5fa44c8c533f\n",
      "Load from cache: TemperatureAndHumidity2021/03/30/12/ThesisHydroponicSensorDeliveryStream-1-2021-03-30-12-06-40-e5633fac-f3c3-4155-b506-1ddaf0640cc9\n",
      "Load from cache: TemperatureAndHumidity2021/03/30/12/ThesisHydroponicSensorDeliveryStream-1-2021-03-30-12-21-43-9c88b5b3-da58-4a15-9198-01e9e552ea4a\n",
      "Load from cache: TemperatureAndHumidity2021/03/30/12/ThesisHydroponicSensorDeliveryStream-1-2021-03-30-12-36-46-628f5abc-637f-4663-a705-c9b99ed0b12d\n",
      "Load from cache: TemperatureAndHumidity2021/03/30/12/ThesisHydroponicSensorDeliveryStream-1-2021-03-30-12-51-50-a97dbd0a-f9c7-471a-b7c8-4ce1e9e62f51\n",
      "Load from cache: TemperatureAndHumidity2021/03/30/13/ThesisHydroponicSensorDeliveryStream-1-2021-03-30-13-06-53-252c0a20-4f51-47cb-bf9e-06e2059fbed1\n",
      "Load from cache: TemperatureAndHumidity2021/03/30/13/ThesisHydroponicSensorDeliveryStream-1-2021-03-30-13-21-54-351ec5ba-f70f-45cf-8e00-7da0c1b0aec9\n",
      "Load from cache: TemperatureAndHumidity2021/03/30/13/ThesisHydroponicSensorDeliveryStream-1-2021-03-30-13-37-01-0193d8a4-a05e-43cd-8295-7e3cc7676917\n",
      "Load from cache: TemperatureAndHumidity2021/03/30/13/ThesisHydroponicSensorDeliveryStream-1-2021-03-30-13-52-03-c2fa0b5c-8651-4701-9b6e-bf6e670279cc\n",
      "Load from cache: TemperatureAndHumidity2021/03/30/14/ThesisHydroponicSensorDeliveryStream-1-2021-03-30-14-07-08-9e3eeabc-02f7-4172-ba5a-11872c2016f8\n",
      "Load from cache: TemperatureAndHumidity2021/03/30/14/ThesisHydroponicSensorDeliveryStream-1-2021-03-30-14-22-15-3151cc99-0402-486b-892c-578f77d506ee\n",
      "Load from cache: TemperatureAndHumidity2021/03/30/14/ThesisHydroponicSensorDeliveryStream-1-2021-03-30-14-37-19-71ecd75f-132d-40af-8ee0-28d8857935d7\n",
      "Load from cache: TemperatureAndHumidity2021/03/30/14/ThesisHydroponicSensorDeliveryStream-1-2021-03-30-14-52-23-e5582631-cab5-404d-9dcf-81e9e96b6bdf\n",
      "Load from cache: TemperatureAndHumidity2021/03/30/15/ThesisHydroponicSensorDeliveryStream-1-2021-03-30-15-07-28-61eb21f0-feeb-428a-bc64-683095dac947\n",
      "Load from cache: TemperatureAndHumidity2021/03/30/15/ThesisHydroponicSensorDeliveryStream-1-2021-03-30-15-22-33-ed20cbe4-6a49-43b5-abb8-5f6dbe389d62\n",
      "Load from cache: TemperatureAndHumidity2021/03/30/15/ThesisHydroponicSensorDeliveryStream-1-2021-03-30-15-37-37-9ad37e6e-d93e-4437-b8c2-116e0bd2a4d3\n",
      "Load from cache: TemperatureAndHumidity2021/03/30/15/ThesisHydroponicSensorDeliveryStream-1-2021-03-30-15-52-52-20ef7af3-4c50-4d50-a7ed-c2a5f4207087\n",
      "Load from cache: TemperatureAndHumidity2021/03/30/16/ThesisHydroponicSensorDeliveryStream-1-2021-03-30-16-07-54-90064ce0-fc2a-4aab-922f-a352e22e1c63\n",
      "Load from cache: TemperatureAndHumidity2021/03/30/16/ThesisHydroponicSensorDeliveryStream-1-2021-03-30-16-23-03-70df5030-0769-4d68-b127-f1561ce5af1b\n",
      "Load from cache: TemperatureAndHumidity2021/03/30/16/ThesisHydroponicSensorDeliveryStream-1-2021-03-30-16-38-14-76881d18-d354-404d-9cd5-3b83bb51aef6\n",
      "Load from cache: TemperatureAndHumidity2021/03/30/16/ThesisHydroponicSensorDeliveryStream-1-2021-03-30-16-53-18-90509a34-4c23-40a1-a354-d92e8aa562fa\n",
      "Load from cache: TemperatureAndHumidity2021/03/30/17/ThesisHydroponicSensorDeliveryStream-1-2021-03-30-17-08-20-21d3832f-6838-4daf-ab5c-a829e2749b45\n",
      "Load from cache: TemperatureAndHumidity2021/03/30/17/ThesisHydroponicSensorDeliveryStream-1-2021-03-30-17-23-23-395339e1-3fdb-4a6a-8ee5-c423a60caa0e\n",
      "Load from cache: TemperatureAndHumidity2021/03/30/17/ThesisHydroponicSensorDeliveryStream-1-2021-03-30-17-38-27-9cbb6727-9c3f-47c8-9301-c7bda9c8ce48\n",
      "Load from cache: TemperatureAndHumidity2021/03/30/17/ThesisHydroponicSensorDeliveryStream-1-2021-03-30-17-53-30-066b1079-8e35-4a61-9732-ac13505b468e\n",
      "Load from cache: TemperatureAndHumidity2021/03/30/18/ThesisHydroponicSensorDeliveryStream-1-2021-03-30-18-08-34-335385af-a9b0-4a9e-ae0a-0fbae7763b38\n",
      "Load from cache: TemperatureAndHumidity2021/03/30/18/ThesisHydroponicSensorDeliveryStream-1-2021-03-30-18-23-42-88d8ab24-4307-4855-bc2a-e68d0a468d1c\n",
      "Load from cache: TemperatureAndHumidity2021/03/30/18/ThesisHydroponicSensorDeliveryStream-1-2021-03-30-18-38-45-e54a335b-464c-44e3-9d3f-c41cc6691f4c\n",
      "Load from cache: TemperatureAndHumidity2021/03/30/18/ThesisHydroponicSensorDeliveryStream-1-2021-03-30-18-53-47-0fd662f1-643c-4985-a510-b1865fd46450\n",
      "Load from cache: TemperatureAndHumidity2021/03/30/19/ThesisHydroponicSensorDeliveryStream-1-2021-03-30-19-08-54-4fe4dba7-0537-4b71-90dd-b7b4d5012cfe\n",
      "Load from cache: TemperatureAndHumidity2021/03/30/19/ThesisHydroponicSensorDeliveryStream-1-2021-03-30-19-24-03-cd239b38-120b-4e99-83ec-a90fb2f69dbc\n",
      "Load from cache: TemperatureAndHumidity2021/03/30/19/ThesisHydroponicSensorDeliveryStream-1-2021-03-30-19-39-09-c44b9ae4-a964-4d64-9f73-6086b9c0e561\n",
      "Load from cache: TemperatureAndHumidity2021/03/30/19/ThesisHydroponicSensorDeliveryStream-1-2021-03-30-19-54-19-4128d653-b905-4db3-8bed-7ef52509af46\n",
      "Load from cache: TemperatureAndHumidity2021/03/30/20/ThesisHydroponicSensorDeliveryStream-1-2021-03-30-20-09-21-e1e56f42-ae0f-4ee2-a760-1019b86ec83c\n",
      "Load from cache: TemperatureAndHumidity2021/03/30/20/ThesisHydroponicSensorDeliveryStream-1-2021-03-30-20-24-22-2d6554d5-3cbf-4381-b1ff-aa858aa7e740\n",
      "Load from cache: TemperatureAndHumidity2021/03/30/20/ThesisHydroponicSensorDeliveryStream-1-2021-03-30-20-39-33-fd03ccf5-2899-4b7a-b41e-672e77f3888c\n",
      "Load from cache: TemperatureAndHumidity2021/03/30/20/ThesisHydroponicSensorDeliveryStream-1-2021-03-30-20-54-42-6793f40b-8440-4a1e-bea6-31da5888410e\n",
      "Load from cache: TemperatureAndHumidity2021/03/30/21/ThesisHydroponicSensorDeliveryStream-1-2021-03-30-21-09-47-27826ace-79d2-49d5-b2ce-5ed8703910d5\n",
      "Load from cache: TemperatureAndHumidity2021/03/30/21/ThesisHydroponicSensorDeliveryStream-1-2021-03-30-21-24-55-1aa5afdf-a494-4204-a8f1-a274ba475731\n",
      "Load from cache: TemperatureAndHumidity2021/03/30/21/ThesisHydroponicSensorDeliveryStream-1-2021-03-30-21-40-03-c525ddf8-dce0-4f13-9e76-47fc9372a874\n",
      "Load from cache: TemperatureAndHumidity2021/03/30/21/ThesisHydroponicSensorDeliveryStream-1-2021-03-30-21-55-14-aaf03887-7686-4f51-b756-41f332926c75\n",
      "Load from cache: TemperatureAndHumidity2021/03/30/22/ThesisHydroponicSensorDeliveryStream-1-2021-03-30-22-10-21-a46b72a6-ff3d-4299-b9a0-733beda3cba4\n",
      "Load from cache: TemperatureAndHumidity2021/03/30/22/ThesisHydroponicSensorDeliveryStream-1-2021-03-30-22-25-25-8f158a2b-d6a2-499a-839c-277928c6a35a\n",
      "Load from cache: TemperatureAndHumidity2021/03/30/22/ThesisHydroponicSensorDeliveryStream-1-2021-03-30-22-40-34-a72491e2-1d61-4d4e-ad30-2609fe1337c6\n",
      "Load from cache: TemperatureAndHumidity2021/03/30/22/ThesisHydroponicSensorDeliveryStream-1-2021-03-30-22-55-40-daf37338-c13d-4bde-b638-b96535ea230e\n",
      "Load from cache: TemperatureAndHumidity2021/03/30/23/ThesisHydroponicSensorDeliveryStream-1-2021-03-30-23-10-44-8c54ba69-97df-4834-b987-b7ac3bb8b847\n",
      "Load from cache: TemperatureAndHumidity2021/03/30/23/ThesisHydroponicSensorDeliveryStream-1-2021-03-30-23-25-49-2bb60d9e-941e-4024-b732-b8242a36045f\n",
      "Load from cache: TemperatureAndHumidity2021/03/30/23/ThesisHydroponicSensorDeliveryStream-1-2021-03-30-23-40-55-00277c6f-5426-467c-9e83-46231d0b6ce0\n",
      "Load from cache: TemperatureAndHumidity2021/03/30/23/ThesisHydroponicSensorDeliveryStream-1-2021-03-30-23-56-00-b7330a68-4294-4dc0-b372-6c4d1c695d89\n",
      "Load from cache: TemperatureAndHumidity2021/03/31/00/ThesisHydroponicSensorDeliveryStream-1-2021-03-31-00-11-05-a8901ff2-f9ba-4a90-9d70-d04c4c850c6d\n",
      "Load from cache: TemperatureAndHumidity2021/03/31/00/ThesisHydroponicSensorDeliveryStream-1-2021-03-31-00-26-10-37fa6f96-463e-489e-8f10-94e5a0fdcabc\n",
      "Load from cache: TemperatureAndHumidity2021/03/31/00/ThesisHydroponicSensorDeliveryStream-1-2021-03-31-00-41-20-0af49be6-ae68-4518-b71e-2481f345008f\n",
      "Load from cache: TemperatureAndHumidity2021/03/31/00/ThesisHydroponicSensorDeliveryStream-1-2021-03-31-00-56-23-05669627-9b8e-4ae0-9f76-c5efd0364599\n",
      "Load from cache: TemperatureAndHumidity2021/03/31/01/ThesisHydroponicSensorDeliveryStream-1-2021-03-31-01-11-29-bd56ecaf-0577-4d12-b0a8-43d92dca7f00\n",
      "Load from cache: TemperatureAndHumidity2021/03/31/01/ThesisHydroponicSensorDeliveryStream-1-2021-03-31-01-26-34-001d6886-4215-44a9-9fde-907c43e06d47\n",
      "Load from cache: TemperatureAndHumidity2021/03/31/01/ThesisHydroponicSensorDeliveryStream-1-2021-03-31-01-41-42-7b8eb675-86a7-4df8-a6b8-1da3dda14409\n",
      "Load from cache: TemperatureAndHumidity2021/03/31/01/ThesisHydroponicSensorDeliveryStream-1-2021-03-31-01-56-49-d0b9f800-de6b-4c43-9a86-2e1cd5d256c9\n",
      "Load from cache: TemperatureAndHumidity2021/03/31/02/ThesisHydroponicSensorDeliveryStream-1-2021-03-31-02-11-52-c5a819b2-1b97-429a-ad15-cde189cdc7e1\n",
      "Load from cache: TemperatureAndHumidity2021/03/31/02/ThesisHydroponicSensorDeliveryStream-1-2021-03-31-02-26-57-a9cba129-5176-430b-9f87-ae9743d2744f\n",
      "Load from cache: TemperatureAndHumidity2021/03/31/02/ThesisHydroponicSensorDeliveryStream-1-2021-03-31-02-42-02-cddf073f-44ad-41ff-9154-836c028f8f5a\n",
      "Load from cache: TemperatureAndHumidity2021/03/31/02/ThesisHydroponicSensorDeliveryStream-1-2021-03-31-02-57-05-2970a293-7eb6-433c-8ce7-b26da5c20562\n",
      "Load from cache: TemperatureAndHumidity2021/03/31/03/ThesisHydroponicSensorDeliveryStream-1-2021-03-31-03-12-08-48a60387-e2f1-46a7-952c-f7d92ec566b8\n",
      "Load from cache: TemperatureAndHumidity2021/03/31/03/ThesisHydroponicSensorDeliveryStream-1-2021-03-31-03-27-16-f2fb3d29-52cb-400f-bef8-3615e35dc2b8\n",
      "Load from cache: TemperatureAndHumidity2021/03/31/03/ThesisHydroponicSensorDeliveryStream-1-2021-03-31-03-42-20-3364af83-36e7-4d7a-9366-796a78a80b0d\n",
      "Load from cache: TemperatureAndHumidity2021/03/31/03/ThesisHydroponicSensorDeliveryStream-1-2021-03-31-03-57-26-2351dfc9-9d61-4bef-8bbe-d67fa4dd6369\n",
      "Load from cache: TemperatureAndHumidity2021/03/31/04/ThesisHydroponicSensorDeliveryStream-1-2021-03-31-04-12-28-f782e1e0-f4f5-4e4a-8d22-71352038a520\n",
      "Load from cache: TemperatureAndHumidity2021/03/31/04/ThesisHydroponicSensorDeliveryStream-1-2021-03-31-04-27-31-c1fcb998-b3d4-4234-bc35-19587aa4e899\n",
      "Load from cache: TemperatureAndHumidity2021/03/31/04/ThesisHydroponicSensorDeliveryStream-1-2021-03-31-04-42-41-a5456828-2690-4139-bfbe-984a12971748\n",
      "Load from cache: TemperatureAndHumidity2021/03/31/04/ThesisHydroponicSensorDeliveryStream-1-2021-03-31-04-57-44-68cac744-4722-4699-ac53-2a0978c175ff\n",
      "Load from cache: TemperatureAndHumidity2021/03/31/05/ThesisHydroponicSensorDeliveryStream-1-2021-03-31-05-12-50-334286d9-1eaa-44be-8f2a-b5567ac30587\n",
      "Load from cache: TemperatureAndHumidity2021/03/31/05/ThesisHydroponicSensorDeliveryStream-1-2021-03-31-05-27-57-84874d13-d156-4300-98fb-68bc7157862f\n",
      "Load from cache: TemperatureAndHumidity2021/03/31/05/ThesisHydroponicSensorDeliveryStream-1-2021-03-31-05-43-03-66fed756-3106-4b9c-b5bf-e62dc48ebfe3\n",
      "Load from cache: TemperatureAndHumidity2021/03/31/05/ThesisHydroponicSensorDeliveryStream-1-2021-03-31-05-58-10-1b5de0ef-9121-431b-aab4-f63c82db9fe0\n",
      "Load from cache: TemperatureAndHumidity2021/03/31/06/ThesisHydroponicSensorDeliveryStream-1-2021-03-31-06-13-15-69345d92-77ba-4fc6-a77a-cfd2ae04b67c\n",
      "Load from cache: TemperatureAndHumidity2021/03/31/06/ThesisHydroponicSensorDeliveryStream-1-2021-03-31-06-28-19-c688ed30-4714-4379-8b26-e1af91a63287\n",
      "Load from cache: TemperatureAndHumidity2021/03/31/06/ThesisHydroponicSensorDeliveryStream-1-2021-03-31-06-43-27-5a54e017-9c16-47be-8cd9-e4c9eb8a910a\n",
      "Load from cache: TemperatureAndHumidity2021/03/31/06/ThesisHydroponicSensorDeliveryStream-1-2021-03-31-06-58-34-63443efd-66fd-4cf8-88a4-38934754c191\n",
      "Load from cache: TemperatureAndHumidity2021/03/31/07/ThesisHydroponicSensorDeliveryStream-1-2021-03-31-07-13-42-857d164c-af35-41f2-bb1f-fcba52d70b64\n",
      "Load from cache: TemperatureAndHumidity2021/03/31/07/ThesisHydroponicSensorDeliveryStream-1-2021-03-31-07-28-53-78c721f1-d3ed-4a9e-aaaf-4b2479c9cffd\n",
      "Load from cache: TemperatureAndHumidity2021/03/31/07/ThesisHydroponicSensorDeliveryStream-1-2021-03-31-07-44-05-56b5ef9b-8f1a-4c10-8ba5-94ed64459cd5\n",
      "Load from cache: TemperatureAndHumidity2021/03/31/07/ThesisHydroponicSensorDeliveryStream-1-2021-03-31-07-59-10-6863ffb0-5a6f-4aaf-a245-37a8a3c6998e\n"
     ]
    }
   ],
   "source": [
    "# Fetch existing data or load fresh data.\n",
    "# Remove redundancy and null.\n",
    "#files = s3_client.list_objects(Bucket=s3_bucket_name, Prefix=s3_bucket_prefix)['Contents']\n",
    "files = [{'Key': '/'.join(f.split('\\\\')[1:])} for f in glob.glob('.cache/**/**/**/***/*')]\n",
    "parsed_sensor_values = []\n",
    "for file in files:\n",
    "    if False: #not os.path.isfile('.cache/' + file['Key']) or (datetime.now() - datetime.fromtimestamp(os.path.getctime('.cache/' + file['Key']))).days > 31:\n",
    "        print(\"Fetching fresh file from S3:\", file['Key'])\n",
    "        if os.path.isfile('.cache/' + file['Key']):\n",
    "            os.unlink('.cache/' + file['Key'])\n",
    "        s3_object = s3_client.get_object(Bucket=s3_bucket_name, Key= file['Key'])\n",
    "        raw_sensor_values = s3_object['Body'].read().decode()\n",
    "        clean_sensor_values = re.sub(\",+\", \",\", raw_sensor_values)\n",
    "        sensor_values = json.loads(\"[\" + clean_sensor_values.strip(',') + \"]\")\n",
    "    else:\n",
    "        print(\"Load from cache:\", file['Key'])\n",
    "        with open('.cache/' + file['Key']) as f:\n",
    "            sensor_values = json.load(f)\n",
    "    parsed_sensor_values += sensor_values\n",
    "    os.makedirs('.cache/' + os.path.dirname(file['Key']), exist_ok=True)\n",
    "    with open('.cache/' + file['Key'], 'w') as f:\n",
    "        json.dump(sensor_values, f)"
   ]
  },
  {
   "source": [
    "## Data preparation"
   ],
   "cell_type": "markdown",
   "metadata": {}
  },
  {
   "cell_type": "code",
   "execution_count": 4,
   "metadata": {},
   "outputs": [],
   "source": [
    "df = pd.DataFrame(parsed_sensor_values)\n",
    "df['temperature'] = df['temperature'].astype(float)\n",
    "df['humidity'] = df['humidity'].astype(float)\n",
    "df['datetime'] = pd.to_datetime(df['datetime'])\n",
    "df.sort_values('datetime', ascending=True, inplace=True)"
   ]
  },
  {
   "cell_type": "code",
   "execution_count": 5,
   "metadata": {},
   "outputs": [
    {
     "output_type": "stream",
     "name": "stdout",
     "text": [
      "Number of rows and columns: (91774, 4)\n"
     ]
    },
    {
     "output_type": "execute_result",
     "data": {
      "text/plain": [
       "         sensor_type  temperature  humidity            datetime\n",
       "0  hydroponic sensor         14.0      38.0 2021-02-26 08:51:37\n",
       "1  hydroponic sensor         15.0      36.0 2021-02-26 08:51:43\n",
       "2  hydroponic sensor         15.0      36.0 2021-02-26 08:51:48\n",
       "3  hydroponic sensor         15.0      36.0 2021-02-26 08:51:53\n",
       "4  hydroponic sensor         15.0      35.0 2021-02-26 08:51:58"
      ],
      "text/html": "<div>\n<style scoped>\n    .dataframe tbody tr th:only-of-type {\n        vertical-align: middle;\n    }\n\n    .dataframe tbody tr th {\n        vertical-align: top;\n    }\n\n    .dataframe thead th {\n        text-align: right;\n    }\n</style>\n<table border=\"1\" class=\"dataframe\">\n  <thead>\n    <tr style=\"text-align: right;\">\n      <th></th>\n      <th>sensor_type</th>\n      <th>temperature</th>\n      <th>humidity</th>\n      <th>datetime</th>\n    </tr>\n  </thead>\n  <tbody>\n    <tr>\n      <th>0</th>\n      <td>hydroponic sensor</td>\n      <td>14.0</td>\n      <td>38.0</td>\n      <td>2021-02-26 08:51:37</td>\n    </tr>\n    <tr>\n      <th>1</th>\n      <td>hydroponic sensor</td>\n      <td>15.0</td>\n      <td>36.0</td>\n      <td>2021-02-26 08:51:43</td>\n    </tr>\n    <tr>\n      <th>2</th>\n      <td>hydroponic sensor</td>\n      <td>15.0</td>\n      <td>36.0</td>\n      <td>2021-02-26 08:51:48</td>\n    </tr>\n    <tr>\n      <th>3</th>\n      <td>hydroponic sensor</td>\n      <td>15.0</td>\n      <td>36.0</td>\n      <td>2021-02-26 08:51:53</td>\n    </tr>\n    <tr>\n      <th>4</th>\n      <td>hydroponic sensor</td>\n      <td>15.0</td>\n      <td>35.0</td>\n      <td>2021-02-26 08:51:58</td>\n    </tr>\n  </tbody>\n</table>\n</div>"
     },
     "metadata": {},
     "execution_count": 5
    }
   ],
   "source": [
    "print('Number of rows and columns:', df.shape)\n",
    "df.head(5)"
   ]
  },
  {
   "cell_type": "code",
   "execution_count": 6,
   "metadata": {},
   "outputs": [
    {
     "output_type": "stream",
     "name": "stdout",
     "text": [
      "(775, 2)\n                     temperature   humidity\ndatetime                                   \n2021-02-26 08:00:00    20.978495  27.376344\n2021-02-26 09:00:00    23.768421  24.040602\n2021-02-26 10:00:00    25.008850  30.794690\n2021-02-26 11:00:00    22.839286  31.142857\n2021-02-26 12:00:00    23.854545  29.054545\n...                          ...        ...\n2021-03-31 06:00:00    24.000000  20.067039\n2021-03-31 07:00:00    24.000000  20.352273\n2021-03-31 08:00:00    24.331461  20.067416\n2021-03-31 09:00:00    25.084746  20.084746\n2021-03-31 10:00:00    25.666667  20.666667\n\n[775 rows x 2 columns]\n"
     ]
    }
   ],
   "source": [
    "# resample data to hourly\n",
    "hourly_groups = df.set_index('datetime').resample('1H')\n",
    "# Calulating the mean will simply eliminate the data outliers\n",
    "hourly_data = hourly_groups.mean()\n",
    "hourly_data.dropna(inplace=True)\n",
    "# summarize\n",
    "print(hourly_data.shape)\n",
    "print(hourly_data)\n",
    "# save\n",
    "hourly_data.to_csv('temperature_humidity_hourly.csv')"
   ]
  },
  {
   "cell_type": "code",
   "execution_count": 7,
   "metadata": {},
   "outputs": [],
   "source": [
    "# split a univariate dataset into train/test sets\n",
    "def split_dataset(data, interval_size):\n",
    "    temp_a = int((len(data)*0.8)/interval_size)\n",
    "    split_index = temp_a*interval_size\n",
    "    temp_b = int(len(data)/interval_size)\n",
    "    end_index = temp_b*interval_size\n",
    "    # split into standard weeks(i.e. divisible by interval_size)\n",
    "    train, test = data[:split_index], data[split_index:end_index]\n",
    "    # restructure into windows of weekly data\n",
    "    train = array(split(train, len(train)/interval_size))\n",
    "    test = array(split(test, len(test)/interval_size))\n",
    "    return train, test"
   ]
  },
  {
   "cell_type": "code",
   "execution_count": 8,
   "metadata": {},
   "outputs": [],
   "source": [
    "# evaluate one or more weekly forecasts against expected values\n",
    "def evaluate_forecasts(actual, predicted):\n",
    "    scores = list()\n",
    "    # calculate an RMSE score for each day\n",
    "    for i in range(actual.shape[1]):\n",
    "        # calculate mse\n",
    "        mse = mean_squared_error(actual[:, i], predicted[:, i])\n",
    "        # calculate rmse\n",
    "        rmse = sqrt(mse)\n",
    "        # store\n",
    "        scores.append(rmse)\n",
    "    # calculate overall RMSE\n",
    "    s = 0\n",
    "    for row in range(actual.shape[0]):\n",
    "        for col in range(actual.shape[1]):\n",
    "            s += (actual[row, col] - predicted[row, col])**2\n",
    "    score = sqrt(s / (actual.shape[0] * actual.shape[1]))\n",
    "    return score, scores"
   ]
  },
  {
   "cell_type": "code",
   "execution_count": 9,
   "metadata": {},
   "outputs": [],
   "source": [
    "# summarize scores\n",
    "def summarize_scores(name, score, scores):\n",
    "    s_scores = ', '.join(['%.1f' % s for s in scores])\n",
    "    print('%s: [%.3f] %s' % (name, score, s_scores))"
   ]
  },
  {
   "cell_type": "code",
   "execution_count": 10,
   "metadata": {},
   "outputs": [],
   "source": [
    "# convert history into inputs and outputs\n",
    "def to_supervised(train, n_input, n_out):\n",
    "\t# flatten data\n",
    "\tdata = train.reshape((train.shape[0]*train.shape[1], train.shape[2]))\n",
    "\tX, y = list(), list()\n",
    "\tin_start = 0\n",
    "\t# step over the entire history one time step at a time\n",
    "\tfor _ in range(len(data)):\n",
    "\t\t# define the end of the input sequence\n",
    "\t\tin_end = in_start + n_input\n",
    "\t\tout_end = in_end + n_out\n",
    "\t\t# ensure we have enough data for this instance\n",
    "\t\tif out_end <= len(data):\n",
    "\t\t\tx_input = data[in_start:in_end, 0]\n",
    "\t\t\tx_input = x_input.reshape((len(x_input), 1))\n",
    "\t\t\tX.append(x_input)\n",
    "\t\t\ty.append(data[in_end:out_end, 0])\n",
    "\t\t# move along one time step\n",
    "\t\tin_start += 1\n",
    "\treturn array(X), array(y)"
   ]
  },
  {
   "cell_type": "code",
   "execution_count": 16,
   "metadata": {},
   "outputs": [],
   "source": [
    "# train the model\n",
    "def build_model(hp):\n",
    "\t# define hyperparameters parameters\n",
    "\tinterval_size = hp.Int('interval_size', min_value=3, max_value=12, step=2)\n",
    "\tnum_layers = hp.Int('num_layers', 1, 7, step=2, default=7)\n",
    "\tactivation = hp.Choice(\"activation\", [\"sigmoid\", \"relu\", \"tanh\"], default=\"tanh\")\n",
    "\thiddent_units = hp.Choice('hiddent_units', [50, 100, 150, 200], default=200)\n",
    "\t\n",
    "\t# define model\n",
    "\tmodel = Sequential()\n",
    "\tmodel.add(Conv1D(filters=64, kernel_size=3, padding='same', activation='sigmoid', input_shape=(interval_size, 1)))\n",
    "\tmodel.add(Conv1D(filters=64, kernel_size=3, activation='relu', padding='same'))\n",
    "\tmodel.add(MaxPooling1D(pool_size=2))\n",
    "\tmodel.add(Flatten())\n",
    "\tmodel.add(RepeatVector(interval_size))\n",
    "\t# we want sigmoid in the first lstm layer so that we convert the data between 0 and 1\n",
    "\tmodel.add(LSTM(hiddent_units, return_sequences=num_layers > 1))\n",
    "\tfor i in range(num_layers - 2):\n",
    "\t\tmodel.add(LSTM(hiddent_units, activation=activation, return_sequences=True, dropout=hp.Float(\"dropout\", 0.0 , 0.8 , 0.2, default=0.2)))\n",
    "\tif num_layers > 1:\n",
    "\t\tmodel.add(LSTM(hiddent_units, activation=activation))\n",
    "\tmodel.add(Dense(interval_size))\n",
    "\tmodel.compile(loss='mse', optimizer='adam')\n",
    "\treturn model"
   ]
  },
  {
   "source": [
    "\n",
    "# train the model\n",
    "def build_model(train, n_input):\n",
    "\t# prepare data\n",
    "\ttrain_x, train_y = to_supervised(train, n_input, n_input)\n",
    "\t# define parameters\n",
    "\tverbose, epochs, batch_size = 0, 20, 16\n",
    "\tn_timesteps, n_features, n_outputs = train_x.shape[1], train_x.shape[2], train_y.shape[1]\n",
    "\t# reshape output into [samples, timesteps, features]\n",
    "\ttrain_y = train_y.reshape((train_y.shape[0], train_y.shape[1], 1))\n",
    "\t# define model\n",
    "\tmodel = Sequential()\n",
    "\tmodel.add(Conv1D(filters=64, kernel_size=3, activation='relu', padding='same', input_shape=(n_timesteps,n_features)))\n",
    "\tmodel.add(Conv1D(filters=64, kernel_size=3, activation='relu', padding='same'))\n",
    "\tmodel.add(MaxPooling1D(pool_size=2))\n",
    "\tmodel.add(Flatten())\n",
    "\tmodel.add(RepeatVector(n_outputs))\n",
    "\tmodel.add(LSTM(200, activation='relu', return_sequences=True))\n",
    "\tmodel.add(TimeDistributed(Dense(100, activation='relu')))\n",
    "\tmodel.add(TimeDistributed(Dense(1)))\n",
    "\tmodel.compile(loss='mse', optimizer='adam')\n",
    "\t# fit network\n",
    "\t# model.fit(train_x, train_y, epochs=epochs, batch_size=batch_size, verbose=verbose)\n",
    "\treturn model"
   ],
   "cell_type": "markdown",
   "metadata": {}
  },
  {
   "cell_type": "code",
   "execution_count": 12,
   "metadata": {},
   "outputs": [],
   "source": [
    "# make a forecast\n",
    "def forecast(model, history, n_input):\n",
    "\t# flatten data\n",
    "\tdata = array(history)\n",
    "\tdata = data.reshape((data.shape[0]*data.shape[1], data.shape[2]))\n",
    "\t# retrieve last observations for input data\n",
    "\tinput_x = data[-n_input:, 0]\n",
    "\t# reshape into [1, n_input, 1]\n",
    "\tinput_x = input_x.reshape((1, len(input_x), 1))\n",
    "\t# forecast the next week\n",
    "\tyhat = model.predict(input_x, verbose=0)\n",
    "\t# we only want the vector forecast\n",
    "\tyhat = yhat[0]\n",
    "\treturn yhat"
   ]
  },
  {
   "cell_type": "code",
   "execution_count": 13,
   "metadata": {},
   "outputs": [],
   "source": [
    "# evaluate a single model\n",
    "def evaluate_model(train, test, n_input, model):\n",
    "\t# history is a list of weekly data\n",
    "\thistory = [x for x in train]\n",
    "\t# walk-forward validation over each week\n",
    "\tpredictions = list()\n",
    "\tfor i in range(len(test)):\n",
    "\t\t# predict the week\n",
    "\t\tyhat_sequence = forecast(model, history, n_input)\n",
    "\t\t# store the predictions\n",
    "\t\tpredictions.append(yhat_sequence)\n",
    "\t\t# get real observation and add to history for predicting the next week\n",
    "\t\thistory.append(test[i, :])\n",
    "\t# evaluate predictions days for each week\n",
    "\tpredictions = array(predictions)\n",
    "\tscore, scores = evaluate_forecasts(test[:, :, 0], predictions)\n",
    "\treturn score, scores, predictions"
   ]
  },
  {
   "source": [
    "# load the new file\n",
    "dataset = read_csv('temperature_humidity_hourly.csv', header=0, infer_datetime_format=True, parse_dates=['datetime'], index_col=['datetime'])\n",
    "\n",
    "def tuning_build_model(hp):\n",
    "    interval_size = hp.Int('interval_size', min_value=3, max_value=12, step=2)\n",
    "    return build_model(hp)\n",
    "\n",
    "# We create our own tuning class to tune batch size, epochs, interval size, \n",
    "class MyTuner(kt.Tuner):\n",
    "    def __init__(self, **kwargs):\n",
    "        super().__init__(**kwargs)\n",
    "\n",
    "    def run_trial(self, trial, train_ds, **kwargs):\n",
    "        hp = trial.hyperparameters\n",
    "        batch_size = hp.Choice(\"batch_size\", [0, 32, 64, 128, 256, 512], default=0)\n",
    "        # When training with hyperparameters change the epoch size to 50 <------------------\n",
    "        epochs = hp.Choice(\"epochs\", [10])\n",
    "        interval_size = hp.Int('interval_size', min_value=3, max_value=12, step=2)\n",
    "        train, test = split_dataset(train_ds, interval_size)\n",
    "        x,y=to_supervised(train, interval_size, interval_size)\n",
    "        callback = tf.keras.callbacks.EarlyStopping(monitor='loss', patience=3)\n",
    "        rmse_scores =  []\n",
    "        for i in range(5):\n",
    "            model = self.hypermodel.build(trial.hyperparameters)\n",
    "            model.fit(x, y, epochs=epochs, batch_size=batch_size, verbose=False, callbacks=[callback])\n",
    "            score, scores, predictions = evaluate_model(train, test, interval_size, model)\n",
    "            rmse_scores.append(score)\n",
    "        mean_rmse_score = sum(rmse_scores) / len(rmse_scores)\n",
    "        variance_rmse_score = (sum([(mean_rmse_score-current_score)**2 for current_score in rmse_scores]))/len(rmse_scores)\n",
    "        std_dev_rmse_score = sqrt(variance_rmse_score)\n",
    "        self.oracle.update_trial(trial.trial_id, { 'score': mean_rmse_score, 'std': std_dev_rmse_score })"
   ],
   "cell_type": "code",
   "metadata": {},
   "execution_count": 14,
   "outputs": []
  },
  {
   "source": [
    "# When training with hyperparameters change the max_trails to min 72000 <------------------\n",
    "tuner = MyTuner(\n",
    "    oracle=kt.oracles.Hyperband(\n",
    "          objective=kt.Objective('score', 'min'),\n",
    "          max_epochs=50\n",
    "    ),\n",
    "    hypermodel=tuning_build_model,\n",
    "    directory='forecasting_evaluation',\n",
    "    project_name='cnn-lstm', overwrite=True\n",
    ")\n",
    "tuner.search_space_summary()\n",
    "tuner.search(train_ds=dataset.values)\n",
    "tuner.results_summary()"
   ],
   "cell_type": "code",
   "metadata": {},
   "execution_count": 17,
   "outputs": [
    {
     "output_type": "stream",
     "name": "stdout",
     "text": [
      "Trial 26 Complete [00h 01m 43s]\nscore: 17.557941139638594\n\nBest score So Far: 0.5901499857889391\nTotal elapsed time: 00h 34m 14s\n\nSearch: Running Trial #27\n\nHyperparameter    |Value             |Best Value So Far \ninterval_size     |11                |3                 \nnum_layers        |5                 |7                 \nactivation        |sigmoid           |tanh              \nhiddent_units     |100               |200               \nbatch_size        |64                |0                 \nepochs            |10                |10                \ndropout           |0.4               |0.2               \ntuner/epochs      |2                 |2                 \ntuner/initial_e...|0                 |0                 \ntuner/bracket     |3                 |3                 \ntuner/round       |0                 |0                 \n\n"
     ]
    },
    {
     "output_type": "error",
     "ename": "KeyboardInterrupt",
     "evalue": "",
     "traceback": [
      "\u001b[1;31m---------------------------------------------------------------------------\u001b[0m",
      "\u001b[1;31mKeyboardInterrupt\u001b[0m                         Traceback (most recent call last)",
      "\u001b[1;32m<ipython-input-17-188ca6707eb4>\u001b[0m in \u001b[0;36m<module>\u001b[1;34m\u001b[0m\n\u001b[0;32m     10\u001b[0m )\n\u001b[0;32m     11\u001b[0m \u001b[0mtuner\u001b[0m\u001b[1;33m.\u001b[0m\u001b[0msearch_space_summary\u001b[0m\u001b[1;33m(\u001b[0m\u001b[1;33m)\u001b[0m\u001b[1;33m\u001b[0m\u001b[1;33m\u001b[0m\u001b[0m\n\u001b[1;32m---> 12\u001b[1;33m \u001b[0mtuner\u001b[0m\u001b[1;33m.\u001b[0m\u001b[0msearch\u001b[0m\u001b[1;33m(\u001b[0m\u001b[0mtrain_ds\u001b[0m\u001b[1;33m=\u001b[0m\u001b[0mdataset\u001b[0m\u001b[1;33m.\u001b[0m\u001b[0mvalues\u001b[0m\u001b[1;33m)\u001b[0m\u001b[1;33m\u001b[0m\u001b[1;33m\u001b[0m\u001b[0m\n\u001b[0m\u001b[0;32m     13\u001b[0m \u001b[0mtuner\u001b[0m\u001b[1;33m.\u001b[0m\u001b[0mresults_summary\u001b[0m\u001b[1;33m(\u001b[0m\u001b[1;33m)\u001b[0m\u001b[1;33m\u001b[0m\u001b[1;33m\u001b[0m\u001b[0m\n",
      "\u001b[1;32m~\\Anaconda3\\envs\\DT005A Final Project\\lib\\site-packages\\kerastuner\\engine\\base_tuner.py\u001b[0m in \u001b[0;36msearch\u001b[1;34m(self, *fit_args, **fit_kwargs)\u001b[0m\n\u001b[0;32m    129\u001b[0m \u001b[1;33m\u001b[0m\u001b[0m\n\u001b[0;32m    130\u001b[0m             \u001b[0mself\u001b[0m\u001b[1;33m.\u001b[0m\u001b[0mon_trial_begin\u001b[0m\u001b[1;33m(\u001b[0m\u001b[0mtrial\u001b[0m\u001b[1;33m)\u001b[0m\u001b[1;33m\u001b[0m\u001b[1;33m\u001b[0m\u001b[0m\n\u001b[1;32m--> 131\u001b[1;33m             \u001b[0mself\u001b[0m\u001b[1;33m.\u001b[0m\u001b[0mrun_trial\u001b[0m\u001b[1;33m(\u001b[0m\u001b[0mtrial\u001b[0m\u001b[1;33m,\u001b[0m \u001b[1;33m*\u001b[0m\u001b[0mfit_args\u001b[0m\u001b[1;33m,\u001b[0m \u001b[1;33m**\u001b[0m\u001b[0mfit_kwargs\u001b[0m\u001b[1;33m)\u001b[0m\u001b[1;33m\u001b[0m\u001b[1;33m\u001b[0m\u001b[0m\n\u001b[0m\u001b[0;32m    132\u001b[0m             \u001b[0mself\u001b[0m\u001b[1;33m.\u001b[0m\u001b[0mon_trial_end\u001b[0m\u001b[1;33m(\u001b[0m\u001b[0mtrial\u001b[0m\u001b[1;33m)\u001b[0m\u001b[1;33m\u001b[0m\u001b[1;33m\u001b[0m\u001b[0m\n\u001b[0;32m    133\u001b[0m         \u001b[0mself\u001b[0m\u001b[1;33m.\u001b[0m\u001b[0mon_search_end\u001b[0m\u001b[1;33m(\u001b[0m\u001b[1;33m)\u001b[0m\u001b[1;33m\u001b[0m\u001b[1;33m\u001b[0m\u001b[0m\n",
      "\u001b[1;32m<ipython-input-14-727e70aa334d>\u001b[0m in \u001b[0;36mrun_trial\u001b[1;34m(self, trial, train_ds, **kwargs)\u001b[0m\n\u001b[0;32m     23\u001b[0m         \u001b[1;32mfor\u001b[0m \u001b[0mi\u001b[0m \u001b[1;32min\u001b[0m \u001b[0mrange\u001b[0m\u001b[1;33m(\u001b[0m\u001b[1;36m5\u001b[0m\u001b[1;33m)\u001b[0m\u001b[1;33m:\u001b[0m\u001b[1;33m\u001b[0m\u001b[1;33m\u001b[0m\u001b[0m\n\u001b[0;32m     24\u001b[0m             \u001b[0mmodel\u001b[0m \u001b[1;33m=\u001b[0m \u001b[0mself\u001b[0m\u001b[1;33m.\u001b[0m\u001b[0mhypermodel\u001b[0m\u001b[1;33m.\u001b[0m\u001b[0mbuild\u001b[0m\u001b[1;33m(\u001b[0m\u001b[0mtrial\u001b[0m\u001b[1;33m.\u001b[0m\u001b[0mhyperparameters\u001b[0m\u001b[1;33m)\u001b[0m\u001b[1;33m\u001b[0m\u001b[1;33m\u001b[0m\u001b[0m\n\u001b[1;32m---> 25\u001b[1;33m             \u001b[0mmodel\u001b[0m\u001b[1;33m.\u001b[0m\u001b[0mfit\u001b[0m\u001b[1;33m(\u001b[0m\u001b[0mx\u001b[0m\u001b[1;33m,\u001b[0m \u001b[0my\u001b[0m\u001b[1;33m,\u001b[0m \u001b[0mepochs\u001b[0m\u001b[1;33m=\u001b[0m\u001b[0mepochs\u001b[0m\u001b[1;33m,\u001b[0m \u001b[0mbatch_size\u001b[0m\u001b[1;33m=\u001b[0m\u001b[0mbatch_size\u001b[0m\u001b[1;33m,\u001b[0m \u001b[0mverbose\u001b[0m\u001b[1;33m=\u001b[0m\u001b[1;32mFalse\u001b[0m\u001b[1;33m,\u001b[0m \u001b[0mcallbacks\u001b[0m\u001b[1;33m=\u001b[0m\u001b[1;33m[\u001b[0m\u001b[0mcallback\u001b[0m\u001b[1;33m]\u001b[0m\u001b[1;33m)\u001b[0m\u001b[1;33m\u001b[0m\u001b[1;33m\u001b[0m\u001b[0m\n\u001b[0m\u001b[0;32m     26\u001b[0m             \u001b[0mscore\u001b[0m\u001b[1;33m,\u001b[0m \u001b[0mscores\u001b[0m\u001b[1;33m,\u001b[0m \u001b[0mpredictions\u001b[0m \u001b[1;33m=\u001b[0m \u001b[0mevaluate_model\u001b[0m\u001b[1;33m(\u001b[0m\u001b[0mtrain\u001b[0m\u001b[1;33m,\u001b[0m \u001b[0mtest\u001b[0m\u001b[1;33m,\u001b[0m \u001b[0minterval_size\u001b[0m\u001b[1;33m,\u001b[0m \u001b[0mmodel\u001b[0m\u001b[1;33m)\u001b[0m\u001b[1;33m\u001b[0m\u001b[1;33m\u001b[0m\u001b[0m\n\u001b[0;32m     27\u001b[0m             \u001b[0mrmse_scores\u001b[0m\u001b[1;33m.\u001b[0m\u001b[0mappend\u001b[0m\u001b[1;33m(\u001b[0m\u001b[0mscore\u001b[0m\u001b[1;33m)\u001b[0m\u001b[1;33m\u001b[0m\u001b[1;33m\u001b[0m\u001b[0m\n",
      "\u001b[1;32m~\\Anaconda3\\envs\\DT005A Final Project\\lib\\site-packages\\tensorflow\\python\\keras\\engine\\training.py\u001b[0m in \u001b[0;36m_method_wrapper\u001b[1;34m(self, *args, **kwargs)\u001b[0m\n\u001b[0;32m    106\u001b[0m   \u001b[1;32mdef\u001b[0m \u001b[0m_method_wrapper\u001b[0m\u001b[1;33m(\u001b[0m\u001b[0mself\u001b[0m\u001b[1;33m,\u001b[0m \u001b[1;33m*\u001b[0m\u001b[0margs\u001b[0m\u001b[1;33m,\u001b[0m \u001b[1;33m**\u001b[0m\u001b[0mkwargs\u001b[0m\u001b[1;33m)\u001b[0m\u001b[1;33m:\u001b[0m\u001b[1;33m\u001b[0m\u001b[1;33m\u001b[0m\u001b[0m\n\u001b[0;32m    107\u001b[0m     \u001b[1;32mif\u001b[0m \u001b[1;32mnot\u001b[0m \u001b[0mself\u001b[0m\u001b[1;33m.\u001b[0m\u001b[0m_in_multi_worker_mode\u001b[0m\u001b[1;33m(\u001b[0m\u001b[1;33m)\u001b[0m\u001b[1;33m:\u001b[0m  \u001b[1;31m# pylint: disable=protected-access\u001b[0m\u001b[1;33m\u001b[0m\u001b[1;33m\u001b[0m\u001b[0m\n\u001b[1;32m--> 108\u001b[1;33m       \u001b[1;32mreturn\u001b[0m \u001b[0mmethod\u001b[0m\u001b[1;33m(\u001b[0m\u001b[0mself\u001b[0m\u001b[1;33m,\u001b[0m \u001b[1;33m*\u001b[0m\u001b[0margs\u001b[0m\u001b[1;33m,\u001b[0m \u001b[1;33m**\u001b[0m\u001b[0mkwargs\u001b[0m\u001b[1;33m)\u001b[0m\u001b[1;33m\u001b[0m\u001b[1;33m\u001b[0m\u001b[0m\n\u001b[0m\u001b[0;32m    109\u001b[0m \u001b[1;33m\u001b[0m\u001b[0m\n\u001b[0;32m    110\u001b[0m     \u001b[1;31m# Running inside `run_distribute_coordinator` already.\u001b[0m\u001b[1;33m\u001b[0m\u001b[1;33m\u001b[0m\u001b[1;33m\u001b[0m\u001b[0m\n",
      "\u001b[1;32m~\\Anaconda3\\envs\\DT005A Final Project\\lib\\site-packages\\tensorflow\\python\\keras\\engine\\training.py\u001b[0m in \u001b[0;36mfit\u001b[1;34m(self, x, y, batch_size, epochs, verbose, callbacks, validation_split, validation_data, shuffle, class_weight, sample_weight, initial_epoch, steps_per_epoch, validation_steps, validation_batch_size, validation_freq, max_queue_size, workers, use_multiprocessing)\u001b[0m\n\u001b[0;32m   1096\u001b[0m                 batch_size=batch_size):\n\u001b[0;32m   1097\u001b[0m               \u001b[0mcallbacks\u001b[0m\u001b[1;33m.\u001b[0m\u001b[0mon_train_batch_begin\u001b[0m\u001b[1;33m(\u001b[0m\u001b[0mstep\u001b[0m\u001b[1;33m)\u001b[0m\u001b[1;33m\u001b[0m\u001b[1;33m\u001b[0m\u001b[0m\n\u001b[1;32m-> 1098\u001b[1;33m               \u001b[0mtmp_logs\u001b[0m \u001b[1;33m=\u001b[0m \u001b[0mtrain_function\u001b[0m\u001b[1;33m(\u001b[0m\u001b[0miterator\u001b[0m\u001b[1;33m)\u001b[0m\u001b[1;33m\u001b[0m\u001b[1;33m\u001b[0m\u001b[0m\n\u001b[0m\u001b[0;32m   1099\u001b[0m               \u001b[1;32mif\u001b[0m \u001b[0mdata_handler\u001b[0m\u001b[1;33m.\u001b[0m\u001b[0mshould_sync\u001b[0m\u001b[1;33m:\u001b[0m\u001b[1;33m\u001b[0m\u001b[1;33m\u001b[0m\u001b[0m\n\u001b[0;32m   1100\u001b[0m                 \u001b[0mcontext\u001b[0m\u001b[1;33m.\u001b[0m\u001b[0masync_wait\u001b[0m\u001b[1;33m(\u001b[0m\u001b[1;33m)\u001b[0m\u001b[1;33m\u001b[0m\u001b[1;33m\u001b[0m\u001b[0m\n",
      "\u001b[1;32m~\\Anaconda3\\envs\\DT005A Final Project\\lib\\site-packages\\tensorflow\\python\\eager\\def_function.py\u001b[0m in \u001b[0;36m__call__\u001b[1;34m(self, *args, **kwds)\u001b[0m\n\u001b[0;32m    778\u001b[0m       \u001b[1;32melse\u001b[0m\u001b[1;33m:\u001b[0m\u001b[1;33m\u001b[0m\u001b[1;33m\u001b[0m\u001b[0m\n\u001b[0;32m    779\u001b[0m         \u001b[0mcompiler\u001b[0m \u001b[1;33m=\u001b[0m \u001b[1;34m\"nonXla\"\u001b[0m\u001b[1;33m\u001b[0m\u001b[1;33m\u001b[0m\u001b[0m\n\u001b[1;32m--> 780\u001b[1;33m         \u001b[0mresult\u001b[0m \u001b[1;33m=\u001b[0m \u001b[0mself\u001b[0m\u001b[1;33m.\u001b[0m\u001b[0m_call\u001b[0m\u001b[1;33m(\u001b[0m\u001b[1;33m*\u001b[0m\u001b[0margs\u001b[0m\u001b[1;33m,\u001b[0m \u001b[1;33m**\u001b[0m\u001b[0mkwds\u001b[0m\u001b[1;33m)\u001b[0m\u001b[1;33m\u001b[0m\u001b[1;33m\u001b[0m\u001b[0m\n\u001b[0m\u001b[0;32m    781\u001b[0m \u001b[1;33m\u001b[0m\u001b[0m\n\u001b[0;32m    782\u001b[0m       \u001b[0mnew_tracing_count\u001b[0m \u001b[1;33m=\u001b[0m \u001b[0mself\u001b[0m\u001b[1;33m.\u001b[0m\u001b[0m_get_tracing_count\u001b[0m\u001b[1;33m(\u001b[0m\u001b[1;33m)\u001b[0m\u001b[1;33m\u001b[0m\u001b[1;33m\u001b[0m\u001b[0m\n",
      "\u001b[1;32m~\\Anaconda3\\envs\\DT005A Final Project\\lib\\site-packages\\tensorflow\\python\\eager\\def_function.py\u001b[0m in \u001b[0;36m_call\u001b[1;34m(self, *args, **kwds)\u001b[0m\n\u001b[0;32m    838\u001b[0m         \u001b[1;31m# Lifting succeeded, so variables are initialized and we can run the\u001b[0m\u001b[1;33m\u001b[0m\u001b[1;33m\u001b[0m\u001b[1;33m\u001b[0m\u001b[0m\n\u001b[0;32m    839\u001b[0m         \u001b[1;31m# stateless function.\u001b[0m\u001b[1;33m\u001b[0m\u001b[1;33m\u001b[0m\u001b[1;33m\u001b[0m\u001b[0m\n\u001b[1;32m--> 840\u001b[1;33m         \u001b[1;32mreturn\u001b[0m \u001b[0mself\u001b[0m\u001b[1;33m.\u001b[0m\u001b[0m_stateless_fn\u001b[0m\u001b[1;33m(\u001b[0m\u001b[1;33m*\u001b[0m\u001b[0margs\u001b[0m\u001b[1;33m,\u001b[0m \u001b[1;33m**\u001b[0m\u001b[0mkwds\u001b[0m\u001b[1;33m)\u001b[0m\u001b[1;33m\u001b[0m\u001b[1;33m\u001b[0m\u001b[0m\n\u001b[0m\u001b[0;32m    841\u001b[0m     \u001b[1;32melse\u001b[0m\u001b[1;33m:\u001b[0m\u001b[1;33m\u001b[0m\u001b[1;33m\u001b[0m\u001b[0m\n\u001b[0;32m    842\u001b[0m       \u001b[0mcanon_args\u001b[0m\u001b[1;33m,\u001b[0m \u001b[0mcanon_kwds\u001b[0m \u001b[1;33m=\u001b[0m\u001b[0;31m \u001b[0m\u001b[0;31m\\\u001b[0m\u001b[1;33m\u001b[0m\u001b[1;33m\u001b[0m\u001b[0m\n",
      "\u001b[1;32m~\\Anaconda3\\envs\\DT005A Final Project\\lib\\site-packages\\tensorflow\\python\\eager\\function.py\u001b[0m in \u001b[0;36m__call__\u001b[1;34m(self, *args, **kwargs)\u001b[0m\n\u001b[0;32m   2827\u001b[0m     \u001b[1;32mwith\u001b[0m \u001b[0mself\u001b[0m\u001b[1;33m.\u001b[0m\u001b[0m_lock\u001b[0m\u001b[1;33m:\u001b[0m\u001b[1;33m\u001b[0m\u001b[1;33m\u001b[0m\u001b[0m\n\u001b[0;32m   2828\u001b[0m       \u001b[0mgraph_function\u001b[0m\u001b[1;33m,\u001b[0m \u001b[0margs\u001b[0m\u001b[1;33m,\u001b[0m \u001b[0mkwargs\u001b[0m \u001b[1;33m=\u001b[0m \u001b[0mself\u001b[0m\u001b[1;33m.\u001b[0m\u001b[0m_maybe_define_function\u001b[0m\u001b[1;33m(\u001b[0m\u001b[0margs\u001b[0m\u001b[1;33m,\u001b[0m \u001b[0mkwargs\u001b[0m\u001b[1;33m)\u001b[0m\u001b[1;33m\u001b[0m\u001b[1;33m\u001b[0m\u001b[0m\n\u001b[1;32m-> 2829\u001b[1;33m     \u001b[1;32mreturn\u001b[0m \u001b[0mgraph_function\u001b[0m\u001b[1;33m.\u001b[0m\u001b[0m_filtered_call\u001b[0m\u001b[1;33m(\u001b[0m\u001b[0margs\u001b[0m\u001b[1;33m,\u001b[0m \u001b[0mkwargs\u001b[0m\u001b[1;33m)\u001b[0m  \u001b[1;31m# pylint: disable=protected-access\u001b[0m\u001b[1;33m\u001b[0m\u001b[1;33m\u001b[0m\u001b[0m\n\u001b[0m\u001b[0;32m   2830\u001b[0m \u001b[1;33m\u001b[0m\u001b[0m\n\u001b[0;32m   2831\u001b[0m   \u001b[1;33m@\u001b[0m\u001b[0mproperty\u001b[0m\u001b[1;33m\u001b[0m\u001b[1;33m\u001b[0m\u001b[0m\n",
      "\u001b[1;32m~\\Anaconda3\\envs\\DT005A Final Project\\lib\\site-packages\\tensorflow\\python\\eager\\function.py\u001b[0m in \u001b[0;36m_filtered_call\u001b[1;34m(self, args, kwargs, cancellation_manager)\u001b[0m\n\u001b[0;32m   1846\u001b[0m                            resource_variable_ops.BaseResourceVariable))],\n\u001b[0;32m   1847\u001b[0m         \u001b[0mcaptured_inputs\u001b[0m\u001b[1;33m=\u001b[0m\u001b[0mself\u001b[0m\u001b[1;33m.\u001b[0m\u001b[0mcaptured_inputs\u001b[0m\u001b[1;33m,\u001b[0m\u001b[1;33m\u001b[0m\u001b[1;33m\u001b[0m\u001b[0m\n\u001b[1;32m-> 1848\u001b[1;33m         cancellation_manager=cancellation_manager)\n\u001b[0m\u001b[0;32m   1849\u001b[0m \u001b[1;33m\u001b[0m\u001b[0m\n\u001b[0;32m   1850\u001b[0m   \u001b[1;32mdef\u001b[0m \u001b[0m_call_flat\u001b[0m\u001b[1;33m(\u001b[0m\u001b[0mself\u001b[0m\u001b[1;33m,\u001b[0m \u001b[0margs\u001b[0m\u001b[1;33m,\u001b[0m \u001b[0mcaptured_inputs\u001b[0m\u001b[1;33m,\u001b[0m \u001b[0mcancellation_manager\u001b[0m\u001b[1;33m=\u001b[0m\u001b[1;32mNone\u001b[0m\u001b[1;33m)\u001b[0m\u001b[1;33m:\u001b[0m\u001b[1;33m\u001b[0m\u001b[1;33m\u001b[0m\u001b[0m\n",
      "\u001b[1;32m~\\Anaconda3\\envs\\DT005A Final Project\\lib\\site-packages\\tensorflow\\python\\eager\\function.py\u001b[0m in \u001b[0;36m_call_flat\u001b[1;34m(self, args, captured_inputs, cancellation_manager)\u001b[0m\n\u001b[0;32m   1922\u001b[0m       \u001b[1;31m# No tape is watching; skip to running the function.\u001b[0m\u001b[1;33m\u001b[0m\u001b[1;33m\u001b[0m\u001b[1;33m\u001b[0m\u001b[0m\n\u001b[0;32m   1923\u001b[0m       return self._build_call_outputs(self._inference_function.call(\n\u001b[1;32m-> 1924\u001b[1;33m           ctx, args, cancellation_manager=cancellation_manager))\n\u001b[0m\u001b[0;32m   1925\u001b[0m     forward_backward = self._select_forward_and_backward_functions(\n\u001b[0;32m   1926\u001b[0m         \u001b[0margs\u001b[0m\u001b[1;33m,\u001b[0m\u001b[1;33m\u001b[0m\u001b[1;33m\u001b[0m\u001b[0m\n",
      "\u001b[1;32m~\\Anaconda3\\envs\\DT005A Final Project\\lib\\site-packages\\tensorflow\\python\\eager\\function.py\u001b[0m in \u001b[0;36mcall\u001b[1;34m(self, ctx, args, cancellation_manager)\u001b[0m\n\u001b[0;32m    548\u001b[0m               \u001b[0minputs\u001b[0m\u001b[1;33m=\u001b[0m\u001b[0margs\u001b[0m\u001b[1;33m,\u001b[0m\u001b[1;33m\u001b[0m\u001b[1;33m\u001b[0m\u001b[0m\n\u001b[0;32m    549\u001b[0m               \u001b[0mattrs\u001b[0m\u001b[1;33m=\u001b[0m\u001b[0mattrs\u001b[0m\u001b[1;33m,\u001b[0m\u001b[1;33m\u001b[0m\u001b[1;33m\u001b[0m\u001b[0m\n\u001b[1;32m--> 550\u001b[1;33m               ctx=ctx)\n\u001b[0m\u001b[0;32m    551\u001b[0m         \u001b[1;32melse\u001b[0m\u001b[1;33m:\u001b[0m\u001b[1;33m\u001b[0m\u001b[1;33m\u001b[0m\u001b[0m\n\u001b[0;32m    552\u001b[0m           outputs = execute.execute_with_cancellation(\n",
      "\u001b[1;32m~\\Anaconda3\\envs\\DT005A Final Project\\lib\\site-packages\\tensorflow\\python\\eager\\execute.py\u001b[0m in \u001b[0;36mquick_execute\u001b[1;34m(op_name, num_outputs, inputs, attrs, ctx, name)\u001b[0m\n\u001b[0;32m     58\u001b[0m     \u001b[0mctx\u001b[0m\u001b[1;33m.\u001b[0m\u001b[0mensure_initialized\u001b[0m\u001b[1;33m(\u001b[0m\u001b[1;33m)\u001b[0m\u001b[1;33m\u001b[0m\u001b[1;33m\u001b[0m\u001b[0m\n\u001b[0;32m     59\u001b[0m     tensors = pywrap_tfe.TFE_Py_Execute(ctx._handle, device_name, op_name,\n\u001b[1;32m---> 60\u001b[1;33m                                         inputs, attrs, num_outputs)\n\u001b[0m\u001b[0;32m     61\u001b[0m   \u001b[1;32mexcept\u001b[0m \u001b[0mcore\u001b[0m\u001b[1;33m.\u001b[0m\u001b[0m_NotOkStatusException\u001b[0m \u001b[1;32mas\u001b[0m \u001b[0me\u001b[0m\u001b[1;33m:\u001b[0m\u001b[1;33m\u001b[0m\u001b[1;33m\u001b[0m\u001b[0m\n\u001b[0;32m     62\u001b[0m     \u001b[1;32mif\u001b[0m \u001b[0mname\u001b[0m \u001b[1;32mis\u001b[0m \u001b[1;32mnot\u001b[0m \u001b[1;32mNone\u001b[0m\u001b[1;33m:\u001b[0m\u001b[1;33m\u001b[0m\u001b[1;33m\u001b[0m\u001b[0m\n",
      "\u001b[1;31mKeyboardInterrupt\u001b[0m: "
     ]
    }
   ]
  },
  {
   "cell_type": "code",
   "execution_count": 26,
   "metadata": {
    "tags": []
   },
   "outputs": [
    {
     "output_type": "stream",
     "name": "stdout",
     "text": [
      "-----------------------------------------\nhyperparameter tune {'interval_size': 7, 'num_layers': 3, 'activation': 'relu', 'hiddent_units': 150, 'batch_size': 32, 'epochs': 10, 'dropout': 0.2, 'tuner/epochs': 2, 'tuner/initial_epoch': 0, 'tuner/bracket': 3, 'tuner/round': 0}\nmean_rmse_score 0.5830552371205128\nmax_rmse_score 0.5830552371205128\nmin_rmse_score 0.5830552371205128\nvariance_rmse_score 0.0\nstd_dev_rmse_score 0.0\n"
     ]
    }
   ],
   "source": [
    "# Print summary for same \n",
    "hyperparameter_results = defaultdict(list)\n",
    "for file in glob.glob(\"forecasting_evaluation/cnn-lstm/trial*/trial.json\"):\n",
    "    trial = json.load(open(file))\n",
    "    if trial['status'] == 'COMPLETED' and trial['score'] is not None:\n",
    "        hyperparameter_results[str(trial[\"hyperparameters\"][\"values\"])].append(trial[\"score\"])\n",
    "\n",
    "for param, rmse_scores in sorted(hyperparameter_results.items(), key=lambda a: sum(a[1])):\n",
    "    mean_rmse_score = sum(rmse_scores)/len(rmse_scores)\n",
    "    max_rmse_score = max(rmse_scores)\n",
    "    min_rmse_score = min(rmse_scores)\n",
    "    variance_rmse_score = (sum([(mean_rmse_score-current_score)**2 for current_score in rmse_scores]))/len(rmse_scores)\n",
    "    std_dev_rmse_score = sqrt(variance_rmse_score)\n",
    "    # summarize scores\n",
    "    print(\"-----------------------------------------\")\n",
    "    print(\"hyperparameter tune\",param)\n",
    "    print(\"mean_rmse_score\",mean_rmse_score)\n",
    "    print(\"max_rmse_score\",max_rmse_score)\n",
    "    print(\"min_rmse_score\",min_rmse_score)\n",
    "    print(\"variance_rmse_score\",variance_rmse_score)\n",
    "    print(\"std_dev_rmse_score\",std_dev_rmse_score)\n",
    "    break"
   ]
  },
  {
   "cell_type": "code",
   "execution_count": 27,
   "metadata": {},
   "outputs": [
    {
     "output_type": "stream",
     "name": "stdout",
     "text": [
      "--------------------------------------\n",
      "interval_size 3\n",
      "mean_rmse_score 0.7129039991525132\n",
      "max_rmse_score 0.9213649102655531\n",
      "min_rmse_score 0.6005261089458183\n",
      "variance_rmse_score 0.008948436960146775\n",
      "std_dev_rmse_score 0.09459617835910061\n",
      "--------------------------------------\n",
      "interval_size 5\n",
      "mean_rmse_score 0.6512801024270342\n",
      "max_rmse_score 0.8199461283673583\n",
      "min_rmse_score 0.6114473381047377\n",
      "variance_rmse_score 0.003954871496292028\n",
      "std_dev_rmse_score 0.06288776905163697\n",
      "--------------------------------------\n",
      "interval_size 7\n",
      "mean_rmse_score 0.5953547226579288\n",
      "max_rmse_score 0.6361880992447849\n",
      "min_rmse_score 0.5715839391639874\n",
      "variance_rmse_score 0.0004874926810327254\n",
      "std_dev_rmse_score 0.022079236423226355\n",
      "--------------------------------------\n",
      "interval_size 9\n",
      "mean_rmse_score 0.6023902215315626\n",
      "max_rmse_score 0.7196240341906385\n",
      "min_rmse_score 0.5595435727672651\n",
      "variance_rmse_score 0.0019978215468864123\n",
      "std_dev_rmse_score 0.04469699706788379\n",
      "--------------------------------------\n",
      "interval_size 11\n",
      "mean_rmse_score 0.6522879749554585\n",
      "max_rmse_score 0.7915184489425645\n",
      "min_rmse_score 0.5786523251710193\n",
      "variance_rmse_score 0.003950965544668221\n",
      "std_dev_rmse_score 0.06285670644146273\n"
     ]
    }
   ],
   "source": [
    "## Kör det här!!!  \n",
    "# load the new file\n",
    "dataset = read_csv('temperature_humidity_hourly.csv', header=0, infer_datetime_format=True, parse_dates=['datetime'], index_col=['datetime'])\n",
    "# split into train and test\n",
    "interval_size_rmse_list = []\n",
    "interval_size_std_rmse_list = []\n",
    "\n",
    "interval_size_list = list(range(3, 12, 2))\n",
    "for interval_size in interval_size_list:\n",
    "    print(\"--------------------------------------\")\n",
    "    print(\"interval_size\",interval_size)\n",
    "    train, test = split_dataset(dataset.values, interval_size)\n",
    "    # evaluate model and get scores\n",
    "    n_input = interval_size\n",
    "    # mean, maximum,minimum,std_dev,\n",
    "    rmse_scores = []\n",
    "    train_x, train_y = to_supervised(train, n_input, n_input)\n",
    "    for i in range(10):\n",
    "        hp = kt.HyperParameters()\n",
    "        hp.Int('interval_size', min_value=3, max_value=12, step=2, default=interval_size)\n",
    "        model = build_model(hp)\n",
    "        epochs = 10\n",
    "        batch_size = 32\n",
    "\n",
    "        callback = tf.keras.callbacks.EarlyStopping(monitor='loss', patience=3)\n",
    "        model.fit(train_x, train_y, epochs=epochs, batch_size=batch_size, verbose=False, callbacks=[callback])\n",
    "        score, scores, predictions = evaluate_model(train, test, interval_size, model)\n",
    "        rmse_scores.append(score)\n",
    "    \n",
    "    # Prepare and calculate results\n",
    "    mean_rmse_score = sum(rmse_scores)/len(rmse_scores)\n",
    "    max_rmse_score = max(rmse_scores)\n",
    "    min_rmse_score = min(rmse_scores)\n",
    "    variance_rmse_score = (sum([(mean_rmse_score-current_score)**2 for current_score in rmse_scores]))/len(rmse_scores)\n",
    "    std_dev_rmse_score = sqrt(variance_rmse_score)\n",
    "    # Add values to list\n",
    "    interval_size_rmse_list.append(mean_rmse_score)\n",
    "    interval_size_std_rmse_list.append(std_dev_rmse_score)\n",
    "    # summarize scores\n",
    "    print(\"mean_rmse_score\",mean_rmse_score)\n",
    "    print(\"max_rmse_score\",max_rmse_score)\n",
    "    print(\"min_rmse_score\",min_rmse_score)\n",
    "    print(\"variance_rmse_score\",variance_rmse_score)\n",
    "    print(\"std_dev_rmse_score\",std_dev_rmse_score)\n",
    "    # summarize_scores('cnn-lstm', mean_score, scores)"
   ]
  },
  {
   "source": [
    "# plot scores\n",
    "pyplot.rcdefaults()\n",
    "fig, ax = pyplot.subplots()\n",
    "ax.bar(interval_size_list, interval_size_rmse_list, yerr=interval_size_std_rmse_list, align='center', color='#189ad3', label='cnn-lstm', error_kw=dict(ecolor=\"#ff9a00\", lw=2, capsize=5, capthick=2))\n",
    "ax.set_xticks(interval_size_list)\n",
    "ax.set_ylabel('RMSE')\n",
    "ax.set_xlabel('Interval Size')\n",
    "ax.set_title('CNN-LSTM Performance')\n",
    "pyplot.rc('lines')\n",
    "pyplot.grid(True)\n",
    "pyplot.ylim([0, 1])\n",
    "pyplot.savefig('forecast_cnn_lstm_result.png', bbox_inches='tight')\n",
    "pyplot.show()"
   ],
   "cell_type": "code",
   "metadata": {},
   "execution_count": 1,
   "outputs": [
    {
     "output_type": "error",
     "ename": "NameError",
     "evalue": "name 'pyplot' is not defined",
     "traceback": [
      "\u001b[1;31m---------------------------------------------------------------------------\u001b[0m",
      "\u001b[1;31mNameError\u001b[0m                                 Traceback (most recent call last)",
      "\u001b[1;32m<ipython-input-1-e474ee2cedb4>\u001b[0m in \u001b[0;36m<module>\u001b[1;34m\u001b[0m\n\u001b[0;32m      1\u001b[0m \u001b[1;31m# plot scores\u001b[0m\u001b[1;33m\u001b[0m\u001b[1;33m\u001b[0m\u001b[1;33m\u001b[0m\u001b[0m\n\u001b[1;32m----> 2\u001b[1;33m \u001b[0mpyplot\u001b[0m\u001b[1;33m.\u001b[0m\u001b[0mrcdefaults\u001b[0m\u001b[1;33m(\u001b[0m\u001b[1;33m)\u001b[0m\u001b[1;33m\u001b[0m\u001b[1;33m\u001b[0m\u001b[0m\n\u001b[0m\u001b[0;32m      3\u001b[0m \u001b[0mfig\u001b[0m\u001b[1;33m,\u001b[0m \u001b[0max\u001b[0m \u001b[1;33m=\u001b[0m \u001b[0mpyplot\u001b[0m\u001b[1;33m.\u001b[0m\u001b[0msubplots\u001b[0m\u001b[1;33m(\u001b[0m\u001b[1;33m)\u001b[0m\u001b[1;33m\u001b[0m\u001b[1;33m\u001b[0m\u001b[0m\n\u001b[0;32m      4\u001b[0m \u001b[0max\u001b[0m\u001b[1;33m.\u001b[0m\u001b[0mbar\u001b[0m\u001b[1;33m(\u001b[0m\u001b[0minterval_size_list\u001b[0m\u001b[1;33m,\u001b[0m \u001b[0minterval_size_rmse_list\u001b[0m\u001b[1;33m,\u001b[0m \u001b[0myerr\u001b[0m\u001b[1;33m=\u001b[0m\u001b[0minterval_size_std_rmse_list\u001b[0m\u001b[1;33m,\u001b[0m \u001b[0malign\u001b[0m\u001b[1;33m=\u001b[0m\u001b[1;34m'center'\u001b[0m\u001b[1;33m,\u001b[0m \u001b[0mcolor\u001b[0m\u001b[1;33m=\u001b[0m\u001b[1;34m'#737e7f'\u001b[0m\u001b[1;33m,\u001b[0m \u001b[0mlabel\u001b[0m\u001b[1;33m=\u001b[0m\u001b[1;34m'cnn-lstm'\u001b[0m\u001b[1;33m)\u001b[0m\u001b[1;33m\u001b[0m\u001b[1;33m\u001b[0m\u001b[0m\n\u001b[0;32m      5\u001b[0m \u001b[0max\u001b[0m\u001b[1;33m.\u001b[0m\u001b[0mset_xticks\u001b[0m\u001b[1;33m(\u001b[0m\u001b[0minterval_size_list\u001b[0m\u001b[1;33m)\u001b[0m\u001b[1;33m\u001b[0m\u001b[1;33m\u001b[0m\u001b[0m\n",
      "\u001b[1;31mNameError\u001b[0m: name 'pyplot' is not defined"
     ]
    }
   ]
  },
  {
   "cell_type": "code",
   "execution_count": 147,
   "metadata": {},
   "outputs": [
    {
     "output_type": "error",
     "ename": "NameError",
     "evalue": "name 'predictions' is not defined",
     "traceback": [
      "\u001b[1;31m---------------------------------------------------------------------------\u001b[0m",
      "\u001b[1;31mNameError\u001b[0m                                 Traceback (most recent call last)",
      "\u001b[1;32m<ipython-input-147-275130d732bd>\u001b[0m in \u001b[0;36m<module>\u001b[1;34m\u001b[0m\n\u001b[0;32m      1\u001b[0m \u001b[0mdf_test\u001b[0m \u001b[1;33m=\u001b[0m \u001b[0mpd\u001b[0m\u001b[1;33m.\u001b[0m\u001b[0mDataFrame\u001b[0m\u001b[1;33m(\u001b[0m\u001b[0mtest\u001b[0m\u001b[1;33m.\u001b[0m\u001b[0mreshape\u001b[0m\u001b[1;33m(\u001b[0m\u001b[0mtest\u001b[0m\u001b[1;33m.\u001b[0m\u001b[0mshape\u001b[0m\u001b[1;33m[\u001b[0m\u001b[1;36m0\u001b[0m\u001b[1;33m]\u001b[0m\u001b[1;33m*\u001b[0m \u001b[0mtest\u001b[0m\u001b[1;33m.\u001b[0m\u001b[0mshape\u001b[0m\u001b[1;33m[\u001b[0m\u001b[1;36m1\u001b[0m\u001b[1;33m]\u001b[0m\u001b[1;33m,\u001b[0m \u001b[1;36m2\u001b[0m\u001b[1;33m)\u001b[0m\u001b[1;33m,\u001b[0m \u001b[0mcolumns\u001b[0m\u001b[1;33m=\u001b[0m\u001b[1;33m[\u001b[0m\u001b[1;34m\"temperature\"\u001b[0m\u001b[1;33m,\u001b[0m\u001b[1;34m\"humidity\"\u001b[0m\u001b[1;33m]\u001b[0m\u001b[1;33m)\u001b[0m\u001b[1;33m\u001b[0m\u001b[1;33m\u001b[0m\u001b[0m\n\u001b[1;32m----> 2\u001b[1;33m \u001b[0mdf_pred\u001b[0m \u001b[1;33m=\u001b[0m \u001b[0mpd\u001b[0m\u001b[1;33m.\u001b[0m\u001b[0mDataFrame\u001b[0m\u001b[1;33m(\u001b[0m\u001b[0mpredictions\u001b[0m\u001b[1;33m.\u001b[0m\u001b[0mreshape\u001b[0m\u001b[1;33m(\u001b[0m\u001b[0mpredictions\u001b[0m\u001b[1;33m.\u001b[0m\u001b[0mshape\u001b[0m\u001b[1;33m[\u001b[0m\u001b[1;36m0\u001b[0m\u001b[1;33m]\u001b[0m\u001b[1;33m*\u001b[0m \u001b[0mpredictions\u001b[0m\u001b[1;33m.\u001b[0m\u001b[0mshape\u001b[0m\u001b[1;33m[\u001b[0m\u001b[1;36m1\u001b[0m\u001b[1;33m]\u001b[0m\u001b[1;33m,\u001b[0m\u001b[1;33m)\u001b[0m\u001b[1;33m,\u001b[0m\u001b[0mcolumns\u001b[0m\u001b[1;33m=\u001b[0m\u001b[1;33m[\u001b[0m\u001b[1;34m\"pred_temperature\"\u001b[0m\u001b[1;33m]\u001b[0m\u001b[1;33m)\u001b[0m\u001b[1;33m\u001b[0m\u001b[1;33m\u001b[0m\u001b[0m\n\u001b[0m\u001b[0;32m      3\u001b[0m \u001b[0mpredicted_and_test\u001b[0m \u001b[1;33m=\u001b[0m \u001b[0mdf_pred\u001b[0m\u001b[1;33m.\u001b[0m\u001b[0mjoin\u001b[0m\u001b[1;33m(\u001b[0m\u001b[0mdf_test\u001b[0m\u001b[1;33m)\u001b[0m\u001b[1;33m\u001b[0m\u001b[1;33m\u001b[0m\u001b[0m\n\u001b[0;32m      4\u001b[0m \u001b[0mpredicted_and_test\u001b[0m\u001b[1;33m.\u001b[0m\u001b[0mto_csv\u001b[0m\u001b[1;33m(\u001b[0m\u001b[1;34m'predicted_temperature_and_test_values.csv'\u001b[0m\u001b[1;33m,\u001b[0m\u001b[0mindex\u001b[0m\u001b[1;33m=\u001b[0m\u001b[1;32mFalse\u001b[0m\u001b[1;33m)\u001b[0m\u001b[1;33m\u001b[0m\u001b[1;33m\u001b[0m\u001b[0m\n",
      "\u001b[1;31mNameError\u001b[0m: name 'predictions' is not defined"
     ]
    }
   ],
   "source": [
    "df_test = pd.DataFrame(test.reshape(test.shape[0]* test.shape[1], 2), columns=[\"temperature\",\"humidity\"])\n",
    "df_pred = pd.DataFrame(predictions.reshape(predictions.shape[0]* predictions.shape[1],),columns=[\"pred_temperature\"])\n",
    "predicted_and_test = df_pred.join(df_test)\n",
    "predicted_and_test.to_csv('predicted_temperature_and_test_values.csv',index=False)"
   ]
  },
  {
   "cell_type": "code",
   "execution_count": null,
   "metadata": {},
   "outputs": [],
   "source": []
  }
 ]
}